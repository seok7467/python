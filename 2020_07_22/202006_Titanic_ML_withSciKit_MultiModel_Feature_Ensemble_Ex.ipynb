{
 "cells": [
  {
   "cell_type": "markdown",
   "metadata": {},
   "source": [
    "###  Titanic_train.csv 파일을 data라는 변수에 불러오기\n",
    "필요한 패키지는 numpy / pandas / matplolib.pyplot"
   ]
  },
  {
   "cell_type": "code",
   "execution_count": 1,
   "metadata": {
    "ExecuteTime": {
     "end_time": "2020-07-21T16:24:14.365230Z",
     "start_time": "2020-07-21T16:24:13.525007Z"
    }
   },
   "outputs": [],
   "source": [
    "import numpy as np\n",
    "import pandas as pd\n",
    "from matplotlib import pyplot as plt"
   ]
  },
  {
   "cell_type": "markdown",
   "metadata": {},
   "source": [
    "* titanic_train.csv  파일을 불러들이기. 특별한 조치 안 하고, 단순하게 불러오기!!! read_csv 활용"
   ]
  },
  {
   "cell_type": "code",
   "execution_count": 2,
   "metadata": {
    "ExecuteTime": {
     "end_time": "2020-07-21T16:24:15.154767Z",
     "start_time": "2020-07-21T16:24:15.138750Z"
    }
   },
   "outputs": [],
   "source": [
    "train = pd.read_csv(\"titanic_train.csv\")"
   ]
  },
  {
   "cell_type": "markdown",
   "metadata": {},
   "source": [
    "* head 를 이용해서 앞의 데이터가 제대로 들어 왔는지 확인하세요. 특히 index 가 제대로 생성이 되었는지를 중심으로 확인을 하세요!!!!"
   ]
  },
  {
   "cell_type": "code",
   "execution_count": 3,
   "metadata": {
    "ExecuteTime": {
     "end_time": "2020-07-21T16:24:16.173448Z",
     "start_time": "2020-07-21T16:24:16.152027Z"
    }
   },
   "outputs": [
    {
     "data": {
      "text/html": [
       "<div>\n",
       "<style scoped>\n",
       "    .dataframe tbody tr th:only-of-type {\n",
       "        vertical-align: middle;\n",
       "    }\n",
       "\n",
       "    .dataframe tbody tr th {\n",
       "        vertical-align: top;\n",
       "    }\n",
       "\n",
       "    .dataframe thead th {\n",
       "        text-align: right;\n",
       "    }\n",
       "</style>\n",
       "<table border=\"1\" class=\"dataframe\">\n",
       "  <thead>\n",
       "    <tr style=\"text-align: right;\">\n",
       "      <th></th>\n",
       "      <th>PassengerId</th>\n",
       "      <th>Survived</th>\n",
       "      <th>Pclass</th>\n",
       "      <th>Name</th>\n",
       "      <th>Sex</th>\n",
       "      <th>Age</th>\n",
       "      <th>SibSp</th>\n",
       "      <th>Parch</th>\n",
       "      <th>Ticket</th>\n",
       "      <th>Fare</th>\n",
       "      <th>Cabin</th>\n",
       "      <th>Embarked</th>\n",
       "    </tr>\n",
       "  </thead>\n",
       "  <tbody>\n",
       "    <tr>\n",
       "      <th>0</th>\n",
       "      <td>1</td>\n",
       "      <td>0</td>\n",
       "      <td>3</td>\n",
       "      <td>Braund, Mr. Owen Harris</td>\n",
       "      <td>male</td>\n",
       "      <td>22.0</td>\n",
       "      <td>1</td>\n",
       "      <td>0</td>\n",
       "      <td>A/5 21171</td>\n",
       "      <td>7.2500</td>\n",
       "      <td>NaN</td>\n",
       "      <td>S</td>\n",
       "    </tr>\n",
       "    <tr>\n",
       "      <th>1</th>\n",
       "      <td>2</td>\n",
       "      <td>1</td>\n",
       "      <td>1</td>\n",
       "      <td>Cumings, Mrs. John Bradley (Florence Briggs Th...</td>\n",
       "      <td>female</td>\n",
       "      <td>38.0</td>\n",
       "      <td>1</td>\n",
       "      <td>0</td>\n",
       "      <td>PC 17599</td>\n",
       "      <td>71.2833</td>\n",
       "      <td>C85</td>\n",
       "      <td>C</td>\n",
       "    </tr>\n",
       "    <tr>\n",
       "      <th>2</th>\n",
       "      <td>3</td>\n",
       "      <td>1</td>\n",
       "      <td>3</td>\n",
       "      <td>Heikkinen, Miss. Laina</td>\n",
       "      <td>female</td>\n",
       "      <td>26.0</td>\n",
       "      <td>0</td>\n",
       "      <td>0</td>\n",
       "      <td>STON/O2. 3101282</td>\n",
       "      <td>7.9250</td>\n",
       "      <td>NaN</td>\n",
       "      <td>S</td>\n",
       "    </tr>\n",
       "    <tr>\n",
       "      <th>3</th>\n",
       "      <td>4</td>\n",
       "      <td>1</td>\n",
       "      <td>1</td>\n",
       "      <td>Futrelle, Mrs. Jacques Heath (Lily May Peel)</td>\n",
       "      <td>female</td>\n",
       "      <td>35.0</td>\n",
       "      <td>1</td>\n",
       "      <td>0</td>\n",
       "      <td>113803</td>\n",
       "      <td>53.1000</td>\n",
       "      <td>C123</td>\n",
       "      <td>S</td>\n",
       "    </tr>\n",
       "    <tr>\n",
       "      <th>4</th>\n",
       "      <td>5</td>\n",
       "      <td>0</td>\n",
       "      <td>3</td>\n",
       "      <td>Allen, Mr. William Henry</td>\n",
       "      <td>male</td>\n",
       "      <td>35.0</td>\n",
       "      <td>0</td>\n",
       "      <td>0</td>\n",
       "      <td>373450</td>\n",
       "      <td>8.0500</td>\n",
       "      <td>NaN</td>\n",
       "      <td>S</td>\n",
       "    </tr>\n",
       "  </tbody>\n",
       "</table>\n",
       "</div>"
      ],
      "text/plain": [
       "   PassengerId  Survived  Pclass  \\\n",
       "0            1         0       3   \n",
       "1            2         1       1   \n",
       "2            3         1       3   \n",
       "3            4         1       1   \n",
       "4            5         0       3   \n",
       "\n",
       "                                                Name     Sex   Age  SibSp  \\\n",
       "0                            Braund, Mr. Owen Harris    male  22.0      1   \n",
       "1  Cumings, Mrs. John Bradley (Florence Briggs Th...  female  38.0      1   \n",
       "2                             Heikkinen, Miss. Laina  female  26.0      0   \n",
       "3       Futrelle, Mrs. Jacques Heath (Lily May Peel)  female  35.0      1   \n",
       "4                           Allen, Mr. William Henry    male  35.0      0   \n",
       "\n",
       "   Parch            Ticket     Fare Cabin Embarked  \n",
       "0      0         A/5 21171   7.2500   NaN        S  \n",
       "1      0          PC 17599  71.2833   C85        C  \n",
       "2      0  STON/O2. 3101282   7.9250   NaN        S  \n",
       "3      0            113803  53.1000  C123        S  \n",
       "4      0            373450   8.0500   NaN        S  "
      ]
     },
     "execution_count": 3,
     "metadata": {},
     "output_type": "execute_result"
    }
   ],
   "source": [
    "train.head(5)"
   ]
  },
  {
   "cell_type": "markdown",
   "metadata": {},
   "source": [
    "* 받은 데이터의 간략적인 정보 확인하세요!!"
   ]
  },
  {
   "cell_type": "code",
   "execution_count": 4,
   "metadata": {
    "ExecuteTime": {
     "end_time": "2020-07-21T16:24:18.819548Z",
     "start_time": "2020-07-21T16:24:18.785992Z"
    }
   },
   "outputs": [
    {
     "data": {
      "text/html": [
       "<div>\n",
       "<style scoped>\n",
       "    .dataframe tbody tr th:only-of-type {\n",
       "        vertical-align: middle;\n",
       "    }\n",
       "\n",
       "    .dataframe tbody tr th {\n",
       "        vertical-align: top;\n",
       "    }\n",
       "\n",
       "    .dataframe thead th {\n",
       "        text-align: right;\n",
       "    }\n",
       "</style>\n",
       "<table border=\"1\" class=\"dataframe\">\n",
       "  <thead>\n",
       "    <tr style=\"text-align: right;\">\n",
       "      <th></th>\n",
       "      <th>PassengerId</th>\n",
       "      <th>Survived</th>\n",
       "      <th>Pclass</th>\n",
       "      <th>Age</th>\n",
       "      <th>SibSp</th>\n",
       "      <th>Parch</th>\n",
       "      <th>Fare</th>\n",
       "    </tr>\n",
       "  </thead>\n",
       "  <tbody>\n",
       "    <tr>\n",
       "      <th>count</th>\n",
       "      <td>891.000000</td>\n",
       "      <td>891.000000</td>\n",
       "      <td>891.000000</td>\n",
       "      <td>714.000000</td>\n",
       "      <td>891.000000</td>\n",
       "      <td>891.000000</td>\n",
       "      <td>891.000000</td>\n",
       "    </tr>\n",
       "    <tr>\n",
       "      <th>mean</th>\n",
       "      <td>446.000000</td>\n",
       "      <td>0.383838</td>\n",
       "      <td>2.308642</td>\n",
       "      <td>29.699118</td>\n",
       "      <td>0.523008</td>\n",
       "      <td>0.381594</td>\n",
       "      <td>32.204208</td>\n",
       "    </tr>\n",
       "    <tr>\n",
       "      <th>std</th>\n",
       "      <td>257.353842</td>\n",
       "      <td>0.486592</td>\n",
       "      <td>0.836071</td>\n",
       "      <td>14.526497</td>\n",
       "      <td>1.102743</td>\n",
       "      <td>0.806057</td>\n",
       "      <td>49.693429</td>\n",
       "    </tr>\n",
       "    <tr>\n",
       "      <th>min</th>\n",
       "      <td>1.000000</td>\n",
       "      <td>0.000000</td>\n",
       "      <td>1.000000</td>\n",
       "      <td>0.420000</td>\n",
       "      <td>0.000000</td>\n",
       "      <td>0.000000</td>\n",
       "      <td>0.000000</td>\n",
       "    </tr>\n",
       "    <tr>\n",
       "      <th>25%</th>\n",
       "      <td>223.500000</td>\n",
       "      <td>0.000000</td>\n",
       "      <td>2.000000</td>\n",
       "      <td>20.125000</td>\n",
       "      <td>0.000000</td>\n",
       "      <td>0.000000</td>\n",
       "      <td>7.910400</td>\n",
       "    </tr>\n",
       "    <tr>\n",
       "      <th>50%</th>\n",
       "      <td>446.000000</td>\n",
       "      <td>0.000000</td>\n",
       "      <td>3.000000</td>\n",
       "      <td>28.000000</td>\n",
       "      <td>0.000000</td>\n",
       "      <td>0.000000</td>\n",
       "      <td>14.454200</td>\n",
       "    </tr>\n",
       "    <tr>\n",
       "      <th>75%</th>\n",
       "      <td>668.500000</td>\n",
       "      <td>1.000000</td>\n",
       "      <td>3.000000</td>\n",
       "      <td>38.000000</td>\n",
       "      <td>1.000000</td>\n",
       "      <td>0.000000</td>\n",
       "      <td>31.000000</td>\n",
       "    </tr>\n",
       "    <tr>\n",
       "      <th>max</th>\n",
       "      <td>891.000000</td>\n",
       "      <td>1.000000</td>\n",
       "      <td>3.000000</td>\n",
       "      <td>80.000000</td>\n",
       "      <td>8.000000</td>\n",
       "      <td>6.000000</td>\n",
       "      <td>512.329200</td>\n",
       "    </tr>\n",
       "  </tbody>\n",
       "</table>\n",
       "</div>"
      ],
      "text/plain": [
       "       PassengerId    Survived      Pclass         Age       SibSp  \\\n",
       "count   891.000000  891.000000  891.000000  714.000000  891.000000   \n",
       "mean    446.000000    0.383838    2.308642   29.699118    0.523008   \n",
       "std     257.353842    0.486592    0.836071   14.526497    1.102743   \n",
       "min       1.000000    0.000000    1.000000    0.420000    0.000000   \n",
       "25%     223.500000    0.000000    2.000000   20.125000    0.000000   \n",
       "50%     446.000000    0.000000    3.000000   28.000000    0.000000   \n",
       "75%     668.500000    1.000000    3.000000   38.000000    1.000000   \n",
       "max     891.000000    1.000000    3.000000   80.000000    8.000000   \n",
       "\n",
       "            Parch        Fare  \n",
       "count  891.000000  891.000000  \n",
       "mean     0.381594   32.204208  \n",
       "std      0.806057   49.693429  \n",
       "min      0.000000    0.000000  \n",
       "25%      0.000000    7.910400  \n",
       "50%      0.000000   14.454200  \n",
       "75%      0.000000   31.000000  \n",
       "max      6.000000  512.329200  "
      ]
     },
     "execution_count": 4,
     "metadata": {},
     "output_type": "execute_result"
    }
   ],
   "source": [
    "train.describe()"
   ]
  },
  {
   "cell_type": "code",
   "execution_count": 5,
   "metadata": {
    "ExecuteTime": {
     "end_time": "2020-07-21T16:24:19.214813Z",
     "start_time": "2020-07-21T16:24:19.207840Z"
    }
   },
   "outputs": [
    {
     "name": "stdout",
     "output_type": "stream",
     "text": [
      "<class 'pandas.core.frame.DataFrame'>\n",
      "RangeIndex: 891 entries, 0 to 890\n",
      "Data columns (total 12 columns):\n",
      " #   Column       Non-Null Count  Dtype  \n",
      "---  ------       --------------  -----  \n",
      " 0   PassengerId  891 non-null    int64  \n",
      " 1   Survived     891 non-null    int64  \n",
      " 2   Pclass       891 non-null    int64  \n",
      " 3   Name         891 non-null    object \n",
      " 4   Sex          891 non-null    object \n",
      " 5   Age          714 non-null    float64\n",
      " 6   SibSp        891 non-null    int64  \n",
      " 7   Parch        891 non-null    int64  \n",
      " 8   Ticket       891 non-null    object \n",
      " 9   Fare         891 non-null    float64\n",
      " 10  Cabin        204 non-null    object \n",
      " 11  Embarked     889 non-null    object \n",
      "dtypes: float64(2), int64(5), object(5)\n",
      "memory usage: 83.7+ KB\n"
     ]
    }
   ],
   "source": [
    "train.info()"
   ]
  },
  {
   "cell_type": "markdown",
   "metadata": {},
   "source": [
    "* 데이터들에서 NaN이 없는지 확인!!!"
   ]
  },
  {
   "cell_type": "code",
   "execution_count": 6,
   "metadata": {
    "ExecuteTime": {
     "end_time": "2020-07-21T16:24:30.638458Z",
     "start_time": "2020-07-21T16:24:30.630017Z"
    }
   },
   "outputs": [
    {
     "name": "stdout",
     "output_type": "stream",
     "text": [
      "<class 'pandas.core.frame.DataFrame'>\n",
      "RangeIndex: 891 entries, 0 to 890\n",
      "Data columns (total 12 columns):\n",
      " #   Column       Non-Null Count  Dtype  \n",
      "---  ------       --------------  -----  \n",
      " 0   PassengerId  891 non-null    int64  \n",
      " 1   Survived     891 non-null    int64  \n",
      " 2   Pclass       891 non-null    int64  \n",
      " 3   Name         891 non-null    object \n",
      " 4   Sex          891 non-null    object \n",
      " 5   Age          714 non-null    float64\n",
      " 6   SibSp        891 non-null    int64  \n",
      " 7   Parch        891 non-null    int64  \n",
      " 8   Ticket       891 non-null    object \n",
      " 9   Fare         891 non-null    float64\n",
      " 10  Cabin        204 non-null    object \n",
      " 11  Embarked     889 non-null    object \n",
      "dtypes: float64(2), int64(5), object(5)\n",
      "memory usage: 83.7+ KB\n"
     ]
    }
   ],
   "source": [
    "train.~~~"
   ]
  },
  {
   "cell_type": "markdown",
   "metadata": {},
   "source": [
    "* 중요!!!) scikit learn의 패키지에는 null 형식의 데이터를 처리하지 않기 때문에 이러한 데이터를 어떻게 처리할지에 대한 판단 및 기준은 상당히 중요함!!!!"
   ]
  },
  {
   "cell_type": "markdown",
   "metadata": {},
   "source": [
    "* (컬럼)항목별로 이상한 데이터들의 비율을 계산하시오!!! ---> 실제로 많은 컬럼들이 있는 데이터들에서는 어느 컬럼을 사용하고, 어느 컬럼을 사용하지 말아야할지 사전에 파악을 하기 위하 용도임!!!!"
   ]
  },
  {
   "cell_type": "code",
   "execution_count": 11,
   "metadata": {
    "ExecuteTime": {
     "end_time": "2020-07-21T16:24:33.976032Z",
     "start_time": "2020-07-21T16:24:33.968055Z"
    }
   },
   "outputs": [
    {
     "name": "stdout",
     "output_type": "stream",
     "text": [
      "PassengerId: 0.0 %\n",
      "Survived: 0.0 %\n",
      "Pclass: 0.0 %\n",
      "Name: 0.0 %\n",
      "Sex: 0.0 %\n",
      "Age: 19.865319865319865 %\n",
      "SibSp: 0.0 %\n",
      "Parch: 0.0 %\n",
      "Ticket: 0.0 %\n",
      "Fare: 0.0 %\n",
      "Cabin: 77.10437710437711 %\n",
      "Embarked: 0.22446689113355783 %\n"
     ]
    }
   ],
   "source": [
    "for col in train.columns:\n",
    "    print(str(col) + \":\", train[col].isnull().sum()/train.shape[0]*100,\"%\")"
   ]
  },
  {
   "cell_type": "markdown",
   "metadata": {},
   "source": [
    "### 참고 : 데이터 항목 설명  ->  null데이터 수정\n",
    "[ surveved : 생존여부(0/1),   \n",
    "Pclass : 티켓의 클래스(1은 1st, 2는 2nd ..),    \n",
    "name : 승객이름,    \n",
    "sex : 승객성별,      \n",
    "Age : 승객나이,    \n",
    "SibSp : 함께 탑승한 형재와 배우자의 수,      \n",
    "parch : 함께 탑승한 부모, 아이의 수,       \n",
    "ticket: 티켓번호,      \n",
    "Fare: 탑승료,      \n",
    "cabin : 객실번호,       \n",
    "embarked :탑승항구(C:Cherboug, Q :Queenstown, S:south ampton)] "
   ]
  },
  {
   "cell_type": "code",
   "execution_count": 12,
   "metadata": {
    "ExecuteTime": {
     "end_time": "2020-07-21T16:24:37.928548Z",
     "start_time": "2020-07-21T16:24:37.016856Z"
    }
   },
   "outputs": [],
   "source": [
    "import seaborn as sns\n",
    "sns.set()\n",
    "import matplotlib.pyplot as plt\n",
    "%matplotlib inline"
   ]
  },
  {
   "cell_type": "markdown",
   "metadata": {},
   "source": [
    "* 변수 타입을 보고 수치형 중에서 연속형인 값들에 대해서 확인(Target은 0/1 카테고리이니) --> Age, SibSp, Parch, Fare  --> Tukey method 방식을 적용해서 2개 이상의 아웃라이어가 있는 데이터 선정하여 제거하고자 함."
   ]
  },
  {
   "cell_type": "code",
   "execution_count": 9,
   "metadata": {
    "ExecuteTime": {
     "end_time": "2020-07-21T16:24:39.470422Z",
     "start_time": "2020-07-21T16:24:38.942114Z"
    }
   },
   "outputs": [
    {
     "data": {
      "text/plain": [
       "<matplotlib.axes._subplots.AxesSubplot at 0x1e9d71e4808>"
      ]
     },
     "execution_count": 9,
     "metadata": {},
     "output_type": "execute_result"
    },
    {
     "data": {
      "image/png": "[encoded data removed]",
      "text/plain": [
       "<Figure size 432x288 with 4 Axes>"
      ]
     },
     "metadata": {
      "needs_background": "light"
     },
     "output_type": "display_data"
    }
   ],
   "source": [
    "fig, ax = plt.subplots(2,2)\n",
    "sns.boxplot(train['Age'], ax=ax[0,0])\n",
    "sns.boxplot(~~~)\n",
    "sns.boxplot(~~~)\n",
    "sns.boxplot(~~~)"
   ]
  },
  {
   "cell_type": "code",
   "execution_count": 15,
   "metadata": {
    "ExecuteTime": {
     "end_time": "2020-07-21T16:25:08.537399Z",
     "start_time": "2020-07-21T16:25:08.526577Z"
    }
   },
   "outputs": [],
   "source": [
    "from collections import Counter\n",
    "# by ) Tukey method (Tukey JW., 1977) 을 사용을 하고, 수치 데이터 아웃라이어가 2개 이상 발생 시 해당 데이터를 제거하기 위한 작업 중\n",
    "def detect_outliers(df, n, features):\n",
    "    outlier_indices = []\n",
    "    for col in features:\n",
    "        # 1st quartile (25%)\n",
    "        Q1 = np.percentile(df[col],25)\n",
    "        # 3rd quartile (75%)\n",
    "        Q3 = np.percentile(df[col],75)\n",
    "        # Interquartile range (IQR)\n",
    "        IQR = Q3-Q1\n",
    "        # outlier step\n",
    "        outlier_step = 1.5*IQR\n",
    "        outlier_list_col = df[(df[col] < Q1 - outlier_step) | (df[col] > Q3 + outlier_step )].index\n",
    "        \n",
    "        outlier_indices.extend(outlier_list_col)\n",
    "    # select observations containing more than 2 outliers\n",
    "    outlier_indices = Counter(outlier_indices)  \n",
    "    multiple_outliers = list( k for k, v in outlier_indices.items() if v > n )\n",
    "    \n",
    "    return multiple_outliers   \n",
    "\n",
    "# detect outliers from Age, SibSp , Parch and Fare\n",
    "Outliers_to_drop = detect_outliers(train,2,[\"Age\",\"SibSp\",\"Parch\",\"Fare\"])"
   ]
  },
  {
   "cell_type": "code",
   "execution_count": 16,
   "metadata": {
    "ExecuteTime": {
     "end_time": "2020-07-21T16:25:11.995091Z",
     "start_time": "2020-07-21T16:25:11.991126Z"
    }
   },
   "outputs": [
    {
     "data": {
      "text/plain": [
       "[27, 88, 159, 180, 201, 324, 341, 792, 846, 863]"
      ]
     },
     "execution_count": 16,
     "metadata": {},
     "output_type": "execute_result"
    }
   ],
   "source": [
    "Outliers_to_drop"
   ]
  },
  {
   "cell_type": "code",
   "execution_count": 17,
   "metadata": {
    "ExecuteTime": {
     "end_time": "2020-07-21T16:25:13.878581Z",
     "start_time": "2020-07-21T16:25:13.865298Z"
    }
   },
   "outputs": [
    {
     "data": {
      "text/html": [
       "<div>\n",
       "<style scoped>\n",
       "    .dataframe tbody tr th:only-of-type {\n",
       "        vertical-align: middle;\n",
       "    }\n",
       "\n",
       "    .dataframe tbody tr th {\n",
       "        vertical-align: top;\n",
       "    }\n",
       "\n",
       "    .dataframe thead th {\n",
       "        text-align: right;\n",
       "    }\n",
       "</style>\n",
       "<table border=\"1\" class=\"dataframe\">\n",
       "  <thead>\n",
       "    <tr style=\"text-align: right;\">\n",
       "      <th></th>\n",
       "      <th>PassengerId</th>\n",
       "      <th>Survived</th>\n",
       "      <th>Pclass</th>\n",
       "      <th>Name</th>\n",
       "      <th>Sex</th>\n",
       "      <th>Age</th>\n",
       "      <th>SibSp</th>\n",
       "      <th>Parch</th>\n",
       "      <th>Ticket</th>\n",
       "      <th>Fare</th>\n",
       "      <th>Cabin</th>\n",
       "      <th>Embarked</th>\n",
       "    </tr>\n",
       "  </thead>\n",
       "  <tbody>\n",
       "    <tr>\n",
       "      <th>27</th>\n",
       "      <td>28</td>\n",
       "      <td>0</td>\n",
       "      <td>1</td>\n",
       "      <td>Fortune, Mr. Charles Alexander</td>\n",
       "      <td>male</td>\n",
       "      <td>19.0</td>\n",
       "      <td>3</td>\n",
       "      <td>2</td>\n",
       "      <td>19950</td>\n",
       "      <td>263.00</td>\n",
       "      <td>C23 C25 C27</td>\n",
       "      <td>S</td>\n",
       "    </tr>\n",
       "    <tr>\n",
       "      <th>88</th>\n",
       "      <td>89</td>\n",
       "      <td>1</td>\n",
       "      <td>1</td>\n",
       "      <td>Fortune, Miss. Mabel Helen</td>\n",
       "      <td>female</td>\n",
       "      <td>23.0</td>\n",
       "      <td>3</td>\n",
       "      <td>2</td>\n",
       "      <td>19950</td>\n",
       "      <td>263.00</td>\n",
       "      <td>C23 C25 C27</td>\n",
       "      <td>S</td>\n",
       "    </tr>\n",
       "    <tr>\n",
       "      <th>159</th>\n",
       "      <td>160</td>\n",
       "      <td>0</td>\n",
       "      <td>3</td>\n",
       "      <td>Sage, Master. Thomas Henry</td>\n",
       "      <td>male</td>\n",
       "      <td>NaN</td>\n",
       "      <td>8</td>\n",
       "      <td>2</td>\n",
       "      <td>CA. 2343</td>\n",
       "      <td>69.55</td>\n",
       "      <td>NaN</td>\n",
       "      <td>S</td>\n",
       "    </tr>\n",
       "    <tr>\n",
       "      <th>180</th>\n",
       "      <td>181</td>\n",
       "      <td>0</td>\n",
       "      <td>3</td>\n",
       "      <td>Sage, Miss. Constance Gladys</td>\n",
       "      <td>female</td>\n",
       "      <td>NaN</td>\n",
       "      <td>8</td>\n",
       "      <td>2</td>\n",
       "      <td>CA. 2343</td>\n",
       "      <td>69.55</td>\n",
       "      <td>NaN</td>\n",
       "      <td>S</td>\n",
       "    </tr>\n",
       "    <tr>\n",
       "      <th>201</th>\n",
       "      <td>202</td>\n",
       "      <td>0</td>\n",
       "      <td>3</td>\n",
       "      <td>Sage, Mr. Frederick</td>\n",
       "      <td>male</td>\n",
       "      <td>NaN</td>\n",
       "      <td>8</td>\n",
       "      <td>2</td>\n",
       "      <td>CA. 2343</td>\n",
       "      <td>69.55</td>\n",
       "      <td>NaN</td>\n",
       "      <td>S</td>\n",
       "    </tr>\n",
       "    <tr>\n",
       "      <th>324</th>\n",
       "      <td>325</td>\n",
       "      <td>0</td>\n",
       "      <td>3</td>\n",
       "      <td>Sage, Mr. George John Jr</td>\n",
       "      <td>male</td>\n",
       "      <td>NaN</td>\n",
       "      <td>8</td>\n",
       "      <td>2</td>\n",
       "      <td>CA. 2343</td>\n",
       "      <td>69.55</td>\n",
       "      <td>NaN</td>\n",
       "      <td>S</td>\n",
       "    </tr>\n",
       "    <tr>\n",
       "      <th>341</th>\n",
       "      <td>342</td>\n",
       "      <td>1</td>\n",
       "      <td>1</td>\n",
       "      <td>Fortune, Miss. Alice Elizabeth</td>\n",
       "      <td>female</td>\n",
       "      <td>24.0</td>\n",
       "      <td>3</td>\n",
       "      <td>2</td>\n",
       "      <td>19950</td>\n",
       "      <td>263.00</td>\n",
       "      <td>C23 C25 C27</td>\n",
       "      <td>S</td>\n",
       "    </tr>\n",
       "    <tr>\n",
       "      <th>792</th>\n",
       "      <td>793</td>\n",
       "      <td>0</td>\n",
       "      <td>3</td>\n",
       "      <td>Sage, Miss. Stella Anna</td>\n",
       "      <td>female</td>\n",
       "      <td>NaN</td>\n",
       "      <td>8</td>\n",
       "      <td>2</td>\n",
       "      <td>CA. 2343</td>\n",
       "      <td>69.55</td>\n",
       "      <td>NaN</td>\n",
       "      <td>S</td>\n",
       "    </tr>\n",
       "    <tr>\n",
       "      <th>846</th>\n",
       "      <td>847</td>\n",
       "      <td>0</td>\n",
       "      <td>3</td>\n",
       "      <td>Sage, Mr. Douglas Bullen</td>\n",
       "      <td>male</td>\n",
       "      <td>NaN</td>\n",
       "      <td>8</td>\n",
       "      <td>2</td>\n",
       "      <td>CA. 2343</td>\n",
       "      <td>69.55</td>\n",
       "      <td>NaN</td>\n",
       "      <td>S</td>\n",
       "    </tr>\n",
       "    <tr>\n",
       "      <th>863</th>\n",
       "      <td>864</td>\n",
       "      <td>0</td>\n",
       "      <td>3</td>\n",
       "      <td>Sage, Miss. Dorothy Edith \"Dolly\"</td>\n",
       "      <td>female</td>\n",
       "      <td>NaN</td>\n",
       "      <td>8</td>\n",
       "      <td>2</td>\n",
       "      <td>CA. 2343</td>\n",
       "      <td>69.55</td>\n",
       "      <td>NaN</td>\n",
       "      <td>S</td>\n",
       "    </tr>\n",
       "  </tbody>\n",
       "</table>\n",
       "</div>"
      ],
      "text/plain": [
       "     PassengerId  Survived  Pclass                               Name     Sex  \\\n",
       "27            28         0       1     Fortune, Mr. Charles Alexander    male   \n",
       "88            89         1       1         Fortune, Miss. Mabel Helen  female   \n",
       "159          160         0       3         Sage, Master. Thomas Henry    male   \n",
       "180          181         0       3       Sage, Miss. Constance Gladys  female   \n",
       "201          202         0       3                Sage, Mr. Frederick    male   \n",
       "324          325         0       3           Sage, Mr. George John Jr    male   \n",
       "341          342         1       1     Fortune, Miss. Alice Elizabeth  female   \n",
       "792          793         0       3            Sage, Miss. Stella Anna  female   \n",
       "846          847         0       3           Sage, Mr. Douglas Bullen    male   \n",
       "863          864         0       3  Sage, Miss. Dorothy Edith \"Dolly\"  female   \n",
       "\n",
       "      Age  SibSp  Parch    Ticket    Fare        Cabin Embarked  \n",
       "27   19.0      3      2     19950  263.00  C23 C25 C27        S  \n",
       "88   23.0      3      2     19950  263.00  C23 C25 C27        S  \n",
       "159   NaN      8      2  CA. 2343   69.55          NaN        S  \n",
       "180   NaN      8      2  CA. 2343   69.55          NaN        S  \n",
       "201   NaN      8      2  CA. 2343   69.55          NaN        S  \n",
       "324   NaN      8      2  CA. 2343   69.55          NaN        S  \n",
       "341  24.0      3      2     19950  263.00  C23 C25 C27        S  \n",
       "792   NaN      8      2  CA. 2343   69.55          NaN        S  \n",
       "846   NaN      8      2  CA. 2343   69.55          NaN        S  \n",
       "863   NaN      8      2  CA. 2343   69.55          NaN        S  "
      ]
     },
     "execution_count": 17,
     "metadata": {},
     "output_type": "execute_result"
    }
   ],
   "source": [
    "# 각기 어느 부분에서 아웃라이어가 되었는지 확인\n",
    "train.loc[Outliers_to_drop] "
   ]
  },
  {
   "cell_type": "code",
   "execution_count": 18,
   "metadata": {
    "ExecuteTime": {
     "end_time": "2020-07-21T16:25:31.154071Z",
     "start_time": "2020-07-21T16:25:31.144516Z"
    }
   },
   "outputs": [
    {
     "name": "stdout",
     "output_type": "stream",
     "text": [
      "<class 'pandas.core.frame.DataFrame'>\n",
      "RangeIndex: 881 entries, 0 to 880\n",
      "Data columns (total 12 columns):\n",
      " #   Column       Non-Null Count  Dtype  \n",
      "---  ------       --------------  -----  \n",
      " 0   PassengerId  881 non-null    int64  \n",
      " 1   Survived     881 non-null    int64  \n",
      " 2   Pclass       881 non-null    int64  \n",
      " 3   Name         881 non-null    object \n",
      " 4   Sex          881 non-null    object \n",
      " 5   Age          711 non-null    float64\n",
      " 6   SibSp        881 non-null    int64  \n",
      " 7   Parch        881 non-null    int64  \n",
      " 8   Ticket       881 non-null    object \n",
      " 9   Fare         881 non-null    float64\n",
      " 10  Cabin        201 non-null    object \n",
      " 11  Embarked     879 non-null    object \n",
      "dtypes: float64(2), int64(5), object(5)\n",
      "memory usage: 82.7+ KB\n"
     ]
    }
   ],
   "source": [
    "# 아웃라이어인 것들을 제거를 하자!!!! --> 단순 빵구 값으로 제거가 아니라 아웃라이어 중첩된 것들을 제거하는 부분임!!!\n",
    "train = train.drop(Outliers_to_drop, axis=0).reset_index(drop=True)\n",
    "train.info()"
   ]
  },
  {
   "cell_type": "markdown",
   "metadata": {},
   "source": [
    "* 지금 간단히 빵구난 데이터 확인해보자!"
   ]
  },
  {
   "cell_type": "code",
   "execution_count": 19,
   "metadata": {
    "ExecuteTime": {
     "end_time": "2020-07-21T16:25:34.756823Z",
     "start_time": "2020-07-21T16:25:34.750839Z"
    }
   },
   "outputs": [
    {
     "data": {
      "text/plain": [
       "PassengerId      0\n",
       "Survived         0\n",
       "Pclass           0\n",
       "Name             0\n",
       "Sex              0\n",
       "Age            170\n",
       "SibSp            0\n",
       "Parch            0\n",
       "Ticket           0\n",
       "Fare             0\n",
       "Cabin          680\n",
       "Embarked         2\n",
       "dtype: int64"
      ]
     },
     "execution_count": 19,
     "metadata": {},
     "output_type": "execute_result"
    }
   ],
   "source": [
    "train.isnull().sum()"
   ]
  },
  {
   "cell_type": "code",
   "execution_count": 20,
   "metadata": {
    "ExecuteTime": {
     "end_time": "2020-07-21T16:25:35.396879Z",
     "start_time": "2020-07-21T16:25:35.374842Z"
    }
   },
   "outputs": [
    {
     "data": {
      "text/html": [
       "<div>\n",
       "<style scoped>\n",
       "    .dataframe tbody tr th:only-of-type {\n",
       "        vertical-align: middle;\n",
       "    }\n",
       "\n",
       "    .dataframe tbody tr th {\n",
       "        vertical-align: top;\n",
       "    }\n",
       "\n",
       "    .dataframe thead th {\n",
       "        text-align: right;\n",
       "    }\n",
       "</style>\n",
       "<table border=\"1\" class=\"dataframe\">\n",
       "  <thead>\n",
       "    <tr style=\"text-align: right;\">\n",
       "      <th></th>\n",
       "      <th>PassengerId</th>\n",
       "      <th>Survived</th>\n",
       "      <th>Pclass</th>\n",
       "      <th>Age</th>\n",
       "      <th>SibSp</th>\n",
       "      <th>Parch</th>\n",
       "      <th>Fare</th>\n",
       "    </tr>\n",
       "  </thead>\n",
       "  <tbody>\n",
       "    <tr>\n",
       "      <th>count</th>\n",
       "      <td>881.000000</td>\n",
       "      <td>881.000000</td>\n",
       "      <td>881.000000</td>\n",
       "      <td>711.000000</td>\n",
       "      <td>881.000000</td>\n",
       "      <td>881.000000</td>\n",
       "      <td>881.000000</td>\n",
       "    </tr>\n",
       "    <tr>\n",
       "      <th>mean</th>\n",
       "      <td>446.713961</td>\n",
       "      <td>0.385925</td>\n",
       "      <td>2.307605</td>\n",
       "      <td>29.731603</td>\n",
       "      <td>0.455165</td>\n",
       "      <td>0.363224</td>\n",
       "      <td>31.121566</td>\n",
       "    </tr>\n",
       "    <tr>\n",
       "      <th>std</th>\n",
       "      <td>256.617021</td>\n",
       "      <td>0.487090</td>\n",
       "      <td>0.835055</td>\n",
       "      <td>14.547835</td>\n",
       "      <td>0.871571</td>\n",
       "      <td>0.791839</td>\n",
       "      <td>47.996249</td>\n",
       "    </tr>\n",
       "    <tr>\n",
       "      <th>min</th>\n",
       "      <td>1.000000</td>\n",
       "      <td>0.000000</td>\n",
       "      <td>1.000000</td>\n",
       "      <td>0.420000</td>\n",
       "      <td>0.000000</td>\n",
       "      <td>0.000000</td>\n",
       "      <td>0.000000</td>\n",
       "    </tr>\n",
       "    <tr>\n",
       "      <th>25%</th>\n",
       "      <td>226.000000</td>\n",
       "      <td>0.000000</td>\n",
       "      <td>2.000000</td>\n",
       "      <td>20.250000</td>\n",
       "      <td>0.000000</td>\n",
       "      <td>0.000000</td>\n",
       "      <td>7.895800</td>\n",
       "    </tr>\n",
       "    <tr>\n",
       "      <th>50%</th>\n",
       "      <td>448.000000</td>\n",
       "      <td>0.000000</td>\n",
       "      <td>3.000000</td>\n",
       "      <td>28.000000</td>\n",
       "      <td>0.000000</td>\n",
       "      <td>0.000000</td>\n",
       "      <td>14.454200</td>\n",
       "    </tr>\n",
       "    <tr>\n",
       "      <th>75%</th>\n",
       "      <td>668.000000</td>\n",
       "      <td>1.000000</td>\n",
       "      <td>3.000000</td>\n",
       "      <td>38.000000</td>\n",
       "      <td>1.000000</td>\n",
       "      <td>0.000000</td>\n",
       "      <td>30.500000</td>\n",
       "    </tr>\n",
       "    <tr>\n",
       "      <th>max</th>\n",
       "      <td>891.000000</td>\n",
       "      <td>1.000000</td>\n",
       "      <td>3.000000</td>\n",
       "      <td>80.000000</td>\n",
       "      <td>5.000000</td>\n",
       "      <td>6.000000</td>\n",
       "      <td>512.329200</td>\n",
       "    </tr>\n",
       "  </tbody>\n",
       "</table>\n",
       "</div>"
      ],
      "text/plain": [
       "       PassengerId    Survived      Pclass         Age       SibSp  \\\n",
       "count   881.000000  881.000000  881.000000  711.000000  881.000000   \n",
       "mean    446.713961    0.385925    2.307605   29.731603    0.455165   \n",
       "std     256.617021    0.487090    0.835055   14.547835    0.871571   \n",
       "min       1.000000    0.000000    1.000000    0.420000    0.000000   \n",
       "25%     226.000000    0.000000    2.000000   20.250000    0.000000   \n",
       "50%     448.000000    0.000000    3.000000   28.000000    0.000000   \n",
       "75%     668.000000    1.000000    3.000000   38.000000    1.000000   \n",
       "max     891.000000    1.000000    3.000000   80.000000    5.000000   \n",
       "\n",
       "            Parch        Fare  \n",
       "count  881.000000  881.000000  \n",
       "mean     0.363224   31.121566  \n",
       "std      0.791839   47.996249  \n",
       "min      0.000000    0.000000  \n",
       "25%      0.000000    7.895800  \n",
       "50%      0.000000   14.454200  \n",
       "75%      0.000000   30.500000  \n",
       "max      6.000000  512.329200  "
      ]
     },
     "execution_count": 20,
     "metadata": {},
     "output_type": "execute_result"
    }
   ],
   "source": [
    "train.describe()"
   ]
  },
  {
   "cell_type": "code",
   "execution_count": 23,
   "metadata": {
    "ExecuteTime": {
     "end_time": "2020-07-21T16:25:37.092335Z",
     "start_time": "2020-07-21T16:25:37.087359Z"
    }
   },
   "outputs": [
    {
     "data": {
      "text/plain": [
       "PassengerId      int64\n",
       "Survived         int64\n",
       "Pclass           int64\n",
       "Name            object\n",
       "Sex             object\n",
       "Age            float64\n",
       "SibSp            int64\n",
       "Parch            int64\n",
       "Ticket          object\n",
       "Fare           float64\n",
       "Cabin           object\n",
       "Embarked        object\n",
       "dtype: object"
      ]
     },
     "execution_count": 23,
     "metadata": {},
     "output_type": "execute_result"
    }
   ],
   "source": [
    "train.dtypes"
   ]
  },
  {
   "cell_type": "markdown",
   "metadata": {},
   "source": [
    "# Feature Analysis"
   ]
  },
  {
   "cell_type": "code",
   "execution_count": 25,
   "metadata": {
    "ExecuteTime": {
     "end_time": "2020-07-21T16:25:43.756707Z",
     "start_time": "2020-07-21T16:25:43.528299Z"
    }
   },
   "outputs": [
    {
     "data": {
      "text/plain": [
       "<matplotlib.axes._subplots.AxesSubplot at 0x13e39b202c8>"
      ]
     },
     "execution_count": 25,
     "metadata": {},
     "output_type": "execute_result"
    },
    {
     "data": {
      "image/png": "[encoded data removed]",
      "text/plain": [
       "<Figure size 432x288 with 2 Axes>"
      ]
     },
     "metadata": {
      "needs_background": "light"
     },
     "output_type": "display_data"
    }
   ],
   "source": [
    "sns.heatmap(train.loc[:,[\"Survived\",\"SibSp\",\"Parch\",\"Age\",\"Fare\"]].corr(),\n",
    "            annot=True, cmap= 'coolwarm',\n",
    "            linewidths=3, linecolor='black', fmt=\".2g\",square=True)"
   ]
  },
  {
   "cell_type": "markdown",
   "metadata": {},
   "source": [
    "* 참고) 위의 결과를 보면 Traget인 Survived와 그나마 연관이 있어 보이는 것은 Fare가 된다(단순 수치적으로).    \n",
    "그러나 중요한 부분은...<strong>나머지 변수들이 의미가 없다 </strong>는 것은 아니다!!!!!!"
   ]
  },
  {
   "cell_type": "markdown",
   "metadata": {},
   "source": [
    "## 위의 나머지 변수들에 대해서 하나씩 확인을 해보면서  Survived와 관계를 좀 알아보자!!"
   ]
  },
  {
   "cell_type": "markdown",
   "metadata": {},
   "source": [
    "### 01) SibSp : 세부적인 값들을 바탕으로 생존여부에 대한 것을 보자! -> 아래 그래프를 그려보고 알게 된 사실은?"
   ]
  },
  {
   "cell_type": "code",
   "execution_count": 26,
   "metadata": {
    "ExecuteTime": {
     "end_time": "2020-07-21T16:26:01.680267Z",
     "start_time": "2020-07-21T16:26:01.306646Z"
    }
   },
   "outputs": [
    {
     "data": {
      "image/png": "[encoded data removed]",
      "text/plain": [
       "<Figure size 432x432 with 1 Axes>"
      ]
     },
     "metadata": {
      "needs_background": "light"
     },
     "output_type": "display_data"
    }
   ],
   "source": [
    "g = sns.catplot(x=\"SibSp\",y=\"Survived\",data=train,kind=\"bar\", height = 6 , palette = \"muted\")\n",
    "g.despine(left=True)\n",
    "g = g.set_ylabels(\"survival probability\")"
   ]
  },
  {
   "cell_type": "markdown",
   "metadata": {},
   "source": [
    "                * 해석) 위의 결과 SibSp의 값이 작을 수록 생존 확률이 높고, 3이상의 경우에 낮은 분포를 보이게 된다!!! --> 향후 이 부분에 대한 것을 바탕으로 변수를 변형을 하면 앞에서 단순히 안 보인 상관관계에 대한 것을 어느 정ㄷ 확보해나갈 수 있다!!!"
   ]
  },
  {
   "cell_type": "code",
   "execution_count": null,
   "metadata": {},
   "outputs": [],
   "source": []
  },
  {
   "cell_type": "markdown",
   "metadata": {},
   "source": [
    "### 02) Parch : 가족단위에 대해서 아래의 결과를 보고 위와 같이 해석을 해보자!"
   ]
  },
  {
   "cell_type": "code",
   "execution_count": 27,
   "metadata": {
    "ExecuteTime": {
     "end_time": "2020-07-21T16:26:06.657263Z",
     "start_time": "2020-07-21T16:26:06.305173Z"
    }
   },
   "outputs": [
    {
     "data": {
      "image/png": "[encoded data removed]",
      "text/plain": [
       "<Figure size 432x432 with 1 Axes>"
      ]
     },
     "metadata": {
      "needs_background": "light"
     },
     "output_type": "display_data"
    }
   ],
   "source": [
    "ax  = sns.catplot(x=\"Parch\",y=\"Survived\",data=train,kind=\"bar\", height = 6 , palette = \"muted\")\n",
    "ax.despine(left=True)\n",
    "ax = ax.set_ylabels(\"survival probability\")\n"
   ]
  },
  {
   "cell_type": "markdown",
   "metadata": {},
   "source": [
    "                * 해석) 1~2(작은 가구)가 단독(0) , 3~4(중간가구), 5~6(대가족) 보다 높은 생존율이고, 3인 경우에서는 상당히 큰 표준편차를 나타내고 있음에 유의!!"
   ]
  },
  {
   "cell_type": "markdown",
   "metadata": {},
   "source": [
    "### 03) Age : 아래와 같은 분포와 상관계수를 보자"
   ]
  },
  {
   "cell_type": "code",
   "execution_count": 28,
   "metadata": {
    "ExecuteTime": {
     "end_time": "2020-07-21T16:26:11.962278Z",
     "start_time": "2020-07-21T16:26:11.480087Z"
    }
   },
   "outputs": [
    {
     "data": {
      "image/png": "[encoded data removed]",
      "text/plain": [
       "<Figure size 432x216 with 2 Axes>"
      ]
     },
     "metadata": {
      "needs_background": "light"
     },
     "output_type": "display_data"
    }
   ],
   "source": [
    "ax = sns.FacetGrid(train, col='Survived')\n",
    "ax = ax.map(sns.distplot, \"Age\")"
   ]
  },
  {
   "cell_type": "code",
   "execution_count": 29,
   "metadata": {
    "ExecuteTime": {
     "end_time": "2020-07-21T16:26:13.724103Z",
     "start_time": "2020-07-21T16:26:13.716132Z"
    }
   },
   "outputs": [
    {
     "data": {
      "text/html": [
       "<div>\n",
       "<style scoped>\n",
       "    .dataframe tbody tr th:only-of-type {\n",
       "        vertical-align: middle;\n",
       "    }\n",
       "\n",
       "    .dataframe tbody tr th {\n",
       "        vertical-align: top;\n",
       "    }\n",
       "\n",
       "    .dataframe thead th {\n",
       "        text-align: right;\n",
       "    }\n",
       "</style>\n",
       "<table border=\"1\" class=\"dataframe\">\n",
       "  <thead>\n",
       "    <tr style=\"text-align: right;\">\n",
       "      <th></th>\n",
       "      <th>Survived</th>\n",
       "      <th>Age</th>\n",
       "    </tr>\n",
       "  </thead>\n",
       "  <tbody>\n",
       "    <tr>\n",
       "      <th>Survived</th>\n",
       "      <td>1.000000</td>\n",
       "      <td>-0.076867</td>\n",
       "    </tr>\n",
       "    <tr>\n",
       "      <th>Age</th>\n",
       "      <td>-0.076867</td>\n",
       "      <td>1.000000</td>\n",
       "    </tr>\n",
       "  </tbody>\n",
       "</table>\n",
       "</div>"
      ],
      "text/plain": [
       "          Survived       Age\n",
       "Survived  1.000000 -0.076867\n",
       "Age      -0.076867  1.000000"
      ]
     },
     "execution_count": 29,
     "metadata": {},
     "output_type": "execute_result"
    }
   ],
   "source": [
    "train.loc[:, [\"Survived\", \"Age\"]].corr()"
   ]
  },
  {
   "cell_type": "markdown",
   "metadata": {},
   "source": [
    "        * 해석 : 나이의 분포가 생존자와 비생존자 사이에 다르다. 생존자의 경우에는 어린아이대가 월등히 높은 반명, 사망자에는 나이드신 쪽이 높은 부분이 있음. \n",
    "            우선 분포상으로는 생존여부에 대한 차이가 있는 것으로 보이나, 위에서와 같이 단순히 상관계수만으로 보면 0.07로 거의 무시되는 부분이 된다는 것!!!`"
   ]
  },
  {
   "cell_type": "markdown",
   "metadata": {},
   "source": [
    "`우선 분포상으로는 생존여부에 대한 차이가 있는 것으로 보이나, 위에서와 같이 단순히 상관계수만으로 보면 0.07로 거의 무시되는 부분이 된다는 것!!!`"
   ]
  },
  {
   "cell_type": "code",
   "execution_count": null,
   "metadata": {},
   "outputs": [],
   "source": []
  },
  {
   "cell_type": "markdown",
   "metadata": {},
   "source": [
    "### 03-추가) 분포를 겹치게 보자!  -> 그러면 더 명확하게 볼 수 있음!"
   ]
  },
  {
   "cell_type": "code",
   "execution_count": 32,
   "metadata": {
    "ExecuteTime": {
     "end_time": "2020-07-21T16:26:30.451383Z",
     "start_time": "2020-07-21T16:26:30.252287Z"
    }
   },
   "outputs": [
    {
     "data": {
      "image/png": "[encoded data removed]",
      "text/plain": [
       "<Figure size 432x288 with 1 Axes>"
      ]
     },
     "metadata": {
      "needs_background": "light"
     },
     "output_type": "display_data"
    }
   ],
   "source": [
    "g = sns.kdeplot(train[\"Age\"][(train[\"Survived\"]==0)& (train[\"Age\"].notnull())], \n",
    "                color=\"Red\", shade = True)\n",
    "g = sns.kdeplot(train[\"Age\"][train[\"Survived\"]==1& (train[\"Age\"].notnull())], \n",
    "                ax =g, color=\"Blue\", shade= True)\n",
    "g.set_xlabel(\"Age\")\n",
    "g.set_ylabel(\"Frequency\")\n",
    "g = g.legend([\"Not Survived\",\"Survived\"])"
   ]
  },
  {
   "cell_type": "markdown",
   "metadata": {},
   "source": [
    "### 04) Fare : 분포를 보자!!!! 상당히 큰 값이 많고, 그 범위가 넓다;;;;"
   ]
  },
  {
   "cell_type": "code",
   "execution_count": 33,
   "metadata": {
    "ExecuteTime": {
     "end_time": "2020-07-21T16:26:34.874619Z",
     "start_time": "2020-07-21T16:26:34.719138Z"
    }
   },
   "outputs": [
    {
     "data": {
      "text/plain": [
       "<matplotlib.axes._subplots.AxesSubplot at 0x13e3b81eb08>"
      ]
     },
     "execution_count": 33,
     "metadata": {},
     "output_type": "execute_result"
    },
    {
     "data": {
      "image/png": "[encoded data removed]",
      "text/plain": [
       "<Figure size 432x288 with 1 Axes>"
      ]
     },
     "metadata": {
      "needs_background": "light"
     },
     "output_type": "display_data"
    }
   ],
   "source": [
    "sns.boxplot(train['Fare'])"
   ]
  },
  {
   "cell_type": "code",
   "execution_count": 34,
   "metadata": {
    "ExecuteTime": {
     "end_time": "2020-07-21T16:26:37.105814Z",
     "start_time": "2020-07-21T16:26:36.848760Z"
    }
   },
   "outputs": [
    {
     "data": {
      "image/png": "[encoded data removed]",
      "text/plain": [
       "<Figure size 432x288 with 1 Axes>"
      ]
     },
     "metadata": {
      "needs_background": "light"
     },
     "output_type": "display_data"
    }
   ],
   "source": [
    "ax= sns.distplot(train[\"Fare\"], color=\"m\", label=\"Skewness : %.2f\"%(train[\"Fare\"].skew()))\n",
    "ax = ax.legend(loc=\"best\")"
   ]
  },
  {
   "cell_type": "markdown",
   "metadata": {},
   "source": [
    "* 참고) skewness(왜도) : 얼마나 한 쪽으로 치우쳐졌는지에 대한 지표(데이터가 왼쪽에 많아서 오른쪽으로 꼬리가 기냐 +, 데이터가 오른쪽에 많아서 왼쪽으로 꼬리가 기냐  -) & 일반적으로 -2 ~ +2 사이를 치우침이 별로 없다고 판단하는 기준이 되기는 하지만...지금 이 경우에는 상당히 많은 치위침이 있음!!!"
   ]
  },
  {
   "cell_type": "markdown",
   "metadata": {},
   "source": [
    "* 참고) skewness인 데이터는 변환을 해야하는 이유가 무엇이냐면 한쪽으로 너무 치우친 데이터를 학습을 하게 된다면 <strong>`꼬리 부분이 상대적으로 적고 빈도도 아주 높지 않기 때문에 이러한 부분에 대한 학습이 잘 이루어지지 않는다.`</strong> 그러므로 유의미한 값이라고 한다면 이러한 특성이 잘 학습이 안 되는 경향이 있을 수 있음!!! <strong>`특히나 요금은 객실과 관련이 있고, 객실의 경우에는 생존에도 영향을 미치는 부분이기에 이러한 영향력을 제대로 학습을 하기 위해서는 그냥 처리하면 안 될 수 있다!!!!`</strong>"
   ]
  },
  {
   "cell_type": "markdown",
   "metadata": {},
   "source": [
    "* 참고) `왼쪽의 데이터가 많은 경우(좌고 우하) : root, log10`      \n",
    "    `오른쪽 데이터가 많은 경우(좌하 우고) : 제곱, log2`"
   ]
  },
  {
   "cell_type": "markdown",
   "metadata": {},
   "source": [
    "* 참고) 위의 경우에는 좌고 우하의 경우이므로 이러한 경우에 주로 log10을 주로 사용해서 변환을 하니 사용해 보자!!"
   ]
  },
  {
   "cell_type": "markdown",
   "metadata": {},
   "source": [
    "### 4-추가) log변환하여 분포를 좀 고르게 피자~--> 아래와 같이 skewness를 줄여보자!"
   ]
  },
  {
   "cell_type": "code",
   "execution_count": 35,
   "metadata": {
    "ExecuteTime": {
     "end_time": "2020-07-21T16:26:46.637102Z",
     "start_time": "2020-07-21T16:26:46.632115Z"
    }
   },
   "outputs": [],
   "source": [
    "train[\"Fare\"] = train[\"Fare\"].apply(lambda x : np.log(x) if x>0 else 0)"
   ]
  },
  {
   "cell_type": "code",
   "execution_count": 36,
   "metadata": {
    "ExecuteTime": {
     "end_time": "2020-07-21T16:26:48.084205Z",
     "start_time": "2020-07-21T16:26:47.855759Z"
    }
   },
   "outputs": [
    {
     "data": {
      "image/png": "[encoded data removed]",
      "text/plain": [
       "<Figure size 432x288 with 1 Axes>"
      ]
     },
     "metadata": {
      "needs_background": "light"
     },
     "output_type": "display_data"
    }
   ],
   "source": [
    "ax= sns.distplot(train[\"Fare\"], color=\"m\", label=\"Skewness : %.2f\"%(train[\"Fare\"].skew()))\n",
    "ax = ax.legend(loc=\"best\")"
   ]
  },
  {
   "cell_type": "markdown",
   "metadata": {},
   "source": [
    "### 5) Sex : 성별에 따른 차이는."
   ]
  },
  {
   "attachments": {
    "image.png": {
     "image/png": "[encoded data removed]"
    }
   },
   "cell_type": "markdown",
   "metadata": {},
   "source": [
    "![image.png](attachment:image.png)"
   ]
  },
  {
   "cell_type": "code",
   "execution_count": 27,
   "metadata": {
    "ExecuteTime": {
     "end_time": "2020-07-21T16:26:53.227781Z",
     "start_time": "2020-07-21T16:26:53.070600Z"
    }
   },
   "outputs": [
    {
     "data": {
      "text/plain": [
       "<matplotlib.axes._subplots.AxesSubplot at 0x1e9d785d608>"
      ]
     },
     "execution_count": 27,
     "metadata": {},
     "output_type": "execute_result"
    },
    {
     "data": {
      "image/png": "[encoded data removed]",
      "text/plain": [
       "<Figure size 432x288 with 1 Axes>"
      ]
     },
     "metadata": {
      "needs_background": "light"
     },
     "output_type": "display_data"
    }
   ],
   "source": [
    "sns.barplot(x=train[\"Sex\"], y=train[\"Survived\"])"
   ]
  },
  {
   "cell_type": "code",
   "execution_count": 28,
   "metadata": {
    "ExecuteTime": {
     "end_time": "2020-07-21T16:26:55.647776Z",
     "start_time": "2020-07-21T16:26:55.629219Z"
    }
   },
   "outputs": [
    {
     "data": {
      "text/html": [
       "<div>\n",
       "<style scoped>\n",
       "    .dataframe tbody tr th:only-of-type {\n",
       "        vertical-align: middle;\n",
       "    }\n",
       "\n",
       "    .dataframe tbody tr th {\n",
       "        vertical-align: top;\n",
       "    }\n",
       "\n",
       "    .dataframe thead th {\n",
       "        text-align: right;\n",
       "    }\n",
       "</style>\n",
       "<table border=\"1\" class=\"dataframe\">\n",
       "  <thead>\n",
       "    <tr style=\"text-align: right;\">\n",
       "      <th></th>\n",
       "      <th>Survived</th>\n",
       "    </tr>\n",
       "    <tr>\n",
       "      <th>Sex</th>\n",
       "      <th></th>\n",
       "    </tr>\n",
       "  </thead>\n",
       "  <tbody>\n",
       "    <tr>\n",
       "      <th>female</th>\n",
       "      <td>0.747573</td>\n",
       "    </tr>\n",
       "    <tr>\n",
       "      <th>male</th>\n",
       "      <td>0.190559</td>\n",
       "    </tr>\n",
       "  </tbody>\n",
       "</table>\n",
       "</div>"
      ],
      "text/plain": [
       "        Survived\n",
       "Sex             \n",
       "female  0.747573\n",
       "male    0.190559"
      ]
     },
     "execution_count": 28,
     "metadata": {},
     "output_type": "execute_result"
    }
   ],
   "source": [
    "train[[\"Sex\",\"Survived\"]].groupby('Sex').mean()"
   ]
  },
  {
   "cell_type": "markdown",
   "metadata": {},
   "source": [
    "    * 해석 : 명확하게 성별에 따른 차이가 발생을 함!!! ---> 우리의 타겟에 대한 중요한 변수임!!"
   ]
  },
  {
   "cell_type": "markdown",
   "metadata": {},
   "source": [
    "### 6) PClass"
   ]
  },
  {
   "cell_type": "code",
   "execution_count": 44,
   "metadata": {
    "ExecuteTime": {
     "end_time": "2020-07-21T16:26:59.137256Z",
     "start_time": "2020-07-21T16:26:59.010029Z"
    }
   },
   "outputs": [
    {
     "data": {
      "text/plain": [
       "<matplotlib.axes._subplots.AxesSubplot at 0x13e3bbd16c8>"
      ]
     },
     "execution_count": 44,
     "metadata": {},
     "output_type": "execute_result"
    },
    {
     "data": {
      "image/png": "[encoded data removed]",
      "text/plain": [
       "<Figure size 432x288 with 1 Axes>"
      ]
     },
     "metadata": {
      "needs_background": "light"
     },
     "output_type": "display_data"
    }
   ],
   "source": [
    "train.loc[:,[\"Pclass\",\"Survived\"]].groupby([\"Pclass\"],as_index=True).mean().sort_values(by=\"Survived\",\n",
    "ascending=False).plot(kind=\"bar\")"
   ]
  },
  {
   "cell_type": "markdown",
   "metadata": {},
   "source": [
    "* 등급별로 남자/여자 따로 볼 경우"
   ]
  },
  {
   "cell_type": "code",
   "execution_count": 45,
   "metadata": {
    "ExecuteTime": {
     "end_time": "2020-07-21T16:27:02.676625Z",
     "start_time": "2020-07-21T16:27:02.383372Z"
    }
   },
   "outputs": [
    {
     "data": {
      "text/plain": [
       "<matplotlib.axes._subplots.AxesSubplot at 0x13e3bc21f08>"
      ]
     },
     "execution_count": 45,
     "metadata": {},
     "output_type": "execute_result"
    },
    {
     "data": {
      "image/png": "[encoded data removed]",
      "text/plain": [
       "<Figure size 432x288 with 1 Axes>"
      ]
     },
     "metadata": {
      "needs_background": "light"
     },
     "output_type": "display_data"
    }
   ],
   "source": [
    "sns.barplot(x=\"Pclass\",y=\"Survived\",hue=\"Sex\",data=train)"
   ]
  },
  {
   "cell_type": "markdown",
   "metadata": {},
   "source": [
    "* 결론 : 1,2 등급은 큰 차이가 없으나, 3등급의 경우에는 생존확률도 낮고, 남성의 경우 1등실이 월등히 높은 생존율"
   ]
  },
  {
   "cell_type": "markdown",
   "metadata": {},
   "source": [
    "### 7) Embarked : 빠진 데이터 수 확인 --> 제일 많이 나타나는 종류 확인 --> 이를 바탕으로 빠진 데이터 채우기 ---> 각기 항목별 생존여부와 확인하기!!!"
   ]
  },
  {
   "cell_type": "code",
   "execution_count": 46,
   "metadata": {
    "ExecuteTime": {
     "end_time": "2020-07-21T16:27:08.651011Z",
     "start_time": "2020-07-21T16:27:08.647053Z"
    }
   },
   "outputs": [
    {
     "name": "stdout",
     "output_type": "stream",
     "text": [
      "Embarked 빠진 데이터 수 : 2\n"
     ]
    }
   ],
   "source": [
    "print(\"Embarked 빠진 데이터 수 : {0}\".format(train[\"Embarked\"].isnull().sum()))"
   ]
  },
  {
   "cell_type": "code",
   "execution_count": 50,
   "metadata": {
    "ExecuteTime": {
     "end_time": "2020-07-21T16:27:09.407540Z",
     "start_time": "2020-07-21T16:27:09.402552Z"
    }
   },
   "outputs": [
    {
     "data": {
      "text/plain": [
       "S    636\n",
       "C    168\n",
       "Q     77\n",
       "Name: Embarked, dtype: int64"
      ]
     },
     "execution_count": 50,
     "metadata": {},
     "output_type": "execute_result"
    }
   ],
   "source": [
    "train[\"Embarked\"].value_counts()"
   ]
  },
  {
   "cell_type": "code",
   "execution_count": 51,
   "metadata": {
    "ExecuteTime": {
     "end_time": "2020-07-21T16:27:10.504646Z",
     "start_time": "2020-07-21T16:27:10.500660Z"
    }
   },
   "outputs": [],
   "source": [
    "train[\"Embarked\"] = train[\"Embarked\"].fillna(\"S\")"
   ]
  },
  {
   "cell_type": "code",
   "execution_count": 52,
   "metadata": {
    "ExecuteTime": {
     "end_time": "2020-07-21T16:27:14.125058Z",
     "start_time": "2020-07-21T16:27:13.881259Z"
    }
   },
   "outputs": [
    {
     "data": {
      "text/plain": [
       "<seaborn.axisgrid.FacetGrid at 0x13e3bcb8a08>"
      ]
     },
     "execution_count": 52,
     "metadata": {},
     "output_type": "execute_result"
    },
    {
     "data": {
      "image/png": "[encoded data removed]",
      "text/plain": [
       "<Figure size 432x432 with 1 Axes>"
      ]
     },
     "metadata": {
      "needs_background": "light"
     },
     "output_type": "display_data"
    }
   ],
   "source": [
    "g = sns.catplot(x=\"Embarked\", y=\"Survived\",  data=train,\n",
    "                   height=6, kind=\"bar\", palette=\"muted\").despine(left=True)\n",
    "g.set_ylabels(\"survival probability\")"
   ]
  },
  {
   "cell_type": "markdown",
   "metadata": {},
   "source": [
    "`해석` : C항구가 높은것을 볼 수 있다 --> 왜 항구별/지역별로 다른 이유가 무엇인가??"
   ]
  },
  {
   "cell_type": "code",
   "execution_count": 121,
   "metadata": {
    "ExecuteTime": {
     "end_time": "2020-07-21T16:27:25.487606Z",
     "start_time": "2020-07-21T16:27:25.098626Z"
    }
   },
   "outputs": [
    {
     "data": {
      "text/plain": [
       "<matplotlib.axes._subplots.AxesSubplot at 0x13e40ed3988>"
      ]
     },
     "execution_count": 121,
     "metadata": {},
     "output_type": "execute_result"
    },
    {
     "data": {
      "image/png": "[encoded data removed]",
      "text/plain": [
       "<Figure size 432x288 with 1 Axes>"
      ]
     },
     "metadata": {
      "needs_background": "light"
     },
     "output_type": "display_data"
    }
   ],
   "source": [
    "sns.barplot(x=\"Pclass\",y=\"Survived\",hue=\"Embarked\",data=train)"
   ]
  },
  {
   "cell_type": "code",
   "execution_count": 122,
   "metadata": {
    "ExecuteTime": {
     "end_time": "2020-07-21T16:27:28.394126Z",
     "start_time": "2020-07-21T16:27:27.934635Z"
    }
   },
   "outputs": [
    {
     "data": {
      "text/plain": [
       "<seaborn.axisgrid.FacetGrid at 0x13e4102bf88>"
      ]
     },
     "execution_count": 122,
     "metadata": {},
     "output_type": "execute_result"
    },
    {
     "data": {
      "image/png": "[encoded data removed]",
      "text/plain": [
       "<Figure size 1296x432 with 3 Axes>"
      ]
     },
     "metadata": {
      "needs_background": "light"
     },
     "output_type": "display_data"
    }
   ],
   "source": [
    "sns.catplot(\"Pclass\", col=\"Embarked\",  data=train, height=6, kind=\"count\", palette=\"muted\")"
   ]
  },
  {
   "cell_type": "markdown",
   "metadata": {},
   "source": [
    "`해석 : ` 항구별로 생존률이 다른 부분을 찾아보니, C항구 출발자들의 객실등급이 월등히 1등석에 비율이 높다!!!!!"
   ]
  },
  {
   "cell_type": "code",
   "execution_count": null,
   "metadata": {},
   "outputs": [],
   "source": []
  },
  {
   "cell_type": "markdown",
   "metadata": {},
   "source": [
    "## 빵꾸 찾으러 고고!!"
   ]
  },
  {
   "cell_type": "markdown",
   "metadata": {},
   "source": [
    "### 01) Embarked : 앞에서 1개 빈 값이 있어서 해결을 함 --> 1개이기에 버릴 수 있고, 중간값/평균값/최빈값 등으로 채울 수 있음!"
   ]
  },
  {
   "cell_type": "markdown",
   "metadata": {},
   "source": [
    "### 02) Age : 많은 데이터가 빠져 있음;;; --> 위에서 보면, 어린 나이 생존자 비율 높고, 고령자 생존 비율 낮고..등 유의한 일부 결과들이 존재를 함;;;;;;아오... --> 그러면 이 특징을 유지해야 하고, 빵구 때워야 한다;;;"
   ]
  },
  {
   "cell_type": "code",
   "execution_count": 37,
   "metadata": {
    "ExecuteTime": {
     "end_time": "2020-07-21T16:29:08.279014Z",
     "start_time": "2020-07-21T16:29:08.275030Z"
    }
   },
   "outputs": [
    {
     "data": {
      "text/plain": [
       "170"
      ]
     },
     "execution_count": 37,
     "metadata": {},
     "output_type": "execute_result"
    }
   ],
   "source": [
    "train[\"Age\"].isnull().sum()"
   ]
  },
  {
   "cell_type": "code",
   "execution_count": 123,
   "metadata": {
    "ExecuteTime": {
     "end_time": "2020-07-21T16:29:09.387531Z",
     "start_time": "2020-07-21T16:29:09.104744Z"
    }
   },
   "outputs": [
    {
     "data": {
      "text/plain": [
       "<matplotlib.axes._subplots.AxesSubplot at 0x13e413d4508>"
      ]
     },
     "execution_count": 123,
     "metadata": {},
     "output_type": "execute_result"
    },
    {
     "data": {
      "image/png": "[encoded data removed]",
      "text/plain": [
       "<Figure size 432x288 with 1 Axes>"
      ]
     },
     "metadata": {
      "needs_background": "light"
     },
     "output_type": "display_data"
    }
   ],
   "source": [
    "sns.barplot(y=\"Age\", x =\"Parch\", data=train)"
   ]
  },
  {
   "cell_type": "code",
   "execution_count": 124,
   "metadata": {
    "ExecuteTime": {
     "end_time": "2020-07-21T16:29:11.326067Z",
     "start_time": "2020-07-21T16:29:11.047037Z"
    }
   },
   "outputs": [
    {
     "data": {
      "text/plain": [
       "<matplotlib.axes._subplots.AxesSubplot at 0x13e416851c8>"
      ]
     },
     "execution_count": 124,
     "metadata": {},
     "output_type": "execute_result"
    },
    {
     "data": {
      "image/png": "[encoded data removed]",
      "text/plain": [
       "<Figure size 432x288 with 1 Axes>"
      ]
     },
     "metadata": {
      "needs_background": "light"
     },
     "output_type": "display_data"
    }
   ],
   "source": [
    "sns.barplot(y=\"Age\", x =\"SibSp\", data=train)"
   ]
  },
  {
   "cell_type": "code",
   "execution_count": 126,
   "metadata": {
    "ExecuteTime": {
     "end_time": "2020-07-21T16:29:11.767082Z",
     "start_time": "2020-07-21T16:29:11.583852Z"
    }
   },
   "outputs": [
    {
     "data": {
      "text/plain": [
       "<matplotlib.axes._subplots.AxesSubplot at 0x13e41733948>"
      ]
     },
     "execution_count": 126,
     "metadata": {},
     "output_type": "execute_result"
    },
    {
     "data": {
      "image/png": "[encoded data removed]",
      "text/plain": [
       "<Figure size 432x288 with 1 Axes>"
      ]
     },
     "metadata": {
      "needs_background": "light"
     },
     "output_type": "display_data"
    }
   ],
   "source": [
    "sns.barplot(y=\"Age\", x =\"Pclass\", data=train)"
   ]
  },
  {
   "cell_type": "code",
   "execution_count": 41,
   "metadata": {
    "ExecuteTime": {
     "end_time": "2020-07-21T16:29:14.355378Z",
     "start_time": "2020-07-21T16:29:14.183603Z"
    }
   },
   "outputs": [
    {
     "data": {
      "text/plain": [
       "<matplotlib.axes._subplots.AxesSubplot at 0x1e9d7495308>"
      ]
     },
     "execution_count": 41,
     "metadata": {},
     "output_type": "execute_result"
    },
    {
     "data": {
      "image/png": "[encoded data removed]",
      "text/plain": [
       "<Figure size 432x288 with 2 Axes>"
      ]
     },
     "metadata": {
      "needs_background": "light"
     },
     "output_type": "display_data"
    }
   ],
   "source": [
    "fig, ax = plt.subplots(nrows=1, ncols=1)\n",
    "sns.heatmap(train.loc[:,[\"Age\",\"Sex\",\"SibSp\",\"Parch\",\"Pclass\"]].corr(),annot=True, ax=ax)"
   ]
  },
  {
   "cell_type": "code",
   "execution_count": 129,
   "metadata": {
    "ExecuteTime": {
     "end_time": "2020-07-21T16:29:21.420272Z",
     "start_time": "2020-07-21T16:29:21.039229Z"
    }
   },
   "outputs": [],
   "source": [
    "index_NaN_age = list(train[\"Age\"][train[\"Age\"].isnull()].index)\n",
    "\n",
    "age_idx = train.columns.get_loc(\"Age\")\n",
    "SibSp_idx = train.columns.get_loc(\"SibSp\")\n",
    "Parch_idx = train.columns.get_loc(\"Parch\")\n",
    "Pclass_idx = train.columns.get_loc(\"Pclass\")\n",
    "\n",
    "for i in index_NaN_age :\n",
    "    age_med = train[\"Age\"].median()\n",
    "    age_pred = train[\"Age\"][(train[\"SibSp\"]==train.iat[i,SibSp_idx])&\n",
    "                            (train[\"Parch\"]==train.iat[i,Parch_idx])&\n",
    "                            (train[\"Pclass\"]==train.iat[i,Pclass_idx])].median()\n",
    "    if not np.isnan(age_pred) :\n",
    "        train.iat[i, age_idx] = age_pred\n",
    "    else :\n",
    "        train.iat[i, age_idx]  = age_med"
   ]
  },
  {
   "cell_type": "code",
   "execution_count": 130,
   "metadata": {
    "ExecuteTime": {
     "end_time": "2020-07-21T16:29:22.225068Z",
     "start_time": "2020-07-21T16:29:22.097375Z"
    }
   },
   "outputs": [
    {
     "data": {
      "text/plain": [
       "<matplotlib.axes._subplots.AxesSubplot at 0x13e41783988>"
      ]
     },
     "execution_count": 130,
     "metadata": {},
     "output_type": "execute_result"
    },
    {
     "data": {
      "image/png": "[encoded data removed]",
      "text/plain": [
       "<Figure size 432x288 with 1 Axes>"
      ]
     },
     "metadata": {
      "needs_background": "light"
     },
     "output_type": "display_data"
    }
   ],
   "source": [
    "sns.violinplot(x=\"Survived\", y =\"Age\",data =train, kind=\"violin\")"
   ]
  },
  {
   "cell_type": "code",
   "execution_count": 131,
   "metadata": {
    "ExecuteTime": {
     "end_time": "2020-07-21T16:29:24.914825Z",
     "start_time": "2020-07-21T16:29:24.799141Z"
    }
   },
   "outputs": [
    {
     "data": {
      "text/plain": [
       "<matplotlib.axes._subplots.AxesSubplot at 0x13e427a1748>"
      ]
     },
     "execution_count": 131,
     "metadata": {},
     "output_type": "execute_result"
    },
    {
     "data": {
      "image/png": "[encoded data removed]",
      "text/plain": [
       "<Figure size 432x288 with 1 Axes>"
      ]
     },
     "metadata": {
      "needs_background": "light"
     },
     "output_type": "display_data"
    }
   ],
   "source": [
    "sns.boxplot(x=\"Survived\", y =\"Age\",data =train)"
   ]
  },
  {
   "cell_type": "markdown",
   "metadata": {},
   "source": [
    "`해석 :` 중간값은 생존에 큰 차이가 없음...다만 어린 나이가..."
   ]
  },
  {
   "cell_type": "markdown",
   "metadata": {},
   "source": [
    "### 03) Cabin"
   ]
  },
  {
   "cell_type": "code",
   "execution_count": 132,
   "metadata": {
    "ExecuteTime": {
     "end_time": "2020-07-21T16:29:27.734861Z",
     "start_time": "2020-07-21T16:29:27.727917Z"
    }
   },
   "outputs": [
    {
     "data": {
      "text/plain": [
       "count         201\n",
       "unique        147\n",
       "top       B96 B98\n",
       "freq            4\n",
       "Name: Cabin, dtype: object"
      ]
     },
     "execution_count": 132,
     "metadata": {},
     "output_type": "execute_result"
    }
   ],
   "source": [
    "train[\"Cabin\"].describe()"
   ]
  },
  {
   "cell_type": "code",
   "execution_count": 133,
   "metadata": {
    "ExecuteTime": {
     "end_time": "2020-07-21T16:29:28.355954Z",
     "start_time": "2020-07-21T16:29:28.350937Z"
    }
   },
   "outputs": [
    {
     "data": {
      "text/plain": [
       "680"
      ]
     },
     "execution_count": 133,
     "metadata": {},
     "output_type": "execute_result"
    }
   ],
   "source": [
    "train[\"Cabin\"].isnull().sum()"
   ]
  },
  {
   "cell_type": "code",
   "execution_count": 139,
   "metadata": {
    "ExecuteTime": {
     "end_time": "2020-07-21T16:29:30.661685Z",
     "start_time": "2020-07-21T16:29:30.653702Z"
    }
   },
   "outputs": [
    {
     "data": {
      "text/plain": [
       "0"
      ]
     },
     "execution_count": 139,
     "metadata": {},
     "output_type": "execute_result"
    }
   ],
   "source": [
    "train[\"Cabin\"] = train[\"Cabin\"].fillna(\"X\")\n",
    "train[\"Cabin\"] = train[\"Cabin\"].apply(lambda x : str(x)[:1])\n",
    "train[\"Cabin\"].isnull().sum()"
   ]
  },
  {
   "cell_type": "code",
   "execution_count": 140,
   "metadata": {
    "ExecuteTime": {
     "end_time": "2020-07-21T16:29:32.020478Z",
     "start_time": "2020-07-21T16:29:31.880832Z"
    }
   },
   "outputs": [
    {
     "data": {
      "text/plain": [
       "<matplotlib.axes._subplots.AxesSubplot at 0x13e4291dd48>"
      ]
     },
     "execution_count": 140,
     "metadata": {},
     "output_type": "execute_result"
    },
    {
     "data": {
      "image/png": "[encoded data removed]",
      "text/plain": [
       "<Figure size 432x288 with 1 Axes>"
      ]
     },
     "metadata": {
      "needs_background": "light"
     },
     "output_type": "display_data"
    }
   ],
   "source": [
    "sns.countplot(train[\"Cabin\"],order=['A','B','C','D','E','F','G','T','X'])"
   ]
  },
  {
   "cell_type": "code",
   "execution_count": 141,
   "metadata": {
    "ExecuteTime": {
     "end_time": "2020-07-21T16:29:34.257319Z",
     "start_time": "2020-07-21T16:29:33.898404Z"
    }
   },
   "outputs": [
    {
     "data": {
      "text/plain": [
       "<matplotlib.axes._subplots.AxesSubplot at 0x13e429a1c08>"
      ]
     },
     "execution_count": 141,
     "metadata": {},
     "output_type": "execute_result"
    },
    {
     "data": {
      "image/png": "[encoded data removed]",
      "text/plain": [
       "<Figure size 432x288 with 1 Axes>"
      ]
     },
     "metadata": {
      "needs_background": "light"
     },
     "output_type": "display_data"
    }
   ],
   "source": [
    "sns.barplot(y=\"Survived\",x=\"Cabin\",data=train)"
   ]
  },
  {
   "cell_type": "markdown",
   "metadata": {},
   "source": [
    "`해석 :` 객실 번호가 없는 X가 생존 비율이 차이가.;;; 이는 아마도 객실이 아니라 외부에 그냥 탑승한 인원들이 더 빨리 바다로 뛰어들 수 있어서 그런듯...\n",
    "지우는 것 보다는 라벨인코딩이나, 아니면 객실정보가 있냐/없냐로 할 수 있을 듯.."
   ]
  },
  {
   "cell_type": "code",
   "execution_count": null,
   "metadata": {},
   "outputs": [],
   "source": []
  },
  {
   "cell_type": "markdown",
   "metadata": {},
   "source": [
    "## 새로운 지표 만들기"
   ]
  },
  {
   "cell_type": "code",
   "execution_count": 142,
   "metadata": {
    "ExecuteTime": {
     "end_time": "2020-07-21T16:29:38.322533Z",
     "start_time": "2020-07-21T16:29:38.318576Z"
    }
   },
   "outputs": [],
   "source": [
    "train[\"Fsize\"] = train[\"SibSp\"] + train[\"Parch\"] + 1"
   ]
  },
  {
   "cell_type": "code",
   "execution_count": 143,
   "metadata": {
    "ExecuteTime": {
     "end_time": "2020-07-21T16:29:39.485772Z",
     "start_time": "2020-07-21T16:29:39.129143Z"
    }
   },
   "outputs": [
    {
     "data": {
      "text/plain": [
       "<matplotlib.axes._subplots.AxesSubplot at 0x13e42a28308>"
      ]
     },
     "execution_count": 143,
     "metadata": {},
     "output_type": "execute_result"
    },
    {
     "data": {
      "image/png": "[encoded data removed]",
      "text/plain": [
       "<Figure size 432x288 with 1 Axes>"
      ]
     },
     "metadata": {
      "needs_background": "light"
     },
     "output_type": "display_data"
    }
   ],
   "source": [
    "sns.barplot(y=\"Survived\",x=\"Fsize\",data=train)"
   ]
  },
  {
   "cell_type": "markdown",
   "metadata": {},
   "source": [
    "`해석 `: 위의 경우를 보면 가족 사이즈 별로 상당히 생존률이 영향을 미치는 것으로 보임...--> 다시 재구조를 하자!!"
   ]
  },
  {
   "cell_type": "code",
   "execution_count": 146,
   "metadata": {
    "ExecuteTime": {
     "end_time": "2020-07-21T16:29:46.814662Z",
     "start_time": "2020-07-21T16:29:46.806716Z"
    }
   },
   "outputs": [],
   "source": [
    "train['Single'] = train[\"Fsize\"].apply(lambda x: 1 if x==1 else 0)\n",
    "train['SmallF'] = train[\"Fsize\"].apply(lambda x: 1 if x==2 else 0)\n",
    "train['MedF'] = train[\"Fsize\"].apply(lambda x: 1 if 3<=x<=4 else 0)\n",
    "train['LargeF'] = train[\"Fsize\"].apply(lambda x: 1 if x>=5 else 0)\n"
   ]
  },
  {
   "cell_type": "code",
   "execution_count": 147,
   "metadata": {
    "ExecuteTime": {
     "end_time": "2020-07-21T16:29:47.619441Z",
     "start_time": "2020-07-21T16:29:47.462802Z"
    }
   },
   "outputs": [
    {
     "data": {
      "text/plain": [
       "<matplotlib.axes._subplots.AxesSubplot at 0x13e42ac3388>"
      ]
     },
     "execution_count": 147,
     "metadata": {},
     "output_type": "execute_result"
    },
    {
     "data": {
      "image/png": "[encoded data removed]",
      "text/plain": [
       "<Figure size 432x288 with 1 Axes>"
      ]
     },
     "metadata": {
      "needs_background": "light"
     },
     "output_type": "display_data"
    }
   ],
   "source": [
    "sns.barplot(x=train[\"Single\"], y=train[\"Survived\"])\n"
   ]
  },
  {
   "cell_type": "code",
   "execution_count": 54,
   "metadata": {
    "ExecuteTime": {
     "end_time": "2020-07-21T16:29:49.683702Z",
     "start_time": "2020-07-21T16:29:49.526394Z"
    }
   },
   "outputs": [
    {
     "data": {
      "text/plain": [
       "<matplotlib.axes._subplots.AxesSubplot at 0x1e9d92884c8>"
      ]
     },
     "execution_count": 54,
     "metadata": {},
     "output_type": "execute_result"
    },
    {
     "data": {
      "image/png": "[encoded data removed]",
      "text/plain": [
       "<Figure size 432x288 with 1 Axes>"
      ]
     },
     "metadata": {
      "needs_background": "light"
     },
     "output_type": "display_data"
    }
   ],
   "source": [
    "sns.barplot(x=train[\"SmallF\"], y=train[\"Survived\"])\n"
   ]
  },
  {
   "cell_type": "code",
   "execution_count": 148,
   "metadata": {
    "ExecuteTime": {
     "end_time": "2020-07-21T16:29:50.340917Z",
     "start_time": "2020-07-21T16:29:50.182776Z"
    }
   },
   "outputs": [
    {
     "data": {
      "text/plain": [
       "<matplotlib.axes._subplots.AxesSubplot at 0x13e42b15088>"
      ]
     },
     "execution_count": 148,
     "metadata": {},
     "output_type": "execute_result"
    },
    {
     "data": {
      "image/png": "[encoded data removed]",
      "text/plain": [
       "<Figure size 432x288 with 1 Axes>"
      ]
     },
     "metadata": {
      "needs_background": "light"
     },
     "output_type": "display_data"
    }
   ],
   "source": [
    "sns.barplot(x=train[\"MedF\"], y=train[\"Survived\"])\n"
   ]
  },
  {
   "cell_type": "code",
   "execution_count": 149,
   "metadata": {
    "ExecuteTime": {
     "end_time": "2020-07-21T16:29:52.176449Z",
     "start_time": "2020-07-21T16:29:52.028804Z"
    }
   },
   "outputs": [
    {
     "data": {
      "text/plain": [
       "<matplotlib.axes._subplots.AxesSubplot at 0x13e42b75c88>"
      ]
     },
     "execution_count": 149,
     "metadata": {},
     "output_type": "execute_result"
    },
    {
     "data": {
      "image/png": "[encoded data removed]",
      "text/plain": [
       "<Figure size 432x288 with 1 Axes>"
      ]
     },
     "metadata": {
      "needs_background": "light"
     },
     "output_type": "display_data"
    }
   ],
   "source": [
    "sns.barplot(x=train[\"LargeF\"], y=train[\"Survived\"])\n"
   ]
  },
  {
   "cell_type": "markdown",
   "metadata": {},
   "source": [
    "## 전처리"
   ]
  },
  {
   "cell_type": "code",
   "execution_count": 150,
   "metadata": {
    "ExecuteTime": {
     "end_time": "2020-07-21T16:29:55.506909Z",
     "start_time": "2020-07-21T16:29:55.390377Z"
    }
   },
   "outputs": [],
   "source": [
    "from sklearn import preprocessing\n",
    "from sklearn.preprocessing import LabelEncoder\n",
    "from sklearn.preprocessing import OneHotEncoder"
   ]
  },
  {
   "cell_type": "code",
   "execution_count": 151,
   "metadata": {
    "ExecuteTime": {
     "end_time": "2020-07-21T16:29:57.004261Z",
     "start_time": "2020-07-21T16:29:57.000272Z"
    }
   },
   "outputs": [],
   "source": [
    "def titanic_fillna(df):\n",
    "    # 앞에서 해결\n",
    "    return df\n"
   ]
  },
  {
   "cell_type": "markdown",
   "metadata": {},
   "source": [
    "##### 불필요 컬럼 제거"
   ]
  },
  {
   "cell_type": "code",
   "execution_count": 166,
   "metadata": {
    "ExecuteTime": {
     "end_time": "2020-07-21T16:30:01.659769Z",
     "start_time": "2020-07-21T16:30:01.655781Z"
    }
   },
   "outputs": [],
   "source": [
    "# \"PassengerId\", \"Name\", \"Ticket\" 컬럼 지우기..\n",
    "def drop_feature(df):\n",
    "    df.drop([\"PassengerId\",\"Name\",\"Ticket\"],axis=1, inplace=True)\n",
    "    return df"
   ]
  },
  {
   "cell_type": "markdown",
   "metadata": {},
   "source": [
    "##### 인코딩"
   ]
  },
  {
   "cell_type": "code",
   "execution_count": 167,
   "metadata": {
    "ExecuteTime": {
     "end_time": "2020-07-21T16:30:08.380964Z",
     "start_time": "2020-07-21T16:30:08.377009Z"
    }
   },
   "outputs": [],
   "source": [
    "def format_features(df):\n",
    "    # 변경할 컬럼 리스트    \n",
    "    features = [\"Cabin\", \"Sex\", \"Embarked\"]\n",
    "    for feature in features:\n",
    "        le = preprocessing.LabelEncoder()\n",
    "        le = le.fit(df.loc[:,feature ])\n",
    "        df.loc[:,feature] = le.transform(df.loc[:,feature])\n",
    "    return df  "
   ]
  },
  {
   "cell_type": "markdown",
   "metadata": {},
   "source": [
    "##### 위의 전처리 들을 하나의 함수로 다시 묶는 부분"
   ]
  },
  {
   "cell_type": "code",
   "execution_count": 168,
   "metadata": {
    "ExecuteTime": {
     "end_time": "2020-07-21T16:30:09.987011Z",
     "start_time": "2020-07-21T16:30:09.983021Z"
    }
   },
   "outputs": [],
   "source": [
    "def titanic_transform(df):\n",
    "    df = titanic_fillna(df)\n",
    "    df = drop_feature(df)\n",
    "    df = format_features(df)\n",
    "    return df"
   ]
  },
  {
   "cell_type": "code",
   "execution_count": 169,
   "metadata": {
    "ExecuteTime": {
     "end_time": "2020-07-21T16:30:11.052670Z",
     "start_time": "2020-07-21T16:30:11.038561Z"
    }
   },
   "outputs": [
    {
     "data": {
      "text/html": [
       "<div>\n",
       "<style scoped>\n",
       "    .dataframe tbody tr th:only-of-type {\n",
       "        vertical-align: middle;\n",
       "    }\n",
       "\n",
       "    .dataframe tbody tr th {\n",
       "        vertical-align: top;\n",
       "    }\n",
       "\n",
       "    .dataframe thead th {\n",
       "        text-align: right;\n",
       "    }\n",
       "</style>\n",
       "<table border=\"1\" class=\"dataframe\">\n",
       "  <thead>\n",
       "    <tr style=\"text-align: right;\">\n",
       "      <th></th>\n",
       "      <th>Survived</th>\n",
       "      <th>Pclass</th>\n",
       "      <th>Sex</th>\n",
       "      <th>Age</th>\n",
       "      <th>SibSp</th>\n",
       "      <th>Parch</th>\n",
       "      <th>Fare</th>\n",
       "      <th>Cabin</th>\n",
       "      <th>Embarked</th>\n",
       "      <th>Fsize</th>\n",
       "      <th>Single</th>\n",
       "      <th>SmallF</th>\n",
       "      <th>MedF</th>\n",
       "      <th>LargeF</th>\n",
       "    </tr>\n",
       "  </thead>\n",
       "  <tbody>\n",
       "    <tr>\n",
       "      <th>0</th>\n",
       "      <td>0</td>\n",
       "      <td>3</td>\n",
       "      <td>1</td>\n",
       "      <td>22.0</td>\n",
       "      <td>1</td>\n",
       "      <td>0</td>\n",
       "      <td>1.981001</td>\n",
       "      <td>8</td>\n",
       "      <td>2</td>\n",
       "      <td>2</td>\n",
       "      <td>0</td>\n",
       "      <td>1</td>\n",
       "      <td>0</td>\n",
       "      <td>0</td>\n",
       "    </tr>\n",
       "    <tr>\n",
       "      <th>1</th>\n",
       "      <td>1</td>\n",
       "      <td>1</td>\n",
       "      <td>0</td>\n",
       "      <td>38.0</td>\n",
       "      <td>1</td>\n",
       "      <td>0</td>\n",
       "      <td>4.266662</td>\n",
       "      <td>2</td>\n",
       "      <td>0</td>\n",
       "      <td>2</td>\n",
       "      <td>0</td>\n",
       "      <td>1</td>\n",
       "      <td>0</td>\n",
       "      <td>0</td>\n",
       "    </tr>\n",
       "    <tr>\n",
       "      <th>2</th>\n",
       "      <td>1</td>\n",
       "      <td>3</td>\n",
       "      <td>0</td>\n",
       "      <td>26.0</td>\n",
       "      <td>0</td>\n",
       "      <td>0</td>\n",
       "      <td>2.070022</td>\n",
       "      <td>8</td>\n",
       "      <td>2</td>\n",
       "      <td>1</td>\n",
       "      <td>1</td>\n",
       "      <td>0</td>\n",
       "      <td>0</td>\n",
       "      <td>0</td>\n",
       "    </tr>\n",
       "  </tbody>\n",
       "</table>\n",
       "</div>"
      ],
      "text/plain": [
       "   Survived  Pclass  Sex   Age  SibSp  Parch      Fare  Cabin  Embarked  \\\n",
       "0         0       3    1  22.0      1      0  1.981001      8         2   \n",
       "1         1       1    0  38.0      1      0  4.266662      2         0   \n",
       "2         1       3    0  26.0      0      0  2.070022      8         2   \n",
       "\n",
       "   Fsize  Single  SmallF  MedF  LargeF  \n",
       "0      2       0       1     0       0  \n",
       "1      2       0       1     0       0  \n",
       "2      1       1       0     0       0  "
      ]
     },
     "execution_count": 169,
     "metadata": {},
     "output_type": "execute_result"
    }
   ],
   "source": [
    "X_titanic_train = titanic_transform(train)\n",
    "X_titanic_train.head(3)"
   ]
  },
  {
   "cell_type": "code",
   "execution_count": 170,
   "metadata": {
    "ExecuteTime": {
     "end_time": "2020-07-21T16:30:13.052544Z",
     "start_time": "2020-07-21T16:30:13.048555Z"
    }
   },
   "outputs": [],
   "source": [
    "y_titanic_train = X_titanic_train.iloc[:,0]\n",
    "X_titanic_train =X_titanic_train.iloc[:,1:]"
   ]
  },
  {
   "cell_type": "markdown",
   "metadata": {},
   "source": [
    "### 데이터 분리"
   ]
  },
  {
   "cell_type": "code",
   "execution_count": 171,
   "metadata": {
    "ExecuteTime": {
     "end_time": "2020-07-21T16:30:38.466425Z",
     "start_time": "2020-07-21T16:30:38.414595Z"
    }
   },
   "outputs": [],
   "source": [
    "from sklearn.model_selection import train_test_split"
   ]
  },
  {
   "cell_type": "markdown",
   "metadata": {},
   "source": [
    "#### 그냥 분리"
   ]
  },
  {
   "cell_type": "code",
   "execution_count": 176,
   "metadata": {
    "ExecuteTime": {
     "end_time": "2020-07-21T16:30:44.165432Z",
     "start_time": "2020-07-21T16:30:44.150295Z"
    }
   },
   "outputs": [],
   "source": [
    "X_train, X_test, y_train, y_test = train_test_split(X_titanic_train, \n",
    "                                                    y_titanic_train, \n",
    "                                                    stratify = y_titanic_train,\n",
    "                                                    test_size=0.3, \n",
    "                                                    random_state=1234)"
   ]
  },
  {
   "cell_type": "code",
   "execution_count": 177,
   "metadata": {
    "ExecuteTime": {
     "end_time": "2020-07-21T16:30:46.076758Z",
     "start_time": "2020-07-21T16:30:46.072768Z"
    }
   },
   "outputs": [],
   "source": [
    "from sklearn.model_selection import KFold"
   ]
  },
  {
   "cell_type": "code",
   "execution_count": 178,
   "metadata": {
    "ExecuteTime": {
     "end_time": "2020-07-21T16:30:50.136085Z",
     "start_time": "2020-07-21T16:30:50.132097Z"
    }
   },
   "outputs": [],
   "source": [
    "# shuffle는 순서에 대해서도 섞에서 랜덤하게..\n",
    "kfold = KFold(n_splits=5, random_state= 0, shuffle = True)"
   ]
  },
  {
   "cell_type": "markdown",
   "metadata": {},
   "source": [
    "## 모델링"
   ]
  },
  {
   "cell_type": "code",
   "execution_count": 175,
   "metadata": {
    "ExecuteTime": {
     "end_time": "2020-07-21T16:31:37.076346Z",
     "start_time": "2020-07-21T16:31:37.072356Z"
    }
   },
   "outputs": [],
   "source": [
    "from sklearn.model_selection import RandomizedSearchCV\n",
    "from sklearn.model_selection import GridSearchCV\n",
    "from sklearn.model_selection import cross_val_score\n",
    "from sklearn.metrics import accuracy_score"
   ]
  },
  {
   "cell_type": "markdown",
   "metadata": {},
   "source": [
    "### RF)"
   ]
  },
  {
   "cell_type": "code",
   "execution_count": 180,
   "metadata": {
    "ExecuteTime": {
     "end_time": "2020-07-21T16:31:38.936588Z",
     "start_time": "2020-07-21T16:31:38.759092Z"
    }
   },
   "outputs": [],
   "source": [
    "from sklearn.ensemble import RandomForestClassifier"
   ]
  },
  {
   "cell_type": "code",
   "execution_count": 181,
   "metadata": {
    "ExecuteTime": {
     "end_time": "2020-07-21T16:31:40.503927Z",
     "start_time": "2020-07-21T16:31:40.499847Z"
    }
   },
   "outputs": [],
   "source": [
    "rf_clf = RandomForestClassifier(n_jobs=-1,random_state=1234)"
   ]
  },
  {
   "cell_type": "code",
   "execution_count": 182,
   "metadata": {
    "ExecuteTime": {
     "end_time": "2020-07-21T16:31:56.168553Z",
     "start_time": "2020-07-21T16:31:52.654473Z"
    }
   },
   "outputs": [
    {
     "name": "stdout",
     "output_type": "stream",
     "text": [
      "RF 교차 검증 0 & 정확도 0.7661\n",
      "RF 교차 검증 1 & 정확도 0.8537\n",
      "RF 교차 검증 2 & 정확도 0.8455\n",
      "RF 교차 검증 3 & 정확도 0.7805\n",
      "RF 교차 검증 4 & 정확도 0.7642\n",
      "----------------------------------------\n",
      "RF 교차 검증 평균 정확도 :0.8020\n"
     ]
    }
   ],
   "source": [
    "scores = cross_val_score(\n",
    "    rf_clf,\n",
    "    X_train,\n",
    "    y_train,\n",
    "    cv=kfold\n",
    ")\n",
    "for iter_count, accuracy in enumerate(scores):\n",
    "    print(\"RF 교차 검증 {0} & 정확도 {1:.4f}\".format(iter_count, accuracy))\n",
    "print(\"----------------------------------------\")\n",
    "# print(\"교차 검증 평균 정확도 :\" ,scores.mean())\n",
    "print(\"RF 교차 검증 평균 정확도 :{0:.4f}\".format(scores.mean()) )"
   ]
  },
  {
   "cell_type": "code",
   "execution_count": 183,
   "metadata": {
    "ExecuteTime": {
     "end_time": "2020-07-21T16:32:22.548889Z",
     "start_time": "2020-07-21T16:32:22.543870Z"
    }
   },
   "outputs": [],
   "source": [
    "rf_param_grid = {\n",
    "    \"n_estimators\":[100,500],\n",
    "    \"max_depth\":np.arange(1,20,1),\n",
    "    \"min_samples_split\":[2,3,4,5,6],\n",
    "    \"min_samples_leaf\":[1,2,3,4,5],\n",
    "    \"max_features\":np.arange(1,8,1)\n",
    "}"
   ]
  },
  {
   "cell_type": "code",
   "execution_count": 185,
   "metadata": {
    "ExecuteTime": {
     "end_time": "2020-07-21T16:33:09.572184Z",
     "start_time": "2020-07-21T16:33:03.800140Z"
    }
   },
   "outputs": [
    {
     "name": "stdout",
     "output_type": "stream",
     "text": [
      "Fitting 5 folds for each of 10 candidates, totalling 50 fits\n"
     ]
    },
    {
     "name": "stderr",
     "output_type": "stream",
     "text": [
      "[Parallel(n_jobs=-1)]: Using backend LokyBackend with 12 concurrent workers.\n",
      "[Parallel(n_jobs=-1)]: Done  26 tasks      | elapsed:    3.7s\n",
      "[Parallel(n_jobs=-1)]: Done  50 out of  50 | elapsed:    4.9s finished\n"
     ]
    },
    {
     "name": "stdout",
     "output_type": "stream",
     "text": [
      "RandomForestClassifier(bootstrap=True, ccp_alpha=0.0, class_weight=None,\n",
      "                       criterion='gini', max_depth=18, max_features=4,\n",
      "                       max_leaf_nodes=None, max_samples=None,\n",
      "                       min_impurity_decrease=0.0, min_impurity_split=None,\n",
      "                       min_samples_leaf=4, min_samples_split=5,\n",
      "                       min_weight_fraction_leaf=0.0, n_estimators=500,\n",
      "                       n_jobs=-1, oob_score=False, random_state=1234, verbose=0,\n",
      "                       warm_start=False)\n"
     ]
    }
   ],
   "source": [
    "n_iter_search = 10\n",
    "RFC_rgs = RandomizedSearchCV(\n",
    "    rf_clf,\n",
    "    param_distributions=rf_param_grid,\n",
    "    cv=kfold,\n",
    "    scoring=\"accuracy\",\n",
    "    n_jobs=-1,\n",
    "    verbose=1,\n",
    "    random_state=1234,\n",
    "    n_iter=n_iter_search\n",
    ")\n",
    "RFC_rgs.fit(X_train,y_train)\n",
    "RFC_rgs_best = RFC_rgs.best_estimator_\n",
    "print(RFC_rgs_best)"
   ]
  },
  {
   "cell_type": "code",
   "execution_count": 186,
   "metadata": {
    "ExecuteTime": {
     "end_time": "2020-07-21T16:33:10.511591Z",
     "start_time": "2020-07-21T16:33:10.506604Z"
    }
   },
   "outputs": [
    {
     "data": {
      "text/plain": [
       "0.8214266981379492"
      ]
     },
     "execution_count": 186,
     "metadata": {},
     "output_type": "execute_result"
    }
   ],
   "source": [
    "RFC_rgs.best_score_"
   ]
  },
  {
   "cell_type": "code",
   "execution_count": 187,
   "metadata": {
    "ExecuteTime": {
     "end_time": "2020-07-21T16:33:11.796082Z",
     "start_time": "2020-07-21T16:33:11.791187Z"
    }
   },
   "outputs": [
    {
     "data": {
      "text/plain": [
       "{'n_estimators': 500,\n",
       " 'min_samples_split': 5,\n",
       " 'min_samples_leaf': 4,\n",
       " 'max_features': 4,\n",
       " 'max_depth': 18}"
      ]
     },
     "execution_count": 187,
     "metadata": {},
     "output_type": "execute_result"
    }
   ],
   "source": [
    "RFC_rgs.best_params_"
   ]
  },
  {
   "cell_type": "code",
   "execution_count": 191,
   "metadata": {
    "ExecuteTime": {
     "end_time": "2020-07-21T16:33:19.260673Z",
     "start_time": "2020-07-21T16:33:19.256716Z"
    }
   },
   "outputs": [],
   "source": [
    "rf_param_grid = {\n",
    " 'n_estimators': [500],\n",
    " 'min_samples_split': [4,5,6],\n",
    " 'min_samples_leaf': [3,4,5],\n",
    " 'max_features': [4],\n",
    " 'max_depth': [17,18,19]\n",
    "}"
   ]
  },
  {
   "cell_type": "code",
   "execution_count": 193,
   "metadata": {
    "ExecuteTime": {
     "end_time": "2020-07-21T16:33:41.330644Z",
     "start_time": "2020-07-21T16:33:21.105763Z"
    }
   },
   "outputs": [
    {
     "name": "stdout",
     "output_type": "stream",
     "text": [
      "Fitting 5 folds for each of 27 candidates, totalling 135 fits\n"
     ]
    },
    {
     "name": "stderr",
     "output_type": "stream",
     "text": [
      "[Parallel(n_jobs=-1)]: Using backend LokyBackend with 12 concurrent workers.\n",
      "[Parallel(n_jobs=-1)]: Done  26 tasks      | elapsed:    3.3s\n",
      "[Parallel(n_jobs=-1)]: Done 135 out of 135 | elapsed:   14.9s finished\n"
     ]
    },
    {
     "name": "stdout",
     "output_type": "stream",
     "text": [
      "RandomForestClassifier(bootstrap=True, ccp_alpha=0.0, class_weight=None,\n",
      "                       criterion='gini', max_depth=17, max_features=4,\n",
      "                       max_leaf_nodes=None, max_samples=None,\n",
      "                       min_impurity_decrease=0.0, min_impurity_split=None,\n",
      "                       min_samples_leaf=3, min_samples_split=4,\n",
      "                       min_weight_fraction_leaf=0.0, n_estimators=500,\n",
      "                       n_jobs=-1, oob_score=False, random_state=1234, verbose=0,\n",
      "                       warm_start=False)\n"
     ]
    }
   ],
   "source": [
    "RFC_gs = GridSearchCV(rf_clf,param_grid=rf_param_grid,cv=kfold,\n",
    "                     scoring=\"accuracy\",n_jobs=-1,verbose=1)\n",
    "RFC_gs.fit(X_train,y_train)\n",
    "\n",
    "RFC_gs_best = RFC_gs.best_estimator_\n",
    "print(RFC_gs_best)"
   ]
  },
  {
   "cell_type": "code",
   "execution_count": 194,
   "metadata": {
    "ExecuteTime": {
     "end_time": "2020-07-21T16:33:44.785950Z",
     "start_time": "2020-07-21T16:33:44.780963Z"
    }
   },
   "outputs": [
    {
     "data": {
      "text/plain": [
       "{'max_depth': 17,\n",
       " 'max_features': 4,\n",
       " 'min_samples_leaf': 3,\n",
       " 'min_samples_split': 4,\n",
       " 'n_estimators': 500}"
      ]
     },
     "execution_count": 194,
     "metadata": {},
     "output_type": "execute_result"
    }
   ],
   "source": [
    "RFC_gs.best_params_"
   ]
  },
  {
   "cell_type": "code",
   "execution_count": 195,
   "metadata": {
    "ExecuteTime": {
     "end_time": "2020-07-21T16:33:47.823232Z",
     "start_time": "2020-07-21T16:33:47.818246Z"
    }
   },
   "outputs": [
    {
     "data": {
      "text/plain": [
       "0.8246918436926304"
      ]
     },
     "execution_count": 195,
     "metadata": {},
     "output_type": "execute_result"
    }
   ],
   "source": [
    "RFC_gs.best_score_"
   ]
  },
  {
   "cell_type": "code",
   "execution_count": 196,
   "metadata": {
    "ExecuteTime": {
     "end_time": "2020-07-21T16:33:50.858786Z",
     "start_time": "2020-07-21T16:33:50.749034Z"
    },
    "scrolled": true
   },
   "outputs": [
    {
     "name": "stdout",
     "output_type": "stream",
     "text": [
      "rf에서 GridSearchCV로 찾은 결과 :  0.8491\n"
     ]
    }
   ],
   "source": [
    "RFC_gs_best = RFC_gs.best_estimator_\n",
    "\n",
    "rfc_predictions = RFC_gs_best.predict(X_test)\n",
    "accuracy = accuracy_score(y_test, rfc_predictions)\n",
    "print(\"rf에서 GridSearchCV로 찾은 결과 : {0: .4f}\".format(accuracy))"
   ]
  },
  {
   "cell_type": "code",
   "execution_count": null,
   "metadata": {},
   "outputs": [],
   "source": []
  },
  {
   "cell_type": "markdown",
   "metadata": {},
   "source": [
    "### Xgboost)"
   ]
  },
  {
   "cell_type": "code",
   "execution_count": 197,
   "metadata": {
    "ExecuteTime": {
     "end_time": "2020-07-21T16:34:01.999582Z",
     "start_time": "2020-07-21T16:34:01.949099Z"
    }
   },
   "outputs": [],
   "source": [
    "import xgboost as xgb\n",
    "from xgboost import XGBClassifier"
   ]
  },
  {
   "cell_type": "code",
   "execution_count": 198,
   "metadata": {
    "ExecuteTime": {
     "end_time": "2020-07-21T16:34:05.246114Z",
     "start_time": "2020-07-21T16:34:05.240131Z"
    }
   },
   "outputs": [],
   "source": [
    "XGBC = XGBClassifier(random_state=1234,n_jobs=-1)\n",
    "\n",
    "xgc_param_grid = {\n",
    "    \"n_estimators\":np.arange(10,500,20),\n",
    "    \"learning_rate\":[0.01,0.1,0.2,0.5,1],\n",
    "    \"max_depth\":np.arange(1,20,1),\n",
    "    \"subsample\":[0.5,0.6,0.7,0.8,0.9,1.0]\n",
    "                }"
   ]
  },
  {
   "cell_type": "code",
   "execution_count": 200,
   "metadata": {
    "ExecuteTime": {
     "end_time": "2020-07-21T16:34:08.220684Z",
     "start_time": "2020-07-21T16:34:07.143114Z"
    }
   },
   "outputs": [
    {
     "name": "stdout",
     "output_type": "stream",
     "text": [
      "Fitting 5 folds for each of 50 candidates, totalling 250 fits\n"
     ]
    },
    {
     "name": "stderr",
     "output_type": "stream",
     "text": [
      "[Parallel(n_jobs=-1)]: Using backend LokyBackend with 12 concurrent workers.\n",
      "[Parallel(n_jobs=-1)]: Done  26 tasks      | elapsed:   10.5s\n",
      "[Parallel(n_jobs=-1)]: Done 176 tasks      | elapsed:   13.3s\n",
      "[Parallel(n_jobs=-1)]: Done 250 out of 250 | elapsed:   14.7s finished\n"
     ]
    },
    {
     "name": "stdout",
     "output_type": "stream",
     "text": [
      "XGBClassifier(base_score=0.5, booster='gbtree', colsample_bylevel=1,\n",
      "              colsample_bynode=1, colsample_bytree=1, gamma=0,\n",
      "              learning_rate=0.01, max_delta_step=0, max_depth=6,\n",
      "              min_child_weight=1, missing=None, n_estimators=370, n_jobs=-1,\n",
      "              nthread=None, objective='binary:logistic', random_state=1234,\n",
      "              reg_alpha=0, reg_lambda=1, scale_pos_weight=1, seed=None,\n",
      "              silent=None, subsample=0.7, verbosity=1)\n",
      "0.8246918436926304\n"
     ]
    }
   ],
   "source": [
    "n_iter_search = 50\n",
    "xgb_rgs = RandomizedSearchCV(XGBC,\n",
    "                             param_distributions=xgc_param_grid,\n",
    "                             cv=kfold,\n",
    "                             scoring=\"accuracy\",\n",
    "                             n_jobs=-1,\n",
    "                             verbose=1,\n",
    "                             random_state=42,\n",
    "                             n_iter=n_iter_search)\n",
    "xgb_rgs.fit(X_train, y_train)\n",
    "\n",
    "xgb_rgs_best = xgb_rgs.best_estimator_\n",
    "print(xgb_rgs_best)\n",
    "print(xgb_rgs.best_score_)"
   ]
  },
  {
   "cell_type": "code",
   "execution_count": 202,
   "metadata": {},
   "outputs": [
    {
     "data": {
      "text/plain": [
       "{'subsample': 0.7, 'n_estimators': 370, 'max_depth': 6, 'learning_rate': 0.01}"
      ]
     },
     "execution_count": 202,
     "metadata": {},
     "output_type": "execute_result"
    }
   ],
   "source": [
    "xgb_rgs.best_params_"
   ]
  },
  {
   "cell_type": "code",
   "execution_count": 203,
   "metadata": {
    "ExecuteTime": {
     "end_time": "2020-07-21T16:34:11.572372Z",
     "start_time": "2020-07-21T16:34:11.567387Z"
    }
   },
   "outputs": [],
   "source": [
    "xgc_param_grid = {\n",
    "    'subsample': [0.6,0.65,0.7,0.75,0.80],\n",
    "    'n_estimators': [350,360,370,380,390],\n",
    "    'max_depth': [4,5,6,7,8],\n",
    "    'learning_rate': [0.001,0.01,0.1,0.2]\n",
    "                }"
   ]
  },
  {
   "cell_type": "code",
   "execution_count": 204,
   "metadata": {
    "ExecuteTime": {
     "end_time": "2020-07-21T16:35:12.793843Z",
     "start_time": "2020-07-21T16:34:14.252916Z"
    }
   },
   "outputs": [
    {
     "name": "stdout",
     "output_type": "stream",
     "text": [
      "Fitting 5 folds for each of 500 candidates, totalling 2500 fits\n"
     ]
    },
    {
     "name": "stderr",
     "output_type": "stream",
     "text": [
      "[Parallel(n_jobs=-1)]: Using backend LokyBackend with 12 concurrent workers.\n",
      "[Parallel(n_jobs=-1)]: Done  26 tasks      | elapsed:    2.2s\n",
      "[Parallel(n_jobs=-1)]: Done 176 tasks      | elapsed:    5.9s\n",
      "[Parallel(n_jobs=-1)]: Done 426 tasks      | elapsed:   13.7s\n",
      "[Parallel(n_jobs=-1)]: Done 776 tasks      | elapsed:   24.5s\n",
      "[Parallel(n_jobs=-1)]: Done 1226 tasks      | elapsed:   41.0s\n",
      "[Parallel(n_jobs=-1)]: Done 1776 tasks      | elapsed:   59.6s\n",
      "[Parallel(n_jobs=-1)]: Done 2426 tasks      | elapsed:  1.3min\n",
      "[Parallel(n_jobs=-1)]: Done 2500 out of 2500 | elapsed:  1.4min finished\n"
     ]
    },
    {
     "name": "stdout",
     "output_type": "stream",
     "text": [
      "XGBClassifier(base_score=0.5, booster='gbtree', colsample_bylevel=1,\n",
      "              colsample_bynode=1, colsample_bytree=1, gamma=0,\n",
      "              learning_rate=0.01, max_delta_step=0, max_depth=5,\n",
      "              min_child_weight=1, missing=None, n_estimators=390, n_jobs=-1,\n",
      "              nthread=None, objective='binary:logistic', random_state=1234,\n",
      "              reg_alpha=0, reg_lambda=1, scale_pos_weight=1, seed=None,\n",
      "              silent=None, subsample=0.65, verbosity=1)\n"
     ]
    }
   ],
   "source": [
    "xgb_gs = GridSearchCV(XGBC,param_grid=xgc_param_grid,\n",
    "                     cv=kfold,scoring=\"accuracy\",n_jobs=-1,verbose=1)\n",
    "xgb_gs.fit(X_train,y_train)\n",
    "\n",
    "xgb_gs_best = xgb_gs.best_estimator_\n",
    "print(xgb_gs_best)"
   ]
  },
  {
   "cell_type": "code",
   "execution_count": 205,
   "metadata": {
    "ExecuteTime": {
     "end_time": "2020-07-21T16:36:21.511360Z",
     "start_time": "2020-07-21T16:36:21.507346Z"
    }
   },
   "outputs": [
    {
     "data": {
      "text/plain": [
       "0.8279307631785995"
      ]
     },
     "execution_count": 205,
     "metadata": {},
     "output_type": "execute_result"
    }
   ],
   "source": [
    "xgb_gs.best_score_"
   ]
  },
  {
   "cell_type": "code",
   "execution_count": 206,
   "metadata": {
    "ExecuteTime": {
     "end_time": "2020-07-21T16:36:25.724591Z",
     "start_time": "2020-07-21T16:36:25.719566Z"
    }
   },
   "outputs": [
    {
     "name": "stdout",
     "output_type": "stream",
     "text": [
      "xgb에서 GridSearchCV로 찾은 결과 :  0.8415\n"
     ]
    }
   ],
   "source": [
    "xgb_predictions = xgb_gs_best.predict(X_test)\n",
    "accuracy = accuracy_score(y_test, xgb_predictions)\n",
    "print(\"xgb에서 GridSearchCV로 찾은 결과 : {0: .4f}\".format(accuracy))"
   ]
  },
  {
   "cell_type": "markdown",
   "metadata": {},
   "source": [
    "* --> test와 train의 갭이 좀 큰것으로 보아서...overfitting이 되었을 것 같음..."
   ]
  },
  {
   "cell_type": "code",
   "execution_count": null,
   "metadata": {},
   "outputs": [],
   "source": []
  },
  {
   "cell_type": "markdown",
   "metadata": {},
   "source": [
    "### lightGBM)"
   ]
  },
  {
   "cell_type": "code",
   "execution_count": 88,
   "metadata": {
    "ExecuteTime": {
     "end_time": "2020-07-21T16:36:41.498188Z",
     "start_time": "2020-07-21T16:36:41.470226Z"
    }
   },
   "outputs": [],
   "source": [
    "from lightgbm import LGBMClassifier"
   ]
  },
  {
   "cell_type": "code",
   "execution_count": 89,
   "metadata": {
    "ExecuteTime": {
     "end_time": "2020-07-21T16:36:42.180112Z",
     "start_time": "2020-07-21T16:36:42.175125Z"
    }
   },
   "outputs": [],
   "source": [
    "LGB_clf = ~~~\n",
    "\n",
    "lb_param_grid = {~~~\n",
    "}"
   ]
  },
  {
   "cell_type": "code",
   "execution_count": 90,
   "metadata": {
    "ExecuteTime": {
     "end_time": "2020-07-21T16:36:45.739497Z",
     "start_time": "2020-07-21T16:36:44.603267Z"
    }
   },
   "outputs": [
    {
     "name": "stdout",
     "output_type": "stream",
     "text": [
      "Fitting 5 folds for each of 10 candidates, totalling 50 fits\n"
     ]
    },
    {
     "name": "stderr",
     "output_type": "stream",
     "text": [
      "[Parallel(n_jobs=-1)]: Using backend LokyBackend with 12 concurrent workers.\n",
      "[Parallel(n_jobs=-1)]: Done  26 tasks      | elapsed:    0.5s\n",
      "[Parallel(n_jobs=-1)]: Done  50 out of  50 | elapsed:    0.8s finished\n"
     ]
    },
    {
     "name": "stdout",
     "output_type": "stream",
     "text": [
      "LGBMClassifier(boosting_type='gbdt', class_weight=None, colsample_bytree=1.0,\n",
      "               importance_type='split', learning_rate=0.01, max_depth=18,\n",
      "               min_child_samples=20, min_child_weight=5, min_split_gain=0.0,\n",
      "               n_estimators=650, n_jobs=-1, num_leaves=31, objective=None,\n",
      "               random_state=1234, reg_alpha=0.0, reg_lambda=0.0, silent=True,\n",
      "               subsample=0.9, subsample_for_bin=200000, subsample_freq=0)\n",
      "0.8165486493574614\n"
     ]
    }
   ],
   "source": [
    "n_iter_search = ~~~\n",
    "\n",
    "LGB = RandomizedSearchCV(~~~)\n",
    "LGB.fit(X_train, y_train)\n",
    "LGB_rgs_best = LGB.best_estimator_\n",
    "print(LGB_rgs_best)\n",
    "print(LGB.best_score_)"
   ]
  },
  {
   "cell_type": "code",
   "execution_count": 91,
   "metadata": {
    "ExecuteTime": {
     "end_time": "2020-07-21T16:36:48.650953Z",
     "start_time": "2020-07-21T16:36:48.646996Z"
    }
   },
   "outputs": [],
   "source": [
    "# 좀 오래 걸릴 수 있어서 좀 더 작은 범위 내에서 조정 필요...\n",
    "lb_param_grid = {~~~\n",
    "}"
   ]
  },
  {
   "cell_type": "code",
   "execution_count": 92,
   "metadata": {
    "ExecuteTime": {
     "end_time": "2020-07-21T16:40:02.019239Z",
     "start_time": "2020-07-21T16:36:52.206406Z"
    }
   },
   "outputs": [
    {
     "name": "stdout",
     "output_type": "stream",
     "text": [
      "Fitting 5 folds for each of 1680 candidates, totalling 8400 fits\n"
     ]
    },
    {
     "name": "stderr",
     "output_type": "stream",
     "text": [
      "[Parallel(n_jobs=-1)]: Using backend LokyBackend with 12 concurrent workers.\n",
      "[Parallel(n_jobs=-1)]: Done  28 tasks      | elapsed:    0.7s\n",
      "[Parallel(n_jobs=-1)]: Done 328 tasks      | elapsed:    8.2s\n",
      "[Parallel(n_jobs=-1)]: Done 828 tasks      | elapsed:   18.6s\n",
      "[Parallel(n_jobs=-1)]: Done 1528 tasks      | elapsed:   36.5s\n",
      "[Parallel(n_jobs=-1)]: Done 1994 tasks      | elapsed:   48.1s\n",
      "[Parallel(n_jobs=-1)]: Done 2544 tasks      | elapsed:  1.1min\n",
      "[Parallel(n_jobs=-1)]: Done 3194 tasks      | elapsed:  1.4min\n",
      "[Parallel(n_jobs=-1)]: Done 3944 tasks      | elapsed:  1.7min\n",
      "[Parallel(n_jobs=-1)]: Done 4794 tasks      | elapsed:  2.0min\n",
      "[Parallel(n_jobs=-1)]: Done 5744 tasks      | elapsed:  2.3min\n",
      "[Parallel(n_jobs=-1)]: Done 6794 tasks      | elapsed:  2.6min\n",
      "[Parallel(n_jobs=-1)]: Done 7944 tasks      | elapsed:  3.0min\n",
      "[Parallel(n_jobs=-1)]: Done 8400 out of 8400 | elapsed:  3.2min finished\n"
     ]
    },
    {
     "name": "stdout",
     "output_type": "stream",
     "text": [
      "LGBMClassifier(boosting_type='gbdt', class_weight=None, colsample_bytree=1.0,\n",
      "               importance_type='split', learning_rate=0.01, max_depth=15,\n",
      "               min_child_samples=20, min_child_weight=5, min_split_gain=0.0,\n",
      "               n_estimators=400, n_jobs=-1, num_leaves=31, objective=None,\n",
      "               random_state=1234, reg_alpha=0.0, reg_lambda=0.0, silent=True,\n",
      "               subsample=0.7, subsample_for_bin=200000, subsample_freq=0)\n",
      "0.824652504589562\n"
     ]
    }
   ],
   "source": [
    "LGB_gs = GridSearchCV(~~~)\n",
    "\n",
    "LGB_gs.fit(X_train, y_train)\n",
    "LGBM_gs_best = LGB_gs.best_estimator_\n",
    "print(LGBM_gs_best)\n",
    "print(LGB_gs.best_score_)"
   ]
  },
  {
   "cell_type": "code",
   "execution_count": 93,
   "metadata": {
    "ExecuteTime": {
     "end_time": "2020-07-21T16:40:38.704024Z",
     "start_time": "2020-07-21T16:40:38.694542Z"
    }
   },
   "outputs": [
    {
     "name": "stdout",
     "output_type": "stream",
     "text": [
      "lgb에서 GridSearchCV로 찾은 결과 :  0.8453\n"
     ]
    }
   ],
   "source": [
    "LGBM_gs_best = LGB_gs.best_estimator_\n",
    "\n",
    "lgb_predictions = LGBM_gs_best.predict(X_test)\n",
    "accuracy = accuracy_score(y_test, lgb_predictions)\n",
    "print(\"lgb에서 GridSearchCV로 찾은 결과 : {0: .4f}\".format(accuracy))"
   ]
  },
  {
   "cell_type": "markdown",
   "metadata": {},
   "source": [
    "### 앞에서 한 모델들의 종합"
   ]
  },
  {
   "cell_type": "code",
   "execution_count": 95,
   "metadata": {
    "collapsed": true
   },
   "outputs": [
    {
     "data": {
      "text/plain": [
       "RandomForestClassifier(bootstrap=True, class_weight=None, criterion='gini',\n",
       "                       max_depth=None, max_features='auto', max_leaf_nodes=None,\n",
       "                       min_impurity_decrease=0.0, min_impurity_split=None,\n",
       "                       min_samples_leaf=1, min_samples_split=10,\n",
       "                       min_weight_fraction_leaf=0.0, n_estimators=500,\n",
       "                       n_jobs=-1, oob_score=False, random_state=1234, verbose=0,\n",
       "                       warm_start=False)"
      ]
     },
     "execution_count": 95,
     "metadata": {},
     "output_type": "execute_result"
    }
   ],
   "source": [
    "RFC_gs_best"
   ]
  },
  {
   "cell_type": "code",
   "execution_count": 96,
   "metadata": {
    "collapsed": true
   },
   "outputs": [
    {
     "data": {
      "text/plain": [
       "XGBClassifier(base_score=0.5, booster='gbtree', colsample_bylevel=1,\n",
       "              colsample_bynode=1, colsample_bytree=0.9, gamma=0.1,\n",
       "              learning_rate=0.1, max_delta_step=40, max_depth=5,\n",
       "              min_child_weight=5, missing=None, n_estimators=30, n_jobs=-1,\n",
       "              nthread=None, objective='multi:softprob', random_state=1234,\n",
       "              reg_alpha=0, reg_lambda=1, scale_pos_weight=1, seed=None,\n",
       "              silent=None, subsample=0.8, verbosity=1)"
      ]
     },
     "execution_count": 96,
     "metadata": {},
     "output_type": "execute_result"
    }
   ],
   "source": [
    "xgb_gs_best"
   ]
  },
  {
   "cell_type": "code",
   "execution_count": 97,
   "metadata": {
    "collapsed": true
   },
   "outputs": [
    {
     "data": {
      "text/plain": [
       "LGBMClassifier(boosting_type='gbdt', class_weight=None, colsample_bytree=1.0,\n",
       "               importance_type='split', learning_rate=0.1, max_depth=-1,\n",
       "               min_child_samples=20, min_child_weight=0.001, min_split_gain=0.0,\n",
       "               n_estimators=300, n_jobs=-1, num_leaves=31, objective=None,\n",
       "               random_state=1234, reg_alpha=0.0, reg_lambda=0.0, silent=True,\n",
       "               subsample=1.0, subsample_for_bin=200000, subsample_freq=0)"
      ]
     },
     "execution_count": 97,
     "metadata": {},
     "output_type": "execute_result"
    }
   ],
   "source": [
    "LGBM_gs_best"
   ]
  },
  {
   "cell_type": "markdown",
   "metadata": {},
   "source": [
    "### 변수 중요도 그림.."
   ]
  },
  {
   "cell_type": "markdown",
   "metadata": {},
   "source": [
    "#### 변수 중요도 그릴 함수 만들기..."
   ]
  },
  {
   "cell_type": "code",
   "execution_count": 98,
   "metadata": {
    "ExecuteTime": {
     "end_time": "2020-07-21T16:50:45.249171Z",
     "start_time": "2020-07-21T16:50:45.244152Z"
    }
   },
   "outputs": [],
   "source": [
    "def plot_feature_importances_cancer(model, X_train, top_num=5):\n",
    "    ftr_importances_values = ~~~\n",
    "    ftr_importances = ~~~\n",
    "    ftr_top = ~~~\n",
    "    plt.figure(figsize=(8,6))\n",
    "    plt.title('Feature importances Top '+str(top_num))\n",
    "    sns.barplot(x=ftr_top , y = ftr_top.index)\n",
    "    plt.xlabel(\"attr importances\")\n",
    "    plt.ylabel(\"attr\")\n",
    "    plt.ylim(-1, top_num)\n",
    "    plt.show()\n",
    "    \n",
    "    "
   ]
  },
  {
   "cell_type": "markdown",
   "metadata": {},
   "source": [
    "#### RF 변수 중요도"
   ]
  },
  {
   "cell_type": "code",
   "execution_count": 99,
   "metadata": {
    "ExecuteTime": {
     "end_time": "2020-07-21T16:50:45.920798Z",
     "start_time": "2020-07-21T16:50:45.558082Z"
    }
   },
   "outputs": [
    {
     "data": {
      "image/png": "[encoded data removed]",
      "text/plain": [
       "<Figure size 576x432 with 1 Axes>"
      ]
     },
     "metadata": {
      "needs_background": "light"
     },
     "output_type": "display_data"
    }
   ],
   "source": [
    "plot_feature_importances_cancer(RFC_gs_best, X_train, top_num=len(X_train.columns))"
   ]
  },
  {
   "cell_type": "markdown",
   "metadata": {},
   "source": [
    "#### Xgboost 변수 중요도"
   ]
  },
  {
   "cell_type": "code",
   "execution_count": 102,
   "metadata": {
    "ExecuteTime": {
     "end_time": "2020-07-21T16:57:49.303322Z",
     "start_time": "2020-07-21T16:57:49.073922Z"
    },
    "scrolled": false
   },
   "outputs": [
    {
     "data": {
      "image/png": "[encoded data removed]",
      "text/plain": [
       "<Figure size 576x432 with 1 Axes>"
      ]
     },
     "metadata": {
      "needs_background": "light"
     },
     "output_type": "display_data"
    }
   ],
   "source": [
    "plot_feature_importances_cancer(xgb_gs_best, X_train, top_num=len(X_train.columns))\n"
   ]
  },
  {
   "cell_type": "markdown",
   "metadata": {},
   "source": [
    "#### LightGBM"
   ]
  },
  {
   "cell_type": "code",
   "execution_count": 103,
   "metadata": {
    "ExecuteTime": {
     "end_time": "2020-07-21T16:58:23.765695Z",
     "start_time": "2020-07-21T16:58:23.469140Z"
    }
   },
   "outputs": [
    {
     "data": {
      "image/png": "[encoded data removed]",
      "text/plain": [
       "<Figure size 576x432 with 1 Axes>"
      ]
     },
     "metadata": {
      "needs_background": "light"
     },
     "output_type": "display_data"
    }
   ],
   "source": [
    "plot_feature_importances_cancer(LGBM_gs_best, X_train, top_num=len(X_train.columns))\n"
   ]
  },
  {
   "cell_type": "markdown",
   "metadata": {},
   "source": [
    "## 모델 저장 & 불러오기"
   ]
  },
  {
   "cell_type": "markdown",
   "metadata": {},
   "source": [
    "### 필요한 패키지"
   ]
  },
  {
   "cell_type": "code",
   "execution_count": 105,
   "metadata": {
    "ExecuteTime": {
     "end_time": "2020-07-21T17:00:20.105754Z",
     "start_time": "2020-07-21T17:00:20.101789Z"
    }
   },
   "outputs": [],
   "source": [
    "import joblib"
   ]
  },
  {
   "cell_type": "markdown",
   "metadata": {},
   "source": [
    "### 모델 내보내기"
   ]
  },
  {
   "cell_type": "code",
   "execution_count": 106,
   "metadata": {
    "ExecuteTime": {
     "end_time": "2020-07-21T17:00:33.547751Z",
     "start_time": "2020-07-21T17:00:33.379921Z"
    }
   },
   "outputs": [
    {
     "data": {
      "text/plain": [
       "['rf_model.pkl']"
      ]
     },
     "execution_count": 106,
     "metadata": {},
     "output_type": "execute_result"
    }
   ],
   "source": [
    "# rf모델을 내보내기..\n",
    "~~~"
   ]
  },
  {
   "cell_type": "markdown",
   "metadata": {},
   "source": [
    "### 모델 불러오기"
   ]
  },
  {
   "cell_type": "code",
   "execution_count": 107,
   "metadata": {
    "ExecuteTime": {
     "end_time": "2020-07-21T17:02:33.530342Z",
     "start_time": "2020-07-21T17:02:33.399700Z"
    }
   },
   "outputs": [],
   "source": [
    "rf_best_p = ~~~"
   ]
  },
  {
   "cell_type": "code",
   "execution_count": 108,
   "metadata": {
    "ExecuteTime": {
     "end_time": "2020-07-21T17:02:41.171761Z",
     "start_time": "2020-07-21T17:02:41.167777Z"
    }
   },
   "outputs": [
    {
     "data": {
      "text/plain": [
       "RandomForestClassifier(bootstrap=True, ccp_alpha=0.0, class_weight=None,\n",
       "                       criterion='gini', max_depth=17, max_features='auto',\n",
       "                       max_leaf_nodes=None, max_samples=None,\n",
       "                       min_impurity_decrease=0.0, min_impurity_split=None,\n",
       "                       min_samples_leaf=3, min_samples_split=4,\n",
       "                       min_weight_fraction_leaf=0.0, n_estimators=500,\n",
       "                       n_jobs=-1, oob_score=False, random_state=1234, verbose=0,\n",
       "                       warm_start=False)"
      ]
     },
     "execution_count": 108,
     "metadata": {},
     "output_type": "execute_result"
    }
   ],
   "source": [
    "RFC_gs_best"
   ]
  },
  {
   "cell_type": "code",
   "execution_count": 109,
   "metadata": {
    "ExecuteTime": {
     "end_time": "2020-07-21T17:02:46.574813Z",
     "start_time": "2020-07-21T17:02:46.570795Z"
    }
   },
   "outputs": [
    {
     "data": {
      "text/plain": [
       "RandomForestClassifier(bootstrap=True, ccp_alpha=0.0, class_weight=None,\n",
       "                       criterion='gini', max_depth=17, max_features='auto',\n",
       "                       max_leaf_nodes=None, max_samples=None,\n",
       "                       min_impurity_decrease=0.0, min_impurity_split=None,\n",
       "                       min_samples_leaf=3, min_samples_split=4,\n",
       "                       min_weight_fraction_leaf=0.0, n_estimators=500,\n",
       "                       n_jobs=-1, oob_score=False, random_state=1234, verbose=0,\n",
       "                       warm_start=False)"
      ]
     },
     "execution_count": 109,
     "metadata": {},
     "output_type": "execute_result"
    }
   ],
   "source": [
    "rf_best_p"
   ]
  },
  {
   "cell_type": "code",
   "execution_count": 189,
   "metadata": {
    "ExecuteTime": {
     "end_time": "2020-07-21T18:12:36.640346Z",
     "start_time": "2020-07-21T18:12:36.424931Z"
    }
   },
   "outputs": [
    {
     "name": "stdout",
     "output_type": "stream",
     "text": [
      "265\n",
      "265\n"
     ]
    }
   ],
   "source": [
    "# 정말로 같은 모델인지 X_test 에서 확인해보자~~\n",
    "print((RFC_gs_best.predict(X_test)==rf_best_p.predict(X_test)).sum())\n",
    "print(len(X_test))"
   ]
  },
  {
   "cell_type": "markdown",
   "metadata": {},
   "source": [
    "## Voting"
   ]
  },
  {
   "cell_type": "markdown",
   "metadata": {},
   "source": [
    "### 이미 각 모델로 최적화를 하였으니....수동으로 구현해보자.."
   ]
  },
  {
   "cell_type": "markdown",
   "metadata": {},
   "source": [
    "참고) 각기 모델별로 상관계수 등을 활용을 해서, 보팅에 사용할 다른 것들을 선정을 하게 됨!!! 여기서는 거의 비슷한 것들이라서.. --> 여기서는 많이 만들지 않아서 보팅의 효과가 적을 수 있음;;;;이런 경우에는 좀 더 많은 모델을 만들게 됨!!!"
   ]
  },
  {
   "cell_type": "code",
   "execution_count": 110,
   "metadata": {
    "ExecuteTime": {
     "end_time": "2020-07-21T17:09:18.257021Z",
     "start_time": "2020-07-21T17:09:17.949990Z"
    }
   },
   "outputs": [
    {
     "data": {
      "text/plain": [
       "<matplotlib.axes._subplots.AxesSubplot at 0x1e9d984d648>"
      ]
     },
     "execution_count": 110,
     "metadata": {},
     "output_type": "execute_result"
    },
    {
     "data": {
      "image/png": "[encoded data removed]",
      "text/plain": [
       "<Figure size 432x288 with 2 Axes>"
      ]
     },
     "metadata": {
      "needs_background": "light"
     },
     "output_type": "display_data"
    }
   ],
   "source": [
    "test_Survived_RFC = pd.Series(RFC_gs_best.predict(X_test), name=\"RFC\")\n",
    "test_Survived_XGB = pd.Series(xgb_gs_best.predict(X_test), name=\"XGB\")\n",
    "test_Survived_LGB = pd.Series(LGBM_gs_best.predict(X_test), name=\"LGB\")\n",
    "ensemble_results = pd.concat([test_Survived_RFC,test_Survived_XGB,test_Survived_LGB],axis=1)\n",
    "sns.heatmap(ensemble_results.corr(),annot=True)"
   ]
  },
  {
   "cell_type": "code",
   "execution_count": 111,
   "metadata": {
    "ExecuteTime": {
     "end_time": "2020-07-21T17:10:14.237325Z",
     "start_time": "2020-07-21T17:10:14.107118Z"
    },
    "scrolled": true
   },
   "outputs": [
    {
     "data": {
      "text/html": [
       "<div>\n",
       "<style scoped>\n",
       "    .dataframe tbody tr th:only-of-type {\n",
       "        vertical-align: middle;\n",
       "    }\n",
       "\n",
       "    .dataframe tbody tr th {\n",
       "        vertical-align: top;\n",
       "    }\n",
       "\n",
       "    .dataframe thead th {\n",
       "        text-align: right;\n",
       "    }\n",
       "</style>\n",
       "<table border=\"1\" class=\"dataframe\">\n",
       "  <thead>\n",
       "    <tr style=\"text-align: right;\">\n",
       "      <th></th>\n",
       "      <th>Pclass</th>\n",
       "      <th>Sex</th>\n",
       "      <th>Age</th>\n",
       "      <th>SibSp</th>\n",
       "      <th>Parch</th>\n",
       "      <th>Fare</th>\n",
       "      <th>Cabin</th>\n",
       "      <th>Embarked</th>\n",
       "      <th>Fsize</th>\n",
       "      <th>Single</th>\n",
       "      <th>SmallF</th>\n",
       "      <th>MedF</th>\n",
       "      <th>LargeF</th>\n",
       "      <th>RFC</th>\n",
       "      <th>XGB</th>\n",
       "      <th>LGB</th>\n",
       "    </tr>\n",
       "  </thead>\n",
       "  <tbody>\n",
       "    <tr>\n",
       "      <th>791</th>\n",
       "      <td>3</td>\n",
       "      <td>0</td>\n",
       "      <td>30.0</td>\n",
       "      <td>1</td>\n",
       "      <td>1</td>\n",
       "      <td>3.184284</td>\n",
       "      <td>8</td>\n",
       "      <td>2</td>\n",
       "      <td>3</td>\n",
       "      <td>0</td>\n",
       "      <td>0</td>\n",
       "      <td>1</td>\n",
       "      <td>0</td>\n",
       "      <td>0</td>\n",
       "      <td>0</td>\n",
       "      <td>0</td>\n",
       "    </tr>\n",
       "    <tr>\n",
       "      <th>856</th>\n",
       "      <td>2</td>\n",
       "      <td>0</td>\n",
       "      <td>27.0</td>\n",
       "      <td>1</td>\n",
       "      <td>0</td>\n",
       "      <td>2.628884</td>\n",
       "      <td>8</td>\n",
       "      <td>0</td>\n",
       "      <td>2</td>\n",
       "      <td>0</td>\n",
       "      <td>1</td>\n",
       "      <td>0</td>\n",
       "      <td>0</td>\n",
       "      <td>1</td>\n",
       "      <td>1</td>\n",
       "      <td>1</td>\n",
       "    </tr>\n",
       "    <tr>\n",
       "      <th>363</th>\n",
       "      <td>1</td>\n",
       "      <td>1</td>\n",
       "      <td>25.0</td>\n",
       "      <td>1</td>\n",
       "      <td>0</td>\n",
       "      <td>4.015332</td>\n",
       "      <td>4</td>\n",
       "      <td>0</td>\n",
       "      <td>2</td>\n",
       "      <td>0</td>\n",
       "      <td>1</td>\n",
       "      <td>0</td>\n",
       "      <td>0</td>\n",
       "      <td>1</td>\n",
       "      <td>1</td>\n",
       "      <td>1</td>\n",
       "    </tr>\n",
       "    <tr>\n",
       "      <th>320</th>\n",
       "      <td>3</td>\n",
       "      <td>1</td>\n",
       "      <td>61.0</td>\n",
       "      <td>0</td>\n",
       "      <td>0</td>\n",
       "      <td>1.830579</td>\n",
       "      <td>8</td>\n",
       "      <td>2</td>\n",
       "      <td>1</td>\n",
       "      <td>1</td>\n",
       "      <td>0</td>\n",
       "      <td>0</td>\n",
       "      <td>0</td>\n",
       "      <td>0</td>\n",
       "      <td>0</td>\n",
       "      <td>0</td>\n",
       "    </tr>\n",
       "    <tr>\n",
       "      <th>631</th>\n",
       "      <td>3</td>\n",
       "      <td>0</td>\n",
       "      <td>41.0</td>\n",
       "      <td>0</td>\n",
       "      <td>5</td>\n",
       "      <td>3.681036</td>\n",
       "      <td>8</td>\n",
       "      <td>2</td>\n",
       "      <td>6</td>\n",
       "      <td>0</td>\n",
       "      <td>0</td>\n",
       "      <td>0</td>\n",
       "      <td>1</td>\n",
       "      <td>0</td>\n",
       "      <td>0</td>\n",
       "      <td>0</td>\n",
       "    </tr>\n",
       "  </tbody>\n",
       "</table>\n",
       "</div>"
      ],
      "text/plain": [
       "     Pclass  Sex   Age  SibSp  Parch      Fare  Cabin  Embarked  Fsize  \\\n",
       "791       3    0  30.0      1      1  3.184284      8         2      3   \n",
       "856       2    0  27.0      1      0  2.628884      8         0      2   \n",
       "363       1    1  25.0      1      0  4.015332      4         0      2   \n",
       "320       3    1  61.0      0      0  1.830579      8         2      1   \n",
       "631       3    0  41.0      0      5  3.681036      8         2      6   \n",
       "\n",
       "     Single  SmallF  MedF  LargeF  RFC  XGB  LGB  \n",
       "791       0       0     1       0    0    0    0  \n",
       "856       0       1     0       0    1    1    1  \n",
       "363       0       1     0       0    1    1    1  \n",
       "320       1       0     0       0    0    0    0  \n",
       "631       0       0     0       1    0    0    0  "
      ]
     },
     "execution_count": 111,
     "metadata": {},
     "output_type": "execute_result"
    }
   ],
   "source": [
    "x_test_model_total=X_test.copy(deep=True)\n",
    "x_test_model_total[\"RFC\"]=RFC_gs_best.predict(X_test)\n",
    "x_test_model_total[\"XGB\"]=~~~\n",
    "x_test_model_total[\"LGB\"]=~~~\n",
    "x_test_model_total.head()"
   ]
  },
  {
   "cell_type": "markdown",
   "metadata": {},
   "source": [
    "### 잠시 수동으로 만들 때 필요한 collections 에 대해서 알아보자.."
   ]
  },
  {
   "cell_type": "code",
   "execution_count": 115,
   "metadata": {
    "ExecuteTime": {
     "end_time": "2020-07-21T17:13:20.958461Z",
     "start_time": "2020-07-21T17:13:20.955471Z"
    }
   },
   "outputs": [],
   "source": [
    "import collections\n"
   ]
  },
  {
   "cell_type": "code",
   "execution_count": 116,
   "metadata": {
    "ExecuteTime": {
     "end_time": "2020-07-21T17:13:24.673274Z",
     "start_time": "2020-07-21T17:13:24.669287Z"
    }
   },
   "outputs": [
    {
     "data": {
      "text/plain": [
       "Counter({0: 2, 1: 3})"
      ]
     },
     "execution_count": 116,
     "metadata": {},
     "output_type": "execute_result"
    }
   ],
   "source": [
    "collections.Counter([0,0,1,1,1])"
   ]
  },
  {
   "cell_type": "code",
   "execution_count": 117,
   "metadata": {
    "ExecuteTime": {
     "end_time": "2020-07-21T17:13:26.806682Z",
     "start_time": "2020-07-21T17:13:26.801664Z"
    }
   },
   "outputs": [
    {
     "data": {
      "text/plain": [
       "[(1, 3), (0, 2)]"
      ]
     },
     "execution_count": 117,
     "metadata": {},
     "output_type": "execute_result"
    }
   ],
   "source": [
    "collections.Counter([0,0,1,1,1]).most_common()"
   ]
  },
  {
   "cell_type": "code",
   "execution_count": 118,
   "metadata": {
    "ExecuteTime": {
     "end_time": "2020-07-21T17:13:30.499673Z",
     "start_time": "2020-07-21T17:13:30.494688Z"
    }
   },
   "outputs": [
    {
     "data": {
      "text/plain": [
       "(1, 3)"
      ]
     },
     "execution_count": 118,
     "metadata": {},
     "output_type": "execute_result"
    }
   ],
   "source": [
    "collections.Counter([0,0,1,1,1]).most_common()[0]"
   ]
  },
  {
   "cell_type": "markdown",
   "metadata": {},
   "source": [
    "### 직접 구현"
   ]
  },
  {
   "cell_type": "code",
   "execution_count": 112,
   "metadata": {
    "ExecuteTime": {
     "end_time": "2020-07-21T17:11:09.697750Z",
     "start_time": "2020-07-21T17:11:09.692750Z"
    }
   },
   "outputs": [],
   "source": [
    "import collections, numpy\n",
    "\n",
    "#### 주의!!! 3개로 했으니 기준이 2가 된다!!!!!\n",
    "def vote_func(x, best_model_idx=0):\n",
    "    p = collections.Counter(x)\n",
    "    if p.most_common()[0][1] >=2:\n",
    "        return(p.most_common()[0][0])\n",
    "    else:\n",
    "        print(\"Check!!!! Voting Result!!!\")\n",
    "        return(x[best_model_idx])"
   ]
  },
  {
   "cell_type": "code",
   "execution_count": 113,
   "metadata": {
    "ExecuteTime": {
     "end_time": "2020-07-21T17:12:31.567259Z",
     "start_time": "2020-07-21T17:12:31.541585Z"
    }
   },
   "outputs": [
    {
     "data": {
      "text/html": [
       "<div>\n",
       "<style scoped>\n",
       "    .dataframe tbody tr th:only-of-type {\n",
       "        vertical-align: middle;\n",
       "    }\n",
       "\n",
       "    .dataframe tbody tr th {\n",
       "        vertical-align: top;\n",
       "    }\n",
       "\n",
       "    .dataframe thead th {\n",
       "        text-align: right;\n",
       "    }\n",
       "</style>\n",
       "<table border=\"1\" class=\"dataframe\">\n",
       "  <thead>\n",
       "    <tr style=\"text-align: right;\">\n",
       "      <th></th>\n",
       "      <th>RFC</th>\n",
       "      <th>XGB</th>\n",
       "      <th>LGB</th>\n",
       "      <th>ensemble_voting</th>\n",
       "      <th>y_real</th>\n",
       "    </tr>\n",
       "  </thead>\n",
       "  <tbody>\n",
       "    <tr>\n",
       "      <th>791</th>\n",
       "      <td>0</td>\n",
       "      <td>0</td>\n",
       "      <td>0</td>\n",
       "      <td>0</td>\n",
       "      <td>0</td>\n",
       "    </tr>\n",
       "    <tr>\n",
       "      <th>856</th>\n",
       "      <td>1</td>\n",
       "      <td>1</td>\n",
       "      <td>1</td>\n",
       "      <td>1</td>\n",
       "      <td>1</td>\n",
       "    </tr>\n",
       "    <tr>\n",
       "      <th>363</th>\n",
       "      <td>1</td>\n",
       "      <td>1</td>\n",
       "      <td>1</td>\n",
       "      <td>1</td>\n",
       "      <td>1</td>\n",
       "    </tr>\n",
       "    <tr>\n",
       "      <th>320</th>\n",
       "      <td>0</td>\n",
       "      <td>0</td>\n",
       "      <td>0</td>\n",
       "      <td>0</td>\n",
       "      <td>0</td>\n",
       "    </tr>\n",
       "    <tr>\n",
       "      <th>631</th>\n",
       "      <td>0</td>\n",
       "      <td>0</td>\n",
       "      <td>0</td>\n",
       "      <td>0</td>\n",
       "      <td>0</td>\n",
       "    </tr>\n",
       "    <tr>\n",
       "      <th>...</th>\n",
       "      <td>...</td>\n",
       "      <td>...</td>\n",
       "      <td>...</td>\n",
       "      <td>...</td>\n",
       "      <td>...</td>\n",
       "    </tr>\n",
       "    <tr>\n",
       "      <th>129</th>\n",
       "      <td>0</td>\n",
       "      <td>0</td>\n",
       "      <td>0</td>\n",
       "      <td>0</td>\n",
       "      <td>0</td>\n",
       "    </tr>\n",
       "    <tr>\n",
       "      <th>813</th>\n",
       "      <td>0</td>\n",
       "      <td>0</td>\n",
       "      <td>0</td>\n",
       "      <td>0</td>\n",
       "      <td>1</td>\n",
       "    </tr>\n",
       "    <tr>\n",
       "      <th>744</th>\n",
       "      <td>1</td>\n",
       "      <td>1</td>\n",
       "      <td>1</td>\n",
       "      <td>1</td>\n",
       "      <td>1</td>\n",
       "    </tr>\n",
       "    <tr>\n",
       "      <th>384</th>\n",
       "      <td>0</td>\n",
       "      <td>0</td>\n",
       "      <td>0</td>\n",
       "      <td>0</td>\n",
       "      <td>1</td>\n",
       "    </tr>\n",
       "    <tr>\n",
       "      <th>304</th>\n",
       "      <td>1</td>\n",
       "      <td>1</td>\n",
       "      <td>1</td>\n",
       "      <td>1</td>\n",
       "      <td>1</td>\n",
       "    </tr>\n",
       "  </tbody>\n",
       "</table>\n",
       "<p>265 rows × 5 columns</p>\n",
       "</div>"
      ],
      "text/plain": [
       "     RFC  XGB  LGB  ensemble_voting  y_real\n",
       "791    0    0    0                0       0\n",
       "856    1    1    1                1       1\n",
       "363    1    1    1                1       1\n",
       "320    0    0    0                0       0\n",
       "631    0    0    0                0       0\n",
       "..   ...  ...  ...              ...     ...\n",
       "129    0    0    0                0       0\n",
       "813    0    0    0                0       1\n",
       "744    1    1    1                1       1\n",
       "384    0    0    0                0       1\n",
       "304    1    1    1                1       1\n",
       "\n",
       "[265 rows x 5 columns]"
      ]
     },
     "execution_count": 113,
     "metadata": {},
     "output_type": "execute_result"
    }
   ],
   "source": [
    "x_test_model_total[\"ensemble_voting\"]=x_test_model_total.loc[:,[\"RFC\",\"XGB\",\"LGB\"]].apply(lambda x: vote_func(x), axis=1)\n",
    "x_test_model_total[\"y_real\"] = y_test\n",
    "show_col_list = [\"RFC\",\"XGB\",\"LGB\",\"ensemble_voting\",\"y_real\"]\n",
    "\n",
    "x_test_model_total.loc[:, show_col_list]\n"
   ]
  },
  {
   "cell_type": "code",
   "execution_count": 114,
   "metadata": {
    "ExecuteTime": {
     "end_time": "2020-07-21T17:12:43.157433Z",
     "start_time": "2020-07-21T17:12:43.153447Z"
    }
   },
   "outputs": [
    {
     "data": {
      "text/plain": [
       "0.8415094339622642"
      ]
     },
     "execution_count": 114,
     "metadata": {},
     "output_type": "execute_result"
    }
   ],
   "source": [
    "accuracy_score(x_test_model_total[\"y_real\"], x_test_model_total[\"ensemble_voting\"])"
   ]
  },
  {
   "cell_type": "markdown",
   "metadata": {},
   "source": [
    "### scikit learn 사용해서 자동으로하기.."
   ]
  },
  {
   "cell_type": "markdown",
   "metadata": {},
   "source": [
    "#### 이것은 최적화한 모델들을 다시 X_train에서 그냥 통으로 돌리는 결과임;;;;;;ㅠㅠ\n",
    "--> 아래에도 있지만 파라미터 튜닝에 제약이 발생을 함;;;"
   ]
  },
  {
   "cell_type": "code",
   "execution_count": 120,
   "metadata": {
    "ExecuteTime": {
     "end_time": "2020-07-21T17:14:54.232210Z",
     "start_time": "2020-07-21T17:14:54.229174Z"
    }
   },
   "outputs": [],
   "source": [
    "from sklearn.ensemble import VotingClassifier"
   ]
  },
  {
   "cell_type": "code",
   "execution_count": 121,
   "metadata": {
    "ExecuteTime": {
     "end_time": "2020-07-21T17:15:00.289410Z",
     "start_time": "2020-07-21T17:14:57.488414Z"
    }
   },
   "outputs": [
    {
     "name": "stdout",
     "output_type": "stream",
     "text": [
      "Hard Voting 에서로 찾은 결과 :  0.8415\n"
     ]
    }
   ],
   "source": [
    "eclf = VotingClassifier(~~~)\n",
    "\n",
    "eclf.fit(X_train,y_train)\n",
    "eclf_pred = eclf.predict(X_test)\n",
    "accuracy=accuracy_score(y_test, eclf_pred)\n",
    "print(\"Hard Voting 에서로 찾은 결과 : {0: .4f}\".format(accuracy))\n"
   ]
  },
  {
   "cell_type": "markdown",
   "metadata": {},
   "source": [
    "#### scikit learn에서는 미리 최적화 된 것들을 가지고 하는 것이 없다;;;\n",
    "mlxtend에서는 있음!!!"
   ]
  },
  {
   "cell_type": "code",
   "execution_count": 186,
   "metadata": {
    "ExecuteTime": {
     "end_time": "2020-07-21T18:08:26.639267Z",
     "start_time": "2020-07-21T18:08:26.519616Z"
    }
   },
   "outputs": [
    {
     "data": {
      "text/plain": [
       "0.8415094339622642"
      ]
     },
     "execution_count": 186,
     "metadata": {},
     "output_type": "execute_result"
    }
   ],
   "source": [
    "from mlxtend.classifier import EnsembleVoteClassifier\n",
    "\n",
    "eclf = EnsembleVoteClassifier(~~~)\n",
    "eclf.fit(X_train, y_train)\n",
    "accuracy_score(y_test, eclf.predict(X_test))\n"
   ]
  },
  {
   "cell_type": "code",
   "execution_count": 187,
   "metadata": {
    "ExecuteTime": {
     "end_time": "2020-07-21T18:09:05.513500Z",
     "start_time": "2020-07-21T18:09:05.508728Z"
    }
   },
   "outputs": [
    {
     "data": {
      "text/plain": [
       "0.8415094339622642"
      ]
     },
     "execution_count": 187,
     "metadata": {},
     "output_type": "execute_result"
    }
   ],
   "source": [
    "# 참고) 직접 구한 것과 비교..\n",
    "accuracy_score(x_test_model_total[\"y_real\"], x_test_model_total[\"ensemble_voting\"])"
   ]
  },
  {
   "cell_type": "markdown",
   "metadata": {},
   "source": [
    "#### 이것을 그러면 HyperParameterTunning을 하려면;;;  --> votingclassfirer에서 한 번에 여러 모델을 같이 고려하면서 HyperParameterTunning이 안 된다;;;제약적으로 되기에 좀 문제가 있어서...잘 사용을 안 한다;;;이유는 gridsearch 계열에서 각기 모델별로 반영을 하면서 하지를 않아서임;;;;;;ㅠㅠ"
   ]
  },
  {
   "cell_type": "code",
   "execution_count": 167,
   "metadata": {
    "ExecuteTime": {
     "end_time": "2020-07-21T17:55:37.610094Z",
     "start_time": "2020-07-21T17:55:27.229289Z"
    }
   },
   "outputs": [
    {
     "name": "stdout",
     "output_type": "stream",
     "text": [
      "Fitting 5 folds for each of 10 candidates, totalling 50 fits\n"
     ]
    },
    {
     "name": "stderr",
     "output_type": "stream",
     "text": [
      "[Parallel(n_jobs=-1)]: Using backend LokyBackend with 12 concurrent workers.\n",
      "[Parallel(n_jobs=-1)]: Done  26 tasks      | elapsed:    6.6s\n",
      "[Parallel(n_jobs=-1)]: Done  50 out of  50 | elapsed:    8.8s finished\n"
     ]
    },
    {
     "name": "stdout",
     "output_type": "stream",
     "text": [
      "EnsembleVoteClassifier(clfs=[RandomForestClassifier(bootstrap=True,\n",
      "                                                    ccp_alpha=0.0,\n",
      "                                                    class_weight=None,\n",
      "                                                    criterion='gini',\n",
      "                                                    max_depth=10,\n",
      "                                                    max_features=5,\n",
      "                                                    max_leaf_nodes=None,\n",
      "                                                    max_samples=None,\n",
      "                                                    min_impurity_decrease=0.0,\n",
      "                                                    min_impurity_split=None,\n",
      "                                                    min_samples_leaf=4,\n",
      "                                                    min_samples_split=6,\n",
      "                                                    min_weight_fraction_leaf=0.0,\n",
      "                                                    n_estimators=100, n_jobs=-1,\n",
      "                                                    oob_score=False,\n",
      "                                                    random_s...\n",
      "                                            colsample_bytree=1.0,\n",
      "                                            importance_type='split',\n",
      "                                            learning_rate=0.5, max_depth=-1,\n",
      "                                            min_child_samples=20,\n",
      "                                            min_child_weight=0.001,\n",
      "                                            min_split_gain=0.0,\n",
      "                                            n_estimators=100, n_jobs=-1,\n",
      "                                            num_leaves=31, objective=None,\n",
      "                                            random_state=1234, reg_alpha=0.0,\n",
      "                                            reg_lambda=0.0, silent=True,\n",
      "                                            subsample=1.0,\n",
      "                                            subsample_for_bin=200000,\n",
      "                                            subsample_freq=0)],\n",
      "                       refit=True, verbose=0, voting='hard', weights=None)\n",
      "0.8327956989247312\n"
     ]
    }
   ],
   "source": [
    "#  아래는 되는 조합이지만, 이 중에 하나라도 풀면 안 되는 조합이 된다;;ㅜㅜㅜ\n",
    "\n",
    "from mlxtend.classifier import EnsembleVoteClassifier\n",
    "\n",
    "eclf = EnsembleVoteClassifier(clfs= [ rf_clf, XGBC, LGB_clf],voting='hard')\n",
    "\n",
    "vclf_params = {\n",
    "    \"randomforestclassifier__n_estimators\" : [100,500],\n",
    "    \"randomforestclassifier__max_depth\" : np.arange(1,20,1),\n",
    "    \"randomforestclassifier__min_samples_split\" : [2,3,4,5,6],\n",
    "    \"randomforestclassifier__min_samples_leaf\" : [1,2,3,4,5],\n",
    "    \"randomforestclassifier__max_features\" : np.arange(1,8,1),\n",
    "    \n",
    "    \n",
    "    # XGBClassifier\n",
    "     'xgbclassifier__n_estimators' :np.arange(10, 500,20),\n",
    "     'xgbclassifier__learning_rate': [0.01, 0.1, 0.2, 0.5, 1],              \n",
    "     'xgbclassifier__max_depth': np.arange(1,20,1),\n",
    "     'xgbclassifier__min_child_weight':[1,5,10],\n",
    "     'xgbclassifier__gamma': [0.01, 0.1, 1, 1.5, 2,3,5,10],\n",
    "    \n",
    "    # 데이터 변형 시 오류가 발생하여 사용하지 않음;;;\n",
    "     #'xgbclassifier__subsample':[0.5, 0.6, 0.7, 0.9, 0.8, 1.0],\n",
    "    \n",
    "    \n",
    "#     LGBMClassifier\n",
    "#      'lgbmclassifier__n_estimators' :np.arange(10, 1000, 20),\n",
    "     'lgbmclassifier__learning_rate': [0.01, 0.1, 0.2, 0.5],              \n",
    "#     'lgbmclassifier__max_depth': np.arange(1,20,1),\n",
    "#     'lgbmclassifier__min_child_weight':[1,5,10],        \n",
    "#     'lgbmclassifier__subsample':[0.5, 0.6, 0.7, 0.9, 0.8, 1.0]\n",
    "    \n",
    "}\n",
    "\n",
    "n_iter_search = 10\n",
    "vclf_rgs = RandomizedSearchCV(eclf,\n",
    "                             param_distributions = vclf_params,\n",
    "                             cv=kfold,\n",
    "                             scoring=\"accuracy\",\n",
    "                             n_jobs = -1,\n",
    "                             verbose = 1,\n",
    "                             random_state=14,\n",
    "                             n_iter = n_iter_search)\n",
    "vclf_rgs.fit(X_train, y_train)\n",
    "\n",
    "vcf_rgs_best = vclf_rgs.best_estimator_\n",
    "print(vcf_rgs_best)\n",
    "print(vclf_rgs.best_score_)"
   ]
  },
  {
   "cell_type": "code",
   "execution_count": null,
   "metadata": {},
   "outputs": [],
   "source": []
  },
  {
   "cell_type": "code",
   "execution_count": 184,
   "metadata": {
    "ExecuteTime": {
     "end_time": "2020-07-21T18:05:37.446734Z",
     "start_time": "2020-07-21T18:05:29.729753Z"
    }
   },
   "outputs": [
    {
     "name": "stdout",
     "output_type": "stream",
     "text": [
      "Fitting 5 folds for each of 10 candidates, totalling 50 fits\n"
     ]
    },
    {
     "name": "stderr",
     "output_type": "stream",
     "text": [
      "[Parallel(n_jobs=-1)]: Using backend LokyBackend with 12 concurrent workers.\n",
      "[Parallel(n_jobs=-1)]: Done  26 tasks      | elapsed:    3.4s\n",
      "[Parallel(n_jobs=-1)]: Done  50 out of  50 | elapsed:    6.6s finished\n"
     ]
    },
    {
     "name": "stdout",
     "output_type": "stream",
     "text": [
      "VotingClassifier(estimators=[('rf',\n",
      "                              RandomForestClassifier(bootstrap=True,\n",
      "                                                     ccp_alpha=0.0,\n",
      "                                                     class_weight=None,\n",
      "                                                     criterion='gini',\n",
      "                                                     max_depth=16,\n",
      "                                                     max_features=2,\n",
      "                                                     max_leaf_nodes=None,\n",
      "                                                     max_samples=None,\n",
      "                                                     min_impurity_decrease=0.0,\n",
      "                                                     min_impurity_split=None,\n",
      "                                                     min_samples_leaf=4,\n",
      "                                                     min_samples_split=5,\n",
      "                                                     min_weight_fraction_leaf=0.0,\n",
      "                                                     n_estimators=500,\n",
      "                                                     n_jobs=-1, oob_score=False,\n",
      "                                                     ra...\n",
      "                                             importance_type='split',\n",
      "                                             learning_rate=0.1, max_depth=-1,\n",
      "                                             min_child_samples=20,\n",
      "                                             min_child_weight=5,\n",
      "                                             min_split_gain=0.0,\n",
      "                                             n_estimators=100, n_jobs=-1,\n",
      "                                             num_leaves=31, objective=None,\n",
      "                                             random_state=1234, reg_alpha=0.0,\n",
      "                                             reg_lambda=0.0, silent=True,\n",
      "                                             subsample=1.0,\n",
      "                                             subsample_for_bin=200000,\n",
      "                                             subsample_freq=0))],\n",
      "                 flatten_transform=True, n_jobs=None, voting='hard',\n",
      "                 weights=None)\n",
      "0.8230527143981117\n"
     ]
    }
   ],
   "source": [
    "#  아래는 되는 조합이지만, 이 중에 하나라도 풀면 안 되는 조합이 된다;;ㅜㅜㅜ\n",
    "\n",
    "eclf = VotingClassifier(estimators=[('rf', rf_clf), ('xg', XGBC), ('lg', LGB_clf)],\n",
    "                        voting='hard')\n",
    "\n",
    "vclf_params = {\n",
    "    \"rf__n_estimators\" : [100,500],\n",
    "    \"rf__max_depth\" : np.arange(1,20,1),\n",
    "    \"rf__min_samples_split\" : [2,3,4,5,6],\n",
    "    \"rf__min_samples_leaf\" : [1,2,3,4,5],\n",
    "    \"rf__max_features\" : np.arange(1,8,1),\n",
    "    \n",
    "    'xg__n_estimators' :np.arange(10, 500,20),\n",
    "    'xg__learning_rate': [0.01, 0.1, 0.2, 0.5, 1],              \n",
    "    'xg__max_depth': np.arange(1,20,1),\n",
    "    'xg__min_child_weight':[1,5,10],\n",
    "    'xg__gamma': [0.01, 0.1, 1, 1.5, 2,3,5,10],\n",
    "#     'xg__subsample':[0.5, 0.6, 0.7, 0.9, 0.8, 1.0],\n",
    "    \n",
    "#      'lg__n_estimators' :np.arange(10, 1000, 20),\n",
    "#     'lg__learning_rate': [0.01, 0.1, 0.2, 0.5, 1],              \n",
    "#     'lg__max_depth': np.arange(1,20,1),\n",
    "    'lg__min_child_weight':[1,5,10],        \n",
    "#      'lg__subsample':[0.5, 0.6, 0.7, 0.9, 0.8, 1.0]\n",
    "    \n",
    "}\n",
    "\n",
    "n_iter_search = 10\n",
    "vclf_rgs = RandomizedSearchCV(eclf,\n",
    "                             param_distributions = vclf_params,\n",
    "                             cv=kfold,\n",
    "                             scoring=\"accuracy\",\n",
    "                             n_jobs = -1,\n",
    "                             verbose = 1,\n",
    "                             random_state=14,\n",
    "                             n_iter = n_iter_search)\n",
    "vclf_rgs.fit(X_train, y_train)\n",
    "\n",
    "vcf_rgs_best = vclf_rgs.best_estimator_\n",
    "print(vcf_rgs_best)\n",
    "print(vclf_rgs.best_score_)"
   ]
  },
  {
   "cell_type": "code",
   "execution_count": null,
   "metadata": {},
   "outputs": [],
   "source": []
  },
  {
   "cell_type": "code",
   "execution_count": null,
   "metadata": {},
   "outputs": [],
   "source": []
  },
  {
   "cell_type": "code",
   "execution_count": null,
   "metadata": {},
   "outputs": [],
   "source": []
  },
  {
   "cell_type": "markdown",
   "metadata": {},
   "source": [
    "## 평가"
   ]
  },
  {
   "cell_type": "code",
   "execution_count": 190,
   "metadata": {
    "ExecuteTime": {
     "end_time": "2020-07-21T18:13:52.687191Z",
     "start_time": "2020-07-21T18:13:52.683236Z"
    }
   },
   "outputs": [],
   "source": [
    "from sklearn.metrics import confusion_matrix"
   ]
  },
  {
   "cell_type": "code",
   "execution_count": 193,
   "metadata": {
    "ExecuteTime": {
     "end_time": "2020-07-21T18:15:23.748366Z",
     "start_time": "2020-07-21T18:15:23.742883Z"
    }
   },
   "outputs": [
    {
     "data": {
      "text/plain": [
       "array([[153,  10],\n",
       "       [ 31,  71]], dtype=int64)"
      ]
     },
     "execution_count": 193,
     "metadata": {},
     "output_type": "execute_result"
    }
   ],
   "source": [
    "confusion_matrix(~~~)"
   ]
  },
  {
   "cell_type": "markdown",
   "metadata": {},
   "source": [
    "* 위의 결과 해석   \n",
    "TN : 153 ( Real - Negative, Predict - negative)  \n",
    "FP : 10 ( Real - Negative, Predict - Positive )   \n",
    "FN : 31 ( Real - Positive, Predict - Negative)   \n",
    "TP : 71 (Real - Positive, Predict - Positive)"
   ]
  },
  {
   "cell_type": "code",
   "execution_count": 194,
   "metadata": {
    "ExecuteTime": {
     "end_time": "2020-07-21T18:15:40.379303Z",
     "start_time": "2020-07-21T18:15:40.374317Z"
    }
   },
   "outputs": [
    {
     "data": {
      "text/plain": [
       "array([[150,  13],\n",
       "       [ 35,  67]], dtype=int64)"
      ]
     },
     "execution_count": 194,
     "metadata": {},
     "output_type": "execute_result"
    }
   ],
   "source": [
    "confusion_matrix(~~~)"
   ]
  },
  {
   "cell_type": "code",
   "execution_count": 195,
   "metadata": {
    "ExecuteTime": {
     "end_time": "2020-07-21T18:15:40.571743Z",
     "start_time": "2020-07-21T18:15:40.566769Z"
    }
   },
   "outputs": [
    {
     "data": {
      "text/plain": [
       "array([[151,  12],\n",
       "       [ 29,  73]], dtype=int64)"
      ]
     },
     "execution_count": 195,
     "metadata": {},
     "output_type": "execute_result"
    }
   ],
   "source": [
    "confusion_matrix(~~~)"
   ]
  },
  {
   "cell_type": "code",
   "execution_count": 196,
   "metadata": {
    "ExecuteTime": {
     "end_time": "2020-07-21T18:15:41.803304Z",
     "start_time": "2020-07-21T18:15:41.799319Z"
    }
   },
   "outputs": [
    {
     "data": {
      "text/plain": [
       "array([[152,  11],\n",
       "       [ 31,  71]], dtype=int64)"
      ]
     },
     "execution_count": 196,
     "metadata": {},
     "output_type": "execute_result"
    }
   ],
   "source": [
    "confusion_matrix(~~~)"
   ]
  },
  {
   "cell_type": "markdown",
   "metadata": {},
   "source": [
    "### 기본적인 수치 확인"
   ]
  },
  {
   "cell_type": "code",
   "execution_count": 205,
   "metadata": {
    "ExecuteTime": {
     "end_time": "2020-07-21T18:20:44.926557Z",
     "start_time": "2020-07-21T18:20:44.922569Z"
    }
   },
   "outputs": [],
   "source": [
    "from sklearn.metrics import confusion_matrix, accuracy_score, precision_score, f1_score,recall_score"
   ]
  },
  {
   "cell_type": "code",
   "execution_count": 207,
   "metadata": {
    "ExecuteTime": {
     "end_time": "2020-07-21T18:21:37.858479Z",
     "start_time": "2020-07-21T18:21:37.852495Z"
    }
   },
   "outputs": [],
   "source": [
    "def get_clf_eval(y_test, pred):\n",
    "    confusion = ~~~\n",
    "    accuracy = ~~~\n",
    "    precision = ~~~\n",
    "    recall = ~~~\n",
    "    f1 = ~~~\n",
    "    print(\"Confusion Matrix\")\n",
    "    print(confusion)\n",
    "    print(\"정확도 : {0:.4f},  정밀도 : {1:.4f}, 재현율 : {2:.4f}, F1-Score : {3:.4f}\".format(accuracy, precision, recall,f1))"
   ]
  },
  {
   "cell_type": "code",
   "execution_count": 208,
   "metadata": {
    "ExecuteTime": {
     "end_time": "2020-07-21T18:21:38.218173Z",
     "start_time": "2020-07-21T18:21:38.209131Z"
    }
   },
   "outputs": [
    {
     "name": "stdout",
     "output_type": "stream",
     "text": [
      "Confusion Matrix\n",
      "[[153  10]\n",
      " [ 31  71]]\n",
      "정확도 : 0.8453,  정밀도 : 0.8765, 재현율 : 0.6961, F1-Score : 0.7760\n"
     ]
    }
   ],
   "source": [
    "get_clf_eval(y_test,x_test_model_total[\"RFC\"] )"
   ]
  },
  {
   "cell_type": "code",
   "execution_count": 209,
   "metadata": {
    "ExecuteTime": {
     "end_time": "2020-07-21T18:21:38.383217Z",
     "start_time": "2020-07-21T18:21:38.374915Z"
    }
   },
   "outputs": [
    {
     "name": "stdout",
     "output_type": "stream",
     "text": [
      "Confusion Matrix\n",
      "[[150  13]\n",
      " [ 35  67]]\n",
      "정확도 : 0.8189,  정밀도 : 0.8375, 재현율 : 0.6569, F1-Score : 0.7363\n"
     ]
    }
   ],
   "source": [
    "get_clf_eval(y_test,x_test_model_total[\"XGB\"] )"
   ]
  },
  {
   "cell_type": "code",
   "execution_count": 210,
   "metadata": {
    "ExecuteTime": {
     "end_time": "2020-07-21T18:21:38.566725Z",
     "start_time": "2020-07-21T18:21:38.558748Z"
    }
   },
   "outputs": [
    {
     "name": "stdout",
     "output_type": "stream",
     "text": [
      "Confusion Matrix\n",
      "[[151  12]\n",
      " [ 29  73]]\n",
      "정확도 : 0.8453,  정밀도 : 0.8588, 재현율 : 0.7157, F1-Score : 0.7807\n"
     ]
    }
   ],
   "source": [
    "get_clf_eval(y_test,x_test_model_total[\"LGB\"] )"
   ]
  },
  {
   "cell_type": "code",
   "execution_count": 211,
   "metadata": {
    "ExecuteTime": {
     "end_time": "2020-07-21T18:21:39.765257Z",
     "start_time": "2020-07-21T18:21:39.757277Z"
    }
   },
   "outputs": [
    {
     "name": "stdout",
     "output_type": "stream",
     "text": [
      "Confusion Matrix\n",
      "[[152  11]\n",
      " [ 31  71]]\n",
      "정확도 : 0.8415,  정밀도 : 0.8659, 재현율 : 0.6961, F1-Score : 0.7717\n"
     ]
    }
   ],
   "source": [
    "get_clf_eval(y_test,x_test_model_total[\"ensemble_voting\"] )"
   ]
  },
  {
   "cell_type": "markdown",
   "metadata": {},
   "source": [
    "*RFC, LGB이 정확도는 동일하지만, 정밀도/재현율이 다르다 --> F1 스코어도 다르게 됨!!"
   ]
  },
  {
   "cell_type": "code",
   "execution_count": null,
   "metadata": {},
   "outputs": [],
   "source": []
  },
  {
   "cell_type": "code",
   "execution_count": null,
   "metadata": {},
   "outputs": [],
   "source": []
  }
 ],
 "metadata": {
  "kernelspec": {
   "display_name": "Python 3",
   "language": "python",
   "name": "python3"
  },
  "language_info": {
   "codemirror_mode": {
    "name": "ipython",
    "version": 3
   },
   "file_extension": ".py",
   "mimetype": "text/x-python",
   "name": "python",
   "nbconvert_exporter": "python",
   "pygments_lexer": "ipython3",
   "version": "3.7.6"
  },
  "toc": {
   "base_numbering": 1,
   "nav_menu": {},
   "number_sections": true,
   "sideBar": true,
   "skip_h1_title": false,
   "title_cell": "Table of Contents",
   "title_sidebar": "Contents",
   "toc_cell": false,
   "toc_position": {
    "height": "calc(100% - 180px)",
    "left": "10px",
    "top": "150px",
    "width": "191.6px"
   },
   "toc_section_display": true,
   "toc_window_display": true
  },
  "varInspector": {
   "cols": {
    "lenName": 16,
    "lenType": 16,
    "lenVar": 40
   },
   "kernels_config": {
    "python": {
     "delete_cmd_postfix": "",
     "delete_cmd_prefix": "del ",
     "library": "var_list.py",
     "varRefreshCmd": "print(var_dic_list())"
    },
    "r": {
     "delete_cmd_postfix": ") ",
     "delete_cmd_prefix": "rm(",
     "library": "var_list.r",
     "varRefreshCmd": "cat(var_dic_list()) "
    }
   },
   "types_to_exclude": [
    "module",
    "function",
    "builtin_function_or_method",
    "instance",
    "_Feature"
   ],
   "window_display": false
  }
 },
 "nbformat": 4,
 "nbformat_minor": 1
}
