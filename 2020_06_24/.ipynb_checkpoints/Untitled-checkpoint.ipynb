{
 "cells": [
  {
   "cell_type": "code",
   "execution_count": 18,
   "metadata": {},
   "outputs": [],
   "source": [
    "import numpy as np"
   ]
  },
  {
   "cell_type": "code",
   "execution_count": 20,
   "metadata": {},
   "outputs": [],
   "source": [
    "arr1=np.arange(10)"
   ]
  },
  {
   "cell_type": "code",
   "execution_count": 22,
   "metadata": {},
   "outputs": [
    {
     "data": {
      "text/plain": [
       "10"
      ]
     },
     "execution_count": 22,
     "metadata": {},
     "output_type": "execute_result"
    }
   ],
   "source": [
    "len(arr1)   #array도 len로 길이 찾기 가능"
   ]
  },
  {
   "cell_type": "code",
   "execution_count": 198,
   "metadata": {},
   "outputs": [
    {
     "name": "stdout",
     "output_type": "stream",
     "text": [
      "['Bob' 'Joe' 'Will' 'Bob' 'Will' 'Joe' 'Joe']\n",
      "[[98 54 45 80]\n",
      " [83 61 79 73]\n",
      " [80 40 82 71]\n",
      " [92 67 43 83]\n",
      " [59 82 62 69]\n",
      " [89 59 82 79]\n",
      " [96 92 67 54]]\n"
     ]
    }
   ],
   "source": [
    "names=np.array([\"Bob\",\"Joe\",\"Will\",\"Bob\",\"Will\",\"Joe\",\"Joe\"])\n",
    "data= np.random.randint(low=30,high=101,size=(7,4))\n",
    "print(names)\n",
    "print(data)"
   ]
  },
  {
   "cell_type": "code",
   "execution_count": 100,
   "metadata": {},
   "outputs": [
    {
     "data": {
      "text/plain": [
       "array([ True, False, False,  True, False, False, False])"
      ]
     },
     "execution_count": 100,
     "metadata": {},
     "output_type": "execute_result"
    }
   ],
   "source": [
    "names==\"Bob\""
   ]
  },
  {
   "cell_type": "code",
   "execution_count": 101,
   "metadata": {},
   "outputs": [
    {
     "data": {
      "text/plain": [
       "array(['Bob', 'Bob'], dtype='<U4')"
      ]
     },
     "execution_count": 101,
     "metadata": {},
     "output_type": "execute_result"
    }
   ],
   "source": [
    "names[names==\"Bob\"]"
   ]
  },
  {
   "cell_type": "code",
   "execution_count": 102,
   "metadata": {},
   "outputs": [
    {
     "data": {
      "text/plain": [
       "2"
      ]
     },
     "execution_count": 102,
     "metadata": {},
     "output_type": "execute_result"
    }
   ],
   "source": [
    "len(names[names==\"Bob\"])"
   ]
  },
  {
   "cell_type": "code",
   "execution_count": 117,
   "metadata": {},
   "outputs": [
    {
     "name": "stdout",
     "output_type": "stream",
     "text": [
      "[[68 45]\n",
      " [56 52]]\n",
      "[68 45 55 99]\n"
     ]
    }
   ],
   "source": [
    "a=data[names==\"Bob\",0:2]#국어 영어 점수만 보여주기\n",
    "print(a)\n",
    "b=data[names==\"Bob\"][0] #첫번째 Bob의 성적만 보여주기\n",
    "print(b)"
   ]
  },
  {
   "cell_type": "code",
   "execution_count": 145,
   "metadata": {},
   "outputs": [
    {
     "data": {
      "text/plain": [
       "array([[47, 77],\n",
       "       [56, 93],\n",
       "       [87, 47],\n",
       "       [97, 45]])"
      ]
     },
     "execution_count": 145,
     "metadata": {},
     "output_type": "execute_result"
    }
   ],
   "source": [
    "data[(names==\"Bob\") | (names==\"Will\"), :2] #bob이거나 will인 사람의 국어 영어 점수 보여주기\n"
   ]
  },
  {
   "cell_type": "code",
   "execution_count": 159,
   "metadata": {},
   "outputs": [
    {
     "data": {
      "text/plain": [
       "array([ True, False,  True,  True,  True, False, False])"
      ]
     },
     "execution_count": 159,
     "metadata": {},
     "output_type": "execute_result"
    }
   ],
   "source": [
    "np.logical_or((names==\"Bob\"),(names==\"Will\")) #numpy사용해서 or사용하기"
   ]
  },
  {
   "cell_type": "code",
   "execution_count": 161,
   "metadata": {},
   "outputs": [
    {
     "data": {
      "text/plain": [
       "array([[ 47,  77,  97,  38],\n",
       "       [ 83,  73,  85,  57],\n",
       "       [ 56,  93,  59,  80],\n",
       "       [ 87,  47,  56,  33],\n",
       "       [ 97,  45,  70,  36],\n",
       "       [ 80,  53, 100,  85],\n",
       "       [ 58,  71,  81,  38]])"
      ]
     },
     "execution_count": 161,
     "metadata": {},
     "output_type": "execute_result"
    }
   ],
   "source": [
    "data"
   ]
  },
  {
   "cell_type": "code",
   "execution_count": 162,
   "metadata": {},
   "outputs": [],
   "source": [
    "#네 과목이 모두 90점 안넘으면 과락"
   ]
  },
  {
   "cell_type": "code",
   "execution_count": 199,
   "metadata": {},
   "outputs": [
    {
     "data": {
      "text/plain": [
       "array(['Bob', 'Bob', 'Joe'], dtype='<U4')"
      ]
     },
     "execution_count": 199,
     "metadata": {},
     "output_type": "execute_result"
    }
   ],
   "source": [
    "data[data<90]=0\n",
    "data[data>=90]=1 \n",
    "a=np.unique(np.where(data>0)[0]) # 통과한사람 위치 확인, 이름만 뽑아내고 unique로 중복값 제거, \n",
    "b=names[a]                       # names 행렬에서 통과한사람 찾기\n",
    "b"
   ]
  },
  {
   "cell_type": "code",
   "execution_count": 189,
   "metadata": {},
   "outputs": [
    {
     "name": "stdout",
     "output_type": "stream",
     "text": [
      "Time1 : 0.48868608474731445\n"
     ]
    }
   ],
   "source": [
    "import time\n",
    "data= np.random.randint(low=30,high=101,size=(10000,10000))\n",
    "t1 = time.time()\n",
    "np.where(data>90)\n",
    "t2 = time.time()\n",
    "print (\"Time1 : \" + str(t2-t1))\n"
   ]
  },
  {
   "cell_type": "code",
   "execution_count": 190,
   "metadata": {},
   "outputs": [
    {
     "name": "stdout",
     "output_type": "stream",
     "text": [
      "Time1 : 1.3017330169677734\n"
     ]
    }
   ],
   "source": [
    "import time\n",
    "data= np.random.randint(low=30,high=101,size=(10000,10000))\n",
    "t1 = time.time()\n",
    "data[data<90]=0\n",
    "data[data>=90]=1\n",
    "np.where(data>0)\n",
    "t2 = time.time()\n",
    "print (\"Time1 : \" + str(t2-t1))"
   ]
  },
  {
   "cell_type": "code",
   "execution_count": 200,
   "metadata": {},
   "outputs": [],
   "source": [
    "import pandas as pd\n",
    "import numpy as np"
   ]
  },
  {
   "cell_type": "code",
   "execution_count": 203,
   "metadata": {},
   "outputs": [
    {
     "data": {
      "text/plain": [
       "0    10000\n",
       "1    10300\n",
       "2     9900\n",
       "3    10500\n",
       "4    11000\n",
       "dtype: int64"
      ]
     },
     "execution_count": 203,
     "metadata": {},
     "output_type": "execute_result"
    }
   ],
   "source": [
    "stock_price_list=[10000,10300,9900,10500,11000]\n",
    "stock_price_Series=pd.Series([10000,10300,9900,10500,11000])\n",
    "stock_price_Series"
   ]
  },
  {
   "cell_type": "code",
   "execution_count": 205,
   "metadata": {},
   "outputs": [
    {
     "data": {
      "text/plain": [
       "0    10000\n",
       "1    10300\n",
       "2     9900\n",
       "dtype: int64"
      ]
     },
     "execution_count": 205,
     "metadata": {},
     "output_type": "execute_result"
    }
   ],
   "source": [
    "stock_price_Series[0:3]"
   ]
  },
  {
   "cell_type": "code",
   "execution_count": 208,
   "metadata": {},
   "outputs": [],
   "source": [
    "#index 추가하가\n",
    "stock_price_Series=pd.Series([10000,10300,9900,10500,11000],\n",
    "                            index=[\"2020-03-01\",\"2020-03-02\",\"2020-03-03\",\"2020-03-04\",\"2020-03-5\"])\n"
   ]
  },
  {
   "cell_type": "code",
   "execution_count": 210,
   "metadata": {},
   "outputs": [
    {
     "data": {
      "text/plain": [
       "10000"
      ]
     },
     "execution_count": 210,
     "metadata": {},
     "output_type": "execute_result"
    }
   ],
   "source": [
    "stock_price_Series[\"2020-03-01\"]"
   ]
  },
  {
   "cell_type": "code",
   "execution_count": 211,
   "metadata": {},
   "outputs": [
    {
     "data": {
      "text/plain": [
       "Index(['2020-03-01', '2020-03-02', '2020-03-03', '2020-03-04', '2020-03-5'], dtype='object')"
      ]
     },
     "execution_count": 211,
     "metadata": {},
     "output_type": "execute_result"
    }
   ],
   "source": [
    "stock_price_Series.index"
   ]
  },
  {
   "cell_type": "code",
   "execution_count": 212,
   "metadata": {},
   "outputs": [
    {
     "data": {
      "text/plain": [
       "array([10000, 10300,  9900, 10500, 11000], dtype=int64)"
      ]
     },
     "execution_count": 212,
     "metadata": {},
     "output_type": "execute_result"
    }
   ],
   "source": [
    "stock_price_Series.values"
   ]
  },
  {
   "cell_type": "code",
   "execution_count": 231,
   "metadata": {},
   "outputs": [
    {
     "name": "stdout",
     "output_type": "stream",
     "text": [
      "Index:  2020-03-01\n",
      "Value:  10000\n",
      "Index:  2020-03-02\n",
      "Value:  10300\n",
      "Index:  2020-03-03\n",
      "Value:  9900\n",
      "Index:  2020-03-04\n",
      "Value:  10500\n",
      "Index:  2020-03-5\n",
      "Value:  11000\n"
     ]
    }
   ],
   "source": [
    "for i in range(0,len(stock_price_Series)):\n",
    "    print(\"Index: \",stock_price_Series.index[i])\n",
    "    print(\"Value: \",stock_price_Series.values[i])"
   ]
  },
  {
   "cell_type": "code",
   "execution_count": 229,
   "metadata": {},
   "outputs": [
    {
     "name": "stdout",
     "output_type": "stream",
     "text": [
      "Index:  2020-03-01\n",
      "Value:  10000\n",
      "Index:  2020-03-02\n",
      "Value:  10300\n",
      "Index:  2020-03-03\n",
      "Value:  9900\n",
      "Index:  2020-03-04\n",
      "Value:  10500\n",
      "Index:  2020-03-5\n",
      "Value:  11000\n"
     ]
    }
   ],
   "source": [
    "for i in stock_price_Series.index:\n",
    "    print(\"Index: \",i)\n",
    "    print(\"Value: \",stock_price_Series[i])"
   ]
  },
  {
   "cell_type": "code",
   "execution_count": 239,
   "metadata": {},
   "outputs": [
    {
     "data": {
      "text/plain": [
       "[10300, 9900, 10500]"
      ]
     },
     "execution_count": 239,
     "metadata": {},
     "output_type": "execute_result"
    }
   ],
   "source": [
    "idx=[1,2,3]\n",
    "[stock_price_list[i] for i in idx]\n",
    "    "
   ]
  },
  {
   "cell_type": "code",
   "execution_count": 246,
   "metadata": {},
   "outputs": [
    {
     "data": {
      "text/plain": [
       "2020-03-01    10000\n",
       "2020-03-02    10300\n",
       "2020-03-04    10500\n",
       "2020-03-5     11000\n",
       "dtype: int64"
      ]
     },
     "execution_count": 246,
     "metadata": {},
     "output_type": "execute_result"
    }
   ],
   "source": [
    "stock_price_Series[stock_price_Series>=10000]\n"
   ]
  },
  {
   "cell_type": "code",
   "execution_count": 248,
   "metadata": {},
   "outputs": [
    {
     "data": {
      "text/plain": [
       "True"
      ]
     },
     "execution_count": 248,
     "metadata": {},
     "output_type": "execute_result"
    }
   ],
   "source": [
    "\"2020-03-01\" in stock_price_Series #index 값이 있는지 없는 지 확인해서 boolean으로 출력"
   ]
  },
  {
   "cell_type": "code",
   "execution_count": null,
   "metadata": {},
   "outputs": [],
   "source": []
  }
 ],
 "metadata": {
  "kernelspec": {
   "display_name": "Python 3",
   "language": "python",
   "name": "python3"
  },
  "language_info": {
   "codemirror_mode": {
    "name": "ipython",
    "version": 3
   },
   "file_extension": ".py",
   "mimetype": "text/x-python",
   "name": "python",
   "nbconvert_exporter": "python",
   "pygments_lexer": "ipython3",
   "version": "3.7.6"
  }
 },
 "nbformat": 4,
 "nbformat_minor": 4
}
