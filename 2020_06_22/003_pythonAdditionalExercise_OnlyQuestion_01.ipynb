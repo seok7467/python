{
 "cells": [
  {
   "cell_type": "markdown",
   "metadata": {},
   "source": [
    "# 기본 연습 문제"
   ]
  },
  {
   "cell_type": "markdown",
   "metadata": {},
   "source": [
    "* Q) 4400명의 사람이 모였는데, 이들을 대상으로 20명씩 조를 만들려고 한다. 이 때 생성되는 조의 수는 몇 개인가?"
   ]
  },
  {
   "cell_type": "code",
   "execution_count": 1,
   "metadata": {},
   "outputs": [
    {
     "data": {
      "text/plain": [
       "220.0"
      ]
     },
     "execution_count": 1,
     "metadata": {},
     "output_type": "execute_result"
    }
   ],
   "source": [
    "4400/20"
   ]
  },
  {
   "cell_type": "markdown",
   "metadata": {},
   "source": [
    "* Q) 4400명의 사람이 모였는데, 이들을 대상으로 30명씩 조를 만들려고 한다. 이 떄 생성되는 조의 수와 조에 편성이 안 되는 사람의 수는?"
   ]
  },
  {
   "cell_type": "code",
   "execution_count": 2,
   "metadata": {},
   "outputs": [
    {
     "name": "stdout",
     "output_type": "stream",
     "text": [
      "146.66666666666666\n",
      "146\n",
      "20\n"
     ]
    }
   ],
   "source": [
    "print(4400/30)\n",
    "print(4400//30)\n",
    "print(4400%30)"
   ]
  },
  {
   "cell_type": "markdown",
   "metadata": {},
   "source": [
    "* Q)  국어 80점, 수학 55점, 영어 75점, 사회 80점 --> 이 사람의 평균을 구하는 코드를 작성하시오"
   ]
  },
  {
   "cell_type": "code",
   "execution_count": 4,
   "metadata": {},
   "outputs": [
    {
     "name": "stdout",
     "output_type": "stream",
     "text": [
      "72.5\n"
     ]
    }
   ],
   "source": [
    "avg = (80+55+75+80)/4\n",
    "print(avg)"
   ]
  },
  {
   "cell_type": "code",
   "execution_count": 3,
   "metadata": {},
   "outputs": [
    {
     "name": "stdout",
     "output_type": "stream",
     "text": [
      "72.5\n"
     ]
    }
   ],
   "source": []
  },
  {
   "cell_type": "markdown",
   "metadata": {},
   "source": [
    "* Q)  국어 80점, 수학 55점, 영어 75점, 사회 80점 --> 이 사람의 평균을 구하는 코드를 작성하시오   \n",
    "(단, 이번에는 input을 활용하여 입력받는 점수를 바탕으로 평균을 구하세요!)"
   ]
  },
  {
   "cell_type": "code",
   "execution_count": 9,
   "metadata": {},
   "outputs": [
    {
     "name": "stdout",
     "output_type": "stream",
     "text": [
      "한국어 점수를 입력해주세요!!!80\n",
      "영어 점수를 입력해주세요!!!75\n",
      "수학 점수를 입력해주세요!!!88\n",
      "사회 점수를 입력해주세요!!!55\n",
      "74.5\n"
     ]
    }
   ],
   "source": [
    "korean = int(input(\"한국어 점수를 입력해주세요!!!\"))\n",
    "english = int(input(\"영어 점수를 입력해주세요!!!\"))\n",
    "math = int(input(\"수학 점수를 입력해주세요!!!\"))\n",
    "society = int(input(\"사회 점수를 입력해주세요!!!\"))\n",
    "\n",
    "avg = (korean+english+math+society)/4\n",
    "\n",
    "print(avg)"
   ]
  },
  {
   "cell_type": "markdown",
   "metadata": {},
   "source": [
    "* Q) 주어진 수가 홀수인지, 아니면 짝수인지 판별할 수 있는 방법을 제시하여라."
   ]
  },
  {
   "cell_type": "code",
   "execution_count": 16,
   "metadata": {},
   "outputs": [
    {
     "name": "stdout",
     "output_type": "stream",
     "text": [
      "홀짝을 판단하고자 하는 수를 입력하세요!!!80\n",
      "80 은 짝수입니다.\n"
     ]
    }
   ],
   "source": [
    "num = int(input(\"홀짝을 판단하고자 하는 수를 입력하세요!!!\"))\n",
    "if(num%2==1):\n",
    "    print(num,\"은 홀수 입니다.\")\n",
    "else:\n",
    "    print(num,\"은 짝수입니다.\")\n"
   ]
  },
  {
   "cell_type": "markdown",
   "metadata": {},
   "source": [
    "* Q) a = [1, 2, 3, 4,5]라는 리스트를 만들고, 여기에다가 append, insert를 활용하여 a= [1,2,\"hello\",4,5,\"Hi\",\"Monday\"]를 만들어라"
   ]
  },
  {
   "cell_type": "code",
   "execution_count": 19,
   "metadata": {},
   "outputs": [
    {
     "name": "stdout",
     "output_type": "stream",
     "text": [
      "[1, 2, 'hello', 3, 4, 5, 'Hi', 'Monday']\n"
     ]
    }
   ],
   "source": [
    "a=[1,2,3,4,5]\n",
    "a.append(\"Hi\")\n",
    "a.append(\"Monday\")\n",
    "a.insert(2,\"hello\")\n",
    "print(a)"
   ]
  },
  {
   "cell_type": "markdown",
   "metadata": {},
   "source": [
    "* Q) 10을 2로 나눈 몫하고 210을 3으로 나눈 몫하고 같은지 비교하시오!"
   ]
  },
  {
   "cell_type": "code",
   "execution_count": 20,
   "metadata": {},
   "outputs": [
    {
     "name": "stdout",
     "output_type": "stream",
     "text": [
      "False\n"
     ]
    }
   ],
   "source": [
    "a = (10/2)==(210/3)\n",
    "print(a)"
   ]
  },
  {
   "cell_type": "markdown",
   "metadata": {},
   "source": [
    "* Q) 12345를 4로 나눈 나머지하고, 54321을 2로 나눈 나머지하고 비교하시오!!!"
   ]
  },
  {
   "cell_type": "code",
   "execution_count": 23,
   "metadata": {},
   "outputs": [
    {
     "name": "stdout",
     "output_type": "stream",
     "text": [
      "True\n"
     ]
    }
   ],
   "source": [
    "a=(12345%4)==(54321%2)\n",
    "print(a)"
   ]
  },
  {
   "cell_type": "markdown",
   "metadata": {},
   "source": [
    "* a = [1, 2, 3, ['aa', 'bb', 'cc', ['hello', 'hi', 'hahaha']]] 에서 i를 접근해보세요. 정수 인덱스를 활용해서.."
   ]
  },
  {
   "cell_type": "code",
   "execution_count": 34,
   "metadata": {},
   "outputs": [
    {
     "name": "stdout",
     "output_type": "stream",
     "text": [
      "[1, 2, 3, ['aa', 'bb', 'cc', ['hello', 'hi', 'hahaha']]]\n",
      "i\n"
     ]
    }
   ],
   "source": [
    "a = [1, 2, 3, ['aa', 'bb', 'cc', ['hello', 'hi', 'hahaha']]]\n",
    "print(a)\n",
    "print(a[3][3][1][1])"
   ]
  },
  {
   "cell_type": "markdown",
   "metadata": {},
   "source": [
    "* Q) a = [\"a\",\"b\",\"c\",\"d\",\"e\",\"f\",\"g\",\"h\",\"i\",\"j\",\"k\",1,2,3,4,5]  \n",
    "1) :를 사용하여 a의 모든 값을  출력하세요  \n",
    "2) :를 사용하여 a의 처음부터 5번째 까지 값을 출력하세요.  \n",
    "3) :를 사용하여 a의 4번째부터 끝까지 값을 출력하세요.  \n",
    "4) :를 사용하여 a의 2번째부터 6번째까지 값을 출력하세요.  \n",
    "5) :를 사용하여 a의 홀수번째 위치한 값들을 출력하세요.  \n",
    "6) :를 사용하여 a의 1,4,7,10번째 위치한 값들을 출력하세요!!\n"
   ]
  },
  {
   "cell_type": "code",
   "execution_count": 52,
   "metadata": {},
   "outputs": [
    {
     "name": "stdout",
     "output_type": "stream",
     "text": [
      "1) ['a', 'b', 'c', 'd', 'e', 'f', 'g', 'h', 'i', 'j', 'k', 1, 2, 3, 4, 5]\n",
      "2) ['a', 'b', 'c', 'd', 'e']\n",
      "3) ['d', 'e', 'f', 'g', 'h', 'i', 'j', 'k', 1, 2, 3, 4, 5]\n",
      "4) ['b', 'c', 'd', 'e', 'f']\n",
      "5) ['a', 'c', 'e', 'g', 'i', 'k', 2, 4]\n",
      "6) ['a', 'd', 'g', 'j']\n"
     ]
    }
   ],
   "source": [
    "a = [\"a\",\"b\",\"c\",\"d\",\"e\",\"f\",\"g\",\"h\",\"i\",\"j\",\"k\",1,2,3,4,5]\n",
    "print(\"1) \", end='')\n",
    "print(a[:])\n",
    "print(\"2) \", end='')\n",
    "print(a[0:5])\n",
    "print(\"3) \", end='')\n",
    "print(a[3:])\n",
    "print(\"4) \", end='')\n",
    "print(a[1:6])\n",
    "print(\"5) \", end='')\n",
    "print(a[::2])\n",
    "print(\"6) \", end='')\n",
    "print(a[0:10:3])\n"
   ]
  },
  {
   "cell_type": "markdown",
   "metadata": {},
   "source": [
    "* Q) a = {\"A\":90, \"B\":80,\"C\":70 } 이 중에서 \"B\"의 점수를 출력해보세요!"
   ]
  },
  {
   "cell_type": "code",
   "execution_count": 55,
   "metadata": {},
   "outputs": [
    {
     "name": "stdout",
     "output_type": "stream",
     "text": [
      "80\n"
     ]
    }
   ],
   "source": [
    "a = {\"A\":90, \"B\":80,\"C\":70 }\n",
    "print(a[\"B\"])"
   ]
  },
  {
   "cell_type": "markdown",
   "metadata": {},
   "source": [
    "Q) a = {\"A\":30, \"B\":50, \"C\":10,\"D\":43, \"E\":85, \"F\":76,\"G\":32} 이 중에서 최고점과 최저점을 찾으세요!!!"
   ]
  },
  {
   "cell_type": "code",
   "execution_count": 40,
   "metadata": {},
   "outputs": [
    {
     "ename": "TypeError",
     "evalue": "'dict_values' object is not callable",
     "output_type": "error",
     "traceback": [
      "\u001b[1;31m---------------------------------------------------------------------------\u001b[0m",
      "\u001b[1;31mTypeError\u001b[0m                                 Traceback (most recent call last)",
      "\u001b[1;32m<ipython-input-40-81825b38816e>\u001b[0m in \u001b[0;36m<module>\u001b[1;34m\u001b[0m\n\u001b[0;32m      1\u001b[0m \u001b[0ma\u001b[0m \u001b[1;33m=\u001b[0m \u001b[1;33m{\u001b[0m\u001b[1;34m\"A\"\u001b[0m\u001b[1;33m:\u001b[0m\u001b[1;36m30\u001b[0m\u001b[1;33m,\u001b[0m \u001b[1;34m\"B\"\u001b[0m\u001b[1;33m:\u001b[0m\u001b[1;36m50\u001b[0m\u001b[1;33m,\u001b[0m \u001b[1;34m\"C\"\u001b[0m\u001b[1;33m:\u001b[0m\u001b[1;36m10\u001b[0m\u001b[1;33m,\u001b[0m\u001b[1;34m\"D\"\u001b[0m\u001b[1;33m:\u001b[0m\u001b[1;36m43\u001b[0m\u001b[1;33m,\u001b[0m \u001b[1;34m\"E\"\u001b[0m\u001b[1;33m:\u001b[0m\u001b[1;36m85\u001b[0m\u001b[1;33m,\u001b[0m \u001b[1;34m\"F\"\u001b[0m\u001b[1;33m:\u001b[0m\u001b[1;36m76\u001b[0m\u001b[1;33m,\u001b[0m\u001b[1;34m\"G\"\u001b[0m\u001b[1;33m:\u001b[0m\u001b[1;36m32\u001b[0m\u001b[1;33m}\u001b[0m\u001b[1;33m\u001b[0m\u001b[1;33m\u001b[0m\u001b[0m\n\u001b[1;32m----> 2\u001b[1;33m \u001b[0mmax_key\u001b[0m \u001b[1;33m=\u001b[0m \u001b[0mmax\u001b[0m\u001b[1;33m(\u001b[0m\u001b[0ma\u001b[0m\u001b[1;33m,\u001b[0m \u001b[0mkey\u001b[0m\u001b[1;33m=\u001b[0m\u001b[0ma\u001b[0m\u001b[1;33m.\u001b[0m\u001b[0mvalues\u001b[0m\u001b[1;33m(\u001b[0m\u001b[1;33m)\u001b[0m\u001b[1;33m)\u001b[0m\u001b[1;33m\u001b[0m\u001b[1;33m\u001b[0m\u001b[0m\n\u001b[0m\u001b[0;32m      3\u001b[0m \u001b[0mmax_value\u001b[0m\u001b[1;33m=\u001b[0m\u001b[0mmax\u001b[0m\u001b[1;33m(\u001b[0m\u001b[0ma\u001b[0m\u001b[1;33m.\u001b[0m\u001b[0mvalues\u001b[0m\u001b[1;33m(\u001b[0m\u001b[1;33m)\u001b[0m\u001b[1;33m)\u001b[0m\u001b[1;33m\u001b[0m\u001b[1;33m\u001b[0m\u001b[0m\n\u001b[0;32m      4\u001b[0m \u001b[0mmin_key\u001b[0m\u001b[1;33m=\u001b[0m\u001b[0mmin\u001b[0m\u001b[1;33m(\u001b[0m\u001b[0ma\u001b[0m\u001b[1;33m,\u001b[0m\u001b[0mkey\u001b[0m\u001b[1;33m=\u001b[0m\u001b[0ma\u001b[0m\u001b[1;33m.\u001b[0m\u001b[0mget\u001b[0m\u001b[1;33m)\u001b[0m\u001b[1;33m\u001b[0m\u001b[1;33m\u001b[0m\u001b[0m\n\u001b[0;32m      5\u001b[0m \u001b[0mmin_value\u001b[0m\u001b[1;33m=\u001b[0m\u001b[0mmin\u001b[0m\u001b[1;33m(\u001b[0m\u001b[0ma\u001b[0m\u001b[1;33m.\u001b[0m\u001b[0mvalues\u001b[0m\u001b[1;33m(\u001b[0m\u001b[1;33m)\u001b[0m\u001b[1;33m)\u001b[0m\u001b[1;33m\u001b[0m\u001b[1;33m\u001b[0m\u001b[0m\n",
      "\u001b[1;31mTypeError\u001b[0m: 'dict_values' object is not callable"
     ]
    }
   ],
   "source": [
    "a = {\"A\":30, \"B\":50, \"C\":10,\"D\":43, \"E\":85, \"F\":76,\"G\":32}\n",
    "max_key = max(a, key=a.get)\n",
    "max_value=max(a.values())\n",
    "min_key=min(a,key=a.get)\n",
    "min_value=min(a.values())\n",
    "print(\"최고점= \", end='')\n",
    "print(max_key, end=':')\n",
    "print(max_value)\n",
    "print(\"최저점= \", end='')\n",
    "print(min_key, end=':')\n",
    "print(min_value)"
   ]
  },
  {
   "cell_type": "markdown",
   "metadata": {},
   "source": [
    "Q) a = {\"A\":30, \"B\":50, \"C\":10,\"D\":43, \"E\":85, \"F\":76,\"G\":32} 이 중에서 최고점과 최저점이 누구인지 찾으세요!!!"
   ]
  },
  {
   "cell_type": "code",
   "execution_count": 12,
   "metadata": {},
   "outputs": [
    {
     "name": "stdout",
     "output_type": "stream",
     "text": [
      "최고점= E:85\n",
      "최저점= C:10\n"
     ]
    }
   ],
   "source": [
    "a = {\"A\":30, \"B\":50, \"C\":10,\"D\":43, \"E\":85, \"F\":76,\"G\":32}\n",
    "max_key = max(a, key=a.get)\n",
    "max_value=max(a.values())\n",
    "min_key=min(a,key=a.get)\n",
    "min_value=min(a.values())\n",
    "print(\"최고점= \", end='')\n",
    "print(max_key, end=':')\n",
    "print(max_value)\n",
    "print(\"최저점= \", end='')\n",
    "print(min_key, end=':')\n",
    "print(min_value)"
   ]
  },
  {
   "cell_type": "markdown",
   "metadata": {},
   "source": [
    "*Q) 1부터 20까지 모든 수를 출력하는 프로그램을 만드세요(for/range)"
   ]
  },
  {
   "cell_type": "code",
   "execution_count": 14,
   "metadata": {},
   "outputs": [
    {
     "name": "stdout",
     "output_type": "stream",
     "text": [
      "1\n",
      "2\n",
      "3\n",
      "4\n",
      "5\n",
      "6\n",
      "7\n",
      "8\n",
      "9\n",
      "10\n",
      "11\n",
      "12\n",
      "13\n",
      "14\n",
      "15\n",
      "16\n",
      "17\n",
      "18\n",
      "19\n",
      "20\n"
     ]
    }
   ],
   "source": [
    "for i in range(1,21):\n",
    "    print(i)"
   ]
  },
  {
   "cell_type": "markdown",
   "metadata": {},
   "source": [
    "* Q) \"hello_1\", \"hello_2\", ..., \"hello_20\"까지 출력하는 프로그램을 만드세요(for 사용)"
   ]
  },
  {
   "cell_type": "code",
   "execution_count": 16,
   "metadata": {},
   "outputs": [
    {
     "name": "stdout",
     "output_type": "stream",
     "text": [
      "hello_1\n",
      "hello_2\n",
      "hello_3\n",
      "hello_4\n",
      "hello_5\n",
      "hello_6\n",
      "hello_7\n",
      "hello_8\n",
      "hello_9\n",
      "hello_10\n",
      "hello_11\n",
      "hello_12\n",
      "hello_13\n",
      "hello_14\n",
      "hello_15\n",
      "hello_16\n",
      "hello_17\n",
      "hello_18\n",
      "hello_19\n",
      "hello_20\n"
     ]
    }
   ],
   "source": [
    "for i in range(1,21):\n",
    "    print(\"hello_\", end='')\n",
    "    print(i)"
   ]
  },
  {
   "cell_type": "markdown",
   "metadata": {},
   "source": [
    "* Q) a = [\"one\",\"two\",\"three\",\"four\"] 과 for문을 이용하여\n",
    "b = ['one1', 'two2', 'three3', 'four4']을 만드세요.  \n",
    "1) for& range 방법   \n",
    "2) for & a 바로 방법   \n",
    "2가지 방식으로 하세요!!!\n"
   ]
  },
  {
   "cell_type": "code",
   "execution_count": 12,
   "metadata": {},
   "outputs": [
    {
     "name": "stdout",
     "output_type": "stream",
     "text": [
      "hello_1\n",
      "hello_2\n",
      "hello_3\n",
      "hello_4\n",
      "hello_5\n",
      "hello_6\n",
      "hello_7\n",
      "hello_8\n",
      "hello_9\n",
      "hello_10\n",
      "hello_11\n",
      "hello_12\n",
      "hello_13\n",
      "hello_14\n",
      "hello_15\n",
      "hello_16\n",
      "hello_17\n",
      "hello_18\n",
      "hello_19\n",
      "hello_20\n"
     ]
    }
   ],
   "source": []
  },
  {
   "cell_type": "code",
   "execution_count": 36,
   "metadata": {},
   "outputs": [
    {
     "name": "stdout",
     "output_type": "stream",
     "text": [
      "['one1', 'two2', 'three3', 'four4']\n"
     ]
    }
   ],
   "source": [
    "a = [\"one\",\"two\",\"three\",\"four\"]\n",
    "b=[]\n",
    "for i in range(0,4):\n",
    "    b.append(a[i]+str(1+i))\n",
    "print(b)\n"
   ]
  },
  {
   "cell_type": "code",
   "execution_count": 50,
   "metadata": {},
   "outputs": [
    {
     "name": "stdout",
     "output_type": "stream",
     "text": [
      "['one1', 'two2', 'three3', 'four4']\n"
     ]
    }
   ],
   "source": [
    "a = [\"one\",\"two\",\"three\",\"four\"]\n",
    "b=[]\n",
    "for i in a:\n",
    "    b.append(i+str(a.index(i)+1))\n",
    "print(b)\n"
   ]
  },
  {
   "cell_type": "markdown",
   "metadata": {},
   "source": [
    "* Q) 1번/2번 학생의 시험 점수를 리스트로 만들고, 이에 대한 평균을 구하시오.  \n",
    "예: a = [10,20,30,40], b=[50,20,10,13]에 대해서, 각기 평균을 구하시오!   \n",
    "단, 시험 점수가 변동이 생길 수 있고, 시험 과목도 변동이 생길 수 있으니 a/b 중심으로 코드를 구현하세요!"
   ]
  },
  {
   "cell_type": "code",
   "execution_count": 5,
   "metadata": {},
   "outputs": [
    {
     "name": "stdout",
     "output_type": "stream",
     "text": [
      "['one1', 'two2', 'three3', 'four4']\n"
     ]
    }
   ],
   "source": []
  },
  {
   "cell_type": "code",
   "execution_count": 57,
   "metadata": {},
   "outputs": [
    {
     "name": "stdout",
     "output_type": "stream",
     "text": [
      "30.0\n",
      "20.0\n",
      "20.0\n",
      "26.5\n"
     ]
    }
   ],
   "source": [
    "a = [10,20,30,40]\n",
    "b = [50,20,10,13]\n",
    "for i in range(0,len(a)):\n",
    "    print((a[i]+b[i])/2)\n",
    "\n"
   ]
  },
  {
   "cell_type": "code",
   "execution_count": 14,
   "metadata": {},
   "outputs": [
    {
     "name": "stdout",
     "output_type": "stream",
     "text": [
      "46.0\n",
      "46.0\n"
     ]
    }
   ],
   "source": [
    "`dd"
   ]
  },
  {
   "cell_type": "markdown",
   "metadata": {},
   "source": [
    "* Q)  a = [\"Life\", \"is\",\"too\", \"short\", \"you\",\"need\",\"python\"] a 리스트를 화룡해서 yoo too 출력해보기!!!"
   ]
  },
  {
   "cell_type": "code",
   "execution_count": 59,
   "metadata": {},
   "outputs": [
    {
     "name": "stdout",
     "output_type": "stream",
     "text": [
      "you too"
     ]
    }
   ],
   "source": [
    "a = [\"Life\", \"is\",\"too\", \"short\", \"you\",\"need\",\"python\"]\n",
    "print(a[4], end =' ')\n",
    "print(a[2], end ='')"
   ]
  },
  {
   "cell_type": "code",
   "execution_count": 15,
   "metadata": {},
   "outputs": [
    {
     "name": "stdout",
     "output_type": "stream",
     "text": [
      "you too\n"
     ]
    }
   ],
   "source": []
  },
  {
   "cell_type": "markdown",
   "metadata": {},
   "source": [
    "* Q) [\"Life\", \"is\", \"too\",\"short\"]라는 리스트를 활용해서 Life is too short 이라는 문장 만들기!!!"
   ]
  },
  {
   "cell_type": "code",
   "execution_count": 62,
   "metadata": {},
   "outputs": [
    {
     "name": "stdout",
     "output_type": "stream",
     "text": [
      "Life is too short "
     ]
    }
   ],
   "source": [
    "a=[\"Life\", \"is\", \"too\",\"short\"]\n",
    "for i in range(0,len(a)):\n",
    "    print(a[i], end=' ')\n"
   ]
  },
  {
   "cell_type": "code",
   "execution_count": 63,
   "metadata": {},
   "outputs": [
    {
     "name": "stdout",
     "output_type": "stream",
     "text": [
      "Life is too short\n"
     ]
    }
   ],
   "source": [
    "a=[\"Life\", \"is\", \"too\",\"short\"]\n",
    "print(\" \".join(a))"
   ]
  },
  {
   "cell_type": "code",
   "execution_count": 21,
   "metadata": {},
   "outputs": [
    {
     "name": "stdout",
     "output_type": "stream",
     "text": [
      "Life is too short 1 2 3 4 5\n"
     ]
    }
   ],
   "source": [
    "# 참고) join은 전체에 대한 것!\n",
    "a = [\"Life\", \"is\", \"too\",\"short\",\"1\",\"2\",\"3\",\"4\",\"5\"]\n",
    "result = \" \".join(a)\n",
    "print(result)"
   ]
  },
  {
   "cell_type": "markdown",
   "metadata": {},
   "source": [
    "* Q)  a = [1,2,3,4,5,6] 이 리스트의 원소의 갯수는?"
   ]
  },
  {
   "cell_type": "code",
   "execution_count": 65,
   "metadata": {},
   "outputs": [
    {
     "name": "stdout",
     "output_type": "stream",
     "text": [
      "6\n"
     ]
    }
   ],
   "source": [
    "a = [1,2,3,4,5,6]\n",
    "print(len(a))"
   ]
  },
  {
   "cell_type": "markdown",
   "metadata": {},
   "source": [
    "* Q) a [ 1,2,3,4,5]라는 리스트를 [1,3,5]로 만들기!!!(remove사용)"
   ]
  },
  {
   "cell_type": "code",
   "execution_count": 66,
   "metadata": {},
   "outputs": [
    {
     "name": "stdout",
     "output_type": "stream",
     "text": [
      "[1, 3, 5]\n"
     ]
    }
   ],
   "source": [
    "a=[1,2,3,4,5]\n",
    "a.remove(2)\n",
    "a.remove(4)\n",
    "print(a)"
   ]
  },
  {
   "cell_type": "markdown",
   "metadata": {},
   "source": [
    "* Q) a = 10 양수, 음수, 0인지 판단을 하고 싶다!! --> 완성 후에는 input을 활용하여 하는 것으로 추가 구현"
   ]
  },
  {
   "cell_type": "code",
   "execution_count": 67,
   "metadata": {},
   "outputs": [
    {
     "name": "stdout",
     "output_type": "stream",
     "text": [
      "a는 양수\n"
     ]
    }
   ],
   "source": [
    "a=10\n",
    "if a>0:               \n",
    "    print(\"a는 양수\") \n",
    "elif a==0:           \n",
    "    print(\"a는 0\")\n",
    "else:\n",
    "    print(\"a는 음수\")"
   ]
  },
  {
   "cell_type": "code",
   "execution_count": 69,
   "metadata": {},
   "outputs": [
    {
     "name": "stdout",
     "output_type": "stream",
     "text": [
      "0,양수,음수 판단할 수를 입력해 주세요!!!!!-2\n",
      "a는 음수\n"
     ]
    }
   ],
   "source": [
    "a = int(input(\"0,양수,음수 판단할 수를 입력해 주세요!!!!!\"))\n",
    "if a>0:               \n",
    "    print(\"a는 양수\") \n",
    "elif a==0:           \n",
    "    print(\"a는 0\")\n",
    "else:\n",
    "    print(\"a는 음수\")\n"
   ]
  },
  {
   "cell_type": "markdown",
   "metadata": {},
   "source": [
    "* Q1) 입력받은 양의 정수(자연수) 홀수/짝수인지 판단을 하고, 그 결과를 출력해주세요!!"
   ]
  },
  {
   "cell_type": "code",
   "execution_count": 72,
   "metadata": {},
   "outputs": [
    {
     "name": "stdout",
     "output_type": "stream",
     "text": [
      "자연수/홀수/짝수 판단할 수를 입력해 주세요!!!!!3\n",
      "a는 홀수\n"
     ]
    }
   ],
   "source": [
    "a = int(input(\"자연수/홀수/짝수 판단할 수를 입력해 주세요!!!!!\"))\n",
    "if a<=0:               \n",
    "    print(\"이상해요\") \n",
    "elif a%2==1:           \n",
    "    print(\"a는 홀수\")\n",
    "else:\n",
    "    print(\"a는 짝수\")"
   ]
  },
  {
   "cell_type": "markdown",
   "metadata": {},
   "source": [
    "* Q) * Q2) A라는 사람이 5000원의 돈을 가지고 있고, 카드는 없다.  \n",
    "A의 상태는   \n",
    "money = 5000  \n",
    "card = False  \n",
    "이 사람이 목적지까지 택시를 타고 가려고 한다.\n",
    "목적지까지 가기 위해서는 카드를 소유하고 있거나, 4000원 이상의 현금을 가지고 있어야 한다.\n",
    "A 는 이 목적지까지 갈 수 있는지 판단해보세요!!!"
   ]
  },
  {
   "cell_type": "code",
   "execution_count": 76,
   "metadata": {},
   "outputs": [
    {
     "name": "stdout",
     "output_type": "stream",
     "text": [
      "갈 수 있어@!!!\n"
     ]
    }
   ],
   "source": [
    "money = 5000\n",
    "card = False\n",
    "if(money>=4000 or card ==True):\n",
    "    print(\"갈 수 있어@!!!\")\n",
    "else:\n",
    "    print(\"갈 수 없어!!@!\")\n"
   ]
  },
  {
   "cell_type": "markdown",
   "metadata": {},
   "source": [
    "* Q) 입력을 받은 자연수에 대해서 몇 자리 수인지 판단하세요!!!(최대 9999까지)"
   ]
  },
  {
   "cell_type": "code",
   "execution_count": 82,
   "metadata": {},
   "outputs": [
    {
     "name": "stdout",
     "output_type": "stream",
     "text": [
      "자연수/홀수/짝수 판단할 수를 입력해 주세요!!!!!1\n",
      "한자리수\n"
     ]
    }
   ],
   "source": [
    "a = int(input(\"자연수/홀수/짝수 판단할 수를 입력해 주세요!!!!!\"))\n",
    "if(a<0):\n",
    "    print(\"자연수가 아닌데요?\")\n",
    "elif(a<10):\n",
    "    print(\"한자리수\")\n",
    "elif(a<100):\n",
    "    print(\"두자리수\")\n",
    "elif(a<1000):\n",
    "    print(\"세자리수\")\n",
    "elif(a<10000):\n",
    "    print(\"네자리수\")\n",
    "else:\n",
    "    print(\"범위 초과\")"
   ]
  },
  {
   "cell_type": "markdown",
   "metadata": {},
   "source": [
    "* Q) a = 10, b = 20을 가지고, a=20, b=10이라고 서로 수를 바꾸는 프로그램을 작성하시오!!!"
   ]
  },
  {
   "cell_type": "code",
   "execution_count": 84,
   "metadata": {},
   "outputs": [
    {
     "name": "stdout",
     "output_type": "stream",
     "text": [
      "처음 입력10\n",
      "두번째 입력20\n",
      "변화된 a값 20\n",
      "변화된 b값 10\n"
     ]
    }
   ],
   "source": [
    "a = int(input(\"처음 입력\"))\n",
    "b = int(input(\"두번째 입력\"))\n",
    "temp=a\n",
    "a=b\n",
    "b=temp\n",
    "print(\"변화된 a값\",a)\n",
    "print(\"변화된 b값\",b)\n"
   ]
  },
  {
   "cell_type": "markdown",
   "metadata": {},
   "source": [
    "* Q) kg에 대한 값을 g으로 변환하는 프로그램을 작성하시오(예:1.2kg => 1200g)"
   ]
  },
  {
   "cell_type": "code",
   "execution_count": 88,
   "metadata": {},
   "outputs": [
    {
     "name": "stdout",
     "output_type": "stream",
     "text": [
      "입력하세요[kg]!!!1.2\n",
      "1200 g\n"
     ]
    }
   ],
   "source": [
    "a = float(input(\"입력하세요[kg]!!!\"))\n",
    "print(int(a*1000),\"g\")"
   ]
  },
  {
   "cell_type": "markdown",
   "metadata": {},
   "source": [
    "* Q) g에 대한 값을 kg으로 변환하는 프로그램을 작성하시오!(예:1200g ==> 1.2kg)"
   ]
  },
  {
   "cell_type": "code",
   "execution_count": 91,
   "metadata": {},
   "outputs": [
    {
     "name": "stdout",
     "output_type": "stream",
     "text": [
      "입력하세요[g]!!!1200\n",
      "1.2 kg\n"
     ]
    }
   ],
   "source": [
    "a = float(input(\"입력하세요[g]!!!\"))\n",
    "print(a/1000,\"kg\")"
   ]
  },
  {
   "cell_type": "markdown",
   "metadata": {},
   "source": [
    "* Q)  3개의 수에 대해서, 가장 큰 수를 찾는 프로그램을 작성하시오!!!\n",
    "(예를 들면, 10, 20, 17이라는 3개의 수가 있다고 하면, 이 중에서 제일 큰 수 20을 찾는 프로그램)"
   ]
  },
  {
   "cell_type": "code",
   "execution_count": 99,
   "metadata": {},
   "outputs": [
    {
     "name": "stdout",
     "output_type": "stream",
     "text": [
      "1번째 수10\n",
      "2번째 수30\n",
      "3번째 수20\n",
      "30\n"
     ]
    }
   ],
   "source": [
    "a=[]\n",
    "a.append(int(input(\"1번째 수\")))\n",
    "a.append(int(input(\"2번째 수\")))\n",
    "a.append(int(input(\"3번째 수\")))\n",
    "\n",
    "max_value=0\n",
    "for i in range(0,3):\n",
    "    if(max_value<a[i]):\n",
    "        max_value=a[i]\n",
    "    else:\n",
    "        pass\n",
    "print(max_value)"
   ]
  },
  {
   "cell_type": "markdown",
   "metadata": {},
   "source": [
    "* Q) 1부터 100까지 합!!!!"
   ]
  },
  {
   "cell_type": "code",
   "execution_count": 102,
   "metadata": {},
   "outputs": [
    {
     "name": "stdout",
     "output_type": "stream",
     "text": [
      "5050\n"
     ]
    }
   ],
   "source": [
    "sum_a=0\n",
    "for i in range(1,101):\n",
    "    sum_a+=i\n",
    "print(sum_a)\n"
   ]
  },
  {
   "cell_type": "markdown",
   "metadata": {},
   "source": [
    "* Q) 1부터 100까지 곱!!"
   ]
  },
  {
   "cell_type": "code",
   "execution_count": 1,
   "metadata": {},
   "outputs": [
    {
     "name": "stdout",
     "output_type": "stream",
     "text": [
      "93326215443944152681699238856266700490715968264381621468592963895217599993229915608941463976156518286253697920827223758251185210916864000000000000000000000000\n"
     ]
    }
   ],
   "source": [
    "mul=1\n",
    "for i in range(1,101):\n",
    "    mul*=i\n",
    "print(mul)"
   ]
  },
  {
   "cell_type": "markdown",
   "metadata": {},
   "source": [
    "* Q) 시험 성적 점수 [90, 80,35,24,65,74,93]  \n",
    "시험 통과가 60점 이상이라고 할 때,\n",
    "몇 번째 학생이 통과했는지 알려주세요!!!!!"
   ]
  },
  {
   "cell_type": "code",
   "execution_count": 6,
   "metadata": {},
   "outputs": [
    {
     "name": "stdout",
     "output_type": "stream",
     "text": [
      "1 2 5 6 7 번째 학생이 통과하였습니다.\n"
     ]
    }
   ],
   "source": [
    "a=[90,80,35,24,65,74,93]\n",
    "for i in range(0,7):\n",
    "    if(a[i]>=60):\n",
    "        print(i+1,end=' ')\n",
    "    else:\n",
    "        pass\n",
    "print(\"번째 학생이 통과하였습니다.\")\n"
   ]
  },
  {
   "cell_type": "markdown",
   "metadata": {},
   "source": [
    "* Q) [\"A\",\"B\",\"A\",\"O\",\"AB\",\"AB\",\"O\",\"A\",\"B\",\"AB\"] 이러한 혈핵형을 가지고 있을 때, for문을 이용해서 각 혈핵형별로 몇 명인지 총 인원을 구하세요!!!!"
   ]
  },
  {
   "cell_type": "code",
   "execution_count": 9,
   "metadata": {},
   "outputs": [
    {
     "name": "stdout",
     "output_type": "stream",
     "text": [
      "A형: 3 명\n",
      "B형: 2 명\n",
      "O형: 2 명\n",
      "AB형: 3 명\n"
     ]
    }
   ],
   "source": [
    "a=[\"A\",\"B\",\"A\",\"O\",\"AB\",\"AB\",\"O\",\"A\",\"B\",\"AB\"]\n",
    "A=0\n",
    "B=0\n",
    "O=0\n",
    "AB=0\n",
    "for i in range(0,len(a)):\n",
    "    if(a[i]==\"A\"):\n",
    "        A+=1\n",
    "    elif(a[i]==\"B\"):\n",
    "        B+=1\n",
    "    elif(a[i]==\"O\"):\n",
    "        O+=1\n",
    "    elif(a[i]==\"AB\"):\n",
    "        AB+=1\n",
    "    else:\n",
    "        print(\"혈액형이 인간이 아닌데?\")\n",
    "print(\"A형:\", A, \"명\")\n",
    "print(\"B형:\", B, \"명\")\n",
    "print(\"O형:\", O, \"명\")\n",
    "print(\"AB형:\", AB, \"명\")"
   ]
  },
  {
   "cell_type": "markdown",
   "metadata": {},
   "source": [
    "* Q) [1,2,3,4,5,6,7,8,9,10,11,12] 중에서 홀수만 골라서  \n",
    "3을 곱하는 결과를 나타내시오!!!!"
   ]
  },
  {
   "cell_type": "code",
   "execution_count": 10,
   "metadata": {},
   "outputs": [
    {
     "name": "stdout",
     "output_type": "stream",
     "text": [
      "3\n",
      "9\n",
      "15\n",
      "21\n",
      "27\n",
      "33\n"
     ]
    }
   ],
   "source": [
    "a=[1,2,3,4,5,6,7,8,9,10,11,12]\n",
    "for i in range(0,len(a)):\n",
    "    if(a[i]%2==1):\n",
    "        print(a[i]*3)\n",
    "    else:\n",
    "        pass"
   ]
  },
  {
   "cell_type": "markdown",
   "metadata": {},
   "source": [
    "* Q) 구구단 2단, 3단, ..., 19단까지 결과를 출력하세요!!!"
   ]
  },
  {
   "cell_type": "code",
   "execution_count": 12,
   "metadata": {},
   "outputs": [
    {
     "name": "stdout",
     "output_type": "stream",
     "text": [
      "2 X 1 = 2\n",
      "2 X 2 = 4\n",
      "2 X 3 = 6\n",
      "2 X 4 = 8\n",
      "2 X 5 = 10\n",
      "2 X 6 = 12\n",
      "2 X 7 = 14\n",
      "2 X 8 = 16\n",
      "2 X 9 = 18\n",
      "3 X 1 = 3\n",
      "3 X 2 = 6\n",
      "3 X 3 = 9\n",
      "3 X 4 = 12\n",
      "3 X 5 = 15\n",
      "3 X 6 = 18\n",
      "3 X 7 = 21\n",
      "3 X 8 = 24\n",
      "3 X 9 = 27\n",
      "4 X 1 = 4\n",
      "4 X 2 = 8\n",
      "4 X 3 = 12\n",
      "4 X 4 = 16\n",
      "4 X 5 = 20\n",
      "4 X 6 = 24\n",
      "4 X 7 = 28\n",
      "4 X 8 = 32\n",
      "4 X 9 = 36\n",
      "5 X 1 = 5\n",
      "5 X 2 = 10\n",
      "5 X 3 = 15\n",
      "5 X 4 = 20\n",
      "5 X 5 = 25\n",
      "5 X 6 = 30\n",
      "5 X 7 = 35\n",
      "5 X 8 = 40\n",
      "5 X 9 = 45\n",
      "6 X 1 = 6\n",
      "6 X 2 = 12\n",
      "6 X 3 = 18\n",
      "6 X 4 = 24\n",
      "6 X 5 = 30\n",
      "6 X 6 = 36\n",
      "6 X 7 = 42\n",
      "6 X 8 = 48\n",
      "6 X 9 = 54\n",
      "7 X 1 = 7\n",
      "7 X 2 = 14\n",
      "7 X 3 = 21\n",
      "7 X 4 = 28\n",
      "7 X 5 = 35\n",
      "7 X 6 = 42\n",
      "7 X 7 = 49\n",
      "7 X 8 = 56\n",
      "7 X 9 = 63\n",
      "8 X 1 = 8\n",
      "8 X 2 = 16\n",
      "8 X 3 = 24\n",
      "8 X 4 = 32\n",
      "8 X 5 = 40\n",
      "8 X 6 = 48\n",
      "8 X 7 = 56\n",
      "8 X 8 = 64\n",
      "8 X 9 = 72\n",
      "9 X 1 = 9\n",
      "9 X 2 = 18\n",
      "9 X 3 = 27\n",
      "9 X 4 = 36\n",
      "9 X 5 = 45\n",
      "9 X 6 = 54\n",
      "9 X 7 = 63\n",
      "9 X 8 = 72\n",
      "9 X 9 = 81\n",
      "10 X 1 = 10\n",
      "10 X 2 = 20\n",
      "10 X 3 = 30\n",
      "10 X 4 = 40\n",
      "10 X 5 = 50\n",
      "10 X 6 = 60\n",
      "10 X 7 = 70\n",
      "10 X 8 = 80\n",
      "10 X 9 = 90\n",
      "11 X 1 = 11\n",
      "11 X 2 = 22\n",
      "11 X 3 = 33\n",
      "11 X 4 = 44\n",
      "11 X 5 = 55\n",
      "11 X 6 = 66\n",
      "11 X 7 = 77\n",
      "11 X 8 = 88\n",
      "11 X 9 = 99\n",
      "12 X 1 = 12\n",
      "12 X 2 = 24\n",
      "12 X 3 = 36\n",
      "12 X 4 = 48\n",
      "12 X 5 = 60\n",
      "12 X 6 = 72\n",
      "12 X 7 = 84\n",
      "12 X 8 = 96\n",
      "12 X 9 = 108\n",
      "13 X 1 = 13\n",
      "13 X 2 = 26\n",
      "13 X 3 = 39\n",
      "13 X 4 = 52\n",
      "13 X 5 = 65\n",
      "13 X 6 = 78\n",
      "13 X 7 = 91\n",
      "13 X 8 = 104\n",
      "13 X 9 = 117\n",
      "14 X 1 = 14\n",
      "14 X 2 = 28\n",
      "14 X 3 = 42\n",
      "14 X 4 = 56\n",
      "14 X 5 = 70\n",
      "14 X 6 = 84\n",
      "14 X 7 = 98\n",
      "14 X 8 = 112\n",
      "14 X 9 = 126\n",
      "15 X 1 = 15\n",
      "15 X 2 = 30\n",
      "15 X 3 = 45\n",
      "15 X 4 = 60\n",
      "15 X 5 = 75\n",
      "15 X 6 = 90\n",
      "15 X 7 = 105\n",
      "15 X 8 = 120\n",
      "15 X 9 = 135\n",
      "16 X 1 = 16\n",
      "16 X 2 = 32\n",
      "16 X 3 = 48\n",
      "16 X 4 = 64\n",
      "16 X 5 = 80\n",
      "16 X 6 = 96\n",
      "16 X 7 = 112\n",
      "16 X 8 = 128\n",
      "16 X 9 = 144\n",
      "17 X 1 = 17\n",
      "17 X 2 = 34\n",
      "17 X 3 = 51\n",
      "17 X 4 = 68\n",
      "17 X 5 = 85\n",
      "17 X 6 = 102\n",
      "17 X 7 = 119\n",
      "17 X 8 = 136\n",
      "17 X 9 = 153\n",
      "18 X 1 = 18\n",
      "18 X 2 = 36\n",
      "18 X 3 = 54\n",
      "18 X 4 = 72\n",
      "18 X 5 = 90\n",
      "18 X 6 = 108\n",
      "18 X 7 = 126\n",
      "18 X 8 = 144\n",
      "18 X 9 = 162\n",
      "19 X 1 = 19\n",
      "19 X 2 = 38\n",
      "19 X 3 = 57\n",
      "19 X 4 = 76\n",
      "19 X 5 = 95\n",
      "19 X 6 = 114\n",
      "19 X 7 = 133\n",
      "19 X 8 = 152\n",
      "19 X 9 = 171\n"
     ]
    }
   ],
   "source": [
    "for i in range(2,20):\n",
    "    for j in range(1,10):\n",
    "        print(i,\"X\",j,\"=\",i*j)"
   ]
  },
  {
   "cell_type": "markdown",
   "metadata": {},
   "source": [
    "* Q) 100 까지 소수를 모두 찾아보세요!!!!"
   ]
  },
  {
   "cell_type": "code",
   "execution_count": 20,
   "metadata": {},
   "outputs": [
    {
     "name": "stdout",
     "output_type": "stream",
     "text": [
      "2\n",
      "3\n",
      "5\n",
      "7\n",
      "11\n",
      "13\n",
      "17\n",
      "19\n",
      "23\n",
      "29\n",
      "31\n",
      "37\n",
      "41\n",
      "43\n",
      "47\n",
      "53\n",
      "59\n",
      "61\n",
      "67\n",
      "71\n",
      "73\n",
      "79\n",
      "83\n",
      "89\n",
      "97\n"
     ]
    }
   ],
   "source": [
    "a=[]\n",
    "count=0\n",
    "for i in range(2,101):\n",
    "    for j in range(1,i+1):\n",
    "        if(i%j==0):\n",
    "            count+=1\n",
    "    if(count==2):\n",
    "        print(i)\n",
    "    count=0"
   ]
  },
  {
   "cell_type": "markdown",
   "metadata": {},
   "source": [
    "* Q) 두 수 54, 24의 최대공약수, 공약수를 구해보세요!!!"
   ]
  },
  {
   "cell_type": "code",
   "execution_count": 27,
   "metadata": {},
   "outputs": [
    {
     "name": "stdout",
     "output_type": "stream",
     "text": [
      "최대공약수:  6\n",
      "공약수: [1, 2, 3, 6]\n"
     ]
    }
   ],
   "source": [
    "a=54\n",
    "b=24\n",
    "c=[]\n",
    "d=[]\n",
    "for i in range(1,25):\n",
    "    if(24%i==0):\n",
    "        c.append(i)\n",
    "for j in c:\n",
    "    if(54%j==0):\n",
    "        d.append(j)\n",
    "print(\"최대공약수: \",d[len(d)-1])\n",
    "print(\"공약수:\", d)\n"
   ]
  },
  {
   "cell_type": "markdown",
   "metadata": {},
   "source": [
    "*Q) @@@@@ 을 출력하세요!!!"
   ]
  },
  {
   "cell_type": "code",
   "execution_count": 28,
   "metadata": {},
   "outputs": [
    {
     "name": "stdout",
     "output_type": "stream",
     "text": [
      "@@@@@\n"
     ]
    }
   ],
   "source": [
    "print(\"@\"+\"@\"+\"@\"+\"@\"+\"@\")"
   ]
  },
  {
   "cell_type": "code",
   "execution_count": 29,
   "metadata": {},
   "outputs": [
    {
     "name": "stdout",
     "output_type": "stream",
     "text": [
      "@@@@@\n"
     ]
    }
   ],
   "source": [
    "print(\"@\"*5)"
   ]
  },
  {
   "cell_type": "code",
   "execution_count": 30,
   "metadata": {},
   "outputs": [
    {
     "name": "stdout",
     "output_type": "stream",
     "text": [
      "*****"
     ]
    }
   ],
   "source": [
    "for i in range(5):\n",
    "    print(\"*\",end=\"\")"
   ]
  },
  {
   "cell_type": "code",
   "execution_count": 31,
   "metadata": {},
   "outputs": [
    {
     "name": "stdout",
     "output_type": "stream",
     "text": [
      "@@@@@"
     ]
    }
   ],
   "source": [
    "for i in range(5):\n",
    "    print(\"@\", end=\"\")"
   ]
  },
  {
   "cell_type": "code",
   "execution_count": 32,
   "metadata": {},
   "outputs": [
    {
     "name": "stdout",
     "output_type": "stream",
     "text": [
      "반복할 수를 입력하세요!!!!7\n",
      "@@@@@@@"
     ]
    }
   ],
   "source": [
    "num = int(input(\"반복할 수를 입력하세요!!!!\"))\n",
    "\n",
    "for i in range(num):\n",
    "    print(\"@\", end=\"\")"
   ]
  },
  {
   "cell_type": "markdown",
   "metadata": {},
   "source": [
    "* Q)   \n",
    "@@@@@  \n",
    "@@@@@  \n",
    "@@@@@  \n",
    "@@@@@  "
   ]
  },
  {
   "cell_type": "code",
   "execution_count": 36,
   "metadata": {},
   "outputs": [
    {
     "name": "stdout",
     "output_type": "stream",
     "text": [
      "@@@@@\n",
      "@@@@@\n",
      "@@@@@\n",
      "@@@@@\n"
     ]
    }
   ],
   "source": [
    "for i in range(1,5):\n",
    "    for j in range(1,6):\n",
    "        print(\"@\",end=\"\")\n",
    "    print(\"\")    "
   ]
  },
  {
   "cell_type": "markdown",
   "metadata": {},
   "source": [
    "* Q) 위의 그림을 만드세요"
   ]
  },
  {
   "cell_type": "code",
   "execution_count": 37,
   "metadata": {},
   "outputs": [
    {
     "name": "stdout",
     "output_type": "stream",
     "text": [
      "@\n",
      "@@\n",
      "@@@\n",
      "@@@@\n",
      "@@@@@\n"
     ]
    }
   ],
   "source": [
    "for i in range(0,5):\n",
    "    for j in range(0,i+1):\n",
    "        print(\"@\", end=\"\")\n",
    "    print()"
   ]
  },
  {
   "cell_type": "markdown",
   "metadata": {},
   "source": [
    "* Q) 위의 그림을 만드세요!!!"
   ]
  },
  {
   "cell_type": "code",
   "execution_count": 56,
   "metadata": {},
   "outputs": [
    {
     "name": "stdout",
     "output_type": "stream",
     "text": [
      "@@@@@\n",
      " @@@@\n",
      "  @@@\n",
      "   @@\n",
      "    @\n"
     ]
    }
   ],
   "source": [
    "for i in range(0,5):\n",
    "    for j in range(0,i):\n",
    "        print(\" \",end=\"\")\n",
    "    for k in range(0,5-i):\n",
    "        print(\"@\",end=\"\")\n",
    "    print()"
   ]
  },
  {
   "cell_type": "markdown",
   "metadata": {},
   "source": [
    "* Q) 위의 그림을 만드세요!"
   ]
  },
  {
   "cell_type": "code",
   "execution_count": 59,
   "metadata": {},
   "outputs": [
    {
     "name": "stdout",
     "output_type": "stream",
     "text": [
      "    @    \n",
      "   @@@   \n",
      "  @@@@@  \n",
      " @@@@@@@ \n",
      "@@@@@@@@@\n"
     ]
    }
   ],
   "source": [
    "for i in range(0,5):\n",
    "    for j in range(0,4-i):\n",
    "        print(\" \",end=\"\")\n",
    "    for k in range(0,1+2*(i)):\n",
    "        print(\"@\",end=\"\")\n",
    "    for j in range(0,4-i):\n",
    "        print(\" \",end=\"\")\n",
    "    print()"
   ]
  },
  {
   "cell_type": "markdown",
   "metadata": {},
   "source": [
    "* Q) 위의 그림을 만드세요"
   ]
  },
  {
   "cell_type": "code",
   "execution_count": 61,
   "metadata": {},
   "outputs": [
    {
     "name": "stdout",
     "output_type": "stream",
     "text": [
      "@@@@@@@@@\n",
      " @@@@@@@ \n",
      "  @@@@@  \n",
      "   @@@   \n",
      "    @    \n"
     ]
    }
   ],
   "source": [
    "for i in range(0,5):\n",
    "    for j in range(0,i):\n",
    "        print(\" \",end=\"\")\n",
    "    for k in range(0,9-2*(i)):\n",
    "        print(\"@\",end=\"\")\n",
    "    for j in range(0,i):\n",
    "        print(\" \",end=\"\")\n",
    "    print()"
   ]
  },
  {
   "cell_type": "markdown",
   "metadata": {},
   "source": [
    "* 위와 같은 결과를 만드세요"
   ]
  },
  {
   "cell_type": "code",
   "execution_count": 64,
   "metadata": {},
   "outputs": [
    {
     "name": "stdout",
     "output_type": "stream",
     "text": [
      "\n",
      "1\n",
      "22\n",
      "333\n",
      "4444\n",
      "55555\n",
      "666666\n",
      "7777777\n",
      "88888888\n",
      "999999999\n"
     ]
    }
   ],
   "source": [
    "for i in range(0,10):\n",
    "    for j in range(0,i):\n",
    "        print(i,end=\"\")\n",
    "    print()"
   ]
  },
  {
   "cell_type": "markdown",
   "metadata": {},
   "source": [
    "* Q) * Q) 1부터 50까지에서 3의 배수에는 three, 5의 배수에는 five, 3과 5의 공배수에는 three-five를 출력하세요   \n",
    "1  \n",
    "2  \n",
    "three  \n",
    "4  \n",
    "five  \n",
    "...\n",
    "14  \n",
    "three-five\n",
    "16\n",
    "..."
   ]
  },
  {
   "cell_type": "code",
   "execution_count": 75,
   "metadata": {},
   "outputs": [
    {
     "name": "stdout",
     "output_type": "stream",
     "text": [
      "1\n",
      "2\n",
      "three\n",
      "4\n",
      "five\n",
      "three\n",
      "7\n",
      "8\n",
      "three\n",
      "five\n",
      "11\n",
      "three\n",
      "13\n",
      "14\n",
      "three-five\n",
      "16\n",
      "17\n",
      "three\n",
      "19\n",
      "five\n",
      "three\n",
      "22\n",
      "23\n",
      "three\n",
      "five\n",
      "26\n",
      "three\n",
      "28\n",
      "29\n",
      "three-five\n",
      "31\n",
      "32\n",
      "three\n",
      "34\n",
      "five\n",
      "three\n",
      "37\n",
      "38\n",
      "three\n",
      "five\n",
      "41\n",
      "three\n",
      "43\n",
      "44\n",
      "three-five\n",
      "46\n",
      "47\n",
      "three\n",
      "49\n",
      "five\n"
     ]
    }
   ],
   "source": [
    "a=[]\n",
    "for i in range(1,51):\n",
    "    if(i%3==0 and i%5==0):\n",
    "        print(\"three-five\")\n",
    "    elif(i%3==0):\n",
    "        print(\"three\")\n",
    "    elif(i%5==0):\n",
    "        print(\"five\")\n",
    "    else:\n",
    "        print(i)\n",
    "    "
   ]
  },
  {
   "cell_type": "markdown",
   "metadata": {},
   "source": [
    "* Q) 입력 : 월/일 의 2개의 정보를 받아서, 어느 계절인지 나타내어라!!\n",
    "(예 : 3월 12일 --> 봄, 12월 24일 --> 겨울)\n",
    "(단, 봄:3~5, 여름:6~8, 가을 9~11, 겨울 12~2)"
   ]
  },
  {
   "cell_type": "code",
   "execution_count": 77,
   "metadata": {},
   "outputs": [
    {
     "name": "stdout",
     "output_type": "stream",
     "text": [
      "일을 입력20\n",
      "월을 입력4\n",
      "봄\n"
     ]
    }
   ],
   "source": [
    "day=int(input(\"일을 입력\"))\n",
    "month=int(input(\"월을 입력\"))\n",
    "if(month>=3 and month<=5):\n",
    "    print(\"봄\")\n",
    "elif(month>=6 and month<=8):\n",
    "    print(\"여름\")\n",
    "elif(month>=9 and month<=11):\n",
    "    print(\"가을\")\n",
    "else:\n",
    "    print(\"겨울\")"
   ]
  },
  {
   "cell_type": "markdown",
   "metadata": {},
   "source": [
    "* Q) 학생의 점수을 입력을 받아서, 그 점수에 해당하는 학점을 출력을 하고, 그 학점이 A는 \"참 잘했습니다\", B는 \"잘 했습니다.\", C는 \"좀 더 노력하세요\", D는 \"재수강을 권장합니다\", F는 \"꼭 다시 들으세요!!!\"로 판별해주기.  \n",
    "단, F: 40점 미만, D:40점 이상~60점 미만, C : 60이상~80점 미만, B:80이상~90점 미만, A:90점 이상 이상"
   ]
  },
  {
   "cell_type": "code",
   "execution_count": 78,
   "metadata": {},
   "outputs": [
    {
     "name": "stdout",
     "output_type": "stream",
     "text": [
      "점수 입력43\n",
      "재수강 권장해\n"
     ]
    }
   ],
   "source": [
    "a=int(input(\"점수 입력\"))\n",
    "if(a>=90 ):\n",
    "    print(\"참 잘했\")\n",
    "elif(a>=80 and a<90):\n",
    "    print(\"잘했\")\n",
    "elif(a>=60 and a<80):\n",
    "    print(\"좀 더 노력\")\n",
    "elif(a>=40 and a<60):\n",
    "    print(\"재수강 권장해\")    \n",
    "else:\n",
    "    print(\"다시 들어\")"
   ]
  },
  {
   "cell_type": "markdown",
   "metadata": {},
   "source": [
    "* 한 점을 구성하는 (x,y)의 좌표를 입력받고, 이 점이 (50,40), (50,80), (100,40), (100,80)을 꼭지점으로 하는 사각형 안에 있는지 판단하세요!!!"
   ]
  },
  {
   "cell_type": "code",
   "execution_count": 80,
   "metadata": {},
   "outputs": [
    {
     "name": "stdout",
     "output_type": "stream",
     "text": [
      "x좌표 입력70\n",
      "y좌표 입력70\n",
      "안에 있\n"
     ]
    }
   ],
   "source": [
    "x=int(input(\"x좌표 입력\"))\n",
    "y=int(input(\"y좌표 입력\"))\n",
    "\n",
    "if(x>=50 and x<=100):\n",
    "    if(y>=40 and y<=80):\n",
    "        print(\"안에 있\")\n",
    "    else:\n",
    "        print(\"밖에 있\")\n",
    "    \n",
    "else:\n",
    "    print(\"밖에 있\")\n",
    "    "
   ]
  },
  {
   "cell_type": "markdown",
   "metadata": {},
   "source": [
    "* Q) 입력한 수의 각 자리수를 더하는 프로그램을 작성하시오.  \n",
    "예 : 12345--> 1+2+3+4+5=15"
   ]
  },
  {
   "cell_type": "code",
   "execution_count": 85,
   "metadata": {},
   "outputs": [
    {
     "name": "stdout",
     "output_type": "stream",
     "text": [
      "입력해12345\n",
      "15\n"
     ]
    }
   ],
   "source": [
    "a=input(\"입력해\")\n",
    "sum_a=0\n",
    "for i in a:\n",
    "    sum_a+=int(i)\n",
    "print(sum_a)\n"
   ]
  },
  {
   "cell_type": "markdown",
   "metadata": {},
   "source": [
    "* Q) a,b,c가 자연수 일때, a + b + c = 100을 만족하는 중복되지 않는 세 자연수의 개수를 구하는 프로그램을 작성하시오. 예를 들어서(30,40,30)은 (40,30,30)과 같은 경우라고 한다!!!!"
   ]
  },
  {
   "cell_type": "code",
   "execution_count": 1,
   "metadata": {},
   "outputs": [
    {
     "name": "stdout",
     "output_type": "stream",
     "text": [
      "833.0\n"
     ]
    }
   ],
   "source": [
    "count1=0\n",
    "count2=0\n",
    "for i in range(1,99):\n",
    "    for j in range(1,99):\n",
    "        for k in range(1,99):\n",
    "            if((i+j+k)==100):\n",
    "                if(i==j or j==k or i==k):\n",
    "                    count1+=1\n",
    "                else:\n",
    "                    count2+=1\n",
    "print((count1/3)+(count2/6))"
   ]
  },
  {
   "cell_type": "markdown",
   "metadata": {},
   "source": [
    "* Q) 1부터 100까지의 나열 할 때 1~9까지 숫자는 각각 몇 번 나타나는지를 세어 보세요!!!"
   ]
  },
  {
   "cell_type": "code",
   "execution_count": 2,
   "metadata": {},
   "outputs": [
    {
     "name": "stdout",
     "output_type": "stream",
     "text": [
      "0 :  11\n",
      "1 :  21\n",
      "2 :  20\n",
      "3 :  20\n",
      "4 :  20\n",
      "5 :  20\n",
      "6 :  20\n",
      "7 :  20\n",
      "8 :  20\n",
      "9 :  20\n"
     ]
    }
   ],
   "source": [
    "a=[0,0,0,0,0,0,0,0,0,0]\n",
    "\n",
    "for i in range(1,101):\n",
    "    b=str(i)\n",
    "    for j in b:\n",
    "        if(j==\"0\"):\n",
    "            a[0]+=1\n",
    "        elif(j==\"1\"):\n",
    "            \n",
    "            \n",
    "            a[1]+=1\n",
    "        elif(j==\"2\"):\n",
    "            a[2]+=1\n",
    "        elif(j==\"3\"):\n",
    "            a[3]+=1\n",
    "        elif(j==\"4\"):\n",
    "            a[4]+=1\n",
    "        elif(j==\"5\"):\n",
    "            a[5]+=1\n",
    "        elif(j==\"6\"):\n",
    "            a[6]+=1\n",
    "        elif(j==\"7\"):\n",
    "            a[7]+=1\n",
    "        elif(j==\"8\"):\n",
    "            a[8]+=1\n",
    "        else:\n",
    "            a[9]+=1\n",
    "for k in range(0,10):\n",
    "    print(k,\": \",a[k])\n",
    "        "
   ]
  },
  {
   "cell_type": "markdown",
   "metadata": {},
   "source": [
    "* Q) a = [20,55,67,82,45,33,90,87,100,25]점수일 때, 50점 이상인 점수들의 합!!!!!   \n",
    "방법 1 : for/ range사용,  \n",
    "방법 2 : for/ 직접 값 사용,  \n",
    "방법 3 : while사용"
   ]
  },
  {
   "cell_type": "code",
   "execution_count": 22,
   "metadata": {},
   "outputs": [],
   "source": [
    "a = [20,55,67,82,45,33,90,87,100,25]"
   ]
  },
  {
   "cell_type": "code",
   "execution_count": 4,
   "metadata": {},
   "outputs": [
    {
     "name": "stdout",
     "output_type": "stream",
     "text": [
      "481\n"
     ]
    }
   ],
   "source": [
    "a = [20,55,67,82,45,33,90,87,100,25]\n",
    "sum_a=0\n",
    "for i in range(0,len(a)):\n",
    "    if(a[i]>=50):\n",
    "        sum_a+=a[i]\n",
    "    else:\n",
    "        pass\n",
    "print(sum_a)"
   ]
  },
  {
   "cell_type": "code",
   "execution_count": 4,
   "metadata": {},
   "outputs": [
    {
     "name": "stdout",
     "output_type": "stream",
     "text": [
      "481\n"
     ]
    }
   ],
   "source": [
    "a = [20,55,67,82,45,33,90,87,100,25]\n",
    "sum_a=0\n",
    "for i in range(0,len(a)):\n",
    "    if(a[i]>=50):\n",
    "        sum_a+=a[i]\n",
    "    else:\n",
    "        pass\n",
    "print(sum_a)"
   ]
  },
  {
   "cell_type": "code",
   "execution_count": 6,
   "metadata": {},
   "outputs": [
    {
     "name": "stdout",
     "output_type": "stream",
     "text": [
      "481\n"
     ]
    }
   ],
   "source": [
    "a = [20,55,67,82,45,33,90,87,100,25]\n",
    "i=0\n",
    "sum_a=0\n",
    "while(i<len(a)):\n",
    "    if(a[i]>=50):\n",
    "        sum_a+=a[i]\n",
    "        i+=1\n",
    "    else:\n",
    "        i+=1\n",
    "print(sum_a)"
   ]
  },
  {
   "cell_type": "markdown",
   "metadata": {},
   "source": [
    "* Q) 1부터 100까지 3의 배수들의 합!!!!! for"
   ]
  },
  {
   "cell_type": "code",
   "execution_count": 7,
   "metadata": {},
   "outputs": [
    {
     "name": "stdout",
     "output_type": "stream",
     "text": [
      "481\n"
     ]
    }
   ],
   "source": [
    "a = [20,55,67,82,45,33,90,87,100,25]\n",
    "i=0\n",
    "sum_a=0\n",
    "while(i<len(a)):\n",
    "    if(a[i]>=50):\n",
    "        sum_a+=a[i]\n",
    "        i+=1\n",
    "    else:\n",
    "        i+=1\n",
    "print(sum_a)"
   ]
  },
  {
   "cell_type": "markdown",
   "metadata": {},
   "source": [
    "* Q)1부터 100까지 3의 배수들의 합!!!!! while"
   ]
  },
  {
   "cell_type": "code",
   "execution_count": 8,
   "metadata": {},
   "outputs": [
    {
     "name": "stdout",
     "output_type": "stream",
     "text": [
      "1683\n"
     ]
    }
   ],
   "source": [
    "sum_a=0\n",
    "i=1\n",
    "while(i<101):\n",
    "    if(i%3==0):\n",
    "        sum_a+=i\n",
    "        i+=1\n",
    "    else:\n",
    "        i+=1\n",
    "print(sum_a)"
   ]
  },
  {
   "cell_type": "markdown",
   "metadata": {},
   "source": [
    "* 야구 게임 : 1S 1B 1O에 대한 것을 만들어 보시오. 다만 처음에 하기 위해서는 random으로 시작을 해야함!!!"
   ]
  },
  {
   "cell_type": "code",
   "execution_count": 9,
   "metadata": {},
   "outputs": [
    {
     "name": "stdout",
     "output_type": "stream",
     "text": [
      "첫번째 숫자 입력2\n",
      "두번째 숫자 입력4\n",
      "세번째 숫자 입력6\n",
      "8 4 5\n",
      "S:  1\n",
      "B:  0\n",
      "O:  2\n"
     ]
    }
   ],
   "source": [
    "from random import randint\n",
    "s=0\n",
    "b=0\n",
    "o=0\n",
    "a1=randint(0,9)\n",
    "a2=randint(0,9)\n",
    "a3=randint(0,9)\n",
    "i1=int(input(\"첫번째 숫자 입력\"))\n",
    "i2=int(input(\"두번째 숫자 입력\"))\n",
    "i3=int(input(\"세번째 숫자 입력\"))\n",
    "print(a1,a2,a3)\n",
    "if(i1==a1):\n",
    "    s+=1\n",
    "elif(i1==a2 or i1==a3):\n",
    "    b+=1\n",
    "else:\n",
    "    o+=1\n",
    "if(i2==a2):\n",
    "    s+=1\n",
    "elif(i2==a1 or i2==a3):\n",
    "    b+=1\n",
    "else:\n",
    "    o+=1    \n",
    "if(i3==a3):\n",
    "    s+=1\n",
    "elif(i3==a2 or i3==a1):\n",
    "    b+=1\n",
    "else:\n",
    "    o+=1\n",
    "if(s==3):\n",
    "    print(\"game over\")\n",
    "else:\n",
    "    print(\"S: \",s)\n",
    "    print(\"B: \",b)\n",
    "    print(\"O: \",o)"
   ]
  },
  {
   "cell_type": "markdown",
   "metadata": {},
   "source": [
    "* Q)숫자 up/down으로 1~100까지 수 중에서 알아 맞추기!!! random이용!!!"
   ]
  },
  {
   "cell_type": "code",
   "execution_count": 10,
   "metadata": {},
   "outputs": [
    {
     "name": "stdout",
     "output_type": "stream",
     "text": [
      "1~100 숫자 Up & Down 게임을 시작합니다 !!!\n",
      "---------------------------\n",
      "1 ~ 100 사이의 숫자를 입력하세요 :2\n",
      "up\n",
      "1 ~ 100 사이의 숫자를 입력하세요 :50\n",
      "down\n",
      "1 ~ 100 사이의 숫자를 입력하세요 :43\n",
      "down\n",
      "1 ~ 100 사이의 숫자를 입력하세요 :30\n",
      "down\n",
      "1 ~ 100 사이의 숫자를 입력하세요 :20\n",
      "down\n",
      "1 ~ 100 사이의 숫자를 입력하세요 :10\n",
      "up\n",
      "1 ~ 100 사이의 숫자를 입력하세요 :15\n",
      "---------------------------\n",
      "7 번 만에 정답을 맞추셨습니다.\n"
     ]
    }
   ],
   "source": [
    "import random\n",
    "\n",
    "# 게임을 위한 랜덤 숫자 생성\n",
    "rn = random.randrange(1, 101, 1)\n",
    "count=1\n",
    "print(\"1~100 숫자 Up & Down 게임을 시작합니다 !!!\")\n",
    "print(\"---------------------------\")\n",
    "while(True):\n",
    "    \n",
    "    a=int(input(\"1 ~ 100 사이의 숫자를 입력하세요 :\"))\n",
    "    if(a==rn):\n",
    "        print(\"---------------------------\")\n",
    "        print(count,\"번 만에 정답을 맞추셨습니다.\")\n",
    "        break\n",
    "    else:\n",
    "        if(a>rn):\n",
    "            print(\"down\")\n",
    "            count+=1\n",
    "        else:\n",
    "            print(\"up\")\n",
    "            count+=1"
   ]
  },
  {
   "cell_type": "markdown",
   "metadata": {},
   "source": [
    "* Q) 1부터 입력받은 수까지 \"합의 제곱\"의 결과와 \"제곱의 합\"과의 차이를 구하시오!!!    \n",
    "합의 제곱 : 1^2 + 2^2 + ... + 10^2 = 385   \n",
    "제곱의 합 : (1+2+3..+10)^2 = 3025"
   ]
  },
  {
   "cell_type": "code",
   "execution_count": 11,
   "metadata": {},
   "outputs": [
    {
     "name": "stdout",
     "output_type": "stream",
     "text": [
      "입력해10\n",
      "2640\n"
     ]
    }
   ],
   "source": [
    "   sum_sq=0\n",
    "sq_sum=0\n",
    "result=0\n",
    "a=int(input(\"입력해\"))\n",
    "for i in range(1,a+1):\n",
    "    sum_sq+=i**2\n",
    "    sq_sum+=i\n",
    "sq_sum=sq_sum**2\n",
    "result=sq_sum-sum_sq\n",
    "print(result)"
   ]
  },
  {
   "cell_type": "markdown",
   "metadata": {},
   "source": [
    "* Q)  핸드폰 번호 뒤에 4자리만 남기고, 앞의 7자리에 대한 것을 *로 지워보세요!!! (함수 만들어서!!!)"
   ]
  },
  {
   "cell_type": "code",
   "execution_count": 12,
   "metadata": {},
   "outputs": [
    {
     "name": "stdout",
     "output_type": "stream",
     "text": [
      "'*********5678'\n"
     ]
    }
   ],
   "source": [
    "def encryfunc( x ) :\n",
    "    a=[]\n",
    "    print(\"'\",end=\"\")\n",
    "    for i in range(0,len(x)-4):\n",
    "        print(\"*\",end=\"\")\n",
    "    for j in range(len(x)-4,len(x)):\n",
    "        print(x[j],end=\"\")\n",
    "    print(\"'\")\n",
    "encryfunc(\"010-1234-5678\")    "
   ]
  },
  {
   "cell_type": "code",
   "execution_count": 13,
   "metadata": {},
   "outputs": [
    {
     "name": "stdout",
     "output_type": "stream",
     "text": [
      "'*******5678'\n"
     ]
    }
   ],
   "source": [
    "def encryfunc( x ) :\n",
    "    a=[]\n",
    "    print(\"'\",end=\"\")\n",
    "    for i in range(0,len(x)-4):\n",
    "        print(\"*\",end=\"\")\n",
    "    for j in range(len(x)-4,len(x)):\n",
    "        print(x[j],end=\"\")\n",
    "    print(\"'\")\n",
    "encryfunc(\"01034565678\")"
   ]
  },
  {
   "cell_type": "markdown",
   "metadata": {},
   "source": [
    "* Q) 연습문제 : computepay라는 함수를 만들어서, 근무 시간과 초과근무 시 비율을 입력하고, 월급을 계산하는 함수를 만드세요!!(월 기준으로 8시간 * 5일 * 4주 =160시간이 기준, 160시간까지는 1시간당 월급이 1만원, 초과 근무 시 비율이 만약에 50%라면 1.5만원, 초과 근무 시 비율이 30%라면 1.3만원)     \n",
    "예 : computpay(170, 50) --> 160 X 1 + 10 X 1 X 1.5 (원)"
   ]
  },
  {
   "cell_type": "code",
   "execution_count": 14,
   "metadata": {},
   "outputs": [
    {
     "name": "stdout",
     "output_type": "stream",
     "text": [
      "2240000.0\n"
     ]
    }
   ],
   "source": [
    "def computepay(x,y) :\n",
    "    sum_a=0\n",
    "    if(x<=160):\n",
    "        sum_a=x*1\n",
    "        return sum_a*10000\n",
    "    else:\n",
    "        sum_a+=160*1\n",
    "        sum_a=sum_a+(x-160)*1*(1+y/100)\n",
    "        return sum_a*10000\n",
    "tom = computepay(200, 60)\n",
    "print(tom)"
   ]
  },
  {
   "cell_type": "code",
   "execution_count": 5,
   "metadata": {},
   "outputs": [
    {
     "name": "stdout",
     "output_type": "stream",
     "text": [
      "2240000.0\n"
     ]
    }
   ],
   "source": [
    "tom = computepay(200, 60)\n",
    "print(tom)"
   ]
  },
  {
   "cell_type": "code",
   "execution_count": null,
   "metadata": {},
   "outputs": [],
   "source": []
  },
  {
   "cell_type": "code",
   "execution_count": null,
   "metadata": {},
   "outputs": [],
   "source": []
  },
  {
   "cell_type": "code",
   "execution_count": null,
   "metadata": {},
   "outputs": [],
   "source": []
  },
  {
   "cell_type": "code",
   "execution_count": null,
   "metadata": {},
   "outputs": [],
   "source": []
  },
  {
   "cell_type": "code",
   "execution_count": null,
   "metadata": {},
   "outputs": [],
   "source": []
  }
 ],
 "metadata": {
  "kernelspec": {
   "display_name": "Python 3",
   "language": "python",
   "name": "python3"
  },
  "language_info": {
   "codemirror_mode": {
    "name": "ipython",
    "version": 3
   },
   "file_extension": ".py",
   "mimetype": "text/x-python",
   "name": "python",
   "nbconvert_exporter": "python",
   "pygments_lexer": "ipython3",
   "version": "3.7.6"
  },
  "toc": {
   "base_numbering": 1,
   "nav_menu": {},
   "number_sections": true,
   "sideBar": true,
   "skip_h1_title": false,
   "title_cell": "Table of Contents",
   "title_sidebar": "Contents",
   "toc_cell": false,
   "toc_position": {},
   "toc_section_display": true,
   "toc_window_display": false
  },
  "varInspector": {
   "cols": {
    "lenName": 16,
    "lenType": 16,
    "lenVar": 40
   },
   "kernels_config": {
    "python": {
     "delete_cmd_postfix": "",
     "delete_cmd_prefix": "del ",
     "library": "var_list.py",
     "varRefreshCmd": "print(var_dic_list())"
    },
    "r": {
     "delete_cmd_postfix": ") ",
     "delete_cmd_prefix": "rm(",
     "library": "var_list.r",
     "varRefreshCmd": "cat(var_dic_list()) "
    }
   },
   "types_to_exclude": [
    "module",
    "function",
    "builtin_function_or_method",
    "instance",
    "_Feature"
   ],
   "window_display": false
  },
  "widgets": {
   "state": {},
   "version": "1.1.2"
  }
 },
 "nbformat": 4,
 "nbformat_minor": 2
}
