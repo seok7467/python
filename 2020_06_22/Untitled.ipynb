{
 "cells": [
  {
   "cell_type": "code",
   "execution_count": 14,
   "metadata": {},
   "outputs": [
    {
     "name": "stdout",
     "output_type": "stream",
     "text": [
      "a\n",
      "1\n"
     ]
    }
   ],
   "source": [
    "#대소문자 구별하ㅏㅏㅏㅏㅏㅏㅏㅏㅁ\n",
    "A=\"a\"\n",
    "a=\"1\"\n",
    "print(A)\n",
    "print(a)"
   ]
  },
  {
   "cell_type": "code",
   "execution_count": 17,
   "metadata": {},
   "outputs": [
    {
     "name": "stdout",
     "output_type": "stream",
     "text": [
      "<class 'int'>\n",
      "<class 'float'>\n",
      "<class 'str'>\n"
     ]
    }
   ],
   "source": [
    "#변수의 형을 마음대로 변경 가능ㅇㅇㅇㅇㅇㅇㅇㅇ\n",
    "a=3\n",
    "print(type(a))\n",
    "a=3.111111111\n",
    "print(type(a))\n",
    "a=\"213123\"\n",
    "print(type(a))"
   ]
  },
  {
   "cell_type": "code",
   "execution_count": 18,
   "metadata": {},
   "outputs": [],
   "source": [
    "#들여쓰기 사용해 구분ㄴㄴㄴㄴㄴ\n",
    "def madefunction():\n",
    "    print(\"aaa\")"
   ]
  },
  {
   "cell_type": "code",
   "execution_count": 19,
   "metadata": {},
   "outputs": [],
   "source": [
    "#변수명은 항상 왼쪽에ㅔㅔㅔㅔㅔㅔ\n",
    "a=12\n",
    "# 12=a 에러"
   ]
  },
  {
   "cell_type": "code",
   "execution_count": 24,
   "metadata": {},
   "outputs": [
    {
     "name": "stdout",
     "output_type": "stream",
     "text": [
      "a-value: 12\n",
      "a-id: 140710574465776\n"
     ]
    }
   ],
   "source": [
    "#문자와 변수값 같이 나타내기ㅣㅣㅣㅣㅣㅣㅣ\n",
    "a=12\n",
    "b=\"hello\"\n",
    "print(\"a-value:\",a)\n",
    "print(\"a-id:\",id(a))"
   ]
  },
  {
   "cell_type": "code",
   "execution_count": 27,
   "metadata": {},
   "outputs": [
    {
     "name": "stdout",
     "output_type": "stream",
     "text": [
      "Action\n",
      "a-id:  140710574465776\n",
      "b-id:  140710574465776\n"
     ]
    }
   ],
   "source": [
    "# '=' 기호의 위험성\n",
    "# 링크가 져서 copy해서 사용해야함ㅁㅁㅁㅁㅁ\n",
    "print(\"Action\")\n",
    "b=a\n",
    "print(\"a-id: \" ,id(a))\n",
    "print(\"b-id: \",id(b))"
   ]
  },
  {
   "cell_type": "code",
   "execution_count": 35,
   "metadata": {},
   "outputs": [
    {
     "name": "stdout",
     "output_type": "stream",
     "text": [
      "4.333333333333333\n",
      "4\n",
      "1\n"
     ]
    },
    {
     "data": {
      "text/plain": [
       "(4, 1)"
      ]
     },
     "execution_count": 35,
     "metadata": {},
     "output_type": "execute_result"
    }
   ],
   "source": [
    "#산술, 이항연산자ㅏㅏㅏㅏ\n",
    "a1=13\n",
    "b1=3\n",
    "print(a1/b1) #나누기\n",
    "print(a1//b1) #몫\n",
    "print(a1%b1) #나머지\n",
    "divmod(a1,b1) #나머지와 몫"
   ]
  },
  {
   "cell_type": "code",
   "execution_count": 47,
   "metadata": {},
   "outputs": [
    {
     "name": "stdout",
     "output_type": "stream",
     "text": [
      "aaaaaa\n",
      "\"aaaa\"aaa\"\n",
      "ddd\"ddd\n"
     ]
    }
   ],
   "source": [
    "#문자열 나타내기ㅣㅣㅣㅣㅣ\n",
    "# \"\"은 한개나 \"\"\"\"\"\" 3개 사용\n",
    "print(\"aaaaaa\")\n",
    "print(\"\\\"aaaa\\\"aaa\\\"\")\n",
    "print(\"\"\"ddd\"ddd\"\"\")\n",
    "# print(\"s\"\"\"\"s\") 에러"
   ]
  },
  {
   "cell_type": "code",
   "execution_count": 51,
   "metadata": {},
   "outputs": [
    {
     "name": "stdout",
     "output_type": "stream",
     "text": [
      "1\n",
      "1\n"
     ]
    }
   ],
   "source": [
    "#print하면 문자열인지 모름\n",
    "a=1\n",
    "print(a)\n",
    "b=str(1)\n",
    "print(b)"
   ]
  },
  {
   "cell_type": "code",
   "execution_count": 55,
   "metadata": {},
   "outputs": [
    {
     "data": {
      "text/plain": [
       "'1'"
      ]
     },
     "execution_count": 55,
     "metadata": {},
     "output_type": "execute_result"
    }
   ],
   "source": [
    "# 그럴 땐 직접 찍어서 봐\n",
    "b"
   ]
  },
  {
   "cell_type": "code",
   "execution_count": 56,
   "metadata": {},
   "outputs": [
    {
     "data": {
      "text/plain": [
       "1"
      ]
     },
     "execution_count": 56,
     "metadata": {},
     "output_type": "execute_result"
    }
   ],
   "source": [
    "#print안쓰면 기록이 맨 마지막꺼만 남네?\n",
    "a\n",
    "b\n",
    "a"
   ]
  },
  {
   "cell_type": "markdown",
   "metadata": {},
   "source": [
    "리스트"
   ]
  },
  {
   "cell_type": "code",
   "execution_count": 83,
   "metadata": {},
   "outputs": [
    {
     "name": "stdout",
     "output_type": "stream",
     "text": [
      "[1, 2, 3, 'abcd']\n"
     ]
    }
   ],
   "source": [
    "a_list=[1,2,3,'abcd'] #리스트 생성하기ㅣㅣ\n",
    "print(a_list)"
   ]
  },
  {
   "cell_type": "code",
   "execution_count": 60,
   "metadata": {},
   "outputs": [
    {
     "name": "stdout",
     "output_type": "stream",
     "text": [
      "(1, 2, 3, 'abcd')\n"
     ]
    }
   ],
   "source": [
    "a_tuple=(1,2,3,'abcd') #튜플 생성, 튜블은 수정 불가하네\n",
    "print(a_tuple)"
   ]
  },
  {
   "cell_type": "code",
   "execution_count": 63,
   "metadata": {},
   "outputs": [
    {
     "data": {
      "text/plain": [
       "1"
      ]
     },
     "execution_count": 63,
     "metadata": {},
     "output_type": "execute_result"
    }
   ],
   "source": [
    "a_list[0] #0번째 있는 원소 뽑아내는 방법이지라"
   ]
  },
  {
   "cell_type": "code",
   "execution_count": 65,
   "metadata": {},
   "outputs": [
    {
     "data": {
      "text/plain": [
       "'abcd'"
      ]
     },
     "execution_count": 65,
     "metadata": {},
     "output_type": "execute_result"
    }
   ],
   "source": [
    "a_list[len(a_list)-1]  #맨 마지막 원소 뽑아버리기"
   ]
  },
  {
   "cell_type": "code",
   "execution_count": 67,
   "metadata": {},
   "outputs": [
    {
     "data": {
      "text/plain": [
       "[1, 2, 3]"
      ]
     },
     "execution_count": 67,
     "metadata": {},
     "output_type": "execute_result"
    }
   ],
   "source": [
    "a_list[0:3] #0번째부터 2번째 까지, 3은 안들어가는게 중요하네"
   ]
  },
  {
   "cell_type": "code",
   "execution_count": 68,
   "metadata": {},
   "outputs": [
    {
     "data": {
      "text/plain": [
       "[1, 2, 3, 'abcd']"
      ]
     },
     "execution_count": 68,
     "metadata": {},
     "output_type": "execute_result"
    }
   ],
   "source": [
    "a_list[0:] #0번쨰 부터 끝까지 나타내는거 len(a_list) 쓸 생각 안해도 되네"
   ]
  },
  {
   "cell_type": "code",
   "execution_count": 69,
   "metadata": {},
   "outputs": [
    {
     "data": {
      "text/plain": [
       "[1, 2, 3, 'abcd']"
      ]
     },
     "execution_count": 69,
     "metadata": {},
     "output_type": "execute_result"
    }
   ],
   "source": [
    "a_list[:]  #모든 원소 출력. for문 안써도 됨.갸꿀"
   ]
  },
  {
   "cell_type": "code",
   "execution_count": 71,
   "metadata": {},
   "outputs": [
    {
     "data": {
      "text/plain": [
       "[1, 3]"
      ]
     },
     "execution_count": 71,
     "metadata": {},
     "output_type": "execute_result"
    }
   ],
   "source": [
    "a_list[0:4:2] #처음부터 끝까지 1개 뛰어서 출력. 홀,짝수 번째 가져올 떄 유용하겠네"
   ]
  },
  {
   "cell_type": "code",
   "execution_count": 77,
   "metadata": {},
   "outputs": [
    {
     "data": {
      "text/plain": [
       "[1, 2, 3, 'abcd', 'a']"
      ]
     },
     "execution_count": 77,
     "metadata": {},
     "output_type": "execute_result"
    }
   ],
   "source": [
    "a_list.append(\"a\") # 맨 뒤에 원소 추가하기. stack 같은 느낌적인 느낌\n",
    "a_list"
   ]
  },
  {
   "cell_type": "code",
   "execution_count": 78,
   "metadata": {},
   "outputs": [
    {
     "data": {
      "text/plain": [
       "[1, 2, 'b', 3, 'abcd', 'a']"
      ]
     },
     "execution_count": 78,
     "metadata": {},
     "output_type": "execute_result"
    }
   ],
   "source": [
    "a_list.insert(2,\"b\") # 2번째에 추가하기. 2번째니까 0,1,2에 추가하는 거 인지해\n",
    "a_list"
   ]
  },
  {
   "cell_type": "code",
   "execution_count": 80,
   "metadata": {},
   "outputs": [
    {
     "name": "stdout",
     "output_type": "stream",
     "text": [
      "[1, 2, 'b', 3, 'a']\n",
      "[1, 2, 'b', 3]\n"
     ]
    }
   ],
   "source": [
    "print(a_list)\n",
    "a_list.pop(4) #4번째 있는 원소 지우기. 지워지고 빈 자리는 채워지네\n",
    "print(a_list)"
   ]
  },
  {
   "cell_type": "code",
   "execution_count": 84,
   "metadata": {},
   "outputs": [
    {
     "name": "stdout",
     "output_type": "stream",
     "text": [
      "[1, 2, 3, 'abcd']\n",
      "[2, 3, 'abcd']\n"
     ]
    }
   ],
   "source": [
    "print(a_list)\n",
    "a_list.remove(1) # 1이라는 원소를 지움. 같은 거 있으면 첫 번째 꺼만 지움. 안전하네\n",
    "print(a_list)"
   ]
  },
  {
   "cell_type": "markdown",
   "metadata": {},
   "source": [
    "Dictionary"
   ]
  },
  {
   "cell_type": "markdown",
   "metadata": {},
   "source": [
    "사전구조"
   ]
  },
  {
   "cell_type": "code",
   "execution_count": 86,
   "metadata": {},
   "outputs": [
    {
     "name": "stdout",
     "output_type": "stream",
     "text": [
      "{'a': 1234, 'b': 5678}\n"
     ]
    }
   ],
   "source": [
    "d1 ={\"a\":1234,\"b\":5678} #key 랑 value의 쌍이 들어있는 2개의 정보를 가짐. JSON생각나네\n",
    "print(d1)"
   ]
  },
  {
   "cell_type": "code",
   "execution_count": 91,
   "metadata": {},
   "outputs": [
    {
     "data": {
      "text/plain": [
       "dict_keys(['a', 'b'])"
      ]
     },
     "execution_count": 91,
     "metadata": {},
     "output_type": "execute_result"
    }
   ],
   "source": [
    "d1.keys() #key값들 출력. list형식으로 반환하네"
   ]
  },
  {
   "cell_type": "code",
   "execution_count": 90,
   "metadata": {},
   "outputs": [
    {
     "data": {
      "text/plain": [
       "dict_values([1234, 5678])"
      ]
     },
     "execution_count": 90,
     "metadata": {},
     "output_type": "execute_result"
    }
   ],
   "source": [
    "d1.values() #value값들 출력. 이것도 list형식으로 반환"
   ]
  },
  {
   "cell_type": "code",
   "execution_count": 93,
   "metadata": {},
   "outputs": [
    {
     "data": {
      "text/plain": [
       "1234"
      ]
     },
     "execution_count": 93,
     "metadata": {},
     "output_type": "execute_result"
    }
   ],
   "source": [
    "d1[\"a\"] # a라는 키값이 가진 value 출력. 키값이 없으면 keyerror 발생시킴. \n",
    "        # 출력할 때 변수 종류를 명확하게 인지해. list는 key값 없으니깐"
   ]
  },
  {
   "cell_type": "markdown",
   "metadata": {},
   "source": [
    "# IF문"
   ]
  },
  {
   "cell_type": "code",
   "execution_count": 96,
   "metadata": {},
   "outputs": [
    {
     "name": "stdout",
     "output_type": "stream",
     "text": [
      "a는 양수\n"
     ]
    }
   ],
   "source": [
    "a=2\n",
    "if a>0:               # 파이썬 if문은 {} 안쓰고 ':'과 들여쓰기로 구분하네\n",
    "    print(\"a는 양수\") #세미콜론 안쓰는 거 갸꿀\n",
    "elif a==0:           #비교연산자 ==인거 주의하고, java는 'else if' 인데 이건 'elif'네\n",
    "    print(\"a는 0\")\n",
    "else:\n",
    "    print(\"a는 음수\")"
   ]
  },
  {
   "cell_type": "markdown",
   "metadata": {},
   "source": [
    "# FOR문"
   ]
  },
  {
   "cell_type": "code",
   "execution_count": 97,
   "metadata": {},
   "outputs": [
    {
     "name": "stdout",
     "output_type": "stream",
     "text": [
      "0\n",
      "2\n",
      "4\n",
      "6\n",
      "8\n"
     ]
    }
   ],
   "source": [
    "for i in range(0,10,2): #range사용해서 0부터 9번째 까지 2간격으로 출력, 뒤에 ':' 있는거 항상 인지하고\n",
    "# i in [0,1,2,3,4,5,6,7,8,9]\n",
    "    print(i)             # 이 i를 이용해서 원하는 배열이나 list 원소 출력할 수 있겠네"
   ]
  },
  {
   "cell_type": "code",
   "execution_count": 100,
   "metadata": {},
   "outputs": [
    {
     "name": "stdout",
     "output_type": "stream",
     "text": [
      "0\n",
      "2\n",
      "4\n",
      "6\n",
      "8\n"
     ]
    }
   ],
   "source": [
    "for i in [0,2,4,6,8]: # in 뒤에 list, tuple, dictionary 값 들어갈 수 있음\n",
    "    print(i)"
   ]
  },
  {
   "cell_type": "code",
   "execution_count": 106,
   "metadata": {},
   "outputs": [
    {
     "name": "stdout",
     "output_type": "stream",
     "text": [
      "a\n",
      "b\n",
      "c\n"
     ]
    }
   ],
   "source": [
    "for i in [\"a\",\"b\",\"c\"]: #원소들을 하나 하나 돌려준다. 숫자건 문자건 상관이 없음\n",
    "    print(i)\n"
   ]
  },
  {
   "cell_type": "code",
   "execution_count": 122,
   "metadata": {},
   "outputs": [
    {
     "name": "stdout",
     "output_type": "stream",
     "text": [
      "a\n",
      "b\n"
     ]
    }
   ],
   "source": [
    "for i in {\"a\":1234, \"b\":5678}:  #dictionary는 하나의 값 받으면 key값만 출력됨 \n",
    "    print(i)"
   ]
  },
  {
   "cell_type": "code",
   "execution_count": 5,
   "metadata": {},
   "outputs": [
    {
     "name": "stdout",
     "output_type": "stream",
     "text": [
      "a\n",
      "1234\n",
      "b\n",
      "5678\n"
     ]
    }
   ],
   "source": [
    "for i,j in {\"a\":1234, \"b\":5678}.items():  # dictionary는 하나의 값 받으면 key값만 출력됨. .items()써야지 전체 던져줌 \n",
    "    print(i)                              # 2개의 변수 써서 key, value 값 따로 출력 시킬 수 있음\n",
    "    print(j)"
   ]
  },
  {
   "cell_type": "markdown",
   "metadata": {},
   "source": [
    "# [실습]"
   ]
  },
  {
   "cell_type": "markdown",
   "metadata": {},
   "source": [
    "# 1번"
   ]
  },
  {
   "cell_type": "markdown",
   "metadata": {},
   "source": [
    "# \"c\" 제거하기"
   ]
  },
  {
   "cell_type": "code",
   "execution_count": 12,
   "metadata": {},
   "outputs": [],
   "source": [
    "a=[\"a\",\"b\",\"c\",\"d\",\"f\",\"g\",\"c\",\"i\"]"
   ]
  },
  {
   "cell_type": "code",
   "execution_count": 14,
   "metadata": {},
   "outputs": [
    {
     "name": "stdout",
     "output_type": "stream",
     "text": [
      "a\n",
      "b\n",
      "c\n",
      "d\n",
      "f\n",
      "g\n",
      "c\n",
      "i\n"
     ]
    }
   ],
   "source": [
    "# 이 방법 사용하지 마. 에러뜨니까\n",
    "for i in range(0,len(a),1): # range이용해서 모든 원소 출력\n",
    "    if(a[i]==\"c\"):\n",
    "        a.pop(i)      # 이렇게 하면 a의 length가 줄어들어 에러 뜸. 따라서 새로 배열 만들어야 함\n",
    "print(a)"
   ]
  },
  {
   "cell_type": "code",
   "execution_count": 18,
   "metadata": {},
   "outputs": [
    {
     "name": "stdout",
     "output_type": "stream",
     "text": [
      "['a', 'b', 'd', 'f', 'g', 'i']\n"
     ]
    }
   ],
   "source": [
    "# 이 방법으로 사용해야 함\n",
    "b=[]\n",
    "for i in range(0,len(a),1):\n",
    "    if a[i] !=\"c\":\n",
    "        b.append(a[i])        # 뒤에 원소 추가하기ㅣㅣㅣㅣㅣㅣㅣㅣㅣ \n",
    "    else:\n",
    "        pass                  #아무 할 일 없으면 비워두지 말고 pass 명령어 사용하자\n",
    "print(b)"
   ]
  },
  {
   "cell_type": "code",
   "execution_count": 21,
   "metadata": {},
   "outputs": [
    {
     "name": "stdout",
     "output_type": "stream",
     "text": [
      "['a', 'b', 'd', 'f', 'g', 'i']\n"
     ]
    }
   ],
   "source": [
    "# 이 방법으로 사용 해도 됨~\n",
    "b=[]\n",
    "for i in a:   # a안의 모든 원소 출력\n",
    "    if i!=\"c\":\n",
    "        b.append(i)\n",
    "    else:\n",
    "        pass\n",
    "print(b)\n",
    "    "
   ]
  },
  {
   "cell_type": "markdown",
   "metadata": {},
   "source": [
    "# 2번"
   ]
  },
  {
   "cell_type": "markdown",
   "metadata": {},
   "source": [
    "# 값으로 \"c\" 제거하기"
   ]
  },
  {
   "cell_type": "code",
   "execution_count": 41,
   "metadata": {},
   "outputs": [],
   "source": [
    "a=[[\"a\",\"b\",\"c\",\"d\"],\"f\",\"g\",[\"c\",\"i\"]]"
   ]
  },
  {
   "cell_type": "code",
   "execution_count": 45,
   "metadata": {},
   "outputs": [
    {
     "name": "stdout",
     "output_type": "stream",
     "text": [
      "['a', 'b', 'd', 'f', 'g', 'i']\n"
     ]
    }
   ],
   "source": [
    "b=[]\n",
    "for i in a[:]:\n",
    "    for j in i:\n",
    "        if j!=\"c\":\n",
    "            b.append(j)\n",
    "print(b)\n",
    "        \n",
    "        "
   ]
  },
  {
   "cell_type": "markdown",
   "metadata": {},
   "source": [
    "# 값이 아닌 인덱스로 \"c\" 제거하기"
   ]
  },
  {
   "cell_type": "code",
   "execution_count": 1,
   "metadata": {},
   "outputs": [],
   "source": [
    "a=[[\"a\",\"b\",\"c\",\"d\"],\"f\",\"g\",[\"c\",\"i\"]]"
   ]
  },
  {
   "cell_type": "code",
   "execution_count": 2,
   "metadata": {},
   "outputs": [
    {
     "name": "stdout",
     "output_type": "stream",
     "text": [
      "['a', 'b', 'd', 'f', 'g', 'i']\n"
     ]
    }
   ],
   "source": [
    "b=[]\n",
    "for i in range(0,len(a)):         # a를 4개의 리스트로 구별\n",
    "    for j in range(0,len(a[i])):  # 각각의 리스트를 검사\n",
    "        if(a[i][j]!=\"c\"):         # 잉?? \"c\"만 아니면 통과시켜\n",
    "            b.append(a[i][j])     # 추가해\n",
    "        else:\n",
    "            pass                  \n",
    "print(b)"
   ]
  },
  {
   "cell_type": "code",
   "execution_count": null,
   "metadata": {},
   "outputs": [],
   "source": []
  }
 ],
 "metadata": {
  "kernelspec": {
   "display_name": "Python 3",
   "language": "python",
   "name": "python3"
  },
  "language_info": {
   "codemirror_mode": {
    "name": "ipython",
    "version": 3
   },
   "file_extension": ".py",
   "mimetype": "text/x-python",
   "name": "python",
   "nbconvert_exporter": "python",
   "pygments_lexer": "ipython3",
   "version": "3.7.6"
  }
 },
 "nbformat": 4,
 "nbformat_minor": 4
}
