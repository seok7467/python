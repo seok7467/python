{
 "cells": [
  {
   "cell_type": "markdown",
   "metadata": {},
   "source": [
    "### 필요한 패키지들"
   ]
  },
  {
   "cell_type": "code",
   "execution_count": 1,
   "metadata": {
    "ExecuteTime": {
     "end_time": "2020-07-26T14:35:03.340495Z",
     "start_time": "2020-07-26T14:35:03.331798Z"
    }
   },
   "outputs": [],
   "source": [
    "%config IPCompleter.greedy=True"
   ]
  },
  {
   "cell_type": "code",
   "execution_count": 2,
   "metadata": {
    "ExecuteTime": {
     "end_time": "2020-07-26T14:35:03.358384Z",
     "start_time": "2020-07-26T14:35:03.342041Z"
    }
   },
   "outputs": [],
   "source": [
    "import pandas as pd\n",
    "import numpy as np\n",
    "from collections import Counter\n",
    "import matplotlib.pyplot as plt\n",
    "import seaborn as sns\n",
    "from IPython.display import Image\n",
    "import scipy.stats as stats\n",
    "from sklearn.model_selection import train_test_split\n",
    "%matplotlib inline"
   ]
  },
  {
   "cell_type": "markdown",
   "metadata": {},
   "source": [
    "### 데이터 불러들이기 및 확인"
   ]
  },
  {
   "cell_type": "code",
   "execution_count": 3,
   "metadata": {
    "ExecuteTime": {
     "end_time": "2020-07-26T14:35:03.401051Z",
     "start_time": "2020-07-26T14:35:03.360436Z"
    }
   },
   "outputs": [],
   "source": [
    "train_df = pd.read_csv(\"data/train.csv\")\n",
    "test_df = pd.read_csv(\"data/test.csv\")"
   ]
  },
  {
   "cell_type": "code",
   "execution_count": 4,
   "metadata": {
    "ExecuteTime": {
     "end_time": "2020-07-26T14:35:03.421981Z",
     "start_time": "2020-07-26T14:35:03.402589Z"
    }
   },
   "outputs": [
    {
     "data": {
      "text/html": [
       "<div>\n",
       "<style scoped>\n",
       "    .dataframe tbody tr th:only-of-type {\n",
       "        vertical-align: middle;\n",
       "    }\n",
       "\n",
       "    .dataframe tbody tr th {\n",
       "        vertical-align: top;\n",
       "    }\n",
       "\n",
       "    .dataframe thead th {\n",
       "        text-align: right;\n",
       "    }\n",
       "</style>\n",
       "<table border=\"1\" class=\"dataframe\">\n",
       "  <thead>\n",
       "    <tr style=\"text-align: right;\">\n",
       "      <th></th>\n",
       "      <th>Id</th>\n",
       "      <th>MSSubClass</th>\n",
       "      <th>MSZoning</th>\n",
       "      <th>LotFrontage</th>\n",
       "      <th>LotArea</th>\n",
       "      <th>Street</th>\n",
       "      <th>Alley</th>\n",
       "      <th>LotShape</th>\n",
       "      <th>LandContour</th>\n",
       "      <th>Utilities</th>\n",
       "      <th>...</th>\n",
       "      <th>PoolArea</th>\n",
       "      <th>PoolQC</th>\n",
       "      <th>Fence</th>\n",
       "      <th>MiscFeature</th>\n",
       "      <th>MiscVal</th>\n",
       "      <th>MoSold</th>\n",
       "      <th>YrSold</th>\n",
       "      <th>SaleType</th>\n",
       "      <th>SaleCondition</th>\n",
       "      <th>SalePrice</th>\n",
       "    </tr>\n",
       "  </thead>\n",
       "  <tbody>\n",
       "    <tr>\n",
       "      <th>0</th>\n",
       "      <td>1</td>\n",
       "      <td>60</td>\n",
       "      <td>RL</td>\n",
       "      <td>65.0</td>\n",
       "      <td>8450</td>\n",
       "      <td>Pave</td>\n",
       "      <td>NaN</td>\n",
       "      <td>Reg</td>\n",
       "      <td>Lvl</td>\n",
       "      <td>AllPub</td>\n",
       "      <td>...</td>\n",
       "      <td>0</td>\n",
       "      <td>NaN</td>\n",
       "      <td>NaN</td>\n",
       "      <td>NaN</td>\n",
       "      <td>0</td>\n",
       "      <td>2</td>\n",
       "      <td>2008</td>\n",
       "      <td>WD</td>\n",
       "      <td>Normal</td>\n",
       "      <td>208500</td>\n",
       "    </tr>\n",
       "    <tr>\n",
       "      <th>1</th>\n",
       "      <td>2</td>\n",
       "      <td>20</td>\n",
       "      <td>RL</td>\n",
       "      <td>80.0</td>\n",
       "      <td>9600</td>\n",
       "      <td>Pave</td>\n",
       "      <td>NaN</td>\n",
       "      <td>Reg</td>\n",
       "      <td>Lvl</td>\n",
       "      <td>AllPub</td>\n",
       "      <td>...</td>\n",
       "      <td>0</td>\n",
       "      <td>NaN</td>\n",
       "      <td>NaN</td>\n",
       "      <td>NaN</td>\n",
       "      <td>0</td>\n",
       "      <td>5</td>\n",
       "      <td>2007</td>\n",
       "      <td>WD</td>\n",
       "      <td>Normal</td>\n",
       "      <td>181500</td>\n",
       "    </tr>\n",
       "    <tr>\n",
       "      <th>2</th>\n",
       "      <td>3</td>\n",
       "      <td>60</td>\n",
       "      <td>RL</td>\n",
       "      <td>68.0</td>\n",
       "      <td>11250</td>\n",
       "      <td>Pave</td>\n",
       "      <td>NaN</td>\n",
       "      <td>IR1</td>\n",
       "      <td>Lvl</td>\n",
       "      <td>AllPub</td>\n",
       "      <td>...</td>\n",
       "      <td>0</td>\n",
       "      <td>NaN</td>\n",
       "      <td>NaN</td>\n",
       "      <td>NaN</td>\n",
       "      <td>0</td>\n",
       "      <td>9</td>\n",
       "      <td>2008</td>\n",
       "      <td>WD</td>\n",
       "      <td>Normal</td>\n",
       "      <td>223500</td>\n",
       "    </tr>\n",
       "    <tr>\n",
       "      <th>3</th>\n",
       "      <td>4</td>\n",
       "      <td>70</td>\n",
       "      <td>RL</td>\n",
       "      <td>60.0</td>\n",
       "      <td>9550</td>\n",
       "      <td>Pave</td>\n",
       "      <td>NaN</td>\n",
       "      <td>IR1</td>\n",
       "      <td>Lvl</td>\n",
       "      <td>AllPub</td>\n",
       "      <td>...</td>\n",
       "      <td>0</td>\n",
       "      <td>NaN</td>\n",
       "      <td>NaN</td>\n",
       "      <td>NaN</td>\n",
       "      <td>0</td>\n",
       "      <td>2</td>\n",
       "      <td>2006</td>\n",
       "      <td>WD</td>\n",
       "      <td>Abnorml</td>\n",
       "      <td>140000</td>\n",
       "    </tr>\n",
       "    <tr>\n",
       "      <th>4</th>\n",
       "      <td>5</td>\n",
       "      <td>60</td>\n",
       "      <td>RL</td>\n",
       "      <td>84.0</td>\n",
       "      <td>14260</td>\n",
       "      <td>Pave</td>\n",
       "      <td>NaN</td>\n",
       "      <td>IR1</td>\n",
       "      <td>Lvl</td>\n",
       "      <td>AllPub</td>\n",
       "      <td>...</td>\n",
       "      <td>0</td>\n",
       "      <td>NaN</td>\n",
       "      <td>NaN</td>\n",
       "      <td>NaN</td>\n",
       "      <td>0</td>\n",
       "      <td>12</td>\n",
       "      <td>2008</td>\n",
       "      <td>WD</td>\n",
       "      <td>Normal</td>\n",
       "      <td>250000</td>\n",
       "    </tr>\n",
       "  </tbody>\n",
       "</table>\n",
       "<p>5 rows × 81 columns</p>\n",
       "</div>"
      ],
      "text/plain": [
       "   Id  MSSubClass MSZoning  LotFrontage  LotArea Street Alley LotShape  \\\n",
       "0   1          60       RL         65.0     8450   Pave   NaN      Reg   \n",
       "1   2          20       RL         80.0     9600   Pave   NaN      Reg   \n",
       "2   3          60       RL         68.0    11250   Pave   NaN      IR1   \n",
       "3   4          70       RL         60.0     9550   Pave   NaN      IR1   \n",
       "4   5          60       RL         84.0    14260   Pave   NaN      IR1   \n",
       "\n",
       "  LandContour Utilities  ... PoolArea PoolQC Fence MiscFeature MiscVal MoSold  \\\n",
       "0         Lvl    AllPub  ...        0    NaN   NaN         NaN       0      2   \n",
       "1         Lvl    AllPub  ...        0    NaN   NaN         NaN       0      5   \n",
       "2         Lvl    AllPub  ...        0    NaN   NaN         NaN       0      9   \n",
       "3         Lvl    AllPub  ...        0    NaN   NaN         NaN       0      2   \n",
       "4         Lvl    AllPub  ...        0    NaN   NaN         NaN       0     12   \n",
       "\n",
       "  YrSold  SaleType  SaleCondition  SalePrice  \n",
       "0   2008        WD         Normal     208500  \n",
       "1   2007        WD         Normal     181500  \n",
       "2   2008        WD         Normal     223500  \n",
       "3   2006        WD        Abnorml     140000  \n",
       "4   2008        WD         Normal     250000  \n",
       "\n",
       "[5 rows x 81 columns]"
      ]
     },
     "execution_count": 4,
     "metadata": {},
     "output_type": "execute_result"
    }
   ],
   "source": [
    "train_df.head()"
   ]
  },
  {
   "cell_type": "code",
   "execution_count": 5,
   "metadata": {
    "ExecuteTime": {
     "end_time": "2020-07-26T14:35:03.442432Z",
     "start_time": "2020-07-26T14:35:03.423006Z"
    }
   },
   "outputs": [
    {
     "data": {
      "text/html": [
       "<div>\n",
       "<style scoped>\n",
       "    .dataframe tbody tr th:only-of-type {\n",
       "        vertical-align: middle;\n",
       "    }\n",
       "\n",
       "    .dataframe tbody tr th {\n",
       "        vertical-align: top;\n",
       "    }\n",
       "\n",
       "    .dataframe thead th {\n",
       "        text-align: right;\n",
       "    }\n",
       "</style>\n",
       "<table border=\"1\" class=\"dataframe\">\n",
       "  <thead>\n",
       "    <tr style=\"text-align: right;\">\n",
       "      <th></th>\n",
       "      <th>Id</th>\n",
       "      <th>MSSubClass</th>\n",
       "      <th>MSZoning</th>\n",
       "      <th>LotFrontage</th>\n",
       "      <th>LotArea</th>\n",
       "      <th>Street</th>\n",
       "      <th>Alley</th>\n",
       "      <th>LotShape</th>\n",
       "      <th>LandContour</th>\n",
       "      <th>Utilities</th>\n",
       "      <th>...</th>\n",
       "      <th>ScreenPorch</th>\n",
       "      <th>PoolArea</th>\n",
       "      <th>PoolQC</th>\n",
       "      <th>Fence</th>\n",
       "      <th>MiscFeature</th>\n",
       "      <th>MiscVal</th>\n",
       "      <th>MoSold</th>\n",
       "      <th>YrSold</th>\n",
       "      <th>SaleType</th>\n",
       "      <th>SaleCondition</th>\n",
       "    </tr>\n",
       "  </thead>\n",
       "  <tbody>\n",
       "    <tr>\n",
       "      <th>0</th>\n",
       "      <td>1461</td>\n",
       "      <td>20</td>\n",
       "      <td>RH</td>\n",
       "      <td>80.0</td>\n",
       "      <td>11622</td>\n",
       "      <td>Pave</td>\n",
       "      <td>NaN</td>\n",
       "      <td>Reg</td>\n",
       "      <td>Lvl</td>\n",
       "      <td>AllPub</td>\n",
       "      <td>...</td>\n",
       "      <td>120</td>\n",
       "      <td>0</td>\n",
       "      <td>NaN</td>\n",
       "      <td>MnPrv</td>\n",
       "      <td>NaN</td>\n",
       "      <td>0</td>\n",
       "      <td>6</td>\n",
       "      <td>2010</td>\n",
       "      <td>WD</td>\n",
       "      <td>Normal</td>\n",
       "    </tr>\n",
       "    <tr>\n",
       "      <th>1</th>\n",
       "      <td>1462</td>\n",
       "      <td>20</td>\n",
       "      <td>RL</td>\n",
       "      <td>81.0</td>\n",
       "      <td>14267</td>\n",
       "      <td>Pave</td>\n",
       "      <td>NaN</td>\n",
       "      <td>IR1</td>\n",
       "      <td>Lvl</td>\n",
       "      <td>AllPub</td>\n",
       "      <td>...</td>\n",
       "      <td>0</td>\n",
       "      <td>0</td>\n",
       "      <td>NaN</td>\n",
       "      <td>NaN</td>\n",
       "      <td>Gar2</td>\n",
       "      <td>12500</td>\n",
       "      <td>6</td>\n",
       "      <td>2010</td>\n",
       "      <td>WD</td>\n",
       "      <td>Normal</td>\n",
       "    </tr>\n",
       "    <tr>\n",
       "      <th>2</th>\n",
       "      <td>1463</td>\n",
       "      <td>60</td>\n",
       "      <td>RL</td>\n",
       "      <td>74.0</td>\n",
       "      <td>13830</td>\n",
       "      <td>Pave</td>\n",
       "      <td>NaN</td>\n",
       "      <td>IR1</td>\n",
       "      <td>Lvl</td>\n",
       "      <td>AllPub</td>\n",
       "      <td>...</td>\n",
       "      <td>0</td>\n",
       "      <td>0</td>\n",
       "      <td>NaN</td>\n",
       "      <td>MnPrv</td>\n",
       "      <td>NaN</td>\n",
       "      <td>0</td>\n",
       "      <td>3</td>\n",
       "      <td>2010</td>\n",
       "      <td>WD</td>\n",
       "      <td>Normal</td>\n",
       "    </tr>\n",
       "    <tr>\n",
       "      <th>3</th>\n",
       "      <td>1464</td>\n",
       "      <td>60</td>\n",
       "      <td>RL</td>\n",
       "      <td>78.0</td>\n",
       "      <td>9978</td>\n",
       "      <td>Pave</td>\n",
       "      <td>NaN</td>\n",
       "      <td>IR1</td>\n",
       "      <td>Lvl</td>\n",
       "      <td>AllPub</td>\n",
       "      <td>...</td>\n",
       "      <td>0</td>\n",
       "      <td>0</td>\n",
       "      <td>NaN</td>\n",
       "      <td>NaN</td>\n",
       "      <td>NaN</td>\n",
       "      <td>0</td>\n",
       "      <td>6</td>\n",
       "      <td>2010</td>\n",
       "      <td>WD</td>\n",
       "      <td>Normal</td>\n",
       "    </tr>\n",
       "    <tr>\n",
       "      <th>4</th>\n",
       "      <td>1465</td>\n",
       "      <td>120</td>\n",
       "      <td>RL</td>\n",
       "      <td>43.0</td>\n",
       "      <td>5005</td>\n",
       "      <td>Pave</td>\n",
       "      <td>NaN</td>\n",
       "      <td>IR1</td>\n",
       "      <td>HLS</td>\n",
       "      <td>AllPub</td>\n",
       "      <td>...</td>\n",
       "      <td>144</td>\n",
       "      <td>0</td>\n",
       "      <td>NaN</td>\n",
       "      <td>NaN</td>\n",
       "      <td>NaN</td>\n",
       "      <td>0</td>\n",
       "      <td>1</td>\n",
       "      <td>2010</td>\n",
       "      <td>WD</td>\n",
       "      <td>Normal</td>\n",
       "    </tr>\n",
       "  </tbody>\n",
       "</table>\n",
       "<p>5 rows × 80 columns</p>\n",
       "</div>"
      ],
      "text/plain": [
       "     Id  MSSubClass MSZoning  LotFrontage  LotArea Street Alley LotShape  \\\n",
       "0  1461          20       RH         80.0    11622   Pave   NaN      Reg   \n",
       "1  1462          20       RL         81.0    14267   Pave   NaN      IR1   \n",
       "2  1463          60       RL         74.0    13830   Pave   NaN      IR1   \n",
       "3  1464          60       RL         78.0     9978   Pave   NaN      IR1   \n",
       "4  1465         120       RL         43.0     5005   Pave   NaN      IR1   \n",
       "\n",
       "  LandContour Utilities  ... ScreenPorch PoolArea PoolQC  Fence MiscFeature  \\\n",
       "0         Lvl    AllPub  ...         120        0    NaN  MnPrv         NaN   \n",
       "1         Lvl    AllPub  ...           0        0    NaN    NaN        Gar2   \n",
       "2         Lvl    AllPub  ...           0        0    NaN  MnPrv         NaN   \n",
       "3         Lvl    AllPub  ...           0        0    NaN    NaN         NaN   \n",
       "4         HLS    AllPub  ...         144        0    NaN    NaN         NaN   \n",
       "\n",
       "  MiscVal MoSold  YrSold  SaleType  SaleCondition  \n",
       "0       0      6    2010        WD         Normal  \n",
       "1   12500      6    2010        WD         Normal  \n",
       "2       0      3    2010        WD         Normal  \n",
       "3       0      6    2010        WD         Normal  \n",
       "4       0      1    2010        WD         Normal  \n",
       "\n",
       "[5 rows x 80 columns]"
      ]
     },
     "execution_count": 5,
     "metadata": {},
     "output_type": "execute_result"
    }
   ],
   "source": [
    "test_df.head()"
   ]
  },
  {
   "cell_type": "markdown",
   "metadata": {},
   "source": [
    "### 이상치 들에 대해서 확인!!!"
   ]
  },
  {
   "cell_type": "markdown",
   "metadata": {},
   "source": [
    "* outlier에 대한 것들에 대한 확인 : 아래 경우에 대해서 확인을 하면, 오른쪽 아래 쪽에 이상하게 튀는 애들이 존재!!!"
   ]
  },
  {
   "cell_type": "code",
   "execution_count": 6,
   "metadata": {
    "ExecuteTime": {
     "end_time": "2020-07-26T14:35:03.605782Z",
     "start_time": "2020-07-26T14:35:03.443969Z"
    }
   },
   "outputs": [
    {
     "data": {
      "text/plain": [
       "<Figure size 432x288 with 0 Axes>"
      ]
     },
     "metadata": {},
     "output_type": "display_data"
    },
    {
     "data": {
      "image/png": "[encoded data removed]",
      "text/plain": [
       "<Figure size 360x360 with 1 Axes>"
      ]
     },
     "metadata": {
      "needs_background": "light"
     },
     "output_type": "display_data"
    }
   ],
   "source": [
    "plt.figure()\n",
    "otl = sns.lmplot('GrLivArea', 'SalePrice',data=train_df, fit_reg=False)"
   ]
  },
  {
   "cell_type": "markdown",
   "metadata": {},
   "source": [
    "* 위에 대한 데이터를 보고, outlier를 처리하기 위한 조건 선택"
   ]
  },
  {
   "cell_type": "code",
   "execution_count": 7,
   "metadata": {
    "ExecuteTime": {
     "end_time": "2020-07-26T14:35:03.615093Z",
     "start_time": "2020-07-26T14:35:03.607338Z"
    }
   },
   "outputs": [
    {
     "data": {
      "text/html": [
       "<div>\n",
       "<style scoped>\n",
       "    .dataframe tbody tr th:only-of-type {\n",
       "        vertical-align: middle;\n",
       "    }\n",
       "\n",
       "    .dataframe tbody tr th {\n",
       "        vertical-align: top;\n",
       "    }\n",
       "\n",
       "    .dataframe thead th {\n",
       "        text-align: right;\n",
       "    }\n",
       "</style>\n",
       "<table border=\"1\" class=\"dataframe\">\n",
       "  <thead>\n",
       "    <tr style=\"text-align: right;\">\n",
       "      <th></th>\n",
       "      <th>SalePrice</th>\n",
       "      <th>GrLivArea</th>\n",
       "    </tr>\n",
       "  </thead>\n",
       "  <tbody>\n",
       "    <tr>\n",
       "      <th>523</th>\n",
       "      <td>184750</td>\n",
       "      <td>4676</td>\n",
       "    </tr>\n",
       "    <tr>\n",
       "      <th>691</th>\n",
       "      <td>755000</td>\n",
       "      <td>4316</td>\n",
       "    </tr>\n",
       "    <tr>\n",
       "      <th>1182</th>\n",
       "      <td>745000</td>\n",
       "      <td>4476</td>\n",
       "    </tr>\n",
       "    <tr>\n",
       "      <th>1298</th>\n",
       "      <td>160000</td>\n",
       "      <td>5642</td>\n",
       "    </tr>\n",
       "  </tbody>\n",
       "</table>\n",
       "</div>"
      ],
      "text/plain": [
       "      SalePrice  GrLivArea\n",
       "523      184750       4676\n",
       "691      755000       4316\n",
       "1182     745000       4476\n",
       "1298     160000       5642"
      ]
     },
     "execution_count": 7,
     "metadata": {},
     "output_type": "execute_result"
    }
   ],
   "source": [
    "#train_df[(train_df['SalePrice'] < 300000) & (train_df['GrLivArea'] > 4000)]\n",
    "train_df[(train_df['GrLivArea'] > 4000)][['SalePrice','GrLivArea']]\n",
    "# train_df[(train_df['GrLivArea'] > 4000)].loc[:,[\"SalePrice\",\"GrLivArea\"]]"
   ]
  },
  {
   "cell_type": "code",
   "execution_count": 8,
   "metadata": {
    "ExecuteTime": {
     "end_time": "2020-07-26T14:35:03.784360Z",
     "start_time": "2020-07-26T14:35:03.617143Z"
    }
   },
   "outputs": [
    {
     "data": {
      "text/plain": [
       "<Figure size 432x288 with 0 Axes>"
      ]
     },
     "metadata": {},
     "output_type": "display_data"
    },
    {
     "data": {
      "image/png": "[encoded data removed]",
      "text/plain": [
       "<Figure size 360x360 with 1 Axes>"
      ]
     },
     "metadata": {
      "needs_background": "light"
     },
     "output_type": "display_data"
    }
   ],
   "source": [
    "#train_df.drop(train_df[(train_df['SalePrice'] < 300000) & (train_df['GrLivArea'] > 4000)].index,inplace=True)\n",
    "train_df.drop(train_df[(train_df['GrLivArea'] > 4000)].index,inplace=True)\n",
    "\n",
    "plt.figure()\n",
    "sns.lmplot('GrLivArea', 'SalePrice',data=train_df, fit_reg=False);\n",
    "plt.xlim(0,5500);\n",
    "plt.ylim(0,800000);"
   ]
  },
  {
   "cell_type": "code",
   "execution_count": 9,
   "metadata": {
    "ExecuteTime": {
     "end_time": "2020-07-26T14:35:03.789463Z",
     "start_time": "2020-07-26T14:35:03.786396Z"
    }
   },
   "outputs": [
    {
     "name": "stdout",
     "output_type": "stream",
     "text": [
      "(1456, 81)\n"
     ]
    }
   ],
   "source": [
    "print(train_df.shape)"
   ]
  },
  {
   "cell_type": "markdown",
   "metadata": {},
   "source": [
    "* Target Value에 대한 것을 확인!"
   ]
  },
  {
   "cell_type": "code",
   "execution_count": 10,
   "metadata": {
    "ExecuteTime": {
     "end_time": "2020-07-26T14:35:04.111987Z",
     "start_time": "2020-07-26T14:35:03.790489Z"
    }
   },
   "outputs": [
    {
     "data": {
      "image/png": "[encoded data removed]",
      "text/plain": [
       "<Figure size 432x288 with 1 Axes>"
      ]
     },
     "metadata": {
      "needs_background": "light"
     },
     "output_type": "display_data"
    },
    {
     "data": {
      "image/png": "[encoded data removed]",
      "text/plain": [
       "<Figure size 432x288 with 1 Axes>"
      ]
     },
     "metadata": {
      "needs_background": "light"
     },
     "output_type": "display_data"
    },
    {
     "name": "stdout",
     "output_type": "stream",
     "text": [
      "Skewness: 1.566\n"
     ]
    }
   ],
   "source": [
    "# 아직 seaborn 에서 stats로 넘기는 부분에서 워닝 부분이 안 되어서 아직은 여기서 워닝에 대한 부분은 타나남.\n",
    "sns.distplot(train_df['SalePrice'])\n",
    "plt.title('SalePrice Distribution')\n",
    "plt.ylabel('Frequency')\n",
    "plt.figure()\n",
    "\n",
    "# stats에 바로 접근하는 부분에 있어서는 array로 명확하게 변환을 해서 넘기면 워닝은 없어짐!!!!\n",
    "qq = stats.probplot(np.array(train_df['SalePrice']), plot=plt)\n",
    "plt.show()\n",
    "print(\"Skewness: {:.3f}\".format(train_df['SalePrice'].skew()))\n",
    "# For normally distributed data, the skewness should be about zero. \n",
    "# A skenewss  value greater than zero means that there is more weight in the left tail of the distribution\n",
    "\n"
   ]
  },
  {
   "cell_type": "markdown",
   "metadata": {},
   "source": [
    "* 타겟에 대한 로그 변환 취하기 : 양수에 대해서 처리 하고자 하니 +1을 하고 로그를 취해서 0의 값에 대해서 발생할 수 있는 문제에 대한 것 방지!"
   ]
  },
  {
   "cell_type": "code",
   "execution_count": 11,
   "metadata": {
    "ExecuteTime": {
     "end_time": "2020-07-26T14:35:04.116626Z",
     "start_time": "2020-07-26T14:35:04.113010Z"
    }
   },
   "outputs": [],
   "source": [
    "# log1p calculates log(1 + input)\n",
    "train_df['SalePrice'] = np.log1p(train_df['SalePrice'])"
   ]
  },
  {
   "cell_type": "markdown",
   "metadata": {},
   "source": [
    "* 로그를 취하면 그 결과가 치우친 부분들이 어떻게 되는지 확인"
   ]
  },
  {
   "cell_type": "code",
   "execution_count": 12,
   "metadata": {
    "ExecuteTime": {
     "end_time": "2020-07-26T14:35:04.408420Z",
     "start_time": "2020-07-26T14:35:04.118168Z"
    }
   },
   "outputs": [
    {
     "data": {
      "image/png": "[encoded data removed]",
      "text/plain": [
       "<Figure size 432x288 with 1 Axes>"
      ]
     },
     "metadata": {
      "needs_background": "light"
     },
     "output_type": "display_data"
    },
    {
     "data": {
      "image/png": "[encoded data removed]",
      "text/plain": [
       "<Figure size 432x288 with 1 Axes>"
      ]
     },
     "metadata": {
      "needs_background": "light"
     },
     "output_type": "display_data"
    },
    {
     "name": "stdout",
     "output_type": "stream",
     "text": [
      "Skewness: 0.065\n"
     ]
    }
   ],
   "source": [
    "# let's check the result of the transformation\n",
    "\n",
    "sns.distplot(train_df['SalePrice'])\n",
    "plt.title('SalePrice Distribution')\n",
    "plt.ylabel('Frequency')\n",
    "\n",
    "plt.figure()\n",
    "qq = stats.probplot(np.array(train_df['SalePrice']), plot=plt)\n",
    "plt.show()\n",
    "\n",
    "print(\"Skewness: {:.3f}\".format(train_df['SalePrice'].skew()))"
   ]
  },
  {
   "cell_type": "markdown",
   "metadata": {},
   "source": [
    "* 보통은 전체 특성들에 대해서 다 상관계수나 pairplot을 그려보겠지만, 지금은 너무 데이터가 많이 있기에 하기가 힘들다. 그래서 상위 몇 개의 상관계수가 높은 것들에 대해서만 보고자 함!!!!      \n",
    "해석 : 그래서 보면 집가격에 영향을 미치는 상위 10개에 대해서 확인을 한 결과 퀄리티에 관련된 (OverallQual,FullBath, YearBuilt, YearRemodAdd)와 크기에 대한 (GrLivArea, GarageCars, GarageArea, TotalBsmtSF, 1stFlrSF) 부분들이 중요한 부분으로 차지하고 있음!!!"
   ]
  },
  {
   "cell_type": "code",
   "execution_count": 13,
   "metadata": {
    "ExecuteTime": {
     "end_time": "2020-07-26T14:35:04.882147Z",
     "start_time": "2020-07-26T14:35:04.409438Z"
    }
   },
   "outputs": [
    {
     "data": {
      "image/png": "[encoded data removed]",
      "text/plain": [
       "<Figure size 1080x360 with 2 Axes>"
      ]
     },
     "metadata": {
      "needs_background": "light"
     },
     "output_type": "display_data"
    }
   ],
   "source": [
    "plt.figure(figsize=(15,5))\n",
    "\n",
    "# correlation table\n",
    "corr_train = train_df.corr()\n",
    "\n",
    "# select top 10 highly correlated variables with SalePrice\n",
    "num = 10\n",
    "col = corr_train.nlargest(num, 'SalePrice')['SalePrice'].index\n",
    "coeff = np.corrcoef(train_df[col].values.T)\n",
    "\n",
    "# heatmap\n",
    "heatmp = sns.heatmap(coeff, \n",
    "                     annot = True, \n",
    "                     xticklabels = col.values, yticklabels = col.values, \n",
    "                     linewidth=2,cmap='PiYG', linecolor='blue')"
   ]
  },
  {
   "cell_type": "code",
   "execution_count": 14,
   "metadata": {
    "ExecuteTime": {
     "end_time": "2020-07-26T14:35:21.352519Z",
     "start_time": "2020-07-26T14:35:04.883171Z"
    }
   },
   "outputs": [],
   "source": [
    "# sns.pairplot(train_df[col], height=3)"
   ]
  },
  {
   "cell_type": "markdown",
   "metadata": {},
   "source": [
    "### 변수들 정리 : Feature / Target 분리"
   ]
  },
  {
   "cell_type": "markdown",
   "metadata": {},
   "source": [
    "* 변수 분리 : 특징과 라벨에 대한 분리 작업 수행 ---> id라는 컬럼은 맨 앞에 있어서 0번으로 선택을 해서 지운 것이며, 학습할 특징에서는 제외를 하여야 하기에 drop을 이용해서 지우게 됨!!!  \n",
    "처음에는 81개의 컬럼이 있었는데, 의미없는 id 컬럼 제거 & 타겟에 대한 가격에 대한 것 제거를 ㅎ서 총 81개에서 2개를 제외한 79개로 수정이 됨!!!!"
   ]
  },
  {
   "cell_type": "code",
   "execution_count": 13,
   "metadata": {
    "ExecuteTime": {
     "end_time": "2020-07-26T14:35:21.360505Z",
     "start_time": "2020-07-26T14:35:21.354153Z"
    }
   },
   "outputs": [],
   "source": [
    "# seperate id from datasets and drop them.\n",
    "\n",
    "train_id = train_df.iloc[:,0]\n",
    "test_id = test_df.iloc[:,0]\n",
    "\n",
    "train_df.drop('Id',axis=1,inplace = True)\n",
    "test_df.drop('Id',axis=1,inplace = True)"
   ]
  },
  {
   "cell_type": "code",
   "execution_count": 14,
   "metadata": {
    "ExecuteTime": {
     "end_time": "2020-07-26T14:35:21.377485Z",
     "start_time": "2020-07-26T14:35:21.362091Z"
    }
   },
   "outputs": [
    {
     "name": "stdout",
     "output_type": "stream",
     "text": [
      "dimension of the train: (1456, 79)\n",
      "dimension of the test: (1459, 79)\n"
     ]
    }
   ],
   "source": [
    "# seperate the target variable (SalePrice) from the train\n",
    "\n",
    "y_df = train_df['SalePrice']\n",
    "train_df.drop('SalePrice',axis=1,inplace=True)\n",
    "\n",
    "print('dimension of the train:' , train_df.shape)\n",
    "print('dimension of the test:' , test_df.shape)"
   ]
  },
  {
   "cell_type": "markdown",
   "metadata": {},
   "source": [
    "* 우선은 나중에 사용하기 위해서, 문제들만 train/test 를 df라는 변수에 합쳐둔 것임!!~!"
   ]
  },
  {
   "cell_type": "code",
   "execution_count": 15,
   "metadata": {
    "ExecuteTime": {
     "end_time": "2020-07-26T14:35:21.404141Z",
     "start_time": "2020-07-26T14:35:21.379538Z"
    }
   },
   "outputs": [],
   "source": [
    "# In order to avoid repeating unnecessary codes, for our convenience, let's combine the train and test set.\n",
    "df = pd.concat([train_df, test_df]).reset_index()\n",
    "\n",
    "df.drop(['index'],axis=1,inplace=True)\n"
   ]
  },
  {
   "cell_type": "code",
   "execution_count": 16,
   "metadata": {
    "ExecuteTime": {
     "end_time": "2020-07-26T14:35:21.424540Z",
     "start_time": "2020-07-26T14:35:21.405153Z"
    }
   },
   "outputs": [
    {
     "name": "stdout",
     "output_type": "stream",
     "text": [
      "dim of the dataset: (2915, 79)\n"
     ]
    },
    {
     "data": {
      "text/html": [
       "<div>\n",
       "<style scoped>\n",
       "    .dataframe tbody tr th:only-of-type {\n",
       "        vertical-align: middle;\n",
       "    }\n",
       "\n",
       "    .dataframe tbody tr th {\n",
       "        vertical-align: top;\n",
       "    }\n",
       "\n",
       "    .dataframe thead th {\n",
       "        text-align: right;\n",
       "    }\n",
       "</style>\n",
       "<table border=\"1\" class=\"dataframe\">\n",
       "  <thead>\n",
       "    <tr style=\"text-align: right;\">\n",
       "      <th></th>\n",
       "      <th>MSSubClass</th>\n",
       "      <th>MSZoning</th>\n",
       "      <th>LotFrontage</th>\n",
       "      <th>LotArea</th>\n",
       "      <th>Street</th>\n",
       "      <th>Alley</th>\n",
       "      <th>LotShape</th>\n",
       "      <th>LandContour</th>\n",
       "      <th>Utilities</th>\n",
       "      <th>LotConfig</th>\n",
       "      <th>...</th>\n",
       "      <th>ScreenPorch</th>\n",
       "      <th>PoolArea</th>\n",
       "      <th>PoolQC</th>\n",
       "      <th>Fence</th>\n",
       "      <th>MiscFeature</th>\n",
       "      <th>MiscVal</th>\n",
       "      <th>MoSold</th>\n",
       "      <th>YrSold</th>\n",
       "      <th>SaleType</th>\n",
       "      <th>SaleCondition</th>\n",
       "    </tr>\n",
       "  </thead>\n",
       "  <tbody>\n",
       "    <tr>\n",
       "      <th>0</th>\n",
       "      <td>60</td>\n",
       "      <td>RL</td>\n",
       "      <td>65.0</td>\n",
       "      <td>8450</td>\n",
       "      <td>Pave</td>\n",
       "      <td>NaN</td>\n",
       "      <td>Reg</td>\n",
       "      <td>Lvl</td>\n",
       "      <td>AllPub</td>\n",
       "      <td>Inside</td>\n",
       "      <td>...</td>\n",
       "      <td>0</td>\n",
       "      <td>0</td>\n",
       "      <td>NaN</td>\n",
       "      <td>NaN</td>\n",
       "      <td>NaN</td>\n",
       "      <td>0</td>\n",
       "      <td>2</td>\n",
       "      <td>2008</td>\n",
       "      <td>WD</td>\n",
       "      <td>Normal</td>\n",
       "    </tr>\n",
       "    <tr>\n",
       "      <th>1</th>\n",
       "      <td>20</td>\n",
       "      <td>RL</td>\n",
       "      <td>80.0</td>\n",
       "      <td>9600</td>\n",
       "      <td>Pave</td>\n",
       "      <td>NaN</td>\n",
       "      <td>Reg</td>\n",
       "      <td>Lvl</td>\n",
       "      <td>AllPub</td>\n",
       "      <td>FR2</td>\n",
       "      <td>...</td>\n",
       "      <td>0</td>\n",
       "      <td>0</td>\n",
       "      <td>NaN</td>\n",
       "      <td>NaN</td>\n",
       "      <td>NaN</td>\n",
       "      <td>0</td>\n",
       "      <td>5</td>\n",
       "      <td>2007</td>\n",
       "      <td>WD</td>\n",
       "      <td>Normal</td>\n",
       "    </tr>\n",
       "    <tr>\n",
       "      <th>2</th>\n",
       "      <td>60</td>\n",
       "      <td>RL</td>\n",
       "      <td>68.0</td>\n",
       "      <td>11250</td>\n",
       "      <td>Pave</td>\n",
       "      <td>NaN</td>\n",
       "      <td>IR1</td>\n",
       "      <td>Lvl</td>\n",
       "      <td>AllPub</td>\n",
       "      <td>Inside</td>\n",
       "      <td>...</td>\n",
       "      <td>0</td>\n",
       "      <td>0</td>\n",
       "      <td>NaN</td>\n",
       "      <td>NaN</td>\n",
       "      <td>NaN</td>\n",
       "      <td>0</td>\n",
       "      <td>9</td>\n",
       "      <td>2008</td>\n",
       "      <td>WD</td>\n",
       "      <td>Normal</td>\n",
       "    </tr>\n",
       "    <tr>\n",
       "      <th>3</th>\n",
       "      <td>70</td>\n",
       "      <td>RL</td>\n",
       "      <td>60.0</td>\n",
       "      <td>9550</td>\n",
       "      <td>Pave</td>\n",
       "      <td>NaN</td>\n",
       "      <td>IR1</td>\n",
       "      <td>Lvl</td>\n",
       "      <td>AllPub</td>\n",
       "      <td>Corner</td>\n",
       "      <td>...</td>\n",
       "      <td>0</td>\n",
       "      <td>0</td>\n",
       "      <td>NaN</td>\n",
       "      <td>NaN</td>\n",
       "      <td>NaN</td>\n",
       "      <td>0</td>\n",
       "      <td>2</td>\n",
       "      <td>2006</td>\n",
       "      <td>WD</td>\n",
       "      <td>Abnorml</td>\n",
       "    </tr>\n",
       "    <tr>\n",
       "      <th>4</th>\n",
       "      <td>60</td>\n",
       "      <td>RL</td>\n",
       "      <td>84.0</td>\n",
       "      <td>14260</td>\n",
       "      <td>Pave</td>\n",
       "      <td>NaN</td>\n",
       "      <td>IR1</td>\n",
       "      <td>Lvl</td>\n",
       "      <td>AllPub</td>\n",
       "      <td>FR2</td>\n",
       "      <td>...</td>\n",
       "      <td>0</td>\n",
       "      <td>0</td>\n",
       "      <td>NaN</td>\n",
       "      <td>NaN</td>\n",
       "      <td>NaN</td>\n",
       "      <td>0</td>\n",
       "      <td>12</td>\n",
       "      <td>2008</td>\n",
       "      <td>WD</td>\n",
       "      <td>Normal</td>\n",
       "    </tr>\n",
       "  </tbody>\n",
       "</table>\n",
       "<p>5 rows × 79 columns</p>\n",
       "</div>"
      ],
      "text/plain": [
       "   MSSubClass MSZoning  LotFrontage  LotArea Street Alley LotShape  \\\n",
       "0          60       RL         65.0     8450   Pave   NaN      Reg   \n",
       "1          20       RL         80.0     9600   Pave   NaN      Reg   \n",
       "2          60       RL         68.0    11250   Pave   NaN      IR1   \n",
       "3          70       RL         60.0     9550   Pave   NaN      IR1   \n",
       "4          60       RL         84.0    14260   Pave   NaN      IR1   \n",
       "\n",
       "  LandContour Utilities LotConfig  ... ScreenPorch PoolArea PoolQC Fence  \\\n",
       "0         Lvl    AllPub    Inside  ...           0        0    NaN   NaN   \n",
       "1         Lvl    AllPub       FR2  ...           0        0    NaN   NaN   \n",
       "2         Lvl    AllPub    Inside  ...           0        0    NaN   NaN   \n",
       "3         Lvl    AllPub    Corner  ...           0        0    NaN   NaN   \n",
       "4         Lvl    AllPub       FR2  ...           0        0    NaN   NaN   \n",
       "\n",
       "  MiscFeature MiscVal  MoSold  YrSold  SaleType  SaleCondition  \n",
       "0         NaN       0       2    2008        WD         Normal  \n",
       "1         NaN       0       5    2007        WD         Normal  \n",
       "2         NaN       0       9    2008        WD         Normal  \n",
       "3         NaN       0       2    2006        WD        Abnorml  \n",
       "4         NaN       0      12    2008        WD         Normal  \n",
       "\n",
       "[5 rows x 79 columns]"
      ]
     },
     "execution_count": 16,
     "metadata": {},
     "output_type": "execute_result"
    }
   ],
   "source": [
    "print('dim of the dataset:' , df.shape)\n",
    "df.head()"
   ]
  },
  {
   "cell_type": "markdown",
   "metadata": {},
   "source": [
    "### Feature Engineering"
   ]
  },
  {
   "cell_type": "markdown",
   "metadata": {},
   "source": [
    "#### Missing Data 처리를 위한 확인!"
   ]
  },
  {
   "cell_type": "code",
   "execution_count": 17,
   "metadata": {
    "ExecuteTime": {
     "end_time": "2020-07-26T14:35:21.443483Z",
     "start_time": "2020-07-26T14:35:21.426066Z"
    }
   },
   "outputs": [
    {
     "data": {
      "text/html": [
       "<div>\n",
       "<style scoped>\n",
       "    .dataframe tbody tr th:only-of-type {\n",
       "        vertical-align: middle;\n",
       "    }\n",
       "\n",
       "    .dataframe tbody tr th {\n",
       "        vertical-align: top;\n",
       "    }\n",
       "\n",
       "    .dataframe thead th {\n",
       "        text-align: right;\n",
       "    }\n",
       "</style>\n",
       "<table border=\"1\" class=\"dataframe\">\n",
       "  <thead>\n",
       "    <tr style=\"text-align: right;\">\n",
       "      <th></th>\n",
       "      <th>Missing Count</th>\n",
       "      <th>Missing %</th>\n",
       "    </tr>\n",
       "  </thead>\n",
       "  <tbody>\n",
       "    <tr>\n",
       "      <th>PoolQC</th>\n",
       "      <td>2907</td>\n",
       "      <td>99.725557</td>\n",
       "    </tr>\n",
       "    <tr>\n",
       "      <th>MiscFeature</th>\n",
       "      <td>2810</td>\n",
       "      <td>96.397942</td>\n",
       "    </tr>\n",
       "    <tr>\n",
       "      <th>Alley</th>\n",
       "      <td>2717</td>\n",
       "      <td>93.207547</td>\n",
       "    </tr>\n",
       "    <tr>\n",
       "      <th>Fence</th>\n",
       "      <td>2345</td>\n",
       "      <td>80.445969</td>\n",
       "    </tr>\n",
       "    <tr>\n",
       "      <th>FireplaceQu</th>\n",
       "      <td>1420</td>\n",
       "      <td>48.713551</td>\n",
       "    </tr>\n",
       "    <tr>\n",
       "      <th>LotFrontage</th>\n",
       "      <td>486</td>\n",
       "      <td>16.672384</td>\n",
       "    </tr>\n",
       "    <tr>\n",
       "      <th>GarageFinish</th>\n",
       "      <td>159</td>\n",
       "      <td>5.454545</td>\n",
       "    </tr>\n",
       "    <tr>\n",
       "      <th>GarageQual</th>\n",
       "      <td>159</td>\n",
       "      <td>5.454545</td>\n",
       "    </tr>\n",
       "    <tr>\n",
       "      <th>GarageCond</th>\n",
       "      <td>159</td>\n",
       "      <td>5.454545</td>\n",
       "    </tr>\n",
       "    <tr>\n",
       "      <th>GarageYrBlt</th>\n",
       "      <td>159</td>\n",
       "      <td>5.454545</td>\n",
       "    </tr>\n",
       "    <tr>\n",
       "      <th>GarageType</th>\n",
       "      <td>157</td>\n",
       "      <td>5.385935</td>\n",
       "    </tr>\n",
       "    <tr>\n",
       "      <th>BsmtExposure</th>\n",
       "      <td>82</td>\n",
       "      <td>2.813036</td>\n",
       "    </tr>\n",
       "    <tr>\n",
       "      <th>BsmtCond</th>\n",
       "      <td>82</td>\n",
       "      <td>2.813036</td>\n",
       "    </tr>\n",
       "    <tr>\n",
       "      <th>BsmtQual</th>\n",
       "      <td>81</td>\n",
       "      <td>2.778731</td>\n",
       "    </tr>\n",
       "    <tr>\n",
       "      <th>BsmtFinType2</th>\n",
       "      <td>80</td>\n",
       "      <td>2.744425</td>\n",
       "    </tr>\n",
       "    <tr>\n",
       "      <th>BsmtFinType1</th>\n",
       "      <td>79</td>\n",
       "      <td>2.710120</td>\n",
       "    </tr>\n",
       "    <tr>\n",
       "      <th>MasVnrType</th>\n",
       "      <td>24</td>\n",
       "      <td>0.823328</td>\n",
       "    </tr>\n",
       "    <tr>\n",
       "      <th>MasVnrArea</th>\n",
       "      <td>23</td>\n",
       "      <td>0.789022</td>\n",
       "    </tr>\n",
       "    <tr>\n",
       "      <th>MSZoning</th>\n",
       "      <td>4</td>\n",
       "      <td>0.137221</td>\n",
       "    </tr>\n",
       "    <tr>\n",
       "      <th>BsmtFullBath</th>\n",
       "      <td>2</td>\n",
       "      <td>0.068611</td>\n",
       "    </tr>\n",
       "    <tr>\n",
       "      <th>BsmtHalfBath</th>\n",
       "      <td>2</td>\n",
       "      <td>0.068611</td>\n",
       "    </tr>\n",
       "    <tr>\n",
       "      <th>Functional</th>\n",
       "      <td>2</td>\n",
       "      <td>0.068611</td>\n",
       "    </tr>\n",
       "    <tr>\n",
       "      <th>Utilities</th>\n",
       "      <td>2</td>\n",
       "      <td>0.068611</td>\n",
       "    </tr>\n",
       "    <tr>\n",
       "      <th>GarageArea</th>\n",
       "      <td>1</td>\n",
       "      <td>0.034305</td>\n",
       "    </tr>\n",
       "    <tr>\n",
       "      <th>GarageCars</th>\n",
       "      <td>1</td>\n",
       "      <td>0.034305</td>\n",
       "    </tr>\n",
       "    <tr>\n",
       "      <th>Electrical</th>\n",
       "      <td>1</td>\n",
       "      <td>0.034305</td>\n",
       "    </tr>\n",
       "    <tr>\n",
       "      <th>KitchenQual</th>\n",
       "      <td>1</td>\n",
       "      <td>0.034305</td>\n",
       "    </tr>\n",
       "    <tr>\n",
       "      <th>TotalBsmtSF</th>\n",
       "      <td>1</td>\n",
       "      <td>0.034305</td>\n",
       "    </tr>\n",
       "    <tr>\n",
       "      <th>BsmtUnfSF</th>\n",
       "      <td>1</td>\n",
       "      <td>0.034305</td>\n",
       "    </tr>\n",
       "    <tr>\n",
       "      <th>BsmtFinSF2</th>\n",
       "      <td>1</td>\n",
       "      <td>0.034305</td>\n",
       "    </tr>\n",
       "    <tr>\n",
       "      <th>BsmtFinSF1</th>\n",
       "      <td>1</td>\n",
       "      <td>0.034305</td>\n",
       "    </tr>\n",
       "    <tr>\n",
       "      <th>Exterior2nd</th>\n",
       "      <td>1</td>\n",
       "      <td>0.034305</td>\n",
       "    </tr>\n",
       "    <tr>\n",
       "      <th>Exterior1st</th>\n",
       "      <td>1</td>\n",
       "      <td>0.034305</td>\n",
       "    </tr>\n",
       "    <tr>\n",
       "      <th>SaleType</th>\n",
       "      <td>1</td>\n",
       "      <td>0.034305</td>\n",
       "    </tr>\n",
       "  </tbody>\n",
       "</table>\n",
       "</div>"
      ],
      "text/plain": [
       "              Missing Count  Missing %\n",
       "PoolQC                 2907  99.725557\n",
       "MiscFeature            2810  96.397942\n",
       "Alley                  2717  93.207547\n",
       "Fence                  2345  80.445969\n",
       "FireplaceQu            1420  48.713551\n",
       "LotFrontage             486  16.672384\n",
       "GarageFinish            159   5.454545\n",
       "GarageQual              159   5.454545\n",
       "GarageCond              159   5.454545\n",
       "GarageYrBlt             159   5.454545\n",
       "GarageType              157   5.385935\n",
       "BsmtExposure             82   2.813036\n",
       "BsmtCond                 82   2.813036\n",
       "BsmtQual                 81   2.778731\n",
       "BsmtFinType2             80   2.744425\n",
       "BsmtFinType1             79   2.710120\n",
       "MasVnrType               24   0.823328\n",
       "MasVnrArea               23   0.789022\n",
       "MSZoning                  4   0.137221\n",
       "BsmtFullBath              2   0.068611\n",
       "BsmtHalfBath              2   0.068611\n",
       "Functional                2   0.068611\n",
       "Utilities                 2   0.068611\n",
       "GarageArea                1   0.034305\n",
       "GarageCars                1   0.034305\n",
       "Electrical                1   0.034305\n",
       "KitchenQual               1   0.034305\n",
       "TotalBsmtSF               1   0.034305\n",
       "BsmtUnfSF                 1   0.034305\n",
       "BsmtFinSF2                1   0.034305\n",
       "BsmtFinSF1                1   0.034305\n",
       "Exterior2nd               1   0.034305\n",
       "Exterior1st               1   0.034305\n",
       "SaleType                  1   0.034305"
      ]
     },
     "execution_count": 17,
     "metadata": {},
     "output_type": "execute_result"
    }
   ],
   "source": [
    "mc = pd.DataFrame(df.isnull().sum(),columns=['Missing Count'])\n",
    "mc = mc[mc['Missing Count']!=0]\n",
    "mc['Missing %'] = (mc['Missing Count'] / df.shape[0]) * 100\n",
    "mc.sort_values('Missing %',ascending=False)"
   ]
  },
  {
   "cell_type": "markdown",
   "metadata": {},
   "source": [
    "#### 빈 값들에 대해서 채우는 것 : None으로 처리할 것과 0으로 처리할 것으로 구분을 함!!! 아니면 중간값이나 이런 부분으로 채우고 싶으면 Imputer등에 대한 것들을 활용하면 됨!!!"
   ]
  },
  {
   "cell_type": "markdown",
   "metadata": {},
   "source": [
    "##### 여기서는 None으로 채우고 싶음!!"
   ]
  },
  {
   "cell_type": "code",
   "execution_count": 18,
   "metadata": {
    "ExecuteTime": {
     "end_time": "2020-07-26T14:35:21.454786Z",
     "start_time": "2020-07-26T14:35:21.444495Z"
    }
   },
   "outputs": [],
   "source": [
    "nones = ['PoolQC', 'MiscFeature', 'Alley','Fence', 'FireplaceQu', 'GarageType','GarageFinish',\n",
    "        'GarageQual','GarageCond','BsmtQual','BsmtCond','BsmtExposure','BsmtFinType1','BsmtFinType2',\n",
    "        'MasVnrType']\n",
    "\n",
    "for none in nones:\n",
    "    df[none].fillna('None',inplace = True)"
   ]
  },
  {
   "cell_type": "markdown",
   "metadata": {},
   "source": [
    "##### 여기서는 0으로 채우고 싶음"
   ]
  },
  {
   "cell_type": "code",
   "execution_count": 19,
   "metadata": {
    "ExecuteTime": {
     "end_time": "2020-07-26T14:35:21.461505Z",
     "start_time": "2020-07-26T14:35:21.456314Z"
    }
   },
   "outputs": [],
   "source": [
    "zeros = ['GarageYrBlt','GarageArea','GarageCars','BsmtFinSF1','BsmtFinSF2','BsmtUnfSF','TotalBsmtSF',\n",
    "         'BsmtFullBath','BsmtHalfBath','MasVnrArea']\n",
    "\n",
    "for zero in zeros:\n",
    "    df[zero].fillna(0, inplace = True)"
   ]
  },
  {
   "cell_type": "markdown",
   "metadata": {},
   "source": [
    "##### Utilities 컬럼은 너무 많이 하나의 데이터로 되어 있어서, 특징으로 사용이 불가능 할 것임!! 그래서 제거하기로 함!"
   ]
  },
  {
   "cell_type": "code",
   "execution_count": 20,
   "metadata": {
    "ExecuteTime": {
     "end_time": "2020-07-26T14:35:21.468151Z",
     "start_time": "2020-07-26T14:35:21.462519Z"
    }
   },
   "outputs": [
    {
     "data": {
      "text/plain": [
       "Counter({'AllPub': 2912, 'NoSeWa': 1, nan: 2})"
      ]
     },
     "execution_count": 20,
     "metadata": {},
     "output_type": "execute_result"
    }
   ],
   "source": [
    "Counter(df.Utilities)\n",
    "#df[\"Utilities\"].value_counts()"
   ]
  },
  {
   "cell_type": "code",
   "execution_count": 21,
   "metadata": {
    "ExecuteTime": {
     "end_time": "2020-07-26T14:35:21.481468Z",
     "start_time": "2020-07-26T14:35:21.471717Z"
    }
   },
   "outputs": [],
   "source": [
    "df.drop('Utilities',axis=1, inplace=True)"
   ]
  },
  {
   "cell_type": "markdown",
   "metadata": {},
   "source": [
    "##### 아래의 컬럼들은 위의 Utilites와는 달리 너무까지는 아니지만, 빠진 것들도 존재를 하고, 많은 항목들도 있고, 치우친 것들이 있어서, 제일 많이 나타나는 항목으로 채우고자 함!!!!"
   ]
  },
  {
   "cell_type": "code",
   "execution_count": 22,
   "metadata": {
    "ExecuteTime": {
     "end_time": "2020-07-26T14:35:21.489183Z",
     "start_time": "2020-07-26T14:35:21.483508Z"
    }
   },
   "outputs": [
    {
     "data": {
      "text/plain": [
       "RL         2261\n",
       "RM          460\n",
       "FV          139\n",
       "RH           26\n",
       "C (all)      25\n",
       "Name: MSZoning, dtype: int64"
      ]
     },
     "execution_count": 22,
     "metadata": {},
     "output_type": "execute_result"
    }
   ],
   "source": [
    "df.loc[:, \"MSZoning\"].value_counts()"
   ]
  },
  {
   "cell_type": "code",
   "execution_count": 23,
   "metadata": {
    "ExecuteTime": {
     "end_time": "2020-07-26T14:35:21.497995Z",
     "start_time": "2020-07-26T14:35:21.490710Z"
    }
   },
   "outputs": [
    {
     "data": {
      "text/plain": [
       "VinylSd    1025\n",
       "MetalSd     450\n",
       "HdBoard     441\n",
       "Wd Sdng     410\n",
       "Plywood     221\n",
       "CemntBd     125\n",
       "BrkFace      87\n",
       "WdShing      56\n",
       "AsbShng      44\n",
       "Stucco       42\n",
       "BrkComm       6\n",
       "AsphShn       2\n",
       "Stone         2\n",
       "CBlock        2\n",
       "ImStucc       1\n",
       "Name: Exterior1st, dtype: int64"
      ]
     },
     "execution_count": 23,
     "metadata": {},
     "output_type": "execute_result"
    }
   ],
   "source": [
    "df.loc[:, \"Exterior1st\"].value_counts()"
   ]
  },
  {
   "cell_type": "code",
   "execution_count": 24,
   "metadata": {
    "ExecuteTime": {
     "end_time": "2020-07-26T14:35:21.508215Z",
     "start_time": "2020-07-26T14:35:21.499534Z"
    }
   },
   "outputs": [],
   "source": [
    "freq = ['MSZoning','Exterior1st',\n",
    "        'Exterior2nd','SaleType','Electrical',\n",
    "        'KitchenQual','Functional']\n",
    "\n",
    "for fr in freq:\n",
    "    df[fr].fillna(df[fr].mode()[0], inplace=True)"
   ]
  },
  {
   "cell_type": "code",
   "execution_count": 25,
   "metadata": {
    "ExecuteTime": {
     "end_time": "2020-07-26T14:35:21.520532Z",
     "start_time": "2020-07-26T14:35:21.509753Z"
    }
   },
   "outputs": [
    {
     "data": {
      "text/plain": [
       "0    RL\n",
       "dtype: object"
      ]
     },
     "execution_count": 25,
     "metadata": {},
     "output_type": "execute_result"
    }
   ],
   "source": [
    "df.loc[:, \"MSZoning\"].mode()"
   ]
  },
  {
   "cell_type": "code",
   "execution_count": 26,
   "metadata": {
    "ExecuteTime": {
     "end_time": "2020-07-26T14:35:21.528204Z",
     "start_time": "2020-07-26T14:35:21.522065Z"
    }
   },
   "outputs": [
    {
     "data": {
      "text/plain": [
       "RL         2265\n",
       "RM          460\n",
       "FV          139\n",
       "RH           26\n",
       "C (all)      25\n",
       "Name: MSZoning, dtype: int64"
      ]
     },
     "execution_count": 26,
     "metadata": {},
     "output_type": "execute_result"
    }
   ],
   "source": [
    "df.loc[:, \"MSZoning\"].value_counts()"
   ]
  },
  {
   "cell_type": "code",
   "execution_count": null,
   "metadata": {},
   "outputs": [],
   "source": []
  },
  {
   "cell_type": "code",
   "execution_count": null,
   "metadata": {},
   "outputs": [],
   "source": []
  },
  {
   "cell_type": "code",
   "execution_count": null,
   "metadata": {},
   "outputs": [],
   "source": []
  },
  {
   "cell_type": "markdown",
   "metadata": {},
   "source": [
    "#####  LotFrontage 에서는 너무 많은 값들이 이상하고, 이 값들으 좀 처리하기 위해서 비슷한 것들을 묶어서 사용을 하려고 함.    \n",
    "그래서 우선은 기존의 값은 old_lotfrontage라는 컬럼으로 두고, LotArea, Neighborhood로 그룹화 해서 거기서 나오는 값을 바탕으로 처리하고자 함!!!"
   ]
  },
  {
   "cell_type": "code",
   "execution_count": 27,
   "metadata": {
    "ExecuteTime": {
     "end_time": "2020-07-26T14:35:21.545052Z",
     "start_time": "2020-07-26T14:35:21.529739Z"
    }
   },
   "outputs": [],
   "source": [
    "df['old_lotfrontage'] = df['LotFrontage']\n",
    "\n",
    "#df['LotFrontage'] = df.groupby(['LotArea','Neighborhood'])['LotFrontage'].transform(lambda x: x.fillna(x.median()))\n",
    "df['LotFrontage'] = df.groupby('Neighborhood')['LotFrontage'].transform(lambda x: x.fillna(x.median()))"
   ]
  },
  {
   "cell_type": "markdown",
   "metadata": {},
   "source": [
    "* 왼쪽이 처리하기 전의 기존의 값의 분포이고, 오른쪽이 위와 같은 처리를 하였을 때의 분포를 나타낸 것임!!"
   ]
  },
  {
   "cell_type": "code",
   "execution_count": 28,
   "metadata": {
    "ExecuteTime": {
     "end_time": "2020-07-26T14:35:21.910599Z",
     "start_time": "2020-07-26T14:35:21.546070Z"
    }
   },
   "outputs": [
    {
     "data": {
      "image/png": "[encoded data removed]",
      "text/plain": [
       "<Figure size 1080x360 with 2 Axes>"
      ]
     },
     "metadata": {
      "needs_background": "light"
     },
     "output_type": "display_data"
    }
   ],
   "source": [
    "fig, (ax1,ax2) = plt.subplots(1,2,figsize=(15,5))\n",
    "ol = sns.distplot(np.array(df['old_lotfrontage'].dropna()),ax=ax1,kde=True,bins=70)\n",
    "lf = sns.distplot(np.array(df['LotFrontage']),ax=ax2,kde=True,bins=70,color='red')\n",
    "\n",
    "# drop the old_lotfrontage as we finished the comparison\n",
    "df.drop('old_lotfrontage',axis=1,inplace=True)"
   ]
  },
  {
   "cell_type": "markdown",
   "metadata": {},
   "source": [
    "* 위와 같이 처리를 해서 이상한 값에 대한 것들을 처리를 완료함"
   ]
  },
  {
   "cell_type": "code",
   "execution_count": 29,
   "metadata": {
    "ExecuteTime": {
     "end_time": "2020-07-26T14:35:21.919794Z",
     "start_time": "2020-07-26T14:35:21.911638Z"
    }
   },
   "outputs": [
    {
     "name": "stdout",
     "output_type": "stream",
     "text": [
      "Remaining missing values: 0\n"
     ]
    }
   ],
   "source": [
    "print(\"Remaining missing values:\",df.isnull().sum().sum())"
   ]
  },
  {
   "cell_type": "markdown",
   "metadata": {},
   "source": [
    "###  변형 및 인코딩"
   ]
  },
  {
   "cell_type": "markdown",
   "metadata": {},
   "source": [
    "#### 범주형 데이터 변형"
   ]
  },
  {
   "cell_type": "code",
   "execution_count": 30,
   "metadata": {
    "ExecuteTime": {
     "end_time": "2020-07-26T14:35:22.098385Z",
     "start_time": "2020-07-26T14:35:21.921326Z"
    }
   },
   "outputs": [],
   "source": [
    "# 뒤에서 그냥  get_dummy로 처리할 것임...\n",
    "df['MoSold'] = df.astype(str)\n",
    "df['YrSold'] = df.astype(str)\n",
    "df['MSSubClass'] = df.astype(str)\n",
    "\n",
    "nominals = ['MSSubClass','MSZoning','Street','Alley','LandContour','LotConfig','Neighborhood','Condition1','Condition2','BldgType','HouseStyle','RoofStyle','RoofMatl',\n",
    "           'Exterior1st','Exterior2nd','MasVnrType','Foundation','Heating','CentralAir','GarageType','MiscFeature','SaleType','SaleCondition','MoSold','YrSold']\n"
   ]
  },
  {
   "cell_type": "markdown",
   "metadata": {},
   "source": [
    "#### 여기서는 순서가 중요한 변수들"
   ]
  },
  {
   "cell_type": "code",
   "execution_count": 31,
   "metadata": {
    "ExecuteTime": {
     "end_time": "2020-07-26T14:35:22.127234Z",
     "start_time": "2020-07-26T14:35:22.100445Z"
    }
   },
   "outputs": [],
   "source": [
    "from sklearn.preprocessing import LabelEncoder\n",
    "\n",
    "ordinals = ['LotShape','LandSlope','OverallQual','OverallCond','ExterQual','ExterCond','BsmtQual',\n",
    "           'BsmtCond','BsmtExposure','BsmtFinType1','BsmtFinType2','HeatingQC','Electrical','KitchenQual',\n",
    "            'Functional','FireplaceQu','GarageFinish','GarageQual','GarageCond','PavedDrive','PoolQC','Fence']\n",
    "\n",
    "for ordinal in ordinals:\n",
    "    le = LabelEncoder()\n",
    "    le.fit(df[ordinal])\n",
    "    df[ordinal] = le.transform(df[ordinal])"
   ]
  },
  {
   "cell_type": "markdown",
   "metadata": {},
   "source": [
    "#### House Price에 상관계수가 높은 거의 비슷한 컬럼들을 종합하여서 1개의 컬럼으로  변형"
   ]
  },
  {
   "cell_type": "code",
   "execution_count": 32,
   "metadata": {
    "ExecuteTime": {
     "end_time": "2020-07-26T14:35:22.131881Z",
     "start_time": "2020-07-26T14:35:22.128802Z"
    }
   },
   "outputs": [],
   "source": [
    "# Total square feet of houses\n",
    "\n",
    "df['totalArea'] = df['GrLivArea'] + df['TotalBsmtSF']"
   ]
  },
  {
   "cell_type": "markdown",
   "metadata": {},
   "source": [
    "#### 수치 데이터의 분포를 보고, 얼마나 치우쳐서 있는지 확인 : +1보다 크고, -1보다 작으면 상당히 skew되어 있으며, -1~-0.5/ 0.5~1 사이에는 적당히 skew, -0.5~ 0.5 사이는 적당히 잘 분포"
   ]
  },
  {
   "cell_type": "code",
   "execution_count": 33,
   "metadata": {
    "ExecuteTime": {
     "end_time": "2020-07-26T14:35:22.158710Z",
     "start_time": "2020-07-26T14:35:22.132907Z"
    }
   },
   "outputs": [
    {
     "data": {
      "text/html": [
       "<div>\n",
       "<style scoped>\n",
       "    .dataframe tbody tr th:only-of-type {\n",
       "        vertical-align: middle;\n",
       "    }\n",
       "\n",
       "    .dataframe tbody tr th {\n",
       "        vertical-align: top;\n",
       "    }\n",
       "\n",
       "    .dataframe thead th {\n",
       "        text-align: right;\n",
       "    }\n",
       "</style>\n",
       "<table border=\"1\" class=\"dataframe\">\n",
       "  <thead>\n",
       "    <tr style=\"text-align: right;\">\n",
       "      <th></th>\n",
       "      <th>skewness</th>\n",
       "    </tr>\n",
       "  </thead>\n",
       "  <tbody>\n",
       "    <tr>\n",
       "      <th>PoolQC</th>\n",
       "      <td>-22.996032</td>\n",
       "    </tr>\n",
       "    <tr>\n",
       "      <th>MiscVal</th>\n",
       "      <td>21.943440</td>\n",
       "    </tr>\n",
       "    <tr>\n",
       "      <th>PoolArea</th>\n",
       "      <td>18.711459</td>\n",
       "    </tr>\n",
       "    <tr>\n",
       "      <th>LotArea</th>\n",
       "      <td>13.130516</td>\n",
       "    </tr>\n",
       "    <tr>\n",
       "      <th>LowQualFinSF</th>\n",
       "      <td>12.086535</td>\n",
       "    </tr>\n",
       "  </tbody>\n",
       "</table>\n",
       "</div>"
      ],
      "text/plain": [
       "               skewness\n",
       "PoolQC       -22.996032\n",
       "MiscVal       21.943440\n",
       "PoolArea      18.711459\n",
       "LotArea       13.130516\n",
       "LowQualFinSF  12.086535"
      ]
     },
     "execution_count": 33,
     "metadata": {},
     "output_type": "execute_result"
    }
   ],
   "source": [
    "# Assign numeric features by excluding non numeric features\n",
    "numeric = df.dtypes[df.dtypes != 'object'].index\n",
    "\n",
    "# Display the skewness of each column and sort the values in descending order \n",
    "skewness = df[numeric].apply(lambda x: x.skew()).sort_values(ascending=False)\n",
    "\n",
    "# Create a dataframe and show 5 most skewed features \n",
    "sk_df = pd.DataFrame(skewness,columns=['skewness'])\n",
    "sk_df['skw'] = abs(sk_df)\n",
    "sk_df.sort_values('skw',ascending=False).drop('skw',axis=1).head()"
   ]
  },
  {
   "cell_type": "markdown",
   "metadata": {},
   "source": [
    "#### 위의 결과들이 엄청나게 skew되어 있어서 이에 대한 변형 수행 : log1p사용 : log(x+1)"
   ]
  },
  {
   "cell_type": "code",
   "execution_count": 34,
   "metadata": {
    "ExecuteTime": {
     "end_time": "2020-07-26T14:35:22.173760Z",
     "start_time": "2020-07-26T14:35:22.159764Z"
    }
   },
   "outputs": [],
   "source": [
    "# As a general rule of thumb, skewness with an absolute value less than 0.5 is considered as a acceptable range of skewness for normal distribution of data\n",
    "skw_feature = skewness[abs(skewness) > 0.5].index\n",
    "\n",
    "# Transform skewed features to normal distribution by taking log(1 + input)\n",
    "df[skw_feature] = np.log1p(df[skw_feature])\n"
   ]
  },
  {
   "cell_type": "markdown",
   "metadata": {},
   "source": [
    "#### 기타 아직 변형이 안 되어 있는 아주 중요하지 않은 변수들(카테고리)을 처리"
   ]
  },
  {
   "cell_type": "code",
   "execution_count": 35,
   "metadata": {
    "ExecuteTime": {
     "end_time": "2020-07-26T14:35:22.208627Z",
     "start_time": "2020-07-26T14:35:22.174800Z"
    }
   },
   "outputs": [
    {
     "name": "stdout",
     "output_type": "stream",
     "text": [
      "(2915, 265)\n"
     ]
    }
   ],
   "source": [
    "df = pd.get_dummies(df)\n",
    "print(df.shape)"
   ]
  },
  {
   "cell_type": "markdown",
   "metadata": {},
   "source": [
    "### Train / Test  분리"
   ]
  },
  {
   "cell_type": "code",
   "execution_count": 36,
   "metadata": {
    "ExecuteTime": {
     "end_time": "2020-07-26T14:35:22.216535Z",
     "start_time": "2020-07-26T14:35:22.209651Z"
    }
   },
   "outputs": [],
   "source": [
    "# Split the combined dataset into two: train and test\n",
    "\n",
    "X_train = df.iloc[:train_df.shape[0],:]\n",
    "X_test = df.iloc[train_df.shape[0]:,:]\n",
    "\n",
    "#X_train, X_test, y_train, y_test = train_test_split(df,y_df, random_state = 1)"
   ]
  },
  {
   "cell_type": "code",
   "execution_count": 37,
   "metadata": {
    "ExecuteTime": {
     "end_time": "2020-07-26T14:35:25.221211Z",
     "start_time": "2020-07-26T14:35:25.218100Z"
    }
   },
   "outputs": [
    {
     "name": "stdout",
     "output_type": "stream",
     "text": [
      "training shape:(1456, 265), test shape:(1459, 265)\n"
     ]
    }
   ],
   "source": [
    "# 참고로 원래의 데이터가 train / test 가 1456개, 1459개로 거의 동일한 크기의 데이터가 주어진 것!!!\n",
    "print(\"training shape:{}, test shape:{}\".format(X_train.shape,X_test.shape))"
   ]
  },
  {
   "cell_type": "markdown",
   "metadata": {},
   "source": [
    "### 모델링"
   ]
  },
  {
   "cell_type": "markdown",
   "metadata": {},
   "source": [
    "* xgboost를 윈도우에서 사용하시는 분들은 경로 설정 추가 필요     \n",
    "* mlxtend 패키지 설치"
   ]
  },
  {
   "cell_type": "code",
   "execution_count": 38,
   "metadata": {
    "ExecuteTime": {
     "end_time": "2020-07-26T14:35:34.380846Z",
     "start_time": "2020-07-26T14:35:34.254108Z"
    }
   },
   "outputs": [],
   "source": [
    "# Import libraries\n",
    "\n",
    "from sklearn.model_selection import GridSearchCV,RandomizedSearchCV,learning_curve, cross_val_score, KFold\n",
    "from sklearn.preprocessing import StandardScaler, RobustScaler\n",
    "from sklearn.svm import SVR\n",
    "from sklearn.ensemble import RandomForestRegressor\n",
    "from sklearn.metrics import accuracy_score, mean_squared_error\n",
    "\n",
    "from sklearn.linear_model import LassoCV,ElasticNetCV,Lasso,ElasticNet\n",
    "from sklearn.kernel_ridge import KernelRidge\n",
    "\n",
    "\n",
    "# 아래 추가적인 패키지가 설치가 되어 있어야 함!!!!!!!\n",
    "from xgboost import XGBRegressor\n",
    "from mlxtend.regressor import StackingRegressor\n",
    "\n",
    "\n",
    "# 시간\n",
    "import time"
   ]
  },
  {
   "cell_type": "markdown",
   "metadata": {},
   "source": [
    "#### 정규화 작업"
   ]
  },
  {
   "cell_type": "code",
   "execution_count": 39,
   "metadata": {
    "ExecuteTime": {
     "end_time": "2020-07-26T14:35:36.624259Z",
     "start_time": "2020-07-26T14:35:36.599408Z"
    }
   },
   "outputs": [],
   "source": [
    "scaler = StandardScaler()\n",
    "scaler.fit(X_train)\n",
    "\n",
    "X_train = scaler.transform(X_train)\n",
    "#X_train = RobustScaler().fit_transform(X_train)\n",
    "X_train = pd.DataFrame(X_train, columns = df.columns )\n",
    "\n",
    "X_test = scaler.transform(X_test)\n",
    "X_test = pd.DataFrame(X_test, columns = df.columns)\n",
    "#X_test = RobustScaler().fit_transform(X_test)"
   ]
  },
  {
   "cell_type": "code",
   "execution_count": 42,
   "metadata": {
    "ExecuteTime": {
     "end_time": "2020-07-26T14:35:37.077090Z",
     "start_time": "2020-07-26T14:35:37.071883Z"
    }
   },
   "outputs": [
    {
     "data": {
      "text/plain": [
       "0    12.247699\n",
       "1    12.109016\n",
       "2    12.317171\n",
       "3    11.849405\n",
       "4    12.429220\n",
       "Name: SalePrice, dtype: float64"
      ]
     },
     "execution_count": 42,
     "metadata": {},
     "output_type": "execute_result"
    }
   ],
   "source": [
    "y_df.head()"
   ]
  },
  {
   "cell_type": "code",
   "execution_count": 43,
   "metadata": {
    "ExecuteTime": {
     "end_time": "2020-07-26T14:35:37.716522Z",
     "start_time": "2020-07-26T14:35:37.711911Z"
    }
   },
   "outputs": [
    {
     "data": {
      "text/plain": [
       "(1456,)"
      ]
     },
     "execution_count": 43,
     "metadata": {},
     "output_type": "execute_result"
    }
   ],
   "source": [
    "y_df.shape"
   ]
  },
  {
   "cell_type": "code",
   "execution_count": 44,
   "metadata": {
    "ExecuteTime": {
     "end_time": "2020-07-26T14:35:38.232539Z",
     "start_time": "2020-07-26T14:35:38.228962Z"
    }
   },
   "outputs": [
    {
     "data": {
      "text/plain": [
       "12.24769911637256"
      ]
     },
     "execution_count": 44,
     "metadata": {},
     "output_type": "execute_result"
    }
   ],
   "source": [
    "#  참고) 위에서 제일 원본 데이터는 208500이였는데, 이것을 log1p로 변환한 것을 정답지로 놓고 하는 것이니\n",
    "# 하기 전에 맞게 변환이 되었는지 확인!!!!!!\n",
    "np.log1p(208500)"
   ]
  },
  {
   "cell_type": "markdown",
   "metadata": {},
   "source": [
    "#### 모델의 종류들 : 평가는 root-mean-squared-error 로 평가\n",
    "\n",
    "        Ridge Regression\n",
    "        Lasso Regression\n",
    "        ElasticNet Regression\n",
    "        Support Vector Machine\n",
    "        Random Forest\n",
    "        XG Boost"
   ]
  },
  {
   "cell_type": "markdown",
   "metadata": {},
   "source": [
    "##### 평가 및 kfold 사용 준비"
   ]
  },
  {
   "cell_type": "code",
   "execution_count": 40,
   "metadata": {
    "ExecuteTime": {
     "end_time": "2020-07-26T14:35:41.856297Z",
     "start_time": "2020-07-26T14:35:41.854261Z"
    }
   },
   "outputs": [],
   "source": [
    "kfold = KFold(n_splits=6, random_state= 0, shuffle = True)"
   ]
  },
  {
   "cell_type": "code",
   "execution_count": 41,
   "metadata": {
    "ExecuteTime": {
     "end_time": "2020-07-26T15:13:30.214015Z",
     "start_time": "2020-07-26T15:13:30.210925Z"
    }
   },
   "outputs": [],
   "source": [
    "def rmse_cv(model):\n",
    "    rmse= np.sqrt(-cross_val_score(model, X_train, y_df, \n",
    "                                   scoring=\"neg_mean_squared_error\", cv = kfold))\n",
    "    return(rmse)"
   ]
  },
  {
   "cell_type": "markdown",
   "metadata": {},
   "source": [
    "##### 참고) 평가지표"
   ]
  },
  {
   "cell_type": "markdown",
   "metadata": {},
   "source": [
    "<img src=\"img/01.png\">\n",
    "<img src=\"img/02.png\">\n",
    "<img src=\"img/03.png\">\n",
    "<img src=\"img/04.png\">\n",
    "<img src=\"img/05.png\">\n",
    "<img src=\"img/06.png\">"
   ]
  },
  {
   "cell_type": "markdown",
   "metadata": {},
   "source": [
    "https://bkshin.tistory.com/entry/%EB%A8%B8%EC%8B%A0%EB%9F%AC%EB%8B%9D-17-%ED%9A%8C%EA%B7%80-%ED%8F%89%EA%B0%80-%EC%A7%80%ED%91%9C"
   ]
  },
  {
   "cell_type": "markdown",
   "metadata": {},
   "source": [
    "* RMSLE 의 특징 : 하지만 kaggle 에서의 평가 지표는 RMSE 임!<br>\n",
    "<img src=\"img/07.png\">\n",
    "<img src=\"img/08.png\">\n",
    "<img src=\"img/09.png\">"
   ]
  },
  {
   "cell_type": "markdown",
   "metadata": {},
   "source": [
    "* Scikit Learn 에서의 평가 지표"
   ]
  },
  {
   "cell_type": "markdown",
   "metadata": {},
   "source": [
    "<img src=\"img/10.png\">"
   ]
  },
  {
   "cell_type": "markdown",
   "metadata": {},
   "source": [
    "##### Rigid "
   ]
  },
  {
   "cell_type": "markdown",
   "metadata": {},
   "source": [
    "* ref ) https://scikit-learn.org/stable/modules/generated/sklearn.kernel_ridge.KernelRidge.html#sklearn.kernel_ridge.KernelRidge"
   ]
  },
  {
   "cell_type": "code",
   "execution_count": 42,
   "metadata": {},
   "outputs": [],
   "source": [
    "import time"
   ]
  },
  {
   "cell_type": "markdown",
   "metadata": {},
   "source": [
    "###### RS"
   ]
  },
  {
   "cell_type": "code",
   "execution_count": 169,
   "metadata": {},
   "outputs": [],
   "source": [
    "KR = KernelRidge()\n",
    "\n",
    "KR_param_grid = {\n",
    "    # Ridge 만의 순수 조절 파라미터\n",
    "    'alpha' : [0.1,0.2,0.3,1,1.1,1.2,1.3],\n",
    "    # 입력 X에 대한 변환에 관련된 kernel 조절 부분...\n",
    "    'kernel' : ['polynomial','rbt'],\n",
    "    'gamma':[0.01,0.02,0.03,0.04],\n",
    "    'degree': [1,2,3,4,5,6],\n",
    "    'coef0' : [1,2,3,4,5,6]\n",
    "}"
   ]
  },
  {
   "cell_type": "code",
   "execution_count": 170,
   "metadata": {},
   "outputs": [
    {
     "name": "stdout",
     "output_type": "stream",
     "text": [
      "KernelRidge(alpha=1.2, coef0=2, degree=1, gamma=0.03, kernel='polynomial',\n",
      "            kernel_params=None)\n",
      "Best Setting Params : <bound method BaseEstimator.get_params of KernelRidge(alpha=1.2, coef0=2, degree=1, gamma=0.03, kernel='polynomial',\n",
      "            kernel_params=None)>\n"
     ]
    }
   ],
   "source": [
    "# 몇번을 랜덤 서치 할건지\n",
    "n_iter_search = 20\n",
    "KR_RS = RandomizedSearchCV(KR,\n",
    "                          param_distributions=KR_param_grid,\n",
    "                          n_iter=n_iter_search,\n",
    "                          cv=kfold,\n",
    "                           # 채점 기준\n",
    "                          scoring=\"neg_mean_squared_error\",\n",
    "                          n_jobs = -1)\n",
    "\n",
    "# 실질적으로 여기서 시간이 오래걸림\n",
    "KR_RS.fit(X_train, y_df)\n",
    "# 제일 성능이 좋았던게 뭔지\n",
    "KR_RS_best = KR_RS.best_estimator_\n",
    "print(KR_RS_best)\n",
    "print(\"Best Setting Params :\", KR_RS_best.get_params)"
   ]
  },
  {
   "cell_type": "code",
   "execution_count": 171,
   "metadata": {},
   "outputs": [
    {
     "name": "stdout",
     "output_type": "stream",
     "text": [
      "Kernel Ridge mean score : 0.11668428981275443\n",
      "Kernel Ridge std score :  0.00891409838748477\n"
     ]
    }
   ],
   "source": [
    "score = rmse_cv(KR_RS_best)\n",
    "print(\"Kernel Ridge mean score :\", score.mean())\n",
    "print(\"Kernel Ridge std score : \", score.std())"
   ]
  },
  {
   "cell_type": "code",
   "execution_count": 172,
   "metadata": {},
   "outputs": [
    {
     "data": {
      "text/plain": [
       "<bound method BaseEstimator.get_params of KernelRidge(alpha=1.2, coef0=2, degree=1, gamma=0.03, kernel='polynomial',\n",
       "            kernel_params=None)>"
      ]
     },
     "execution_count": 172,
     "metadata": {},
     "output_type": "execute_result"
    }
   ],
   "source": [
    "KR_RS_best.get_params"
   ]
  },
  {
   "cell_type": "markdown",
   "metadata": {},
   "source": [
    "###### GS"
   ]
  },
  {
   "cell_type": "code",
   "execution_count": 191,
   "metadata": {},
   "outputs": [],
   "source": [
    "KR_GS_param_grid = {\n",
    "    'alpha' : [0.5,1,1.5,2],\n",
    "    'kernel' : ['polynomial'],\n",
    "    'gamma':[0.001,0.001,0.01,0.00001],\n",
    "    'degree': [1],\n",
    "    'coef0' : [6]\n",
    "}"
   ]
  },
  {
   "cell_type": "code",
   "execution_count": 192,
   "metadata": {},
   "outputs": [
    {
     "name": "stdout",
     "output_type": "stream",
     "text": [
      "Fitting 6 folds for each of 12 candidates, totalling 72 fits\n"
     ]
    },
    {
     "name": "stderr",
     "output_type": "stream",
     "text": [
      "[Parallel(n_jobs=-1)]: Using backend LokyBackend with 12 concurrent workers.\n",
      "[Parallel(n_jobs=-1)]: Done  26 tasks      | elapsed:    0.6s\n",
      "[Parallel(n_jobs=-1)]: Done  72 out of  72 | elapsed:    1.5s finished\n"
     ]
    },
    {
     "name": "stdout",
     "output_type": "stream",
     "text": [
      "Run Time :  1.7872638702392578\n",
      "KernelRidge(alpha=1.6, coef0=6, degree=1, gamma=0.01, kernel='polynomial',\n",
      "            kernel_params=None)\n"
     ]
    }
   ],
   "source": [
    "t1 = time.time()\n",
    "KR_GS = GridSearchCV(KR, \n",
    "                     param_grid = KR_GS_param_grid, \n",
    "                     cv = kfold, \n",
    "                     scoring = \"neg_mean_squared_error\",\n",
    "                     n_jobs = -1, \n",
    "                     verbose = 1)\n",
    "KR_GS.fit(X_train, y_df)\n",
    "t2 = time.time()\n",
    "print(\"Run Time : \", str(t2-t1))\n",
    "KR_GS_best = KR_GS.best_estimator_\n",
    "print(KR_GS_best)"
   ]
  },
  {
   "cell_type": "code",
   "execution_count": 193,
   "metadata": {},
   "outputs": [
    {
     "name": "stdout",
     "output_type": "stream",
     "text": [
      "Kernel Ridge mean score: 0.1136156567052045\n",
      "Kernel Ridge std: 0.00814325941484437\n"
     ]
    }
   ],
   "source": [
    "score = rmse_cv(KR_GS_best)\n",
    "print(\"Kernel Ridge mean score:\", score.mean())\n",
    "print(\"Kernel Ridge std:\", score.std())"
   ]
  },
  {
   "cell_type": "markdown",
   "metadata": {},
   "source": [
    "X -> +1 -> log ->X'   \n",
    "        np.log1p   \n",
    "X' -> exmp -> -1 ->  \n",
    "        np.exnpm1"
   ]
  },
  {
   "cell_type": "markdown",
   "metadata": {},
   "source": [
    "###### X_test predict"
   ]
  },
  {
   "cell_type": "code",
   "execution_count": 100,
   "metadata": {},
   "outputs": [],
   "source": [
    "# 참고 ) np.expm1 : exp(x) -1 --> 다시 복기하는 부분...\n",
    "y_submission_1 = np.expm1(KR_GS_best.predict(X_test))"
   ]
  },
  {
   "cell_type": "code",
   "execution_count": 92,
   "metadata": {},
   "outputs": [
    {
     "data": {
      "text/plain": [
       "array([126004.12146367, 166297.87604559, 185896.3922375 , ...,\n",
       "       164933.92708646, 119627.11800362, 222211.70524374])"
      ]
     },
     "execution_count": 92,
     "metadata": {},
     "output_type": "execute_result"
    }
   ],
   "source": [
    "y_submission_1"
   ]
  },
  {
   "cell_type": "markdown",
   "metadata": {},
   "source": [
    "-------------------------------------------------------------"
   ]
  },
  {
   "cell_type": "markdown",
   "metadata": {},
   "source": [
    "--------------------------"
   ]
  },
  {
   "cell_type": "markdown",
   "metadata": {},
   "source": [
    "--------------------------------------------------------------"
   ]
  },
  {
   "cell_type": "markdown",
   "metadata": {},
   "source": [
    "##### Lasso Regression"
   ]
  },
  {
   "cell_type": "markdown",
   "metadata": {},
   "source": [
    "* ref) https://scikit-learn.org/stable/modules/generated/sklearn.linear_model.Lasso.html"
   ]
  },
  {
   "cell_type": "markdown",
   "metadata": {},
   "source": [
    "###### RS"
   ]
  },
  {
   "cell_type": "code",
   "execution_count": 102,
   "metadata": {},
   "outputs": [],
   "source": [
    "Las = Lasso(random_state=1234, max_iter=10000)"
   ]
  },
  {
   "cell_type": "code",
   "execution_count": 272,
   "metadata": {},
   "outputs": [],
   "source": [
    "Las_param_grid ={\n",
    "    'alpha' : [0.0004,0.0005,0.0007,0.0009,0.0001,0.0002,0.0003],\n",
    "    \"fit_intercept\" :[True, False]\n",
    "}"
   ]
  },
  {
   "cell_type": "code",
   "execution_count": 273,
   "metadata": {},
   "outputs": [
    {
     "name": "stdout",
     "output_type": "stream",
     "text": [
      "Lasso(alpha=0.0005, copy_X=True, fit_intercept=True, max_iter=10000,\n",
      "      normalize=False, positive=False, precompute=False, random_state=1234,\n",
      "      selection='cyclic', tol=0.0001, warm_start=False)\n",
      "Best Setting Params : <bound method BaseEstimator.get_params of Lasso(alpha=0.0005, copy_X=True, fit_intercept=True, max_iter=10000,\n",
      "      normalize=False, positive=False, precompute=False, random_state=1234,\n",
      "      selection='cyclic', tol=0.0001, warm_start=False)>\n"
     ]
    }
   ],
   "source": [
    "n_iter_search = 20\n",
    "LASSO_RS = RandomizedSearchCV(Las,\n",
    "                          param_distributions=Las_param_grid,\n",
    "                          cv=kfold,\n",
    "                          scoring=\"neg_mean_squared_error\",\n",
    "                          n_jobs = -1,\n",
    "                            random_state=1234)\n",
    "\n",
    "LASSO_RS.fit(X_train, y_df)\n",
    "LASSO_RS_best = LASSO_RS.best_estimator_\n",
    "print(LASSO_RS_best)\n",
    "print(\"Best Setting Params :\", LASSO_RS_best.get_params)"
   ]
  },
  {
   "cell_type": "code",
   "execution_count": 274,
   "metadata": {},
   "outputs": [
    {
     "name": "stdout",
     "output_type": "stream",
     "text": [
      "LASSO mean score : 0.11386552180351589\n",
      "LASSO std score :  0.009308630205068412\n"
     ]
    }
   ],
   "source": [
    "score = rmse_cv(LASSO_RS_best)\n",
    "print(\"LASSO mean score :\", score.mean())\n",
    "print(\"LASSO std score : \", score.std())"
   ]
  },
  {
   "cell_type": "code",
   "execution_count": 275,
   "metadata": {},
   "outputs": [
    {
     "data": {
      "text/plain": [
       "<bound method BaseEstimator.get_params of Lasso(alpha=0.0005, copy_X=True, fit_intercept=True, max_iter=10000,\n",
       "      normalize=False, positive=False, precompute=False, random_state=1234,\n",
       "      selection='cyclic', tol=0.0001, warm_start=False)>"
      ]
     },
     "execution_count": 275,
     "metadata": {},
     "output_type": "execute_result"
    }
   ],
   "source": [
    "LASSO_RS_best.get_params"
   ]
  },
  {
   "cell_type": "markdown",
   "metadata": {},
   "source": [
    "###### GS"
   ]
  },
  {
   "cell_type": "code",
   "execution_count": 103,
   "metadata": {},
   "outputs": [],
   "source": [
    "Las_param_grid ={\n",
    "    'alpha' : [0.07,0.08,0.09,0.1,0.11,0.13],\n",
    "    \"fit_intercept\" :[True]\n",
    "\n",
    "}"
   ]
  },
  {
   "cell_type": "code",
   "execution_count": 104,
   "metadata": {},
   "outputs": [
    {
     "name": "stdout",
     "output_type": "stream",
     "text": [
      "Run Time :  1.74967360496521\n",
      "Lasso(alpha=0.07, copy_X=True, fit_intercept=True, max_iter=10000,\n",
      "      normalize=False, positive=False, precompute=False, random_state=1234,\n",
      "      selection='cyclic', tol=0.0001, warm_start=False)\n"
     ]
    }
   ],
   "source": [
    "t1 = time.time()\n",
    "LASSO_GS = GridSearchCV(Las, \n",
    "                     param_grid= Las_param_grid, \n",
    "                     cv = kfold, \n",
    "                     scoring = \"neg_mean_squared_error\",\n",
    "                          n_jobs = -1)\n",
    "LASSO_GS.fit(X_train, y_df)\n",
    "t2 = time.time()\n",
    "print(\"Run Time : \", str(t2-t1))\n",
    "LASSO_GS_best = LASSO_GS.best_estimator_\n",
    "print(LASSO_GS_best)"
   ]
  },
  {
   "cell_type": "code",
   "execution_count": 105,
   "metadata": {},
   "outputs": [
    {
     "name": "stdout",
     "output_type": "stream",
     "text": [
      "LASSO mean score : 0.1808177485270259\n",
      "LASSO std score :  0.0193237766831337\n"
     ]
    }
   ],
   "source": [
    "score = rmse_cv(LASSO_GS_best)\n",
    "print(\"LASSO mean score :\", score.mean())\n",
    "print(\"LASSO std score : \", score.std())"
   ]
  },
  {
   "cell_type": "code",
   "execution_count": 106,
   "metadata": {},
   "outputs": [
    {
     "data": {
      "text/plain": [
       "<bound method BaseEstimator.get_params of Lasso(alpha=0.07, copy_X=True, fit_intercept=True, max_iter=10000,\n",
       "      normalize=False, positive=False, precompute=False, random_state=1234,\n",
       "      selection='cyclic', tol=0.0001, warm_start=False)>"
      ]
     },
     "execution_count": 106,
     "metadata": {},
     "output_type": "execute_result"
    }
   ],
   "source": [
    "LASSO_GS_best.get_params"
   ]
  },
  {
   "cell_type": "markdown",
   "metadata": {},
   "source": [
    "###### X_test predict"
   ]
  },
  {
   "cell_type": "code",
   "execution_count": 107,
   "metadata": {},
   "outputs": [],
   "source": [
    "y_submission_2 = np.expm1(LASSO_GS_best.predict(X_test))"
   ]
  },
  {
   "cell_type": "code",
   "execution_count": 228,
   "metadata": {},
   "outputs": [
    {
     "data": {
      "text/plain": [
       "array([123061.95662127, 158630.22448846, 185989.69159949, ...,\n",
       "       169626.89563701, 120124.01697922, 223192.19141992])"
      ]
     },
     "execution_count": 228,
     "metadata": {},
     "output_type": "execute_result"
    }
   ],
   "source": [
    "y_submission_2"
   ]
  },
  {
   "cell_type": "markdown",
   "metadata": {},
   "source": [
    "-----------------------------"
   ]
  },
  {
   "cell_type": "markdown",
   "metadata": {},
   "source": [
    "---------------------------------"
   ]
  },
  {
   "cell_type": "markdown",
   "metadata": {},
   "source": [
    "-------------------------------------------"
   ]
  },
  {
   "cell_type": "markdown",
   "metadata": {},
   "source": [
    "##### ElasticNet Regression"
   ]
  },
  {
   "cell_type": "code",
   "execution_count": 111,
   "metadata": {},
   "outputs": [],
   "source": [
    "elnet = ElasticNet(random_state=1234, max_iter=10000)"
   ]
  },
  {
   "cell_type": "markdown",
   "metadata": {},
   "source": [
    "###### RS"
   ]
  },
  {
   "cell_type": "code",
   "execution_count": 152,
   "metadata": {},
   "outputs": [],
   "source": [
    "elnet_param_grid={\n",
    "    'alpha' : [0.009,0.008,0.007,0.006,0.005,0.003,0.002,0.001],\n",
    "    \"l1_ratio\" : [0.1,0.2,0.3,0.5,0.6],\n",
    "    \n",
    "    \"tol\" : [0.00001,0.0001]\n",
    "}"
   ]
  },
  {
   "cell_type": "code",
   "execution_count": 153,
   "metadata": {},
   "outputs": [
    {
     "name": "stdout",
     "output_type": "stream",
     "text": [
      "Fitting 6 folds for each of 20 candidates, totalling 120 fits\n"
     ]
    },
    {
     "name": "stderr",
     "output_type": "stream",
     "text": [
      "[Parallel(n_jobs=-1)]: Using backend LokyBackend with 12 concurrent workers.\n",
      "[Parallel(n_jobs=-1)]: Done  26 tasks      | elapsed:    2.2s\n"
     ]
    },
    {
     "name": "stdout",
     "output_type": "stream",
     "text": [
      "Run time :  6.85037899017334\n"
     ]
    },
    {
     "name": "stderr",
     "output_type": "stream",
     "text": [
      "[Parallel(n_jobs=-1)]: Done 120 out of 120 | elapsed:    6.7s finished\n"
     ]
    }
   ],
   "source": [
    "n_iter_search = 20\n",
    "EL_RS = RandomizedSearchCV(elnet,\n",
    "                          param_distributions=elnet_param_grid,\n",
    "                          n_iter=n_iter_search,\n",
    "                          cv=kfold,\n",
    "                          scoring=\"neg_mean_squared_error\",\n",
    "                          n_jobs = -1,\n",
    "                          random_state=1234,\n",
    "                          verbose=1)\n",
    "\n",
    "t1=time.time()\n",
    "EL_RS.fit(X_train, y_df)\n",
    "t2= time.time()\n",
    "print(\"Run time : \", str(t2-t1))\n",
    "EL_RS_best = EL_RS.best_estimator_"
   ]
  },
  {
   "cell_type": "code",
   "execution_count": 154,
   "metadata": {},
   "outputs": [
    {
     "name": "stdout",
     "output_type": "stream",
     "text": [
      "Elnet mean score :  0.11184995359924377\n",
      "Elnet std score :  0.009443066873127215\n"
     ]
    }
   ],
   "source": [
    "scores= rmse_cv(EL_RS_best)\n",
    "print(\"Elnet mean score : \", scores.mean())\n",
    "print(\"Elnet std score : \", scores.std())"
   ]
  },
  {
   "cell_type": "code",
   "execution_count": 155,
   "metadata": {},
   "outputs": [
    {
     "data": {
      "text/plain": [
       "<bound method BaseEstimator.get_params of ElasticNet(alpha=0.005, copy_X=True, fit_intercept=True, l1_ratio=0.5,\n",
       "           max_iter=10000, normalize=False, positive=False, precompute=False,\n",
       "           random_state=1234, selection='cyclic', tol=1e-05, warm_start=False)>"
      ]
     },
     "execution_count": 155,
     "metadata": {},
     "output_type": "execute_result"
    }
   ],
   "source": [
    "EL_RS_best.get_params"
   ]
  },
  {
   "cell_type": "markdown",
   "metadata": {},
   "source": [
    "###### GS\n"
   ]
  },
  {
   "cell_type": "code",
   "execution_count": 109,
   "metadata": {},
   "outputs": [],
   "source": [
    "elnet_param_grid={\n",
    "    'alpha' : [0.01,0.02,0.03,0.04,0.05,0.07,0.09,0.009,0.008,0.005,0.004,0.003],\n",
    "    \"l1_ratio\" : [0.2,0.28,0.25,0.21,0.18,0.15,0.12,0.11,0.09,0.3,0.4],\n",
    "    \"tol\" : [0.009,0.0098,0.01,0.02,0.03,0.04,0.05]\n",
    "}"
   ]
  },
  {
   "cell_type": "code",
   "execution_count": 112,
   "metadata": {},
   "outputs": [
    {
     "name": "stdout",
     "output_type": "stream",
     "text": [
      "Run Time :  27.65471649169922\n",
      "ElasticNet(alpha=0.02, copy_X=True, fit_intercept=True, l1_ratio=0.09,\n",
      "           max_iter=10000, normalize=False, positive=False, precompute=False,\n",
      "           random_state=1234, selection='cyclic', tol=0.0098, warm_start=False)\n"
     ]
    }
   ],
   "source": [
    "t1 = time.time()\n",
    "EL_GS = GridSearchCV(elnet, \n",
    "                     param_grid= elnet_param_grid, \n",
    "                     cv = kfold, \n",
    "                     scoring = \"neg_mean_squared_error\",\n",
    "                     n_jobs = -1)\n",
    "\n",
    "EL_GS.fit(X_train, y_df)\n",
    "t2 = time.time()\n",
    "print(\"Run Time : \", str(t2-t1))\n",
    "EL_GS_best = EL_GS.best_estimator_\n",
    "print(EL_GS_best)"
   ]
  },
  {
   "cell_type": "code",
   "execution_count": 115,
   "metadata": {},
   "outputs": [
    {
     "name": "stdout",
     "output_type": "stream",
     "text": [
      "Elnet mean score :  0.11154540880831838\n",
      "Elnet std score :  0.009014257519827306\n"
     ]
    }
   ],
   "source": [
    "scores= rmse_cv(EL_GS_best)\n",
    "print(\"Elnet mean score : \", scores.mean())\n",
    "print(\"Elnet std score : \", scores.std())"
   ]
  },
  {
   "cell_type": "code",
   "execution_count": 116,
   "metadata": {},
   "outputs": [
    {
     "data": {
      "text/plain": [
       "<bound method BaseEstimator.get_params of ElasticNet(alpha=0.02, copy_X=True, fit_intercept=True, l1_ratio=0.09,\n",
       "           max_iter=10000, normalize=False, positive=False, precompute=False,\n",
       "           random_state=1234, selection='cyclic', tol=0.0098, warm_start=False)>"
      ]
     },
     "execution_count": 116,
     "metadata": {},
     "output_type": "execute_result"
    }
   ],
   "source": [
    "EL_GS_best.get_params"
   ]
  },
  {
   "cell_type": "markdown",
   "metadata": {},
   "source": [
    "###### X_test predict"
   ]
  },
  {
   "cell_type": "code",
   "execution_count": 117,
   "metadata": {},
   "outputs": [],
   "source": [
    "y_submission_3 = np.expm1(EL_GS_best.predict(X_test))"
   ]
  },
  {
   "cell_type": "code",
   "execution_count": 180,
   "metadata": {},
   "outputs": [
    {
     "data": {
      "text/plain": [
       "array([123964.98398083, 158715.23441505, 185601.87579203, ...,\n",
       "       169649.1582683 , 120022.31787694, 223546.27560998])"
      ]
     },
     "execution_count": 180,
     "metadata": {},
     "output_type": "execute_result"
    }
   ],
   "source": [
    "y_submission_3"
   ]
  },
  {
   "cell_type": "markdown",
   "metadata": {},
   "source": [
    "---------------------"
   ]
  },
  {
   "cell_type": "markdown",
   "metadata": {},
   "source": [
    "------------------------------------"
   ]
  },
  {
   "cell_type": "markdown",
   "metadata": {},
   "source": [
    "-------------------------------------------"
   ]
  },
  {
   "cell_type": "markdown",
   "metadata": {},
   "source": [
    "##### Support Vector Machine"
   ]
  },
  {
   "cell_type": "markdown",
   "metadata": {},
   "source": [
    "* SVR : Support Vector Machine Regression    \n",
    "    https://scikit-learn.org/stable/modules/generated/sklearn.svm.SVR.html"
   ]
  },
  {
   "cell_type": "code",
   "execution_count": 72,
   "metadata": {
    "ExecuteTime": {
     "end_time": "2020-07-26T15:46:45.401166Z",
     "start_time": "2020-07-26T15:46:45.398617Z"
    }
   },
   "outputs": [],
   "source": [
    "SVMR = SVR(max_iter=10000)"
   ]
  },
  {
   "cell_type": "code",
   "execution_count": 73,
   "metadata": {},
   "outputs": [],
   "source": [
    "svmr_param_grid = {\n",
    "    # Ridge 만의 순수 조절 파라미터\n",
    "#     'alpha' : [0.01,0.1,0.5,1,1.5,2],\n",
    "    # 입력 X에 대한 변환에 관련된 kernel 조절 부분...\n",
    "    'kernel' : ['sigmoid','rbt','poly'],\n",
    "    'gamma':['auto'],\n",
    "    'degree': [2,3],\n",
    "    'coef0' : [0.5,1.0,1.5,2.0],\n",
    "    'C':[0.1,0.5,1,5,10],\n",
    "    'tol' : [0.001,0.0001,0.001,0.005],\n",
    "    'epsilon':[0.1,0.5,0.01,0.05]\n",
    "}"
   ]
  },
  {
   "cell_type": "code",
   "execution_count": 151,
   "metadata": {},
   "outputs": [
    {
     "name": "stdout",
     "output_type": "stream",
     "text": [
      "Fitting 6 folds for each of 20 candidates, totalling 120 fits\n"
     ]
    },
    {
     "name": "stderr",
     "output_type": "stream",
     "text": [
      "[Parallel(n_jobs=-1)]: Using backend LokyBackend with 12 concurrent workers.\n",
      "[Parallel(n_jobs=-1)]: Done  30 tasks      | elapsed:    1.3s\n",
      "[Parallel(n_jobs=-1)]: Done 120 out of 120 | elapsed:    4.6s finished\n"
     ]
    },
    {
     "name": "stdout",
     "output_type": "stream",
     "text": [
      "Run time :  5.030185222625732\n"
     ]
    }
   ],
   "source": [
    "n_iter_search = 20\n",
    "SV_RS = RandomizedSearchCV(SVMR,\n",
    "                          param_distributions=svmr_param_grid,\n",
    "                          n_iter=n_iter_search,\n",
    "                          cv=kfold,\n",
    "                          scoring=\"neg_mean_squared_error\",\n",
    "                          n_jobs = -1,\n",
    "                          random_state=1434,\n",
    "                          verbose=1)\n",
    "\n",
    "t1=time.time()\n",
    "SV_RS.fit(X_train, y_df)\n",
    "t2= time.time()\n",
    "print(\"Run time : \", str(t2-t1))\n",
    "SV_RS_best = SV_RS.best_estimator_"
   ]
  },
  {
   "cell_type": "code",
   "execution_count": 152,
   "metadata": {},
   "outputs": [
    {
     "name": "stdout",
     "output_type": "stream",
     "text": [
      "SVMR mean score :  0.1167943590160817\n",
      "SVMR std score :  0.01002719573123609\n"
     ]
    }
   ],
   "source": [
    "scores= rmse_cv(SV_RS_best)\n",
    "print(\"SVMR mean score : \", scores.mean())\n",
    "print(\"SVMR std score : \", scores.std())"
   ]
  },
  {
   "cell_type": "code",
   "execution_count": 153,
   "metadata": {},
   "outputs": [
    {
     "data": {
      "text/plain": [
       "<bound method BaseEstimator.get_params of SVR(C=0.1, cache_size=200, coef0=1.0, degree=3, epsilon=0.05, gamma='auto',\n",
       "    kernel='poly', max_iter=10000, shrinking=True, tol=0.001, verbose=False)>"
      ]
     },
     "execution_count": 153,
     "metadata": {},
     "output_type": "execute_result"
    }
   ],
   "source": [
    "SV_RS_best.get_params"
   ]
  },
  {
   "cell_type": "code",
   "execution_count": 74,
   "metadata": {},
   "outputs": [],
   "source": [
    "svmr_param_grid={\n",
    "    'kernel' : ['poly'],\n",
    "    'gamma':['scale'],\n",
    "    'degree': [1.9,2],\n",
    "    'coef0' : [1.6,1.7,1.8],\n",
    "    'C':[0.07,0.08,0.09],\n",
    "    'tol' :[0.001],\n",
    "    'epsilon':[0.05]\n",
    "    \n",
    "}"
   ]
  },
  {
   "cell_type": "code",
   "execution_count": 75,
   "metadata": {},
   "outputs": [
    {
     "name": "stdout",
     "output_type": "stream",
     "text": [
      "SVR(C=0.08, cache_size=200, coef0=1.8, degree=2, epsilon=0.05, gamma='scale',\n",
      "    kernel='poly', max_iter=10000, shrinking=True, tol=0.001, verbose=False)\n"
     ]
    }
   ],
   "source": [
    "\n",
    "SV_GS = GridSearchCV(SVMR,\n",
    "                     param_grid= svmr_param_grid, \n",
    "                     cv = kfold, \n",
    "                     scoring = \"neg_mean_squared_error\",\n",
    "                     n_jobs = -1)\n",
    "\n",
    "SV_GS.fit(X_train, y_df)\n",
    "\n",
    "SV_GS_best = SV_GS.best_estimator_\n",
    "print(SV_GS_best)"
   ]
  },
  {
   "cell_type": "code",
   "execution_count": 76,
   "metadata": {},
   "outputs": [
    {
     "name": "stdout",
     "output_type": "stream",
     "text": [
      "SVMR mean score :  0.11173561357416661\n",
      "SVMR std score :  0.007907510918918871\n"
     ]
    }
   ],
   "source": [
    "scores= rmse_cv(SV_GS_best)\n",
    "print(\"SVMR mean score : \", scores.mean())\n",
    "print(\"SVMR std score : \", scores.std())"
   ]
  },
  {
   "cell_type": "code",
   "execution_count": 158,
   "metadata": {},
   "outputs": [
    {
     "data": {
      "text/plain": [
       "<bound method BaseEstimator.get_params of SVR(C=0.08, cache_size=200, coef0=1.8, degree=2, epsilon=0.05, gamma='scale',\n",
       "    kernel='poly', max_iter=10000, shrinking=True, tol=0.001, verbose=False)>"
      ]
     },
     "execution_count": 158,
     "metadata": {},
     "output_type": "execute_result"
    }
   ],
   "source": [
    "SV_GS_best.get_params"
   ]
  },
  {
   "cell_type": "code",
   "execution_count": 118,
   "metadata": {},
   "outputs": [],
   "source": [
    "y_submission_4 = np.expm1(SV_GS_best.predict(X_test))"
   ]
  },
  {
   "cell_type": "code",
   "execution_count": 85,
   "metadata": {},
   "outputs": [
    {
     "data": {
      "text/plain": [
       "array([122892.09608934, 161022.11977011, 188434.80780895, ...,\n",
       "       169518.10767233, 118137.96979728, 221017.34132028])"
      ]
     },
     "execution_count": 85,
     "metadata": {},
     "output_type": "execute_result"
    }
   ],
   "source": [
    "y_submission_4"
   ]
  },
  {
   "cell_type": "code",
   "execution_count": null,
   "metadata": {},
   "outputs": [],
   "source": []
  },
  {
   "cell_type": "markdown",
   "metadata": {},
   "source": [
    "##### Random Forest"
   ]
  },
  {
   "cell_type": "markdown",
   "metadata": {},
   "source": [
    "* ref) https://scikit-learn.org/stable/modules/generated/sklearn.ensemble.RandomForestRegressor.html"
   ]
  },
  {
   "cell_type": "code",
   "execution_count": 43,
   "metadata": {
    "ExecuteTime": {
     "end_time": "2020-07-26T15:58:01.819089Z",
     "start_time": "2020-07-26T15:58:01.816531Z"
    }
   },
   "outputs": [],
   "source": [
    "from sklearn.model_selection import GridSearchCV,RandomizedSearchCV,learning_curve, cross_val_score, KFold\n",
    "from sklearn.ensemble import RandomForestRegressor\n",
    "from sklearn.metrics import accuracy_score, mean_squared_error"
   ]
  },
  {
   "cell_type": "code",
   "execution_count": 44,
   "metadata": {},
   "outputs": [],
   "source": [
    "RFC = RandomForestRegressor(random_state = 1234, n_jobs=-1)\n"
   ]
  },
  {
   "cell_type": "code",
   "execution_count": 164,
   "metadata": {},
   "outputs": [],
   "source": [
    "rf_param_grid={\n",
    "    'n_estimators':[100,300,800,2000,3000],\n",
    "    'criterion':[\"mse\"],\n",
    "    'max_depth':[2,3,4,5],\n",
    "    'min_samples_leaf':[1,2,3,4,5,6],\n",
    "    'max_features':[\"auto\",\"sqrt\",\"log2\"],\n",
    "    \"max_leaf_nodes\":[None]\n",
    "    \n",
    "}"
   ]
  },
  {
   "cell_type": "code",
   "execution_count": 55,
   "metadata": {},
   "outputs": [
    {
     "ename": "NameError",
     "evalue": "name 'RFC' is not defined",
     "output_type": "error",
     "traceback": [
      "\u001b[1;31m---------------------------------------------------------------------------\u001b[0m",
      "\u001b[1;31mNameError\u001b[0m                                 Traceback (most recent call last)",
      "\u001b[1;32m<ipython-input-55-3326d112203c>\u001b[0m in \u001b[0;36m<module>\u001b[1;34m\u001b[0m\n\u001b[0;32m      1\u001b[0m \u001b[0mn_iter_search\u001b[0m \u001b[1;33m=\u001b[0m \u001b[1;36m20\u001b[0m\u001b[1;33m\u001b[0m\u001b[1;33m\u001b[0m\u001b[0m\n\u001b[1;32m----> 2\u001b[1;33m RF_RS = RandomizedSearchCV(RFC,\n\u001b[0m\u001b[0;32m      3\u001b[0m                           \u001b[0mparam_distributions\u001b[0m\u001b[1;33m=\u001b[0m\u001b[0mrf_param_grid\u001b[0m\u001b[1;33m,\u001b[0m\u001b[1;33m\u001b[0m\u001b[1;33m\u001b[0m\u001b[0m\n\u001b[0;32m      4\u001b[0m                           \u001b[0mn_iter\u001b[0m\u001b[1;33m=\u001b[0m\u001b[0mn_iter_search\u001b[0m\u001b[1;33m,\u001b[0m\u001b[1;33m\u001b[0m\u001b[1;33m\u001b[0m\u001b[0m\n\u001b[0;32m      5\u001b[0m                           \u001b[0mcv\u001b[0m\u001b[1;33m=\u001b[0m\u001b[0mkfold\u001b[0m\u001b[1;33m,\u001b[0m\u001b[1;33m\u001b[0m\u001b[1;33m\u001b[0m\u001b[0m\n",
      "\u001b[1;31mNameError\u001b[0m: name 'RFC' is not defined"
     ]
    }
   ],
   "source": [
    "n_iter_search = 20\n",
    "RF_RS = RandomizedSearchCV(RFC,\n",
    "                          param_distributions=rf_param_grid,\n",
    "                          n_iter=n_iter_search,\n",
    "                          cv=kfold,\n",
    "                          scoring=\"neg_mean_squared_error\",\n",
    "                          n_jobs = -1,\n",
    "                          random_state=1434,\n",
    "                          verbose=1)\n",
    "\n",
    "\n",
    "RF_RS.fit(X_train, y_df)\n",
    "\n",
    "RF_RS_best = RF_RS.best_estimator_"
   ]
  },
  {
   "cell_type": "code",
   "execution_count": 149,
   "metadata": {},
   "outputs": [
    {
     "name": "stdout",
     "output_type": "stream",
     "text": [
      "RFC mean score :  0.1534014448087472\n",
      "RFC std score :  0.012464796938694745\n"
     ]
    },
    {
     "data": {
      "text/plain": [
       "<bound method BaseEstimator.get_params of RandomForestRegressor(bootstrap=True, ccp_alpha=0.0, criterion='mse',\n",
       "                      max_depth=5, max_features='auto', max_leaf_nodes=None,\n",
       "                      max_samples=None, min_impurity_decrease=0.0,\n",
       "                      min_impurity_split=None, min_samples_leaf=3,\n",
       "                      min_samples_split=2, min_weight_fraction_leaf=0.0,\n",
       "                      n_estimators=300, n_jobs=-1, oob_score=False,\n",
       "                      random_state=1234, verbose=0, warm_start=False)>"
      ]
     },
     "execution_count": 149,
     "metadata": {},
     "output_type": "execute_result"
    }
   ],
   "source": [
    "scores= rmse_cv(RF_RS_best)\n",
    "print(\"RFC mean score : \", scores.mean())\n",
    "print(\"RFC std score : \", scores.std())\n",
    "RF_RS_best.get_params"
   ]
  },
  {
   "cell_type": "code",
   "execution_count": 45,
   "metadata": {},
   "outputs": [],
   "source": [
    "rf_param_grid={\n",
    "    'n_estimators':[400,500,600],\n",
    "    'criterion':[\"mse\"],\n",
    "    'max_depth':[7,8,9],\n",
    "    'min_samples_leaf':[3],\n",
    "    'max_features':[\"auto\"],\n",
    "    \"max_leaf_nodes\":[None]\n",
    "}\n"
   ]
  },
  {
   "cell_type": "code",
   "execution_count": 46,
   "metadata": {},
   "outputs": [
    {
     "name": "stdout",
     "output_type": "stream",
     "text": [
      "RandomForestRegressor(bootstrap=True, ccp_alpha=0.0, criterion='mse',\n",
      "                      max_depth=9, max_features='auto', max_leaf_nodes=None,\n",
      "                      max_samples=None, min_impurity_decrease=0.0,\n",
      "                      min_impurity_split=None, min_samples_leaf=3,\n",
      "                      min_samples_split=2, min_weight_fraction_leaf=0.0,\n",
      "                      n_estimators=400, n_jobs=-1, oob_score=False,\n",
      "                      random_state=1234, verbose=0, warm_start=False)\n",
      "RFC mean score :  0.13838213215360873\n",
      "RFC std score :  0.011093238913316858\n"
     ]
    }
   ],
   "source": [
    "RF_GS = GridSearchCV(RFC,\n",
    "                     param_grid= rf_param_grid, \n",
    "                     cv = kfold, \n",
    "                     scoring = \"neg_mean_squared_error\",\n",
    "                     n_jobs = -1, verbose=1)\n",
    "\n",
    "RF_GS.fit(X_train, y_df)\n",
    "\n",
    "RF_GS_best = RF_GS.best_estimator_\n",
    "print(RF_GS_best)\n",
    "scores= rmse_cv(RF_GS_best)\n",
    "print(\"RFC mean score : \", scores.mean())\n",
    "print(\"RFC std score : \", scores.std())"
   ]
  },
  {
   "cell_type": "code",
   "execution_count": 119,
   "metadata": {},
   "outputs": [],
   "source": [
    "y_submission_5 = np.expm1(RF_GS_best.predict(X_test))"
   ]
  },
  {
   "cell_type": "code",
   "execution_count": null,
   "metadata": {},
   "outputs": [],
   "source": []
  },
  {
   "cell_type": "code",
   "execution_count": null,
   "metadata": {},
   "outputs": [],
   "source": []
  },
  {
   "cell_type": "code",
   "execution_count": null,
   "metadata": {},
   "outputs": [],
   "source": []
  },
  {
   "cell_type": "markdown",
   "metadata": {},
   "source": [
    "##### XG Boost¶"
   ]
  },
  {
   "cell_type": "markdown",
   "metadata": {},
   "source": [
    "* ref) https://xgboost.readthedocs.io/en/latest/parameter.html#general-parameters   \n",
    "\n",
    "* 파라미터 : 일반 파라미터 / 부스트 파라미터 / 학습과정 파라미터/ 커맨드 라인 파리미터     \n",
    "** 일반 파라미터   \n",
    "1) booster : 어떤 부스팅 방식을 사용할 지 결정 - gbtree, gblinear, dart etc   \n",
    "2) nthread : 몇 개의 thread를 사용해서 동시에 처리할지 - 기본은 최대한 많이 --> 특별히 선택하지 않아도 됨!   \n",
    "3) num_feature  : 특징의 차원의 숫자를 정해야 하는 경우 옵션을 통해서 처리 - 기본은 최대한 많이 이기에, 특별하게 선택하지 않아도 될 듯   \n",
    "** 부스팅 파라미터   \n",
    "1) eta : 러닝 레이트임. 트리에 가지가 많을 수록 overfitting이 발생하기에, 매번 부스팅 스탭마다 weight를 주어서 부스팅 과정에서 과접합이 일어나지 않도록 함.   \n",
    "2) gamma : 정보 획득에서 -r로 펴현이 되는 부분이 있는 감마임. 이 값이 커지게 되면 ㅡㅌ리의 깊이가 줄어들어서 좀 더 보수적인 모델이 된다. 기본값은 0임.  \n",
    "3) max_depth : 한 트리의 최대 깊이를 지정하는 것. 숫자가 커지면 모델의 복잡도가 올라가고, 당연히 overfitting의 위험이 발생하게 된다. 기본은 6으로 되어 있어서 최대는 2^6=64개가 된다.  \n",
    "4) lambda(L2 reg-form) : L2 정규화에 달리는 weight임. 숫자가 클 수록 보수적인 모델임.\n",
    "5) alpha(L1 reg-form) : L1 정규화에 달리는 weight임. 숫자가 클 수록 보수적인 모델이 됨. 그리고 L2보다 아웃라이어에 좀 더 민감하게 작용을 하는 특징이 있음!!!   \n",
    "** 학습 과정 파라미터   \n",
    "1) objective : 목적 함수 (reg:linear, binary:logistic, count:possion  etc)   \n",
    "2) eval_metric : 모델의 평가 함수를 조정하는 함수 . rmse( root mean square error). logloss(log-likelihood), map(mean average precision) etc   \n",
    "** 커맨드 라인 파라미터   \n",
    "1) num_rounds : boosting 라운드를 결정한다. 랜덤하게 하게 되니 적당히 크게 되어야 함. epoch와 동일.\n"
   ]
  },
  {
   "cell_type": "code",
   "execution_count": 121,
   "metadata": {
    "ExecuteTime": {
     "end_time": "2020-07-26T16:16:23.135162Z",
     "start_time": "2020-07-26T16:16:23.132612Z"
    }
   },
   "outputs": [],
   "source": [
    "XGB = XGBRegressor(objective ='reg:squarederror',\n",
    "                  n_jobs=-1,\n",
    "                  random_state=1234)"
   ]
  },
  {
   "cell_type": "code",
   "execution_count": 55,
   "metadata": {},
   "outputs": [],
   "source": [
    "xg_param_grid={\n",
    "    'n_estimators':[100,300,500,1000],\n",
    "    \"learning_rate\":[0.001,0.01,0.1,0.5],\n",
    "    \n",
    "    \"max_depth\":[2,3,4,5,6],\n",
    "    \"min_child_weight\":[0.1,0.2,0.3,0.4,0.5,0.6],\n",
    "    \n",
    "    \"subsample\":[0.4,0.6,0.8],\n",
    "    \n",
    "    \"reg_alpha\":[0,0.01,0.1,0.2],\n",
    "    \"reg_lambda\":[0,0.001,0.01]\n",
    "    \n",
    "    \n",
    "}"
   ]
  },
  {
   "cell_type": "code",
   "execution_count": 56,
   "metadata": {},
   "outputs": [
    {
     "name": "stdout",
     "output_type": "stream",
     "text": [
      "Fitting 6 folds for each of 20 candidates, totalling 120 fits\n"
     ]
    },
    {
     "name": "stderr",
     "output_type": "stream",
     "text": [
      "[Parallel(n_jobs=-1)]: Using backend LokyBackend with 12 concurrent workers.\n",
      "[Parallel(n_jobs=-1)]: Done  26 tasks      | elapsed:   17.6s\n",
      "[Parallel(n_jobs=-1)]: Done 120 out of 120 | elapsed:   54.3s finished\n"
     ]
    }
   ],
   "source": [
    "n_iter_search = 20\n",
    "XG_RS = RandomizedSearchCV(XGB,\n",
    "                          param_distributions=xg_param_grid,\n",
    "                          n_iter=n_iter_search,\n",
    "                          cv=kfold,\n",
    "                          scoring=\"neg_mean_squared_error\",\n",
    "                          n_jobs = -1,\n",
    "                          random_state=1434,\n",
    "                          verbose=1)\n",
    "\n",
    "\n",
    "XG_RS.fit(X_train, y_df)\n",
    "\n",
    "XG_RS_best = XG_RS.best_estimator_"
   ]
  },
  {
   "cell_type": "code",
   "execution_count": 52,
   "metadata": {},
   "outputs": [
    {
     "name": "stdout",
     "output_type": "stream",
     "text": [
      "XG mean score :  0.11621347861643405\n",
      "XG std score :  0.008758359706292329\n"
     ]
    },
    {
     "data": {
      "text/plain": [
       "<bound method XGBModel.get_params of XGBRegressor(base_score=0.5, booster='gbtree', colsample_bylevel=1,\n",
       "             colsample_bynode=1, colsample_bytree=1, gamma=0,\n",
       "             importance_type='gain', learning_rate=0.01, max_delta_step=0,\n",
       "             max_depth=6, min_child_weight=0.6, missing=None, n_estimators=3000,\n",
       "             n_jobs=-1, nthread=None, objective='reg:squarederror',\n",
       "             random_state=1234, reg_alpha=0.1, reg_lambda=0.01,\n",
       "             scale_pos_weight=1, seed=None, silent=None, subsample=0.4,\n",
       "             verbosity=1)>"
      ]
     },
     "execution_count": 52,
     "metadata": {},
     "output_type": "execute_result"
    }
   ],
   "source": [
    "scores= rmse_cv(XG_RS_best)\n",
    "print(\"XG mean score : \", scores.mean())\n",
    "print(\"XG std score : \", scores.std())\n",
    "XG_RS_best.get_params"
   ]
  },
  {
   "cell_type": "code",
   "execution_count": 122,
   "metadata": {},
   "outputs": [
    {
     "name": "stdout",
     "output_type": "stream",
     "text": [
      "XGBRegressor(base_score=0.5, booster='gbtree', colsample_bylevel=1,\n",
      "             colsample_bynode=1, colsample_bytree=1, gamma=0,\n",
      "             importance_type='gain', learning_rate=0.01, max_delta_step=0,\n",
      "             max_depth=7, min_child_weight=2, missing=None, n_estimators=1000,\n",
      "             n_jobs=-1, nthread=None, objective='reg:squarederror',\n",
      "             random_state=1234, reg_alpha=0.1, reg_lambda=0.01,\n",
      "             scale_pos_weight=1, seed=None, silent=None, subsample=0.3,\n",
      "             verbosity=1)\n",
      "XG mean score :  0.11570888958428248\n",
      "XG std score :  0.008760423299793891\n"
     ]
    }
   ],
   "source": [
    "xg_param_grid={\n",
    "    'n_estimators':[1000],\n",
    "    \"learning_rate\":[0.01],\n",
    "    \n",
    "    \"max_depth\":[7],\n",
    "    \"min_child_weight\":[2],\n",
    "    \n",
    "    \"subsample\":[0.3],\n",
    "    \n",
    "    \"reg_alpha\":[0.1],\n",
    "    \"reg_lambda\":[0.01]\n",
    "      \n",
    "}\n",
    "XG_GS = GridSearchCV(XGB,\n",
    "                     param_grid= xg_param_grid, \n",
    "                     cv = kfold, \n",
    "                     scoring = \"neg_mean_squared_error\",\n",
    "                     n_jobs = -1)\n",
    "\n",
    "XG_GS.fit(X_train, y_df)\n",
    "\n",
    "XG_GS_best = XG_GS.best_estimator_\n",
    "print(XG_GS_best)\n",
    "scores= rmse_cv(XG_GS_best)\n",
    "print(\"XG mean score : \", scores.mean())\n",
    "print(\"XG std score : \", scores.std())"
   ]
  },
  {
   "cell_type": "code",
   "execution_count": 123,
   "metadata": {},
   "outputs": [],
   "source": [
    "y_submission_6 = np.expm1(XG_GS_best.predict(X_test))"
   ]
  },
  {
   "cell_type": "code",
   "execution_count": null,
   "metadata": {},
   "outputs": [],
   "source": []
  },
  {
   "cell_type": "code",
   "execution_count": null,
   "metadata": {},
   "outputs": [],
   "source": []
  },
  {
   "cell_type": "markdown",
   "metadata": {},
   "source": [
    "### LightGBM"
   ]
  },
  {
   "cell_type": "code",
   "execution_count": 64,
   "metadata": {},
   "outputs": [],
   "source": [
    "from lightgbm import LGBMRegressor"
   ]
  },
  {
   "cell_type": "code",
   "execution_count": 65,
   "metadata": {},
   "outputs": [],
   "source": [
    "LGB_clf = LGBMRegressor(random_state=1234, n_job=-1)"
   ]
  },
  {
   "cell_type": "code",
   "execution_count": 77,
   "metadata": {},
   "outputs": [],
   "source": [
    "lb_param_grid = {\n",
    "    \"n_estimators\" : [470], #                           500\n",
    "    \"learning_rate\" : [0.1], #오차를 줄여야하니깐      5\n",
    "    \"max_depth\" : [1], #약 분류기를 얼마나 할건지           20 \n",
    "    \"subsample\": [0.9], #피처들에 있어 어느정도 줄임을 쓸건지 4\n",
    "    \"min_child_weight\":[0.1,0.2,0.3,0.4,0.5,0.6],\n",
    "    \"reg_alpha\":[0,0.01,0.1,0.2],\n",
    "    \"reg_lambda\":[0,0.001,0.01]\n",
    "}"
   ]
  },
  {
   "cell_type": "code",
   "execution_count": 78,
   "metadata": {},
   "outputs": [
    {
     "name": "stdout",
     "output_type": "stream",
     "text": [
      "Fitting 6 folds for each of 20 candidates, totalling 120 fits\n"
     ]
    },
    {
     "name": "stderr",
     "output_type": "stream",
     "text": [
      "[Parallel(n_jobs=-1)]: Using backend LokyBackend with 12 concurrent workers.\n",
      "[Parallel(n_jobs=-1)]: Done  26 tasks      | elapsed:    1.2s\n",
      "[Parallel(n_jobs=-1)]: Done 120 out of 120 | elapsed:    4.0s finished\n"
     ]
    },
    {
     "name": "stdout",
     "output_type": "stream",
     "text": [
      "LGBMRegressor(boosting_type='gbdt', class_weight=None, colsample_bytree=1.0,\n",
      "              importance_type='split', learning_rate=0.1, max_depth=1,\n",
      "              min_child_samples=20, min_child_weight=0.3, min_split_gain=0.0,\n",
      "              n_estimators=470, n_job=-1, n_jobs=-1, num_leaves=31,\n",
      "              objective=None, random_state=1234, reg_alpha=0, reg_lambda=0.001,\n",
      "              silent=True, subsample=0.9, subsample_for_bin=200000,\n",
      "              subsample_freq=0)\n",
      "-0.014678651972922693\n"
     ]
    }
   ],
   "source": [
    "n_iter_search = 20\n",
    "LGB = RandomizedSearchCV(LGB_clf,\n",
    "                             param_distributions= lb_param_grid,\n",
    "                             cv = kfold,\n",
    "                             scoring=\"neg_mean_squared_error\", #평가지표,,, 다른 평가지표의 목적이 뭔지 알것!\n",
    "                             n_jobs = -1,\n",
    "                             verbose = 1,\n",
    "                             random_state = 1234,\n",
    "                             n_iter = n_iter_search # 반복해서 할거\n",
    "            \n",
    ")\n",
    "LGB.fit(X_train, y_df)\n",
    "LGB_rgs_best = LGB.best_estimator_\n",
    "print(LGB_rgs_best)\n",
    "print(LGB.best_score_)"
   ]
  },
  {
   "cell_type": "code",
   "execution_count": 79,
   "metadata": {},
   "outputs": [
    {
     "name": "stdout",
     "output_type": "stream",
     "text": [
      "LGB mean score :  0.12069473697471482\n",
      "LGB std score :  0.010556156475114391\n"
     ]
    },
    {
     "data": {
      "text/plain": [
       "<bound method LGBMModel.get_params of LGBMRegressor(boosting_type='gbdt', class_weight=None, colsample_bytree=1.0,\n",
       "              importance_type='split', learning_rate=0.1, max_depth=1,\n",
       "              min_child_samples=20, min_child_weight=0.3, min_split_gain=0.0,\n",
       "              n_estimators=470, n_job=-1, n_jobs=-1, num_leaves=31,\n",
       "              objective=None, random_state=1234, reg_alpha=0, reg_lambda=0.001,\n",
       "              silent=True, subsample=0.9, subsample_for_bin=200000,\n",
       "              subsample_freq=0)>"
      ]
     },
     "execution_count": 79,
     "metadata": {},
     "output_type": "execute_result"
    }
   ],
   "source": [
    "scores= rmse_cv(LGB_rgs_best)\n",
    "print(\"LGB mean score : \", scores.mean())\n",
    "print(\"LGB std score : \", scores.std())\n",
    "LGB_rgs_best.get_params"
   ]
  },
  {
   "cell_type": "code",
   "execution_count": 80,
   "metadata": {},
   "outputs": [
    {
     "name": "stdout",
     "output_type": "stream",
     "text": [
      "XGBRegressor(base_score=0.5, booster='gbtree', colsample_bylevel=1,\n",
      "             colsample_bynode=1, colsample_bytree=1, gamma=0,\n",
      "             importance_type='gain', learning_rate=0.1, max_delta_step=0,\n",
      "             max_depth=1, min_child_weight=0.3, missing=None, n_estimators=470,\n",
      "             n_jobs=-1, nthread=None, objective='reg:squarederror',\n",
      "             random_state=1234, reg_alpha=0, reg_lambda=0.001,\n",
      "             scale_pos_weight=1, seed=None, silent=None, subsample=0.9,\n",
      "             verbosity=1)\n",
      "LGB mean score :  0.12136221769280515\n",
      "LGB std score :  0.008707348387332612\n"
     ]
    }
   ],
   "source": [
    "lb_param_grid = {\n",
    "    \"n_estimators\" : [470], #                           500\n",
    "    \"learning_rate\" : [0.1], #오차를 줄여야하니깐      5\n",
    "    \"max_depth\" : [1], #약 분류기를 얼마나 할건지           20 \n",
    "    \"subsample\": [0.9], #피처들에 있어 어느정도 줄임을 쓸건지 4\n",
    "    \"min_child_weight\":[0.3],\n",
    "    \"reg_alpha\":[0],\n",
    "    \"reg_lambda\":[0.001]\n",
    "}\n",
    "LGB_GS = GridSearchCV(XGB,\n",
    "                     param_grid= lb_param_grid, \n",
    "                     cv = kfold, \n",
    "                     scoring = \"neg_mean_squared_error\",\n",
    "                     n_jobs = -1)\n",
    "\n",
    "LGB_GS.fit(X_train, y_df)\n",
    "\n",
    "LGB_GS_best = LGB_GS.best_estimator_\n",
    "print(LGB_GS_best)\n",
    "scores= rmse_cv(LGB_GS_best)\n",
    "print(\"LGB mean score : \", scores.mean())\n",
    "print(\"LGB std score : \", scores.std())"
   ]
  },
  {
   "cell_type": "code",
   "execution_count": 124,
   "metadata": {},
   "outputs": [],
   "source": [
    "y_submission_7 = np.expm1(LGB_GS_best.predict(X_test))"
   ]
  },
  {
   "cell_type": "code",
   "execution_count": null,
   "metadata": {},
   "outputs": [],
   "source": []
  },
  {
   "cell_type": "code",
   "execution_count": null,
   "metadata": {},
   "outputs": [],
   "source": []
  },
  {
   "cell_type": "markdown",
   "metadata": {},
   "source": [
    "### Ensemble - Stacked Regression and GridSearch"
   ]
  },
  {
   "cell_type": "markdown",
   "metadata": {},
   "source": [
    "* ref) http://blog.kaggle.com/2016/12/27/a-kagglers-guide-to-model-stacking-in-practice/"
   ]
  },
  {
   "cell_type": "code",
   "execution_count": 94,
   "metadata": {
    "ExecuteTime": {
     "end_time": "2020-07-26T14:54:27.072747Z",
     "start_time": "2020-07-26T14:54:27.068667Z"
    }
   },
   "outputs": [
    {
     "name": "stdout",
     "output_type": "stream",
     "text": [
      "source: https://rasbt.github.io/mlxtend/user_guide/regressor/StackingCVRegressor/\n"
     ]
    },
    {
     "data": {
      "text/html": [
       "<img src=\"https://rasbt.github.io/mlxtend/user_guide/regressor/StackingCVRegressor_files/stacking_cv_regressor_overview.png\"/>"
      ],
      "text/plain": [
       "<IPython.core.display.Image object>"
      ]
     },
     "execution_count": 94,
     "metadata": {},
     "output_type": "execute_result"
    }
   ],
   "source": [
    "print(\"source: https://rasbt.github.io/mlxtend/user_guide/regressor/StackingCVRegressor/\")\n",
    "Image(url= \"https://rasbt.github.io/mlxtend/user_guide/regressor/StackingCVRegressor_files/stacking_cv_regressor_overview.png\")"
   ]
  },
  {
   "cell_type": "code",
   "execution_count": 81,
   "metadata": {
    "ExecuteTime": {
     "end_time": "2020-07-26T16:45:27.369769Z",
     "start_time": "2020-07-26T16:45:15.322211Z"
    },
    "scrolled": true
   },
   "outputs": [
    {
     "name": "stdout",
     "output_type": "stream",
     "text": [
      "Fitting 6 folds for each of 1 candidates, totalling 6 fits\n"
     ]
    },
    {
     "name": "stderr",
     "output_type": "stream",
     "text": [
      "[Parallel(n_jobs=-1)]: Using backend LokyBackend with 12 concurrent workers.\n",
      "[Parallel(n_jobs=-1)]: Done   4 out of   6 | elapsed:   12.7s remaining:    6.3s\n",
      "[Parallel(n_jobs=-1)]: Done   6 out of   6 | elapsed:   14.3s finished\n"
     ]
    },
    {
     "name": "stdout",
     "output_type": "stream",
     "text": [
      "StackingRegressor(meta_regressor=XGBRegressor(base_score=0.5, booster='gbtree',\n",
      "                                              colsample_bylevel=1,\n",
      "                                              colsample_bynode=1,\n",
      "                                              colsample_bytree=1, gamma=0,\n",
      "                                              importance_type='gain',\n",
      "                                              learning_rate=0.005,\n",
      "                                              max_delta_step=0, max_depth=7,\n",
      "                                              min_child_weight=2, missing=None,\n",
      "                                              n_estimators=2000, n_jobs=-1,\n",
      "                                              nthread=None,\n",
      "                                              objective='reg:squarederror',\n",
      "                                              random_state=1234, reg_alpha=0.1,...\n",
      "                                           seed=None, silent=None,\n",
      "                                           subsample=0.3, verbosity=1),\n",
      "                              SVR(C=0.08, cache_size=200, coef0=1.8, degree=2,\n",
      "                                  epsilon=0.05, gamma='scale', kernel='poly',\n",
      "                                  max_iter=10000, shrinking=True, tol=0.001,\n",
      "                                  verbose=False),\n",
      "                              KernelRidge(alpha=1, coef0=2.0, degree=3,\n",
      "                                          gamma=0.008211879055212055,\n",
      "                                          kernel='polynomial',\n",
      "                                          kernel_params=None)],\n",
      "                  store_train_meta_features=False,\n",
      "                  use_features_in_secondary=False, verbose=0)\n"
     ]
    }
   ],
   "source": [
    "XGB = XGBRegressor(objective ='reg:squarederror',n_jobs =-1,random_state =1234)\n",
    "\n",
    "ELNET = ElasticNet(random_state=1234, max_iter=10000)\n",
    "LCV= Lasso(random_state=1234, max_iter=10000)\n",
    "SV = SVR(max_iter=10000)\n",
    "KR = KernelRidge()\n",
    "XG = XGBRegressor(objective ='reg:squarederror',n_jobs =-1,random_state =1234)\n",
    "\n",
    "stack = StackingRegressor(regressors = [ELNET,LCV,XG,SV,KR],\n",
    "                          meta_regressor = XGB)\n",
    "\n",
    "params = {       \n",
    "        # mlxtend : 0.17 이하 버전기준..\n",
    "    \n",
    "#               'meta-xgbregressor__n_estimators' : [740*2],#740\n",
    "#               'meta-xgbregressor__learning_rate': [0.01/2], #0.01\n",
    "#                'meta-xgbregressor__min_child_weight':[0],\n",
    "#               'meta-xgbregressor__gamma':[0.1],\n",
    "#               'meta-xgbregressor__max_depth': [2],\n",
    "#               'meta-xgbregressor__subsample':[0.65],\n",
    "#               'meta-xgbregressor__colsample_bytree':[0.4],\n",
    "#               'meta-xgbregressor__reg_alpha':[0],\n",
    "#               'meta-xgbregressor__reg_lambda':[1],\n",
    "    \n",
    "        # mlxtend : 0.17 버전 기준 : http://rasbt.github.io/mlxtend/user_guide/regressor/StackingRegressor/\n",
    "                'meta_regressor__n_estimators' : [1000*2],#740\n",
    "              'meta_regressor__learning_rate': [0.01/2], #0.01\n",
    "               'meta_regressor__min_child_weight':[2],\n",
    "              'meta_regressor__gamma':[0],\n",
    "              'meta_regressor__max_depth': [7],\n",
    "              'meta_regressor__subsample':[0.3],\n",
    "              'meta_regressor__colsample_bytree':[1],\n",
    "              'meta_regressor__reg_alpha':[0.1],\n",
    "              'meta_regressor__reg_lambda':[0.01],\n",
    "              \n",
    "              'lasso__alpha':[0.07],\n",
    "              'elasticnet__alpha':[0.02],\n",
    "              'elasticnet__l1_ratio':[0.09],\n",
    "              'xgbregressor__min_child_weight':[2],\n",
    "              'xgbregressor__n_estimators' : [1000],\n",
    "              'xgbregressor__learning_rate': [0.01],\n",
    "              'xgbregressor__gamma':[0],\n",
    "              'xgbregressor__max_depth': [7],\n",
    "              'xgbregressor__subsample':[0.3],\n",
    "              'xgbregressor__colsample_bytree':[1],\n",
    "    \n",
    "              'kernelridge__alpha':[1],\n",
    "              'kernelridge__coef0':[2.0],\n",
    "              'kernelridge__degree':[3],\n",
    "              'kernelridge__gamma':[0.008211879055212056],\n",
    "              'kernelridge__kernel':['polynomial'],\n",
    "              'kernelridge__kernel_params':[None],\n",
    "              \n",
    "              'svr__coef0':[1.8],\n",
    "              'svr__kernel':['poly'],\n",
    "              'svr__epsilon':[0.05],\n",
    "              'svr__gamma': ['scale'],\n",
    "              'svr__degree': [2],\n",
    "              'svr__C':[0.08]\n",
    "        }\n",
    "\n",
    "\n",
    "stack_GS = GridSearchCV(estimator = stack,\n",
    "                    param_grid=params\n",
    "                    ,cv=kfold,\n",
    "                    refit=True, \n",
    "                    verbose=1,\n",
    "                    n_jobs=-1,\n",
    "                    scoring=\"neg_mean_squared_error\")\n",
    "stack_GS.fit(X_train, y_df)\n",
    "stack_GS_best = stack_GS.best_estimator_\n",
    "print(stack_GS_best)"
   ]
  },
  {
   "cell_type": "code",
   "execution_count": 82,
   "metadata": {},
   "outputs": [
    {
     "name": "stdout",
     "output_type": "stream",
     "text": [
      "STACK mean score :  0.13507591324089116\n",
      "STACK std score :  0.00945226815029092\n"
     ]
    }
   ],
   "source": [
    "scores= rmse_cv(stack_GS_best)\n",
    "print(\"STACK mean score : \", scores.mean())\n",
    "print(\"STACK std score : \", scores.std())"
   ]
  },
  {
   "cell_type": "code",
   "execution_count": 125,
   "metadata": {},
   "outputs": [],
   "source": [
    "y_submission_8 = np.expm1(stack_GS_best.predict(X_test))"
   ]
  },
  {
   "cell_type": "markdown",
   "metadata": {},
   "source": [
    "#### Ensemble - Averaging"
   ]
  },
  {
   "cell_type": "code",
   "execution_count": 210,
   "metadata": {
    "ExecuteTime": {
     "end_time": "2020-07-26T17:23:30.463882Z",
     "start_time": "2020-07-26T17:23:30.461323Z"
    }
   },
   "outputs": [],
   "source": [
    "\n"
   ]
  },
  {
   "cell_type": "markdown",
   "metadata": {},
   "source": [
    "### 제출"
   ]
  },
  {
   "cell_type": "code",
   "execution_count": 126,
   "metadata": {},
   "outputs": [],
   "source": [
    "y_submission_avg = (y_submission_1+y_submission_2+y_submission_3+\n",
    "                    y_submission_4+y_submission_5+y_submission_6+y_submission_7+y_submission_8)/8"
   ]
  },
  {
   "cell_type": "code",
   "execution_count": 94,
   "metadata": {},
   "outputs": [],
   "source": [
    "y_submission_avg2 = (y_submission_7*1 +y_submission_1*2 +y_submission_4*3)/(3+2+1)"
   ]
  },
  {
   "cell_type": "code",
   "execution_count": 127,
   "metadata": {
    "ExecuteTime": {
     "end_time": "2020-07-26T17:23:34.022525Z",
     "start_time": "2020-07-26T17:23:34.012850Z"
    }
   },
   "outputs": [],
   "source": [
    "my_submission = pd.DataFrame()\n",
    "my_submission['Id'] = test_id\n",
    "my_submission['SalePrice'] = y_submission_avg\n",
    "my_submission.to_csv('submission_trail_ver_0-1.csv',index=False)\n"
   ]
  },
  {
   "cell_type": "markdown",
   "metadata": {},
   "source": [
    "<img src=\"img/11.png\">"
   ]
  },
  {
   "cell_type": "markdown",
   "metadata": {},
   "source": [
    "### To Do List"
   ]
  },
  {
   "cell_type": "markdown",
   "metadata": {},
   "source": [
    "Mission : 위의 성능보다 더 나은 모델을 만들어 제출하시오!!!"
   ]
  },
  {
   "cell_type": "code",
   "execution_count": 49,
   "metadata": {},
   "outputs": [],
   "source": [
    "# 노트북파일, PKL , 케글 성적 보내기 31일까지"
   ]
  },
  {
   "cell_type": "code",
   "execution_count": null,
   "metadata": {},
   "outputs": [],
   "source": []
  }
 ],
 "metadata": {
  "kernelspec": {
   "display_name": "Python 3",
   "language": "python",
   "name": "python3"
  },
  "language_info": {
   "codemirror_mode": {
    "name": "ipython",
    "version": 3
   },
   "file_extension": ".py",
   "mimetype": "text/x-python",
   "name": "python",
   "nbconvert_exporter": "python",
   "pygments_lexer": "ipython3",
   "version": "3.7.6"
  },
  "toc": {
   "base_numbering": 1,
   "nav_menu": {},
   "number_sections": true,
   "sideBar": true,
   "skip_h1_title": false,
   "title_cell": "Table of Contents",
   "title_sidebar": "Contents",
   "toc_cell": false,
   "toc_position": {
    "height": "calc(100% - 180px)",
    "left": "10px",
    "top": "150px",
    "width": "341.594px"
   },
   "toc_section_display": true,
   "toc_window_display": true
  },
  "varInspector": {
   "cols": {
    "lenName": 16,
    "lenType": 16,
    "lenVar": 40
   },
   "kernels_config": {
    "python": {
     "delete_cmd_postfix": "",
     "delete_cmd_prefix": "del ",
     "library": "var_list.py",
     "varRefreshCmd": "print(var_dic_list())"
    },
    "r": {
     "delete_cmd_postfix": ") ",
     "delete_cmd_prefix": "rm(",
     "library": "var_list.r",
     "varRefreshCmd": "cat(var_dic_list()) "
    }
   },
   "types_to_exclude": [
    "module",
    "function",
    "builtin_function_or_method",
    "instance",
    "_Feature"
   ],
   "window_display": false
  }
 },
 "nbformat": 4,
 "nbformat_minor": 2
}
