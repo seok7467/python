{
 "cells": [
  {
   "cell_type": "markdown",
   "metadata": {},
   "source": [
    "# SUM"
   ]
  },
  {
   "cell_type": "code",
   "execution_count": 1,
   "metadata": {},
   "outputs": [
    {
     "data": {
      "text/plain": [
       "4"
      ]
     },
     "execution_count": 1,
     "metadata": {},
     "output_type": "execute_result"
    }
   ],
   "source": [
    "sum([1,3])"
   ]
  },
  {
   "cell_type": "code",
   "execution_count": 4,
   "metadata": {},
   "outputs": [
    {
     "data": {
      "text/plain": [
       "10"
      ]
     },
     "execution_count": 4,
     "metadata": {},
     "output_type": "execute_result"
    }
   ],
   "source": [
    "sum([1,2,3,4])  #sum이라는 함수는 입력갯수 여러개 가능하네"
   ]
  },
  {
   "cell_type": "code",
   "execution_count": 2,
   "metadata": {},
   "outputs": [],
   "source": [
    "#더하기 함수\n",
    "def sum2(a,b):\n",
    "    result=a+b\n",
    "    return(result)"
   ]
  },
  {
   "cell_type": "code",
   "execution_count": 5,
   "metadata": {},
   "outputs": [
    {
     "name": "stdout",
     "output_type": "stream",
     "text": [
      "30\n"
     ]
    }
   ],
   "source": [
    "print(sum2(10,20))"
   ]
  },
  {
   "cell_type": "code",
   "execution_count": 13,
   "metadata": {},
   "outputs": [],
   "source": [
    "#곱하기 함수\n",
    "def multiple2(a,b):\n",
    "    result=a*b\n",
    "    return(result)"
   ]
  },
  {
   "cell_type": "code",
   "execution_count": 18,
   "metadata": {},
   "outputs": [
    {
     "name": "stdout",
     "output_type": "stream",
     "text": [
      "20\n"
     ]
    }
   ],
   "source": [
    "print(multiple2(10,2))"
   ]
  },
  {
   "cell_type": "code",
   "execution_count": null,
   "metadata": {},
   "outputs": [],
   "source": []
  },
  {
   "cell_type": "code",
   "execution_count": 17,
   "metadata": {},
   "outputs": [
    {
     "ename": "NameError",
     "evalue": "name 'mul' is not defined",
     "output_type": "error",
     "traceback": [
      "\u001b[1;31m---------------------------------------------------------------------------\u001b[0m",
      "\u001b[1;31mNameError\u001b[0m                                 Traceback (most recent call last)",
      "\u001b[1;32m<ipython-input-17-56f93cfc3199>\u001b[0m in \u001b[0;36m<module>\u001b[1;34m\u001b[0m\n\u001b[1;32m----> 1\u001b[1;33m \u001b[0mprint\u001b[0m\u001b[1;33m(\u001b[0m\u001b[0mmul\u001b[0m\u001b[1;33m(\u001b[0m\u001b[1;36m10\u001b[0m\u001b[1;33m,\u001b[0m\u001b[1;36m20\u001b[0m\u001b[1;33m)\u001b[0m\u001b[1;33m)\u001b[0m\u001b[1;33m\u001b[0m\u001b[1;33m\u001b[0m\u001b[0m\n\u001b[0m",
      "\u001b[1;31mNameError\u001b[0m: name 'mul' is not defined"
     ]
    }
   ],
   "source": [
    "\n",
    "print(mul(10,20))"
   ]
  },
  {
   "cell_type": "code",
   "execution_count": null,
   "metadata": {},
   "outputs": [],
   "source": []
  },
  {
   "cell_type": "code",
   "execution_count": 24,
   "metadata": {},
   "outputs": [
    {
     "name": "stdout",
     "output_type": "stream",
     "text": [
      "<class 'tuple'>\n",
      "15\n",
      "<class 'tuple'>\n",
      "55\n"
     ]
    }
   ],
   "source": [
    "#입력이 가변적인 함수 만들기\n",
    "def sumrandom(*args):\n",
    "    result=0\n",
    "    print(type(args))          #가변 입력값은 튜플이네????\n",
    "    for i in args:\n",
    "        result+=i\n",
    "    return result\n",
    "\n",
    "print(sumrandom(1,2,3,4,5))\n",
    "print(sumrandom(1,2,3,4,5,6,7,8,9,10))"
   ]
  },
  {
   "cell_type": "code",
   "execution_count": 35,
   "metadata": {},
   "outputs": [
    {
     "name": "stdout",
     "output_type": "stream",
     "text": [
      "15\n",
      "5\n",
      "No Function\n"
     ]
    }
   ],
   "source": [
    "def myFunction(func,*args):\n",
    "    if func==\"sum\":\n",
    "        sum_f=0\n",
    "        for i in args:\n",
    "            sum_f+=i\n",
    "        return(sum_f)\n",
    "    elif func==\"count\":\n",
    "        return(len(args))\n",
    "    else:\n",
    "        return(\"No Function\")\n",
    "\n",
    "print(myFunction(\"sum\",1,2,3,4,5))\n",
    "print(myFunction(\"count\",1,2,3,4,5))\n",
    "print(myFunction(\"nono\",1,2,3,4,5))\n"
   ]
  },
  {
   "cell_type": "code",
   "execution_count": 36,
   "metadata": {},
   "outputs": [
    {
     "name": "stdout",
     "output_type": "stream",
     "text": [
      "(40, 300, 0.3333333333333333, -20)\n"
     ]
    }
   ],
   "source": [
    "def multiFunc(a,b):\n",
    "    return a+b,a*b,a/b,a-b\n",
    "print(multiFunc(10,30))  #튜플 형식이라 다이렉트로 가공할 수 없음, list로 풀거나 다른 형식으로 변환 해야함"
   ]
  },
  {
   "cell_type": "code",
   "execution_count": 37,
   "metadata": {},
   "outputs": [
    {
     "name": "stdout",
     "output_type": "stream",
     "text": [
      "11\n",
      "1\n"
     ]
    }
   ],
   "source": [
    "#함수의 범위 (지역변수)\n",
    "a=1\n",
    "def func(a):\n",
    "    a+=10\n",
    "    return a # 함수의 변수는 함수안에서가 나와바리임\n",
    "print(func(a))\n",
    "print(a)"
   ]
  },
  {
   "cell_type": "code",
   "execution_count": 38,
   "metadata": {},
   "outputs": [
    {
     "data": {
      "text/plain": [
       "30"
      ]
     },
     "execution_count": 38,
     "metadata": {},
     "output_type": "execute_result"
    }
   ],
   "source": [
    "#a+b의 기존의 함수형식으로 사용\n",
    "def sum2(a,b):\n",
    "    return a+b\n",
    "sum2(10,20)"
   ]
  },
  {
   "cell_type": "code",
   "execution_count": 40,
   "metadata": {},
   "outputs": [
    {
     "data": {
      "text/plain": [
       "30"
      ]
     },
     "execution_count": 40,
     "metadata": {},
     "output_type": "execute_result"
    }
   ],
   "source": [
    "#lambda형식으로 지정하여 사용하고 다시 사용하려면 다시 작성해야 됨..\n",
    "(lambda x,y: x+y)(10,20)"
   ]
  },
  {
   "cell_type": "markdown",
   "metadata": {},
   "source": [
    "[과제] 함수의 입력인자는 2개가 있습니다.\n",
    "1)입력인자1: sel1,sel2(sel1은 임의의 입력인자 2에 대한 모든 +,* 를 수행한다. sel2는 입력인자2 중에 가장 처음수와 가장 마지막수를 결과로 준다.)\n",
    "\n",
    "2)입력인자2: 입력하는 숫자가 정해지지 않은 숫자들(단,2개 이상)\n",
    "\n",
    "입력인자1이 지정한 것 이외의 것이 들어가면 \"sel파라미터 확인해\"메시지 출력"
   ]
  },
  {
   "cell_type": "code",
   "execution_count": 46,
   "metadata": {},
   "outputs": [],
   "source": [
    "def myFunc(sel,*args): #(고정 변수, 가변 변수)\n",
    "    if(sel==\"sel1\"):\n",
    "        sum_1=0\n",
    "        mul_1=1\n",
    "        for i in args:\n",
    "            sum_1+=i\n",
    "            mul_1*=i\n",
    "        return(sum_1,mul_1)\n",
    "    elif(sel==\"sel2\"):\n",
    "        return(args[0],args[len(args)-1])\n",
    "    else:\n",
    "        return(\"sel파라미터 확인해\")"
   ]
  },
  {
   "cell_type": "code",
   "execution_count": 47,
   "metadata": {},
   "outputs": [
    {
     "name": "stdout",
     "output_type": "stream",
     "text": [
      "(15, 120)\n",
      "(1, 4)\n",
      "sel파라미터 확인해\n"
     ]
    }
   ],
   "source": [
    "print(myFunc(\"sel1\",1,2,3,4,5))\n",
    "print(myFunc(\"sel2\",1,2,3,4))\n",
    "print(myFunc(\"sel\",1,2,3,4,5))"
   ]
  },
  {
   "cell_type": "markdown",
   "metadata": {},
   "source": [
    "# Numpy"
   ]
  },
  {
   "cell_type": "code",
   "execution_count": 56,
   "metadata": {},
   "outputs": [],
   "source": [
    "import numpy as np"
   ]
  },
  {
   "cell_type": "code",
   "execution_count": 59,
   "metadata": {},
   "outputs": [
    {
     "data": {
      "text/plain": [
       "array([1, 2, 3])"
      ]
     },
     "execution_count": 59,
     "metadata": {},
     "output_type": "execute_result"
    }
   ],
   "source": [
    "np.array([1,2,3]) #np로 약어 사용했으면 np로만 호출해야 됨 .numpy쓰면 에러뜸 "
   ]
  },
  {
   "cell_type": "code",
   "execution_count": 75,
   "metadata": {},
   "outputs": [],
   "source": [
    "#파이썬 기본 자료 구조: 리스트      #이건 메모리상에 흩뿌려져 있어\n",
    "a=[1,2,3,4,5]"
   ]
  },
  {
   "cell_type": "code",
   "execution_count": 79,
   "metadata": {},
   "outputs": [
    {
     "data": {
      "text/plain": [
       "[16, 17, 18, 19, 20]"
      ]
     },
     "execution_count": 79,
     "metadata": {},
     "output_type": "execute_result"
    }
   ],
   "source": [
    "# a에 일괄적으로 15씩 더하기\n",
    "# 쌩 파이썬 이용\n",
    "b=[]\n",
    "for i in a:           #for문써야되서 귀찮음\n",
    "    b.append(i+15)\n",
    "b"
   ]
  },
  {
   "cell_type": "code",
   "execution_count": 52,
   "metadata": {},
   "outputs": [
    {
     "ename": "TypeError",
     "evalue": "data type not understood",
     "output_type": "error",
     "traceback": [
      "\u001b[1;31m---------------------------------------------------------------------------\u001b[0m",
      "\u001b[1;31mTypeError\u001b[0m                                 Traceback (most recent call last)",
      "\u001b[1;32m<ipython-input-52-6582b96419cb>\u001b[0m in \u001b[0;36m<module>\u001b[1;34m\u001b[0m\n\u001b[1;32m----> 1\u001b[1;33m \u001b[0mnumpy\u001b[0m\u001b[1;33m.\u001b[0m\u001b[0marray\u001b[0m\u001b[1;33m(\u001b[0m\u001b[1;33m[\u001b[0m\u001b[1;36m1\u001b[0m\u001b[1;33m,\u001b[0m\u001b[1;36m2\u001b[0m\u001b[1;33m,\u001b[0m\u001b[1;36m3\u001b[0m\u001b[1;33m]\u001b[0m\u001b[1;33m,\u001b[0m\u001b[1;33m[\u001b[0m\u001b[1;36m1\u001b[0m\u001b[1;33m,\u001b[0m\u001b[1;36m2\u001b[0m\u001b[1;33m,\u001b[0m\u001b[1;36m3\u001b[0m\u001b[1;33m]\u001b[0m\u001b[1;33m)\u001b[0m\u001b[1;33m\u001b[0m\u001b[1;33m\u001b[0m\u001b[0m\n\u001b[0m",
      "\u001b[1;31mTypeError\u001b[0m: data type not understood"
     ]
    }
   ],
   "source": [
    "numpy.array([1,2,3],[1,2,3])"
   ]
  },
  {
   "cell_type": "code",
   "execution_count": 87,
   "metadata": {},
   "outputs": [
    {
     "data": {
      "text/plain": [
       "array([16, 17, 18, 19, 20])"
      ]
     },
     "execution_count": 87,
     "metadata": {},
     "output_type": "execute_result"
    }
   ],
   "source": [
    "#numpy쓰면 한 줄로 가능\n",
    "a=[1,2,3,4,5]\n",
    "a=np.array(a)+15\n",
    "a"
   ]
  },
  {
   "cell_type": "code",
   "execution_count": 93,
   "metadata": {},
   "outputs": [
    {
     "name": "stdout",
     "output_type": "stream",
     "text": [
      "[2, 4, 6, 8, 10]\n"
     ]
    }
   ],
   "source": [
    "#두개의 리스트 더하기(원소끼리 더하기)\n",
    "a=[1,2,3,4,5]\n",
    "b=[1,2,3,4,5]\n",
    "c=[]\n",
    "# a+b 하면 a뒤에 b가 붙어버림. 원소끼리 더하는 게 아님\n",
    "for i in range(0,len(a)):\n",
    "    c.append(a[i]+b[i])\n",
    "print(c)"
   ]
  },
  {
   "cell_type": "code",
   "execution_count": 101,
   "metadata": {},
   "outputs": [
    {
     "data": {
      "text/plain": [
       "array([ 2,  4,  6,  8, 10])"
      ]
     },
     "execution_count": 101,
     "metadata": {},
     "output_type": "execute_result"
    }
   ],
   "source": [
    "#numpy써서 원소끼리 더하기\n",
    "a=[1,2,3,4,5]\n",
    "a=np.array(a)\n",
    "b=[1,2,3,4,5]\n",
    "b=np.array(b)\n",
    "c=a+b\n",
    "c"
   ]
  },
  {
   "cell_type": "code",
   "execution_count": 105,
   "metadata": {},
   "outputs": [
    {
     "name": "stdout",
     "output_type": "stream",
     "text": [
      "[[1 2 3]\n",
      " [4 5 6]]\n",
      "\n",
      "[[ 1  4  9]\n",
      " [16 25 36]]\n",
      "\n",
      "[[0 0 0]\n",
      " [0 0 0]]\n"
     ]
    }
   ],
   "source": [
    "#벡터 스칼라 연산\n",
    "arr = np.array([[1,2,3],[4,5,6]])\n",
    "print(arr)\n",
    "print()\n",
    "print(arr*arr)\n",
    "print()\n",
    "print(arr-arr)  #원소끼리 계산수행하네"
   ]
  },
  {
   "cell_type": "code",
   "execution_count": 116,
   "metadata": {},
   "outputs": [
    {
     "data": {
      "text/plain": [
       "array([6. , 7.5, 8. , 0. , 1. ])"
      ]
     },
     "execution_count": 116,
     "metadata": {},
     "output_type": "execute_result"
    }
   ],
   "source": [
    "#ndarray 생성\n",
    "data1=[6.,7.5,8,0.,1.]\n",
    "arr1=np.array(data1)\n",
    "arr1\n"
   ]
  },
  {
   "cell_type": "code",
   "execution_count": 118,
   "metadata": {},
   "outputs": [
    {
     "name": "stdout",
     "output_type": "stream",
     "text": [
      "1\n",
      "(5,)\n",
      "float64\n"
     ]
    }
   ],
   "source": [
    "print(arr1.ndim)\n",
    "print(arr1.shape)\n",
    "print(arr1.dtype)"
   ]
  },
  {
   "cell_type": "code",
   "execution_count": 113,
   "metadata": {},
   "outputs": [
    {
     "data": {
      "text/plain": [
       "6.0"
      ]
     },
     "execution_count": 113,
     "metadata": {},
     "output_type": "execute_result"
    }
   ],
   "source": [
    "arr1[0]"
   ]
  },
  {
   "cell_type": "code",
   "execution_count": 119,
   "metadata": {},
   "outputs": [
    {
     "data": {
      "text/plain": [
       "array([b'1', b'2', b'3'], dtype='|S1')"
      ]
     },
     "execution_count": 119,
     "metadata": {},
     "output_type": "execute_result"
    }
   ],
   "source": [
    "#어레이 원소 타입 변경\n",
    "temp=np.array([1,2,3], dtype=np.string_)  #string 문자열로 변경\n",
    "temp"
   ]
  },
  {
   "cell_type": "code",
   "execution_count": 120,
   "metadata": {},
   "outputs": [
    {
     "name": "stdout",
     "output_type": "stream",
     "text": [
      " size_vector : 100000\n",
      "python list Load Time : 0.0\n",
      "python list for loop : 0.035982608795166016\n",
      " Python List Total :0.035982608795166016\n",
      "numpy array1 Load Time : 0.0009815692901611328\n",
      "numpy array1 for loop : 0.0\n",
      " numpy array1 Total :0.0009815692901611328\n",
      "numpy array2 Load Time : 0.000997304916381836\n",
      "numpy array2 for loop : 0.03388619422912598\n",
      " numpy array2 Total :0.03488349914550781\n",
      "------------------------------\n",
      " size_vector : 100\n",
      "python list Load Time : 0.0\n",
      "python list for loop : 0.0\n",
      " Python List Total :0.0\n",
      "numpy array1 Load Time : 0.0\n",
      "numpy array1 for loop : 0.0\n",
      " numpy array1 Total :0.0\n",
      "numpy array2 Load Time : 0.0\n",
      "numpy array2 for loop : 0.0\n",
      " numpy array2 Total :0.0\n",
      "------------------------------\n"
     ]
    }
   ],
   "source": [
    "# numpy array vs Python Lsit speed\n",
    "# 물론 조건 및 여러 상황에 따라서 조금 다를 수 있으니 참고!\n",
    "\n",
    "# 01) 아래는 두 개의 리스트에서 각기 리스트의 합을 구하는 경우\n",
    "# ( 코드 상 차이가 발생하는 부분들 : range, 리스트에서 +는 리스트 연결이나, numpy에서는 각기 원소들의 합\n",
    "# 따라서 동일한 역할을 위해서는 리스트에서는for가 필요함\n",
    "\n",
    "import time\n",
    "size_vector = 100000\n",
    "\n",
    "def pythonlist(size_vector):\n",
    "    t1 = time.time()\n",
    "    x = range(size_vector)\n",
    "    y = range(size_vector)\n",
    "    t2 = time.time()\n",
    "    print (\"python list Load Time : \" + str(t2-t1))\n",
    "    z = []\n",
    "    \n",
    "    t3 = time.time()\n",
    "    for i in range(len(x)):\n",
    "        z.append(x[i] + y[i])\n",
    "    t4 = time.time()\n",
    "    print (\"python list for loop : \" + str(t4- t3))\n",
    "    \n",
    "    print (\" Python List Total :\" + str(t4 - t1))\n",
    "\n",
    "    \n",
    "def numpyarray1(size_vector):\n",
    "    t1 = time.time()\n",
    "    x = np.arange(size_vector)\n",
    "    y = np.arange(size_vector)\n",
    "    t2 = time.time()\n",
    "    print (\"numpy array1 Load Time : \"+str(t2-t1))\n",
    "    \n",
    "    t3 = time.time()\n",
    "    z = x + y\n",
    "    t4 = time.time()\n",
    "    print (\"numpy array1 for loop : \" + str(t4- t3))\n",
    "\n",
    "    print (\" numpy array1 Total :\" + str(t4 - t1))\n",
    "\n",
    "def numpyarray2(size_vector):\n",
    "    t1 = time.time()\n",
    "    x = np.arange(size_vector)\n",
    "    y = np.arange(size_vector)\n",
    "    t2 = time.time()\n",
    "    print (\"numpy array2 Load Time : \"+str(t2-t1))\n",
    "    \n",
    "    t3 = time.time()\n",
    "    z = np.ndarray(size_vector)\n",
    "    for i in range(len(x)):\n",
    "        z[i] = x[i] + y[i]\n",
    "    t4 = time.time()\n",
    "    print (\"numpy array2 for loop : \" + str(t4- t3))\n",
    "    print (\" numpy array2 Total :\" + str(t4 - t1))\n",
    "\n",
    "print (\" size_vector : 100000\")\n",
    "pythonlist(size_vector)\n",
    "numpyarray1(size_vector)\n",
    "numpyarray2(size_vector)\n",
    "print (\"------------------------------\")\n",
    "\n",
    "print (\" size_vector : 100\")\n",
    "size_vector = 100\n",
    "pythonlist(size_vector)\n",
    "numpyarray1(size_vector)\n",
    "numpyarray2(size_vector)\n",
    "print (\"------------------------------\")\n",
    "\n",
    "\n",
    "#  샘플 결과 \n",
    "# -->기본적으로 일반적인 list로 생성하는 것이 array로 생성하는 것에 비해서 많은 속도가 소욧된다.\n",
    "# --> numpy의 백터 연산이 기본적인 for에서 append보다 속도가 빠른 것을 볼 수 있음.\n",
    "# --> 동잉한 for에 대해서도 상당히 속도가 빠른 것을 볼 수 있다. \n",
    "# --> 작은 숫자에서는 큰 차이가 없거나 경우에 따라서 List가 빠를 수도 있음.\n",
    "\n",
    "\n",
    "# 하나의 예시 결과\n",
    "\n",
    "#  size_vector : 100000\n",
    "# python list Load Time : 2.86102294921875e-06\n",
    "# python list for loop : 0.05470418930053711\n",
    "#  Python List Total :0.05480003356933594\n",
    "# numpy array1 Load Time : 0.0014030933380126953\n",
    "# numpy array1 for loop : 0.0006737709045410156\n",
    "#  numpy array1 Total :0.002165079116821289\n",
    "# numpy array2 Load Time : 0.00037980079650878906\n",
    "# numpy array2 for loop : 1.0013580322265625e-05\n",
    "#  numpy array2 Total :0.0004830360412597656\n",
    "# ------------------------------\n",
    "#  size_vector : 100\n",
    "# python list Load Time : 3.0994415283203125e-06\n",
    "# python list for loop : 4.7206878662109375e-05\n",
    "#  Python List Total :0.00010013580322265625\n",
    "# numpy array1 Load Time : 5.125999450683594e-05\n",
    "# numpy array1 for loop : 1.621246337890625e-05\n",
    "#  numpy array1 Total :0.0001232624053955078\n",
    "# numpy array2 Load Time : 1.2159347534179688e-05\n",
    "# numpy array2 for loop : 6.9141387939453125e-06\n",
    "#  numpy array2 Total :6.818771362304688e-05\n",
    "# ------------------------------"
   ]
  },
  {
   "cell_type": "code",
   "execution_count": 122,
   "metadata": {},
   "outputs": [],
   "source": [
    "### 속도 비교 : 각기 원소들의 제곱들로 만드는 것."
   ]
  },
  {
   "cell_type": "code",
   "execution_count": 124,
   "metadata": {},
   "outputs": [
    {
     "name": "stdout",
     "output_type": "stream",
     "text": [
      "Number : 100\n",
      "List0-Try :  0.0009741783142089844\n",
      "List1-Try :  0.0\n",
      "List2-Try :  0.0\n",
      "List3-Try :  0.0\n",
      "Array-Try :  0.0\n",
      "---------------\n",
      "Number : 100000\n",
      "List0-Try :  11.562129735946655\n",
      "List1-Try :  0.031914472579956055\n",
      "List2-Try :  0.028925418853759766\n",
      "List3-Try :  0.0259091854095459\n",
      "Array-Try :  0.0\n"
     ]
    }
   ],
   "source": [
    "# 02) 속도 비교\n",
    "# 제곱 결과들\n",
    "\n",
    "def square_list0(N):\n",
    "    squares = []\n",
    "    for n in range(N):\n",
    "        squares = squares + [n**2]\n",
    "    return squares\n",
    "\n",
    "\n",
    "def square_list1(N):\n",
    "    squares = []\n",
    "    for n in range(N):\n",
    "        # 일반적으로 생성해서 더하는 방법\n",
    "        squares += [n**2]\n",
    "    return squares\n",
    "    \n",
    "\n",
    "def square_list2(N):\n",
    "    squares = []\n",
    "    for n in range(N):\n",
    "        # append 라고 이미 정의된 메소드 이용하는 방법\n",
    "        squares.append(n**2)\n",
    "    return squares\n",
    "    \n",
    "\n",
    "def square_list3(N):\n",
    "    # 동일한 방법이나 벡터연산으로 처리\n",
    "    return [n**2 for n in range(N)]\n",
    "    \n",
    "\n",
    "def square_array(N):\n",
    "    # Vectorize the entire operation.\n",
    "    #from numpy import arange\n",
    "    #return arange(N)**2\n",
    "    return np.arange(N)**2\n",
    "\n",
    "\n",
    "n = 100\n",
    "print(\"Number :\" ,n)\n",
    "t1 = time.time()\n",
    "square_list0(n)\n",
    "t2 = time.time()\n",
    "print (\"List0-Try : \",t2-t1)\n",
    "\n",
    "t1 = time.time()\n",
    "square_list1(n)\n",
    "t2 = time.time()\n",
    "print (\"List1-Try : \",t2-t1)\n",
    "\n",
    "t1 = time.time()\n",
    "square_list2(n)\n",
    "t2 = time.time()\n",
    "print (\"List2-Try : \",t2-t1)\n",
    "\n",
    "t1 = time.time()\n",
    "square_list3(n)\n",
    "t2 = time.time()\n",
    "print (\"List3-Try : \",t2-t1)\n",
    "\n",
    "t1 = time.time()\n",
    "square_array(n)\n",
    "t2 = time.time()\n",
    "print (\"Array-Try : \",t2-t1)\n",
    "print (\"---------------\")\n",
    "\n",
    "n = 100000\n",
    "print(\"Number :\", n)\n",
    "t1 = time.time()\n",
    "square_list0(n)\n",
    "t2 = time.time()\n",
    "print (\"List0-Try : \",t2-t1)\n",
    "\n",
    "t1 = time.time()\n",
    "square_list1(n)\n",
    "t2 = time.time()\n",
    "print (\"List1-Try : \",t2-t1)\n",
    "\n",
    "t1 = time.time()\n",
    "square_list2(n)\n",
    "t2 = time.time()\n",
    "print (\"List2-Try : \",t2-t1)\n",
    "\n",
    "t1 = time.time()\n",
    "square_list3(n)\n",
    "t2 = time.time()\n",
    "print (\"List3-Try : \",t2-t1)\n",
    "\n",
    "t1 = time.time()\n",
    "square_array(n)\n",
    "t2 = time.time()\n",
    "print (\"Array-Try : \",t2-t1)\n",
    "\n",
    "\n",
    "\n",
    "# 결과 \n",
    "# ---> 리스트를 사용할 것이라면 그래도 내부적으로 정의된 append가 빠르며\n",
    "# ---> 리스트를 사용할 때 이보다더 더 빠르게 사용하려면 \"벡터연산\"으로 코드를 변경할 것\n",
    "# ---> 이보다도 numpy가 더 빠르다. 특히 n이 작으면 차이가 별로 없으나, 커질수록 많이 차이가 남!!!\n",
    "\n",
    "# ------------------------------------------------------------\n",
    "# Number : 100\n",
    "# List0-Try :  0.00013494491577148438\n",
    "# List1-Try :  9.608268737792969e-05\n",
    "# List2-Try :  9.298324584960938e-05\n",
    "# List3-Try :  8.702278137207031e-05\n",
    "# Array-Try :  0.00011014938354492188\n",
    "# ---------------\n",
    "# Number : 100000\n",
    "# List0-Try :  33.61902904510498\n",
    "# List1-Try :  0.049868106842041016\n",
    "# List2-Try :  0.04886770248413086\n",
    "# List3-Try :  0.03975033760070801\n",
    "# Array-Try :  0.0006237030029296875"
   ]
  },
  {
   "cell_type": "code",
   "execution_count": 126,
   "metadata": {},
   "outputs": [
    {
     "data": {
      "text/plain": [
       "array([0, 1, 2, 3, 4, 5, 6, 7, 8, 9])"
      ]
     },
     "execution_count": 126,
     "metadata": {},
     "output_type": "execute_result"
    }
   ],
   "source": [
    "a=np.arange(10)\n",
    "a"
   ]
  },
  {
   "cell_type": "code",
   "execution_count": 127,
   "metadata": {},
   "outputs": [],
   "source": [
    "#astype이용해서 이미 불러온 array 타입 변경"
   ]
  },
  {
   "cell_type": "code",
   "execution_count": 128,
   "metadata": {},
   "outputs": [],
   "source": [
    "#색인"
   ]
  },
  {
   "cell_type": "code",
   "execution_count": 129,
   "metadata": {},
   "outputs": [
    {
     "name": "stdout",
     "output_type": "stream",
     "text": [
      "[1, 2, 3, 4, 5]\n",
      "[1 2 3 4 5]\n"
     ]
    }
   ],
   "source": [
    "list1=[1,2,3,4,5]\n",
    "arr1=np.array(list1)\n",
    "print(list1)\n",
    "print(arr1)"
   ]
  },
  {
   "cell_type": "code",
   "execution_count": 132,
   "metadata": {},
   "outputs": [
    {
     "name": "stdout",
     "output_type": "stream",
     "text": [
      "1\n",
      "1\n",
      "[2, 3]\n",
      "[2 3]\n",
      "[4, 5]\n",
      "[4 5]\n",
      "[1, 2, 3, 4, 5]\n",
      "[1 2 3 4 5]\n"
     ]
    }
   ],
   "source": [
    "print(list1[0])\n",
    "print(arr1[0])\n",
    "print(list1[1:3])\n",
    "print(arr1[1:3])\n",
    "print(list1[3:])\n",
    "print(arr1[3:])\n",
    "print(list1[:])\n",
    "print(arr1[:])"
   ]
  },
  {
   "cell_type": "code",
   "execution_count": 134,
   "metadata": {},
   "outputs": [
    {
     "name": "stdout",
     "output_type": "stream",
     "text": [
      "[2 5 8]\n"
     ]
    }
   ],
   "source": [
    "arr1=np.arange(10)\n",
    "print(arr1[2:9:3])"
   ]
  },
  {
   "cell_type": "code",
   "execution_count": 148,
   "metadata": {},
   "outputs": [
    {
     "data": {
      "text/plain": [
       "array([0, 1, 2, 3, 4, 5])"
      ]
     },
     "execution_count": 148,
     "metadata": {},
     "output_type": "execute_result"
    }
   ],
   "source": [
    "arr=np.arange(0,6,1)\n",
    "arr"
   ]
  },
  {
   "cell_type": "code",
   "execution_count": 150,
   "metadata": {},
   "outputs": [
    {
     "data": {
      "text/plain": [
       "array([[ 0,  1,  2,  3,  4,  5],\n",
       "       [10, 11, 12, 13, 14, 15],\n",
       "       [20, 21, 22, 23, 24, 25],\n",
       "       [30, 31, 32, 33, 34, 35],\n",
       "       [40, 41, 42, 43, 44, 45],\n",
       "       [50, 51, 52, 53, 54, 55]])"
      ]
     },
     "execution_count": 150,
     "metadata": {},
     "output_type": "execute_result"
    }
   ],
   "source": [
    "arr= np.arange(0,51,10)[:,np.newaxis] # 축 변경 newaxis\n",
    "arr=arr+np.arange(0,6,1) #(1X5)행렬과 (5X1)행렬 합치기\n",
    "arr"
   ]
  },
  {
   "cell_type": "code",
   "execution_count": 166,
   "metadata": {},
   "outputs": [
    {
     "name": "stdout",
     "output_type": "stream",
     "text": [
      "[3 4]\n",
      "[3 4]\n",
      "[[ 2]\n",
      " [12]\n",
      " [22]\n",
      " [32]\n",
      " [42]\n",
      " [52]]\n",
      "[[20 22 24]\n",
      " [40 42 44]]\n",
      "[[44 45]\n",
      " [54 55]]\n"
     ]
    }
   ],
   "source": [
    "print(arr[0][3:5]) #큰원소를 보고 작은원소 접근하는 방법\n",
    "print(arr[0,3:5]) #행렬을 하나의 큰 행렬로 보고 바로 접근하는 방법.\n",
    "print(arr[:,2][:,np.newaxis])\n",
    "print(arr[2:5:2,0:5:2])\n",
    "print(arr[4:6,4:6])"
   ]
  },
  {
   "cell_type": "code",
   "execution_count": 172,
   "metadata": {},
   "outputs": [
    {
     "name": "stdout",
     "output_type": "stream",
     "text": [
      "[0 1 2 3 4 5 6 7 8 9]\n",
      "[ True  True  True  True  True False False False False False]\n",
      "[0 1 2 3 4]\n"
     ]
    }
   ],
   "source": [
    "#boolean indexing\n",
    "arr1=np.arange(10)\n",
    "print(arr1)\n",
    "print(arr1<5)\n",
    "print(arr1[arr1<5])"
   ]
  },
  {
   "cell_type": "code",
   "execution_count": null,
   "metadata": {},
   "outputs": [],
   "source": []
  }
 ],
 "metadata": {
  "kernelspec": {
   "display_name": "Python 3",
   "language": "python",
   "name": "python3"
  },
  "language_info": {
   "codemirror_mode": {
    "name": "ipython",
    "version": 3
   },
   "file_extension": ".py",
   "mimetype": "text/x-python",
   "name": "python",
   "nbconvert_exporter": "python",
   "pygments_lexer": "ipython3",
   "version": "3.7.6"
  }
 },
 "nbformat": 4,
 "nbformat_minor": 4
}
