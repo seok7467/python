{
 "cells": [
  {
   "cell_type": "markdown",
   "metadata": {},
   "source": [
    "# SUM"
   ]
  },
  {
   "cell_type": "code",
   "execution_count": 1,
   "metadata": {},
   "outputs": [
    {
     "data": {
      "text/plain": [
       "4"
      ]
     },
     "execution_count": 1,
     "metadata": {},
     "output_type": "execute_result"
    }
   ],
   "source": [
    "sum([1,3])"
   ]
  },
  {
   "cell_type": "code",
   "execution_count": 4,
   "metadata": {},
   "outputs": [
    {
     "data": {
      "text/plain": [
       "10"
      ]
     },
     "execution_count": 4,
     "metadata": {},
     "output_type": "execute_result"
    }
   ],
   "source": [
    "sum([1,2,3,4])  #sum이라는 함수는 입력갯수 여러개 가능하네"
   ]
  },
  {
   "cell_type": "code",
   "execution_count": 2,
   "metadata": {},
   "outputs": [],
   "source": [
    "#더하기 함수\n",
    "def sum2(a,b):\n",
    "    result=a+b\n",
    "    return(result)"
   ]
  },
  {
   "cell_type": "code",
   "execution_count": 5,
   "metadata": {},
   "outputs": [
    {
     "name": "stdout",
     "output_type": "stream",
     "text": [
      "30\n"
     ]
    }
   ],
   "source": [
    "print(sum2(10,20))"
   ]
  },
  {
   "cell_type": "code",
   "execution_count": 13,
   "metadata": {},
   "outputs": [],
   "source": [
    "#곱하기 함수\n",
    "def multiple2(a,b):\n",
    "    result=a*b\n",
    "    return(result)"
   ]
  },
  {
   "cell_type": "code",
   "execution_count": 18,
   "metadata": {},
   "outputs": [
    {
     "name": "stdout",
     "output_type": "stream",
     "text": [
      "20\n"
     ]
    }
   ],
   "source": [
    "print(multiple2(10,2))"
   ]
  },
  {
   "cell_type": "code",
   "execution_count": 24,
   "metadata": {},
   "outputs": [
    {
     "name": "stdout",
     "output_type": "stream",
     "text": [
      "<class 'tuple'>\n",
      "15\n",
      "<class 'tuple'>\n",
      "55\n"
     ]
    }
   ],
   "source": [
    "#입력이 가변적인 함수 만들기\n",
    "def sumrandom(*args):\n",
    "    result=0\n",
    "    print(type(args))          #가변 입력값은 튜플이네????\n",
    "    for i in args:\n",
    "        result+=i\n",
    "    return result\n",
    "\n",
    "print(sumrandom(1,2,3,4,5))\n",
    "print(sumrandom(1,2,3,4,5,6,7,8,9,10))"
   ]
  },
  {
   "cell_type": "code",
   "execution_count": 35,
   "metadata": {},
   "outputs": [
    {
     "name": "stdout",
     "output_type": "stream",
     "text": [
      "15\n",
      "5\n",
      "No Function\n"
     ]
    }
   ],
   "source": [
    "def myFunction(func,*args):\n",
    "    if func==\"sum\":\n",
    "        sum_f=0\n",
    "        for i in args:\n",
    "            sum_f+=i\n",
    "        return(sum_f)\n",
    "    elif func==\"count\":\n",
    "        return(len(args))\n",
    "    else:\n",
    "        return(\"No Function\")\n",
    "\n",
    "print(myFunction(\"sum\",1,2,3,4,5))\n",
    "print(myFunction(\"count\",1,2,3,4,5))\n",
    "print(myFunction(\"nono\",1,2,3,4,5))\n"
   ]
  },
  {
   "cell_type": "code",
   "execution_count": 36,
   "metadata": {},
   "outputs": [
    {
     "name": "stdout",
     "output_type": "stream",
     "text": [
      "(40, 300, 0.3333333333333333, -20)\n"
     ]
    }
   ],
   "source": [
    "def multiFunc(a,b):\n",
    "    return a+b,a*b,a/b,a-b\n",
    "print(multiFunc(10,30))  #튜플 형식이라 다이렉트로 가공할 수 없음, list로 풀거나 다른 형식으로 변환 해야함"
   ]
  },
  {
   "cell_type": "code",
   "execution_count": 37,
   "metadata": {},
   "outputs": [
    {
     "name": "stdout",
     "output_type": "stream",
     "text": [
      "11\n",
      "1\n"
     ]
    }
   ],
   "source": [
    "#함수의 범위 (지역변수)\n",
    "a=1\n",
    "def func(a):\n",
    "    a+=10\n",
    "    return a # 함수의 변수는 함수안에서가 나와바리임\n",
    "print(func(a))\n",
    "print(a)"
   ]
  },
  {
   "cell_type": "code",
   "execution_count": 38,
   "metadata": {},
   "outputs": [
    {
     "data": {
      "text/plain": [
       "30"
      ]
     },
     "execution_count": 38,
     "metadata": {},
     "output_type": "execute_result"
    }
   ],
   "source": [
    "#a+b의 기존의 함수형식으로 사용\n",
    "def sum2(a,b):\n",
    "    return a+b\n",
    "sum2(10,20)"
   ]
  },
  {
   "cell_type": "code",
   "execution_count": 40,
   "metadata": {},
   "outputs": [
    {
     "data": {
      "text/plain": [
       "30"
      ]
     },
     "execution_count": 40,
     "metadata": {},
     "output_type": "execute_result"
    }
   ],
   "source": [
    "#lambda형식으로 지정하여 사용하고 다시 사용하려면 다시 작성해야 됨..\n",
    "(lambda x,y: x+y)(10,20)"
   ]
  },
  {
   "cell_type": "markdown",
   "metadata": {},
   "source": [
    "[과제] 함수의 입력인자는 2개가 있습니다.\n",
    "1)입력인자1: sel1,sel2(sel1은 임의의 입력인자 2에 대한 모든 +,* 를 수행한다. sel2는 입력인자2 중에 가장 처음수와 가장 마지막수를 결과로 준다.)\n",
    "\n",
    "2)입력인자2: 입력하는 숫자가 정해지지 않은 숫자들(단,2개 이상)\n",
    "\n",
    "입력인자1이 지정한 것 이외의 것이 들어가면 \"sel파라미터 확인해\"메시지 출력"
   ]
  },
  {
   "cell_type": "code",
   "execution_count": 46,
   "metadata": {},
   "outputs": [],
   "source": [
    "def myFunc(sel,*args): #(고정 변수, 가변 변수)\n",
    "    if(sel==\"sel1\"):\n",
    "        sum_1=0\n",
    "        mul_1=1\n",
    "        for i in args:\n",
    "            sum_1+=i\n",
    "            mul_1*=i\n",
    "        return(sum_1,mul_1)\n",
    "    elif(sel==\"sel2\"):\n",
    "        return(args[0],args[len(args)-1])\n",
    "    else:\n",
    "        return(\"sel파라미터 확인해\")"
   ]
  },
  {
   "cell_type": "code",
   "execution_count": 47,
   "metadata": {},
   "outputs": [
    {
     "name": "stdout",
     "output_type": "stream",
     "text": [
      "(15, 120)\n",
      "(1, 4)\n",
      "sel파라미터 확인해\n"
     ]
    }
   ],
   "source": [
    "print(myFunc(\"sel1\",1,2,3,4,5))\n",
    "print(myFunc(\"sel2\",1,2,3,4))\n",
    "print(myFunc(\"sel\",1,2,3,4,5))"
   ]
  },
  {
   "cell_type": "markdown",
   "metadata": {},
   "source": [
    "# Numpy"
   ]
  },
  {
   "cell_type": "code",
   "execution_count": 56,
   "metadata": {},
   "outputs": [],
   "source": [
    "import numpy as np"
   ]
  },
  {
   "cell_type": "code",
   "execution_count": 59,
   "metadata": {},
   "outputs": [
    {
     "data": {
      "text/plain": [
       "array([1, 2, 3])"
      ]
     },
     "execution_count": 59,
     "metadata": {},
     "output_type": "execute_result"
    }
   ],
   "source": [
    "np.array([1,2,3]) #np로 약어 사용했으면 np로만 호출해야 됨 .numpy쓰면 에러뜸 "
   ]
  },
  {
   "cell_type": "code",
   "execution_count": 75,
   "metadata": {},
   "outputs": [],
   "source": [
    "#파이썬 기본 자료 구조: 리스트      #이건 메모리상에 흩뿌려져 있어\n",
    "a=[1,2,3,4,5]"
   ]
  },
  {
   "cell_type": "code",
   "execution_count": 79,
   "metadata": {},
   "outputs": [
    {
     "data": {
      "text/plain": [
       "[16, 17, 18, 19, 20]"
      ]
     },
     "execution_count": 79,
     "metadata": {},
     "output_type": "execute_result"
    }
   ],
   "source": [
    "# a에 일괄적으로 15씩 더하기\n",
    "# 쌩 파이썬 이용\n",
    "b=[]\n",
    "for i in a:           #for문써야되서 귀찮음\n",
    "    b.append(i+15)\n",
    "b"
   ]
  },
  {
   "cell_type": "code",
   "execution_count": 87,
   "metadata": {},
   "outputs": [
    {
     "data": {
      "text/plain": [
       "array([16, 17, 18, 19, 20])"
      ]
     },
     "execution_count": 87,
     "metadata": {},
     "output_type": "execute_result"
    }
   ],
   "source": [
    "#numpy쓰면 한 줄로 가능\n",
    "a=[1,2,3,4,5]\n",
    "a=np.array(a)+15\n",
    "a"
   ]
  },
  {
   "cell_type": "code",
   "execution_count": 93,
   "metadata": {},
   "outputs": [
    {
     "name": "stdout",
     "output_type": "stream",
     "text": [
      "[2, 4, 6, 8, 10]\n"
     ]
    }
   ],
   "source": [
    "#두개의 리스트 더하기(원소끼리 더하기)\n",
    "a=[1,2,3,4,5]\n",
    "b=[1,2,3,4,5]\n",
    "c=[]\n",
    "# a+b 하면 a뒤에 b가 붙어버림. 원소끼리 더하는 게 아님\n",
    "for i in range(0,len(a)):\n",
    "    c.append(a[i]+b[i])\n",
    "print(c)"
   ]
  },
  {
   "cell_type": "code",
   "execution_count": 101,
   "metadata": {},
   "outputs": [
    {
     "data": {
      "text/plain": [
       "array([ 2,  4,  6,  8, 10])"
      ]
     },
     "execution_count": 101,
     "metadata": {},
     "output_type": "execute_result"
    }
   ],
   "source": [
    "#numpy써서 원소끼리 더하기\n",
    "a=[1,2,3,4,5]\n",
    "a=np.array(a)\n",
    "b=[1,2,3,4,5]\n",
    "b=np.array(b)\n",
    "c=a+b\n",
    "c"
   ]
  },
  {
   "cell_type": "code",
   "execution_count": 105,
   "metadata": {},
   "outputs": [
    {
     "name": "stdout",
     "output_type": "stream",
     "text": [
      "[[1 2 3]\n",
      " [4 5 6]]\n",
      "\n",
      "[[ 1  4  9]\n",
      " [16 25 36]]\n",
      "\n",
      "[[0 0 0]\n",
      " [0 0 0]]\n"
     ]
    }
   ],
   "source": [
    "#벡터 스칼라 연산\n",
    "arr = np.array([[1,2,3],[4,5,6]])\n",
    "print(arr)\n",
    "print()\n",
    "print(arr*arr)\n",
    "print()\n",
    "print(arr-arr)  #원소끼리 계산수행하네"
   ]
  },
  {
   "cell_type": "code",
   "execution_count": 116,
   "metadata": {},
   "outputs": [
    {
     "data": {
      "text/plain": [
       "array([6. , 7.5, 8. , 0. , 1. ])"
      ]
     },
     "execution_count": 116,
     "metadata": {},
     "output_type": "execute_result"
    }
   ],
   "source": [
    "#ndarray 생성\n",
    "data1=[6.,7.5,8,0.,1.]\n",
    "arr1=np.array(data1)\n",
    "arr1\n"
   ]
  },
  {
   "cell_type": "code",
   "execution_count": 118,
   "metadata": {},
   "outputs": [
    {
     "name": "stdout",
     "output_type": "stream",
     "text": [
      "1\n",
      "(5,)\n",
      "float64\n"
     ]
    }
   ],
   "source": [
    "print(arr1.ndim)\n",
    "print(arr1.shape)\n",
    "print(arr1.dtype)"
   ]
  },
  {
   "cell_type": "code",
   "execution_count": 113,
   "metadata": {},
   "outputs": [
    {
     "data": {
      "text/plain": [
       "6.0"
      ]
     },
     "execution_count": 113,
     "metadata": {},
     "output_type": "execute_result"
    }
   ],
   "source": [
    "arr1[0]"
   ]
  },
  {
   "cell_type": "code",
   "execution_count": 119,
   "metadata": {},
   "outputs": [
    {
     "data": {
      "text/plain": [
       "array([b'1', b'2', b'3'], dtype='|S1')"
      ]
     },
     "execution_count": 119,
     "metadata": {},
     "output_type": "execute_result"
    }
   ],
   "source": [
    "#어레이 원소 타입 변경\n",
    "temp=np.array([1,2,3], dtype=np.string_)  #string 문자열로 변경\n",
    "temp"
   ]
  },
  {
   "cell_type": "code",
   "execution_count": 120,
   "metadata": {},
   "outputs": [
    {
     "name": "stdout",
     "output_type": "stream",
     "text": [
      " size_vector : 100000\n",
      "python list Load Time : 0.0\n",
      "python list for loop : 0.035982608795166016\n",
      " Python List Total :0.035982608795166016\n",
      "numpy array1 Load Time : 0.0009815692901611328\n",
      "numpy array1 for loop : 0.0\n",
      " numpy array1 Total :0.0009815692901611328\n",
      "numpy array2 Load Time : 0.000997304916381836\n",
      "numpy array2 for loop : 0.03388619422912598\n",
      " numpy array2 Total :0.03488349914550781\n",
      "------------------------------\n",
      " size_vector : 100\n",
      "python list Load Time : 0.0\n",
      "python list for loop : 0.0\n",
      " Python List Total :0.0\n",
      "numpy array1 Load Time : 0.0\n",
      "numpy array1 for loop : 0.0\n",
      " numpy array1 Total :0.0\n",
      "numpy array2 Load Time : 0.0\n",
      "numpy array2 for loop : 0.0\n",
      " numpy array2 Total :0.0\n",
      "------------------------------\n"
     ]
    }
   ],
   "source": [
    "# numpy array vs Python Lsit speed\n",
    "# 물론 조건 및 여러 상황에 따라서 조금 다를 수 있으니 참고!\n",
    "\n",
    "# 01) 아래는 두 개의 리스트에서 각기 리스트의 합을 구하는 경우\n",
    "# ( 코드 상 차이가 발생하는 부분들 : range, 리스트에서 +는 리스트 연결이나, numpy에서는 각기 원소들의 합\n",
    "# 따라서 동일한 역할을 위해서는 리스트에서는for가 필요함\n",
    "\n",
    "import time\n",
    "size_vector = 100000\n",
    "\n",
    "def pythonlist(size_vector):\n",
    "    t1 = time.time()\n",
    "    x = range(size_vector)\n",
    "    y = range(size_vector)\n",
    "    t2 = time.time()\n",
    "    print (\"python list Load Time : \" + str(t2-t1))\n",
    "    z = []\n",
    "    \n",
    "    t3 = time.time()\n",
    "    for i in range(len(x)):\n",
    "        z.append(x[i] + y[i])\n",
    "    t4 = time.time()\n",
    "    print (\"python list for loop : \" + str(t4- t3))\n",
    "    \n",
    "    print (\" Python List Total :\" + str(t4 - t1))\n",
    "\n",
    "    \n",
    "def numpyarray1(size_vector):\n",
    "    t1 = time.time()\n",
    "    x = np.arange(size_vector)\n",
    "    y = np.arange(size_vector)\n",
    "    t2 = time.time()\n",
    "    print (\"numpy array1 Load Time : \"+str(t2-t1))\n",
    "    \n",
    "    t3 = time.time()\n",
    "    z = x + y\n",
    "    t4 = time.time()\n",
    "    print (\"numpy array1 for loop : \" + str(t4- t3))\n",
    "\n",
    "    print (\" numpy array1 Total :\" + str(t4 - t1))\n",
    "\n",
    "def numpyarray2(size_vector):\n",
    "    t1 = time.time()\n",
    "    x = np.arange(size_vector)\n",
    "    y = np.arange(size_vector)\n",
    "    t2 = time.time()\n",
    "    print (\"numpy array2 Load Time : \"+str(t2-t1))\n",
    "    \n",
    "    t3 = time.time()\n",
    "    z = np.ndarray(size_vector)\n",
    "    for i in range(len(x)):\n",
    "        z[i] = x[i] + y[i]\n",
    "    t4 = time.time()\n",
    "    print (\"numpy array2 for loop : \" + str(t4- t3))\n",
    "    print (\" numpy array2 Total :\" + str(t4 - t1))\n",
    "\n",
    "print (\" size_vector : 100000\")\n",
    "pythonlist(size_vector)\n",
    "numpyarray1(size_vector)\n",
    "numpyarray2(size_vector)\n",
    "print (\"------------------------------\")\n",
    "\n",
    "print (\" size_vector : 100\")\n",
    "size_vector = 100\n",
    "pythonlist(size_vector)\n",
    "numpyarray1(size_vector)\n",
    "numpyarray2(size_vector)\n",
    "print (\"------------------------------\")\n",
    "\n",
    "\n",
    "#  샘플 결과 \n",
    "# -->기본적으로 일반적인 list로 생성하는 것이 array로 생성하는 것에 비해서 많은 속도가 소욧된다.\n",
    "# --> numpy의 백터 연산이 기본적인 for에서 append보다 속도가 빠른 것을 볼 수 있음.\n",
    "# --> 동잉한 for에 대해서도 상당히 속도가 빠른 것을 볼 수 있다. \n",
    "# --> 작은 숫자에서는 큰 차이가 없거나 경우에 따라서 List가 빠를 수도 있음.\n",
    "\n",
    "\n",
    "# 하나의 예시 결과\n",
    "\n",
    "#  size_vector : 100000\n",
    "# python list Load Time : 2.86102294921875e-06\n",
    "# python list for loop : 0.05470418930053711\n",
    "#  Python List Total :0.05480003356933594\n",
    "# numpy array1 Load Time : 0.0014030933380126953\n",
    "# numpy array1 for loop : 0.0006737709045410156\n",
    "#  numpy array1 Total :0.002165079116821289\n",
    "# numpy array2 Load Time : 0.00037980079650878906\n",
    "# numpy array2 for loop : 1.0013580322265625e-05\n",
    "#  numpy array2 Total :0.0004830360412597656\n",
    "# ------------------------------\n",
    "#  size_vector : 100\n",
    "# python list Load Time : 3.0994415283203125e-06\n",
    "# python list for loop : 4.7206878662109375e-05\n",
    "#  Python List Total :0.00010013580322265625\n",
    "# numpy array1 Load Time : 5.125999450683594e-05\n",
    "# numpy array1 for loop : 1.621246337890625e-05\n",
    "#  numpy array1 Total :0.0001232624053955078\n",
    "# numpy array2 Load Time : 1.2159347534179688e-05\n",
    "# numpy array2 for loop : 6.9141387939453125e-06\n",
    "#  numpy array2 Total :6.818771362304688e-05\n",
    "# ------------------------------"
   ]
  },
  {
   "cell_type": "code",
   "execution_count": null,
   "metadata": {},
   "outputs": [],
   "source": []
  }
 ],
 "metadata": {
  "kernelspec": {
   "display_name": "Python 3",
   "language": "python",
   "name": "python3"
  },
  "language_info": {
   "codemirror_mode": {
    "name": "ipython",
    "version": 3
   },
   "file_extension": ".py",
   "mimetype": "text/x-python",
   "name": "python",
   "nbconvert_exporter": "python",
   "pygments_lexer": "ipython3",
   "version": "3.7.6"
  }
 },
 "nbformat": 4,
 "nbformat_minor": 4
}
